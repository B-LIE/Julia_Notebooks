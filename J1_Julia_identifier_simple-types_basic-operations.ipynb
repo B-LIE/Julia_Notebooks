{
 "cells": [
  {
   "cell_type": "markdown",
   "metadata": {},
   "source": [
    "# Julia 1: Identifiers, simple types, basic operations\n",
    "### Bernt Lie\n",
    "#### University of South-Eastern Norway\n",
    "#### May, 2021; minor update September 2023"
   ]
  },
  {
   "cell_type": "markdown",
   "metadata": {},
   "source": [
    "## Learning goals\n",
    "In this session, we will look at:\n",
    "* valid Julia identifiers + naming conventions\n",
    "* give an overview of simple types\n",
    "* give an overview of basic functions"
   ]
  },
  {
   "cell_type": "markdown",
   "metadata": {},
   "source": [
    "## Julia identifiers\n",
    "### What is an identifier?\n",
    "By *identifier* (label) is meant a symbolic name for items/memory cells that are introduced by Julia or the user. Some general conventions in computer science:\n",
    "* **CamelCase** (= **CapitalizedWord** = **CapWords**) where each word starts with a capital letter\n",
    "* **mixedCase** where the first word starts with a lower case letter while each subsequent word starts with a capital letter\n",
    "* **underscore_separated_words** where each word is separated by underscore\n",
    "* **combinedwords** where words are simply concatenated"
   ]
  },
  {
   "cell_type": "markdown",
   "metadata": {},
   "source": [
    "### Valid symbols in identifiers\n",
    "Variable names must begin with a letter (A-Z or a-z), underscore (\"_\"), or a subset of Unicode code points greater than 00A0. [A code point is a number assigned to represent an abstract character in a system for representing text (such as Unicode). In Unicode, a code point is expressed in the form \"U+1234\" where \"1234\" is the assigned number. For example, the character \"A\" is assigned a code point of U+0041]. Subsequent characters may also include ! and digits (0-9 and some other characters), as well as other Unicode code points: diacritics and other modifying marks (categories Mn/Mc/Me/Sk), some punctuation connectors (category Pc), primes, and a few other characters.\n",
    "\n",
    "Operators such as + are also valid identifiers, but are parsed specially. In some contexts, operators can be used just like variables; for example (+) refers to the addition function, and (+) = f will reassign it.\n",
    "\n",
    "*Assignment* is expressed by symbol `=` in Julia. Thus, e.g., `x = 2+3` means that the value (here: `5`) on the right-hand-side of symbol `=` is *assigned* to identifier `x` on the left-hand-side of symbol `=`; in other words \"take the evaluated expression `2+3` -> `5` on the right-hand-side of symbol `=` and put this value into the memory location given by identifier `x`\".\n",
    "\n",
    "It is also possible to tell Julia that the expression on the right-hand-side should be assigned to the identifier *without evaluating the right-hand-side* -- this is done by prepending the identifier with `:`. In other words: `:x=2+3` means \"assign the unevaluated expression `2+3` to identifier `x`. Unevaluated assignment is used in more advanced methods involving so-called *macros*, and is not discussed much in this introduction.\n",
    "\n",
    "The only explicitly *illegal* names for variables are the names of the built-in Keywords, which at Julia v.1.9.3 are:\n",
    "```julia\n",
    "PS C:\\Users\\Bernt_Lie> julia --lisp\n",
    ";  _\n",
    "; |_ _ _ |_ _ |  . _ _\n",
    "; | (-||||_(_)|__|_)|_)\n",
    ";-------------------|----------------------------------------------------------\n",
    "\n",
    "> reserved-words\n",
    "(begin while if for try return break continue function macro quote let local\n",
    " global const do struct module baremodule using import export end else elseif\n",
    " catch finally true false)\n",
    "```\n",
    "Examples:"
   ]
  },
  {
   "cell_type": "code",
   "execution_count": 355,
   "metadata": {},
   "outputs": [],
   "source": [
    "x = 5.0\n",
    "y = 3+2im    # = 3+2*j = 3+2*i, complex number\n",
    "α = 3.5      # \\alpha + TAB gives α; use LaTeX syntax\n",
    "Γ₁ = -2      # \\Gamma + TAB followed by \\_1 + TAB\n",
    "⏰ = 8.00    # \\: + TAB gives intellisence pop-up menu\n",
    ";            # semicolon suppresses output"
   ]
  },
  {
   "cell_type": "code",
   "execution_count": 356,
   "metadata": {},
   "outputs": [
    {
     "data": {
      "text/plain": [
       "π = 3.1415926535897..."
      ]
     },
     "metadata": {},
     "output_type": "display_data"
    }
   ],
   "source": [
    "pi"
   ]
  },
  {
   "cell_type": "markdown",
   "metadata": {},
   "source": [
    "Observe that `pi` is the mathematical constant π, which can also be written as Unicode character \\pi + TAB.\n",
    "\n",
    "Using non-ASCII symbols should be used with care, as some word processors don't support it.\n",
    "### Identifier conventions in Julia\n",
    "* **Label** (\"variable\"): Lower case, word separation by underscore if a combined words sequence is difficult to read. *Examples*: `temperature`, `temperature_indoor`, `Tin`, `T_in`\n",
    "* **Types and Modules**: *CamelCase* (not *mixedCase*). *Examples*: `Float64`, `Base`, `DifferentialEquations`\n",
    "* **Functions and macros**: Lower case + avoid underscore. If function combines several actions, underscore may be needed; alternatively: split up into several functions. *Examples*: `println`, `isequal`, `timed`. *Note*: macros are specified with symbol `@` at the start, e.g., macro `benchmark` is invoked by `@benchmark`.\n",
    "* **Mutating functions**: Functions that modify their arguments *by convention* ends with exclamation mark `!` (sometimes read out loud as \"bang\"). *Examples*: `plot` is non-mutating (creates a fresh plot), `plot!` (\"plot bang\") is mutating (modifies an existing plot)."
   ]
  },
  {
   "cell_type": "markdown",
   "metadata": {},
   "source": [
    "## Comments and multiline statement continuation\n",
    "Anything on a line after character `#` is considered a comment, and is not executed.\n",
    "\n",
    "Multiline comments are enclosed in `#=` and `=#`.\n",
    "\n",
    "Any incomplete statement at line break leads to an assumed continuation of the statement to the next line."
   ]
  },
  {
   "cell_type": "code",
   "execution_count": 357,
   "metadata": {},
   "outputs": [
    {
     "data": {
      "text/plain": [
       "3"
      ]
     },
     "metadata": {},
     "output_type": "display_data"
    }
   ],
   "source": [
    "# This is a comment\n",
    "a = 3 # This is also a comment"
   ]
  },
  {
   "cell_type": "code",
   "execution_count": 358,
   "metadata": {},
   "outputs": [
    {
     "data": {
      "text/plain": [
       "3"
      ]
     },
     "metadata": {},
     "output_type": "display_data"
    }
   ],
   "source": [
    "#=\n",
    "We can have multiline\n",
    "comments, too\n",
    "=#\n",
    "a = 3"
   ]
  },
  {
   "cell_type": "code",
   "execution_count": 359,
   "metadata": {},
   "outputs": [
    {
     "data": {
      "text/plain": [
       "3"
      ]
     },
     "metadata": {},
     "output_type": "display_data"
    }
   ],
   "source": [
    "# Because each of the lines *at line break* are complete statements, the \n",
    "# following code is treated as to separate statements\n",
    "a = 3\n",
    "+ 3"
   ]
  },
  {
   "cell_type": "code",
   "execution_count": 360,
   "metadata": {},
   "outputs": [
    {
     "data": {
      "text/plain": [
       "6"
      ]
     },
     "metadata": {},
     "output_type": "display_data"
    }
   ],
   "source": [
    "# Because the statement of the first line is incomplete *at line break*, \n",
    "# the statement is assumed to continue on the next line\n",
    "a = 3 + \n",
    "3"
   ]
  },
  {
   "cell_type": "markdown",
   "metadata": {},
   "source": [
    "## Simple types\n",
    "### Checking type\n",
    "Julia comes with built-in simple types (abstract and concrete types), collections, and the possibility of user-defined types.\n",
    "\n",
    "Type information can be queried by base function `typeof()` where the argument is the type or an identifier holding the type.\n",
    "\n",
    "As we will see later, the `typeof()` function also returns information about collection structure. For collections, we can query the *element type* by function `eltype()`. For scalars (as here), the result of `typeof()` and the result of `eltype()` will be the same.\n",
    "\n",
    "Memory requirement (in Bytes) can be queried by `sizeof()` where the argument is the identifier."
   ]
  },
  {
   "cell_type": "code",
   "execution_count": 361,
   "metadata": {},
   "outputs": [
    {
     "data": {
      "text/plain": [
       "Float64"
      ]
     },
     "metadata": {},
     "output_type": "display_data"
    }
   ],
   "source": [
    "typeof(x)"
   ]
  },
  {
   "cell_type": "code",
   "execution_count": 362,
   "metadata": {},
   "outputs": [
    {
     "data": {
      "text/plain": [
       "Complex{Int64}"
      ]
     },
     "metadata": {},
     "output_type": "display_data"
    }
   ],
   "source": [
    "typeof(y)"
   ]
  },
  {
   "cell_type": "code",
   "execution_count": 363,
   "metadata": {},
   "outputs": [
    {
     "data": {
      "text/plain": [
       "Float64"
      ]
     },
     "metadata": {},
     "output_type": "display_data"
    }
   ],
   "source": [
    "typeof(⏰)"
   ]
  },
  {
   "cell_type": "code",
   "execution_count": 364,
   "metadata": {},
   "outputs": [
    {
     "data": {
      "text/plain": [
       "8"
      ]
     },
     "metadata": {},
     "output_type": "display_data"
    }
   ],
   "source": [
    "sizeof(x)"
   ]
  },
  {
   "cell_type": "code",
   "execution_count": 365,
   "metadata": {},
   "outputs": [
    {
     "data": {
      "text/plain": [
       "8"
      ]
     },
     "metadata": {},
     "output_type": "display_data"
    }
   ],
   "source": [
    "sizeof(⏰)"
   ]
  },
  {
   "cell_type": "code",
   "execution_count": 366,
   "metadata": {},
   "outputs": [
    {
     "data": {
      "text/plain": [
       "16"
      ]
     },
     "metadata": {},
     "output_type": "display_data"
    }
   ],
   "source": [
    "sizeof(y)"
   ]
  },
  {
   "cell_type": "markdown",
   "metadata": {},
   "source": [
    "### Character\n",
    "A *character* type `Char` is given by a single symbol enclosed in single quotation marks, e.g., `'c'`, `'⏰'`. NOTE: a character is not the same as a string."
   ]
  },
  {
   "cell_type": "code",
   "execution_count": 367,
   "metadata": {},
   "outputs": [
    {
     "data": {
      "text/plain": [
       "'a': ASCII/Unicode U+0061 (category Ll: Letter, lowercase)"
      ]
     },
     "metadata": {},
     "output_type": "display_data"
    }
   ],
   "source": [
    "x = 'a'"
   ]
  },
  {
   "cell_type": "code",
   "execution_count": 368,
   "metadata": {},
   "outputs": [
    {
     "data": {
      "text/plain": [
       "Char"
      ]
     },
     "metadata": {},
     "output_type": "display_data"
    }
   ],
   "source": [
    "typeof(x)"
   ]
  },
  {
   "cell_type": "code",
   "execution_count": 369,
   "metadata": {},
   "outputs": [
    {
     "data": {
      "text/plain": [
       "'⏰': Unicode U+23F0 (category So: Symbol, other)"
      ]
     },
     "metadata": {},
     "output_type": "display_data"
    }
   ],
   "source": [
    "y = '⏰'"
   ]
  },
  {
   "cell_type": "code",
   "execution_count": 370,
   "metadata": {},
   "outputs": [
    {
     "data": {
      "text/plain": [
       "Char"
      ]
     },
     "metadata": {},
     "output_type": "display_data"
    }
   ],
   "source": [
    "typeof(y)"
   ]
  },
  {
   "cell_type": "markdown",
   "metadata": {},
   "source": [
    "### Number\n",
    "#### Types and subtypes\n",
    "A (super-) type is related to a subtype as `subtype <: supertype`, where symbol `<:` means \"is subtype of\", and in some ways is similar to a subset. Essentially, if some code works for a supertype, it should work for its subtypes.\n",
    "#### Abstract number types\n",
    "* `Number` is an abstract supertype for all number types\n",
    "* `Real` is a supertype for all real numbers, and is a subtype of `Number` (`Real <: Number` in Julia syntax, where symbol `<:` means subtype and is in some ways similar to subset)\n",
    "* `AbstractFloat` is a supertype for all floating point numbers; `AbstractFloat <: Real`. \n",
    "* `AbstractIrrational` represents an exact irrational value; `AbstractIrrational <: Real`. In computations, an `AbstractIrrational` is rounded to correct precision upon operations with other types.\n",
    "* `Integer` is a supertype of all integer numbers; `Integer <: Real`.\n",
    "* `Signed` is a supertype of all signed integer numbers; `Signed <: Integer`.\n",
    "* `Unsigned` is a supertype of all unsigned integer numbers; `Unsigned <: Integer`.\n",
    "\n",
    "#### Concrete number types\n",
    "* `Float16` is an IEEE 16 bit floating point number; `Float16 <: AbstractFloat`\n",
    "* `Float32` is an IEEE 32 bit floating point number; `Float32 <: AbstractFloat`\n",
    "* `Float64` is an IeEE 64 bit floating point number; `Float64 <: AbstractFloat`\n",
    "* `BigFloat` is a variable precision floating point number; `BigFloat <: AbstractFloat`\n",
    "* `Bool` is a boolean number (value: `true` or `false`); `Bool <: Integer`. *Note* :  `false` is numerically equal to `0` and `true` is numerically equal to `1`\n",
    "* `Int8` is a signed 8 bit integer; `Int8 <: Signed`\n",
    "* `Int16` is a signed 16 bit integer; `Int16 <: Signed`\n",
    "* `Int32` is a signed 32 bit integer; `Int32 <: Signed`\n",
    "* `Int64` is a signed 64 bit integer; `Int64 <: Signed`\n",
    "* `Int128` is a signed 128 bit integer; `Int128 <: Signed`\n",
    "* `BigInt` is a signed variable precision integer; `BigInt <: Signed`\n",
    "* `UInt8` is an unsigned 8 bit integer; `UInt8 <: Unsigned`\n",
    "* `UInt16` is an unsigned 16 bit integer; `UInt16 <: Unsigned`\n",
    "* `UInt32` is an unsigned 32 bit integer; `UInt32 <: Unsigned`\n",
    "* `UInt64` is an unsigned 64 bit integer; `UInt64 <: Unsigned`\n",
    "* `UInt128` is an unsigned 128 bit integer; `UInt128 <: Unsigned`\n",
    "* `Complex` is a complex number; `Complex <: Number`. The real and imaginary numbers can be of various types.\n",
    "* `Rational` is a rational number; `Rational <: Real`. The numerator and denominators are of type `Integer`\n",
    "* `Irrational` is an irrational number; `Irrational <: AbstractIrrational`.\n",
    "\n",
    "#### Creating numbers\n",
    "* By default, a consecutive sequence of numbers without decimal point becomes an integer word size matching the Operating System/Julia version. Thus, `123` is of type `Int64` by default on a 64 bit computer. System label `Sys.WORD_SIZE` holds the machine word size.\n",
    "\n",
    "* By default, a consecutive sequence of numbers with one decimal point becomes a floating point number matching the OS/Julia word size, hence `1.23` is of type `Float64` by default on a 64 bit computer.\n",
    "\n",
    "* In order to increase readability, underscore `_` can be inserted to group digits, e.g., `12_103` is easier to read than `12103`; both numbers have the same value in Julia.\n",
    "\n",
    "* To specify a certain type for a number, the (Absctract or Concrete) type name operates as an instantiator.\n",
    "\n",
    "* If possible a number can be converted from the existing type to a new type using the type name as a convertion function.\n",
    "\n",
    "* Negative numbers (except unsigned numbers) are created by prepending the number with symbol `-`. Prepending *Unsigned* numbers with `-` creates the complement number."
   ]
  },
  {
   "cell_type": "markdown",
   "metadata": {},
   "source": [
    "#### Some integers"
   ]
  },
  {
   "cell_type": "code",
   "execution_count": 371,
   "metadata": {},
   "outputs": [
    {
     "data": {
      "text/plain": [
       "64"
      ]
     },
     "metadata": {},
     "output_type": "display_data"
    }
   ],
   "source": [
    "Sys.WORD_SIZE"
   ]
  },
  {
   "cell_type": "code",
   "execution_count": 372,
   "metadata": {},
   "outputs": [
    {
     "data": {
      "text/plain": [
       "123"
      ]
     },
     "metadata": {},
     "output_type": "display_data"
    }
   ],
   "source": [
    "x = 123"
   ]
  },
  {
   "cell_type": "code",
   "execution_count": 373,
   "metadata": {},
   "outputs": [
    {
     "data": {
      "text/plain": [
       "Int64"
      ]
     },
     "metadata": {},
     "output_type": "display_data"
    }
   ],
   "source": [
    "typeof(x)"
   ]
  },
  {
   "cell_type": "code",
   "execution_count": 374,
   "metadata": {},
   "outputs": [
    {
     "data": {
      "text/plain": [
       "123"
      ]
     },
     "metadata": {},
     "output_type": "display_data"
    }
   ],
   "source": [
    "x = Int8(123)"
   ]
  },
  {
   "cell_type": "code",
   "execution_count": 375,
   "metadata": {},
   "outputs": [
    {
     "data": {
      "text/plain": [
       "Int8"
      ]
     },
     "metadata": {},
     "output_type": "display_data"
    }
   ],
   "source": [
    "typeof(x)"
   ]
  },
  {
   "cell_type": "code",
   "execution_count": 376,
   "metadata": {},
   "outputs": [
    {
     "data": {
      "text/plain": [
       "123"
      ]
     },
     "metadata": {},
     "output_type": "display_data"
    }
   ],
   "source": [
    "x = 1_2_3"
   ]
  },
  {
   "cell_type": "code",
   "execution_count": 377,
   "metadata": {},
   "outputs": [
    {
     "data": {
      "text/plain": [
       "Int64"
      ]
     },
     "metadata": {},
     "output_type": "display_data"
    }
   ],
   "source": [
    "typeof(x)"
   ]
  },
  {
   "cell_type": "code",
   "execution_count": 378,
   "metadata": {},
   "outputs": [
    {
     "data": {
      "text/plain": [
       "123"
      ]
     },
     "metadata": {},
     "output_type": "display_data"
    }
   ],
   "source": [
    "x = BigInt(123)"
   ]
  },
  {
   "cell_type": "code",
   "execution_count": 379,
   "metadata": {},
   "outputs": [
    {
     "data": {
      "text/plain": [
       "BigInt"
      ]
     },
     "metadata": {},
     "output_type": "display_data"
    }
   ],
   "source": [
    "typeof(x)"
   ]
  },
  {
   "cell_type": "code",
   "execution_count": 380,
   "metadata": {},
   "outputs": [
    {
     "data": {
      "text/plain": [
       "false"
      ]
     },
     "metadata": {},
     "output_type": "display_data"
    }
   ],
   "source": [
    "x = false"
   ]
  },
  {
   "cell_type": "code",
   "execution_count": 381,
   "metadata": {},
   "outputs": [
    {
     "data": {
      "text/plain": [
       "Bool"
      ]
     },
     "metadata": {},
     "output_type": "display_data"
    }
   ],
   "source": [
    "typeof(x)"
   ]
  },
  {
   "cell_type": "code",
   "execution_count": 382,
   "metadata": {},
   "outputs": [
    {
     "data": {
      "text/plain": [
       "true"
      ]
     },
     "metadata": {},
     "output_type": "display_data"
    }
   ],
   "source": [
    "x = Bool(1)"
   ]
  },
  {
   "cell_type": "code",
   "execution_count": 383,
   "metadata": {},
   "outputs": [
    {
     "data": {
      "text/plain": [
       "Bool"
      ]
     },
     "metadata": {},
     "output_type": "display_data"
    }
   ],
   "source": [
    "typeof(x)"
   ]
  },
  {
   "cell_type": "code",
   "execution_count": 384,
   "metadata": {},
   "outputs": [
    {
     "data": {
      "text/plain": [
       "-1"
      ]
     },
     "metadata": {},
     "output_type": "display_data"
    }
   ],
   "source": [
    "x = -1"
   ]
  },
  {
   "cell_type": "code",
   "execution_count": 385,
   "metadata": {},
   "outputs": [
    {
     "data": {
      "text/plain": [
       "Int64"
      ]
     },
     "metadata": {},
     "output_type": "display_data"
    }
   ],
   "source": [
    "typeof(x)"
   ]
  },
  {
   "cell_type": "code",
   "execution_count": 386,
   "metadata": {},
   "outputs": [
    {
     "data": {
      "text/plain": [
       "0xffffffffffffffff"
      ]
     },
     "metadata": {},
     "output_type": "display_data"
    }
   ],
   "source": [
    "x = -UInt64(1)"
   ]
  },
  {
   "cell_type": "code",
   "execution_count": 387,
   "metadata": {},
   "outputs": [
    {
     "data": {
      "text/plain": [
       "UInt64"
      ]
     },
     "metadata": {},
     "output_type": "display_data"
    }
   ],
   "source": [
    "typeof(x)"
   ]
  },
  {
   "cell_type": "markdown",
   "metadata": {},
   "source": [
    "#### Hexadecimal, octal, binary integers. Unsigned integers\n",
    "Hexidecimal integers are written with prefix `0x` followed by hexadecimal digits `0,...,9,a,...,f`. Octale integers are input with prefix `0o` followed by octal digits `0,...,7`, but are internally represented as hexadecimal numbers. Binary integers are input with prefix `0b` followed by binary digits `0,1`, but are internally represented as hexadecimal numbers.\n",
    "\n",
    "Unsigned integers may be input as hexadecimal numbers."
   ]
  },
  {
   "cell_type": "code",
   "execution_count": 388,
   "metadata": {},
   "outputs": [
    {
     "data": {
      "text/plain": [
       "0x1b"
      ]
     },
     "metadata": {},
     "output_type": "display_data"
    }
   ],
   "source": [
    "x = 0x1b"
   ]
  },
  {
   "cell_type": "code",
   "execution_count": 389,
   "metadata": {},
   "outputs": [
    {
     "data": {
      "text/plain": [
       "27"
      ]
     },
     "metadata": {},
     "output_type": "display_data"
    }
   ],
   "source": [
    "Int(x)"
   ]
  },
  {
   "cell_type": "code",
   "execution_count": 390,
   "metadata": {},
   "outputs": [
    {
     "data": {
      "text/plain": [
       "0x0f"
      ]
     },
     "metadata": {},
     "output_type": "display_data"
    }
   ],
   "source": [
    "x = 0o17"
   ]
  },
  {
   "cell_type": "code",
   "execution_count": 391,
   "metadata": {},
   "outputs": [
    {
     "data": {
      "text/plain": [
       "15"
      ]
     },
     "metadata": {},
     "output_type": "display_data"
    }
   ],
   "source": [
    "Int(x)"
   ]
  },
  {
   "cell_type": "code",
   "execution_count": 392,
   "metadata": {},
   "outputs": [
    {
     "data": {
      "text/plain": [
       "0x13"
      ]
     },
     "metadata": {},
     "output_type": "display_data"
    }
   ],
   "source": [
    "x = 0b10011"
   ]
  },
  {
   "cell_type": "code",
   "execution_count": 393,
   "metadata": {},
   "outputs": [
    {
     "data": {
      "text/plain": [
       "19"
      ]
     },
     "metadata": {},
     "output_type": "display_data"
    }
   ],
   "source": [
    "Int(x)"
   ]
  },
  {
   "cell_type": "code",
   "execution_count": 394,
   "metadata": {},
   "outputs": [
    {
     "data": {
      "text/plain": [
       "0x13"
      ]
     },
     "metadata": {},
     "output_type": "display_data"
    }
   ],
   "source": [
    "UInt8(19)"
   ]
  },
  {
   "cell_type": "markdown",
   "metadata": {},
   "source": [
    "#### Some real numbers"
   ]
  },
  {
   "cell_type": "code",
   "execution_count": 395,
   "metadata": {},
   "outputs": [
    {
     "data": {
      "text/plain": [
       "1.23"
      ]
     },
     "metadata": {},
     "output_type": "display_data"
    }
   ],
   "source": [
    "x = 1.23"
   ]
  },
  {
   "cell_type": "code",
   "execution_count": 396,
   "metadata": {},
   "outputs": [
    {
     "data": {
      "text/plain": [
       "Float64"
      ]
     },
     "metadata": {},
     "output_type": "display_data"
    }
   ],
   "source": [
    "typeof(x)"
   ]
  },
  {
   "cell_type": "code",
   "execution_count": 397,
   "metadata": {},
   "outputs": [
    {
     "data": {
      "text/plain": [
       "1.23f0"
      ]
     },
     "metadata": {},
     "output_type": "display_data"
    }
   ],
   "source": [
    "x = Float32(1.23)"
   ]
  },
  {
   "cell_type": "code",
   "execution_count": 398,
   "metadata": {},
   "outputs": [
    {
     "data": {
      "text/plain": [
       "1.229999999999999982236431605997495353221893310546875"
      ]
     },
     "metadata": {},
     "output_type": "display_data"
    }
   ],
   "source": [
    "x = BigFloat(1.23)"
   ]
  },
  {
   "cell_type": "code",
   "execution_count": 399,
   "metadata": {},
   "outputs": [
    {
     "data": {
      "text/plain": [
       "BigFloat"
      ]
     },
     "metadata": {},
     "output_type": "display_data"
    }
   ],
   "source": [
    "typeof(x)"
   ]
  },
  {
   "cell_type": "code",
   "execution_count": 400,
   "metadata": {},
   "outputs": [
    {
     "data": {
      "text/plain": [
       "0.9230769230769231"
      ]
     },
     "metadata": {},
     "output_type": "display_data"
    }
   ],
   "source": [
    "x = 12/13"
   ]
  },
  {
   "cell_type": "code",
   "execution_count": 401,
   "metadata": {},
   "outputs": [
    {
     "data": {
      "text/plain": [
       "Float64"
      ]
     },
     "metadata": {},
     "output_type": "display_data"
    }
   ],
   "source": [
    "typeof(x)"
   ]
  },
  {
   "cell_type": "markdown",
   "metadata": {},
   "source": [
    "#### Hexadecimal floating point numbers\n",
    "Hexadecimal floating point numbers can be written with notation `xpn` where `x` is a hexadecimal mantissa and `n` is an decimal integer; such numbers can be represented as `Float64`."
   ]
  },
  {
   "cell_type": "code",
   "execution_count": 402,
   "metadata": {},
   "outputs": [
    {
     "data": {
      "text/plain": [
       "2.9185791015625"
      ]
     },
     "metadata": {},
     "output_type": "display_data"
    }
   ],
   "source": [
    "x = 0xb.acap-2"
   ]
  },
  {
   "cell_type": "code",
   "execution_count": 403,
   "metadata": {},
   "outputs": [
    {
     "data": {
      "text/plain": [
       "Float64"
      ]
     },
     "metadata": {},
     "output_type": "display_data"
    }
   ],
   "source": [
    "typeof(x)"
   ]
  },
  {
   "cell_type": "markdown",
   "metadata": {},
   "source": [
    "#### Some rational numbers"
   ]
  },
  {
   "cell_type": "code",
   "execution_count": 404,
   "metadata": {},
   "outputs": [
    {
     "data": {
      "text/plain": [
       "12//13"
      ]
     },
     "metadata": {},
     "output_type": "display_data"
    }
   ],
   "source": [
    "x = 12//13"
   ]
  },
  {
   "cell_type": "code",
   "execution_count": 405,
   "metadata": {},
   "outputs": [
    {
     "data": {
      "text/plain": [
       "Rational{Int64}"
      ]
     },
     "metadata": {},
     "output_type": "display_data"
    }
   ],
   "source": [
    "typeof(x)"
   ]
  },
  {
   "cell_type": "code",
   "execution_count": 406,
   "metadata": {},
   "outputs": [
    {
     "data": {
      "text/plain": [
       "12//13"
      ]
     },
     "metadata": {},
     "output_type": "display_data"
    }
   ],
   "source": [
    "x = Int16(12)//Int16(13)"
   ]
  },
  {
   "cell_type": "code",
   "execution_count": 407,
   "metadata": {},
   "outputs": [
    {
     "data": {
      "text/plain": [
       "Rational{Int16}"
      ]
     },
     "metadata": {},
     "output_type": "display_data"
    }
   ],
   "source": [
    "typeof(x)"
   ]
  },
  {
   "cell_type": "code",
   "execution_count": 408,
   "metadata": {},
   "outputs": [
    {
     "data": {
      "text/plain": [
       "12//13"
      ]
     },
     "metadata": {},
     "output_type": "display_data"
    }
   ],
   "source": [
    "x = Int16(12)//Int32(13)"
   ]
  },
  {
   "cell_type": "code",
   "execution_count": 409,
   "metadata": {},
   "outputs": [
    {
     "data": {
      "text/plain": [
       "Rational{Int32}"
      ]
     },
     "metadata": {},
     "output_type": "display_data"
    }
   ],
   "source": [
    "typeof(x)"
   ]
  },
  {
   "cell_type": "code",
   "execution_count": 410,
   "metadata": {},
   "outputs": [
    {
     "data": {
      "text/plain": [
       "12//13"
      ]
     },
     "metadata": {},
     "output_type": "display_data"
    }
   ],
   "source": [
    "x = Rational(12,13)"
   ]
  },
  {
   "cell_type": "markdown",
   "metadata": {},
   "source": [
    "#### Some complex numbers"
   ]
  },
  {
   "cell_type": "code",
   "execution_count": 411,
   "metadata": {},
   "outputs": [
    {
     "data": {
      "text/plain": [
       "12 + 3im"
      ]
     },
     "metadata": {},
     "output_type": "display_data"
    }
   ],
   "source": [
    "x = 12+3im"
   ]
  },
  {
   "cell_type": "code",
   "execution_count": 412,
   "metadata": {},
   "outputs": [
    {
     "data": {
      "text/plain": [
       "Complex{Int64}"
      ]
     },
     "metadata": {},
     "output_type": "display_data"
    }
   ],
   "source": [
    "typeof(x)"
   ]
  },
  {
   "cell_type": "code",
   "execution_count": 413,
   "metadata": {},
   "outputs": [
    {
     "data": {
      "text/plain": [
       "12 + 3im"
      ]
     },
     "metadata": {},
     "output_type": "display_data"
    }
   ],
   "source": [
    "x = Complex(12,3)"
   ]
  },
  {
   "cell_type": "markdown",
   "metadata": {},
   "source": [
    "#### Some number conversion"
   ]
  },
  {
   "cell_type": "code",
   "execution_count": 414,
   "metadata": {},
   "outputs": [
    {
     "data": {
      "text/plain": [
       "123"
      ]
     },
     "metadata": {},
     "output_type": "display_data"
    }
   ],
   "source": [
    "x = 123"
   ]
  },
  {
   "cell_type": "code",
   "execution_count": 415,
   "metadata": {},
   "outputs": [
    {
     "data": {
      "text/plain": [
       "Int64"
      ]
     },
     "metadata": {},
     "output_type": "display_data"
    }
   ],
   "source": [
    "typeof(x)"
   ]
  },
  {
   "cell_type": "code",
   "execution_count": 416,
   "metadata": {},
   "outputs": [
    {
     "data": {
      "text/plain": [
       "123"
      ]
     },
     "metadata": {},
     "output_type": "display_data"
    }
   ],
   "source": [
    "x = Int32(x)"
   ]
  },
  {
   "cell_type": "code",
   "execution_count": 417,
   "metadata": {},
   "outputs": [
    {
     "data": {
      "text/plain": [
       "Int32"
      ]
     },
     "metadata": {},
     "output_type": "display_data"
    }
   ],
   "source": [
    "typeof(x)"
   ]
  },
  {
   "cell_type": "code",
   "execution_count": 418,
   "metadata": {},
   "outputs": [
    {
     "data": {
      "text/plain": [
       "1.229999999999999982236431605997495353221893310546875"
      ]
     },
     "metadata": {},
     "output_type": "display_data"
    }
   ],
   "source": [
    "x = BigFloat(1.23)"
   ]
  },
  {
   "cell_type": "code",
   "execution_count": 419,
   "metadata": {},
   "outputs": [
    {
     "data": {
      "text/plain": [
       "3.142857142857143"
      ]
     },
     "metadata": {},
     "output_type": "display_data"
    }
   ],
   "source": [
    "Float64(22//7)  # A simple rational accproximation of π"
   ]
  },
  {
   "cell_type": "code",
   "execution_count": 420,
   "metadata": {},
   "outputs": [
    {
     "data": {
      "text/plain": [
       "1.23f0"
      ]
     },
     "metadata": {},
     "output_type": "display_data"
    }
   ],
   "source": [
    "x = Float32(x)"
   ]
  },
  {
   "cell_type": "markdown",
   "metadata": {},
   "source": [
    "`x = Int64(x)` # this is not possible: it is necessary to first round a floating point number to a whole number before it can be converted to an integer; see section on functions."
   ]
  },
  {
   "cell_type": "markdown",
   "metadata": {},
   "source": [
    "#### Floating point numbers in form $x\\cdot 10^n$\n",
    "A number $x\\cdot 10^n$ where $x$ is an integer or floating point number and $n$ is an integer, is written as `xen` (`Float64`) or `xfn` (`Float32`), e.g., $1.0\\cdot 10^{-2}$ is written `1.0e-2`, which leads to a `Float64` type, or as `1.0f-2` which leads to a `Float32` type.\n",
    "\n",
    "**NOTE**: do *not* write $x\\cdot 10^n$ as `x*10^n`; see section on *Algebraic operations* below and the warning about *type overflow*."
   ]
  },
  {
   "cell_type": "code",
   "execution_count": 421,
   "metadata": {},
   "outputs": [
    {
     "data": {
      "text/plain": [
       "-320.0"
      ]
     },
     "metadata": {},
     "output_type": "display_data"
    }
   ],
   "source": [
    "x = -3.2e2"
   ]
  },
  {
   "cell_type": "code",
   "execution_count": 422,
   "metadata": {},
   "outputs": [
    {
     "data": {
      "text/plain": [
       "Float64"
      ]
     },
     "metadata": {},
     "output_type": "display_data"
    }
   ],
   "source": [
    "typeof(x)"
   ]
  },
  {
   "cell_type": "code",
   "execution_count": 423,
   "metadata": {},
   "outputs": [
    {
     "data": {
      "text/plain": [
       "-320.0f0"
      ]
     },
     "metadata": {},
     "output_type": "display_data"
    }
   ],
   "source": [
    "x = Float32(x)"
   ]
  },
  {
   "cell_type": "code",
   "execution_count": 424,
   "metadata": {},
   "outputs": [
    {
     "data": {
      "text/plain": [
       "-320.0f0"
      ]
     },
     "metadata": {},
     "output_type": "display_data"
    }
   ],
   "source": [
    "x = -3.2f2"
   ]
  },
  {
   "cell_type": "markdown",
   "metadata": {},
   "source": [
    "#### Number properties and special numbers\n",
    "The largest and smallest numbers that can be represented by a type is given by functions `typemax()` and `typemin()`, where the argument is a type or a number with given type.\n",
    "\n",
    "The machine precision for *floating point* numbers is the distance between `1.0` in the given type, and the smallest larger number which can be distinguised. The machine precision indicates the possible accuracy with the given type, and is found by function `eps()` (epsilon) where the argument is a type or a number with given type.\n",
    "\n",
    "For *floating point numbers*, symbols for (plus/minus) infinity as well as not being a number like any other number (including itself), exists.\n",
    "* **Positive infinity**: `Inf` (`Float64`), `Inf32` (`Float32`), `Inf16` (`Float16`)\n",
    "* **Negative infinity**: `-Inf` (`Float64`), `-Inf32` (`Float32`), `-Inf16` (`Float16`)\n",
    "* **Not-a-number**: `NaN` (`Float64`), `NaN32` (`Float32`), `NaN16` (`Float16`)"
   ]
  },
  {
   "cell_type": "code",
   "execution_count": 425,
   "metadata": {},
   "outputs": [
    {
     "data": {
      "text/plain": [
       "32767"
      ]
     },
     "metadata": {},
     "output_type": "display_data"
    }
   ],
   "source": [
    "# max/min type values\n",
    "typemax(Int16)"
   ]
  },
  {
   "cell_type": "code",
   "execution_count": 426,
   "metadata": {},
   "outputs": [
    {
     "data": {
      "text/plain": [
       "-32768"
      ]
     },
     "metadata": {},
     "output_type": "display_data"
    }
   ],
   "source": [
    "typemin(Int16)"
   ]
  },
  {
   "cell_type": "code",
   "execution_count": 427,
   "metadata": {},
   "outputs": [
    {
     "data": {
      "text/plain": [
       "0xffff"
      ]
     },
     "metadata": {},
     "output_type": "display_data"
    }
   ],
   "source": [
    "typemax(UInt16)"
   ]
  },
  {
   "cell_type": "code",
   "execution_count": 428,
   "metadata": {},
   "outputs": [
    {
     "data": {
      "text/plain": [
       "65535"
      ]
     },
     "metadata": {},
     "output_type": "display_data"
    }
   ],
   "source": [
    "Int32(typemax(UInt16))"
   ]
  },
  {
   "cell_type": "code",
   "execution_count": 429,
   "metadata": {},
   "outputs": [
    {
     "data": {
      "text/plain": [
       "0x0000"
      ]
     },
     "metadata": {},
     "output_type": "display_data"
    }
   ],
   "source": [
    "typemin(UInt16)"
   ]
  },
  {
   "cell_type": "code",
   "execution_count": 430,
   "metadata": {},
   "outputs": [
    {
     "data": {
      "text/plain": [
       "2.220446049250313e-16"
      ]
     },
     "metadata": {},
     "output_type": "display_data"
    }
   ],
   "source": [
    "# Floating point machine precision\n",
    "eps(Float64)"
   ]
  },
  {
   "cell_type": "code",
   "execution_count": 431,
   "metadata": {},
   "outputs": [
    {
     "data": {
      "text/plain": [
       "1.7"
      ]
     },
     "metadata": {},
     "output_type": "display_data"
    }
   ],
   "source": [
    "x = 1.7"
   ]
  },
  {
   "cell_type": "code",
   "execution_count": 432,
   "metadata": {},
   "outputs": [
    {
     "data": {
      "text/plain": [
       "2.220446049250313e-16"
      ]
     },
     "metadata": {},
     "output_type": "display_data"
    }
   ],
   "source": [
    "eps(x)"
   ]
  },
  {
   "cell_type": "code",
   "execution_count": 433,
   "metadata": {},
   "outputs": [
    {
     "data": {
      "text/plain": [
       "1.1920929f-7"
      ]
     },
     "metadata": {},
     "output_type": "display_data"
    }
   ],
   "source": [
    "eps(Float32)"
   ]
  },
  {
   "cell_type": "code",
   "execution_count": 434,
   "metadata": {},
   "outputs": [
    {
     "data": {
      "text/plain": [
       "1.727233711018888925077270372560079914223200072887256277004740694033718360632485e-77"
      ]
     },
     "metadata": {},
     "output_type": "display_data"
    }
   ],
   "source": [
    "eps(BigFloat)"
   ]
  },
  {
   "cell_type": "code",
   "execution_count": 435,
   "metadata": {},
   "outputs": [
    {
     "data": {
      "text/plain": [
       "0.0"
      ]
     },
     "metadata": {},
     "output_type": "display_data"
    }
   ],
   "source": [
    "# Special floating point numbers\n",
    "1/Inf"
   ]
  },
  {
   "cell_type": "code",
   "execution_count": 436,
   "metadata": {},
   "outputs": [
    {
     "data": {
      "text/plain": [
       "-0.0"
      ]
     },
     "metadata": {},
     "output_type": "display_data"
    }
   ],
   "source": [
    "1/(-Inf)"
   ]
  },
  {
   "cell_type": "code",
   "execution_count": 437,
   "metadata": {},
   "outputs": [
    {
     "data": {
      "text/plain": [
       "NaN"
      ]
     },
     "metadata": {},
     "output_type": "display_data"
    }
   ],
   "source": [
    "Inf/Inf"
   ]
  },
  {
   "cell_type": "code",
   "execution_count": 438,
   "metadata": {},
   "outputs": [
    {
     "data": {
      "text/plain": [
       "NaN"
      ]
     },
     "metadata": {},
     "output_type": "display_data"
    }
   ],
   "source": [
    "Inf-Inf"
   ]
  },
  {
   "cell_type": "markdown",
   "metadata": {},
   "source": [
    "## Mathematical operations\n",
    "The following is a simplified overview.\n",
    "### Algebraic operations\n",
    "Infix notation for addition (`+`), subtraction (`-`), multiplication (`*`), division (`/`), power (`^`); grouping of operation by parenthesis in the normal way. [*Infix* implies that a binary operator (say) `+` is placed *between* the two arguments such as in `a+b`; the alternative is a function notation `+(a,b)`.]\n",
    "* For *multiplication*, the multiplication operator (`*`) can be *skipped* between an identifier and a number (just as in mathematics), e.g., with identifier `x`, `3x` is the same as `3*x`\n",
    "* If the operations are applied to different datatypes, then the numbers are automatically converted to the most general datatype before execution.\n",
    "* Division (`/`) leads to a floating point number.\n",
    "* If division between integers is meant to denote integer division, use operator `//`, which leads to an exact rational number.\n",
    "* Taking the power between two integers always leads to an integer. **Note**: beware of the possibility of type overflow"
   ]
  },
  {
   "cell_type": "code",
   "execution_count": 439,
   "metadata": {},
   "outputs": [
    {
     "data": {
      "text/plain": [
       "4"
      ]
     },
     "metadata": {},
     "output_type": "display_data"
    }
   ],
   "source": [
    "1+3"
   ]
  },
  {
   "cell_type": "code",
   "execution_count": 440,
   "metadata": {},
   "outputs": [
    {
     "data": {
      "text/plain": [
       "4.0"
      ]
     },
     "metadata": {},
     "output_type": "display_data"
    }
   ],
   "source": [
    "1. + 3"
   ]
  },
  {
   "cell_type": "code",
   "execution_count": 441,
   "metadata": {},
   "outputs": [
    {
     "data": {
      "text/plain": [
       "-1"
      ]
     },
     "metadata": {},
     "output_type": "display_data"
    }
   ],
   "source": [
    "3-4"
   ]
  },
  {
   "cell_type": "code",
   "execution_count": 442,
   "metadata": {},
   "outputs": [
    {
     "data": {
      "text/plain": [
       "12.0"
      ]
     },
     "metadata": {},
     "output_type": "display_data"
    }
   ],
   "source": [
    "3*4."
   ]
  },
  {
   "cell_type": "code",
   "execution_count": 443,
   "metadata": {},
   "outputs": [
    {
     "data": {
      "text/plain": [
       "4.0"
      ]
     },
     "metadata": {},
     "output_type": "display_data"
    }
   ],
   "source": [
    "12/3"
   ]
  },
  {
   "cell_type": "code",
   "execution_count": 444,
   "metadata": {},
   "outputs": [
    {
     "data": {
      "text/plain": [
       "4//1"
      ]
     },
     "metadata": {},
     "output_type": "display_data"
    }
   ],
   "source": [
    "12//3"
   ]
  },
  {
   "cell_type": "code",
   "execution_count": 445,
   "metadata": {},
   "outputs": [
    {
     "data": {
      "text/plain": [
       "81.0"
      ]
     },
     "metadata": {},
     "output_type": "display_data"
    }
   ],
   "source": [
    "3^4."
   ]
  },
  {
   "cell_type": "code",
   "execution_count": 446,
   "metadata": {},
   "outputs": [
    {
     "data": {
      "text/plain": [
       "81.0"
      ]
     },
     "metadata": {},
     "output_type": "display_data"
    }
   ],
   "source": [
    "3.0^4"
   ]
  },
  {
   "cell_type": "code",
   "execution_count": 447,
   "metadata": {},
   "outputs": [
    {
     "data": {
      "text/plain": [
       "81"
      ]
     },
     "metadata": {},
     "output_type": "display_data"
    }
   ],
   "source": [
    "3^4"
   ]
  },
  {
   "cell_type": "code",
   "execution_count": 448,
   "metadata": {},
   "outputs": [
    {
     "data": {
      "text/plain": [
       "1000000000000000000"
      ]
     },
     "metadata": {},
     "output_type": "display_data"
    }
   ],
   "source": [
    "10^18"
   ]
  },
  {
   "cell_type": "code",
   "execution_count": 449,
   "metadata": {},
   "outputs": [
    {
     "data": {
      "text/plain": [
       "-8446744073709551616"
      ]
     },
     "metadata": {},
     "output_type": "display_data"
    }
   ],
   "source": [
    "10^19"
   ]
  },
  {
   "cell_type": "code",
   "execution_count": 450,
   "metadata": {},
   "outputs": [
    {
     "data": {
      "text/plain": [
       "9.223372036854776e18"
      ]
     },
     "metadata": {},
     "output_type": "display_data"
    }
   ],
   "source": [
    "# Observe that 10^19 is an integer which is larger than typemax(Int), which \n",
    "# leads to the complement number\n",
    "Float64(typemax(Int))"
   ]
  },
  {
   "cell_type": "code",
   "execution_count": 451,
   "metadata": {},
   "outputs": [
    {
     "data": {
      "text/plain": [
       "1.0e19"
      ]
     },
     "metadata": {},
     "output_type": "display_data"
    }
   ],
   "source": [
    "# To avoid overflow, use exponent notation!, which produces a \n",
    "# floating point number.\n",
    "1e19"
   ]
  },
  {
   "cell_type": "code",
   "execution_count": 452,
   "metadata": {},
   "outputs": [
    {
     "data": {
      "text/plain": [
       "-1.0"
      ]
     },
     "metadata": {},
     "output_type": "display_data"
    }
   ],
   "source": [
    "1+2/(3-4)"
   ]
  },
  {
   "cell_type": "markdown",
   "metadata": {},
   "source": [
    "### Updating operators\n",
    "* **Addition**: `x = x + y` can be written as `x += y`\n",
    "* **Subtraction**: `x = x - y` can be written as `x -= y`\n",
    "* **Multiplication**: `x = x*y` can be written `x *= y`\n",
    "* **Division**: `x = x/y` can be written as `x /= y`; `x = x\\y` can be written as `x \\= y`; `x = x÷y` can be written as `x ÷= y`\n",
    "* **Power**: `x = x^y` can be written as `x ^= y`"
   ]
  },
  {
   "cell_type": "code",
   "execution_count": 453,
   "metadata": {},
   "outputs": [
    {
     "data": {
      "text/plain": [
       "9"
      ]
     },
     "metadata": {},
     "output_type": "display_data"
    }
   ],
   "source": [
    "x = 3\n",
    "x = x^2"
   ]
  },
  {
   "cell_type": "code",
   "execution_count": 454,
   "metadata": {},
   "outputs": [
    {
     "data": {
      "text/plain": [
       "9"
      ]
     },
     "metadata": {},
     "output_type": "display_data"
    }
   ],
   "source": [
    "x = 3\n",
    "x ^= 2"
   ]
  },
  {
   "cell_type": "markdown",
   "metadata": {},
   "source": [
    "### Relational operators\n",
    "Relational operators are operators on various datatypes which gives a Boolean outcome.\n",
    "Infix notation for equality (`==`), greater than (`>`), greater or equal than (`>=`), less than (`<`), less than or equal (`<=`), not equal to (`!=`), identical equal to (`===`), not identical equal to (`!==`); grouping of operation by parenthesis in the normal way.\n",
    "\n",
    "Because floating point numbers are approximated in a binary representation, we really often will accept numbers as equal if they are *approximatly* equal. Julia privides function `isapproximate()` for that."
   ]
  },
  {
   "cell_type": "code",
   "execution_count": 455,
   "metadata": {},
   "outputs": [
    {
     "data": {
      "text/plain": [
       "true"
      ]
     },
     "metadata": {},
     "output_type": "display_data"
    }
   ],
   "source": [
    "Float64(1/2) == Float32(1/2)    # 0.5 = 2^(-1)  can be represented exactly \n",
    "                                # in binary number systems"
   ]
  },
  {
   "cell_type": "code",
   "execution_count": 456,
   "metadata": {},
   "outputs": [
    {
     "data": {
      "text/plain": [
       "false"
      ]
     },
     "metadata": {},
     "output_type": "display_data"
    }
   ],
   "source": [
    "Float64(1/3) == Float32(1/3)    # 1/3 can *not* be represented exactly \n",
    "                                # in binary number systems"
   ]
  },
  {
   "cell_type": "code",
   "execution_count": 457,
   "metadata": {},
   "outputs": [
    {
     "data": {
      "text/plain": [
       "false"
      ]
     },
     "metadata": {},
     "output_type": "display_data"
    }
   ],
   "source": [
    "Float64(1/3) > Float32(1/3)"
   ]
  },
  {
   "cell_type": "code",
   "execution_count": 458,
   "metadata": {},
   "outputs": [
    {
     "data": {
      "text/plain": [
       "true"
      ]
     },
     "metadata": {},
     "output_type": "display_data"
    }
   ],
   "source": [
    "Float64(1/3) < Float32(1/3)"
   ]
  },
  {
   "cell_type": "code",
   "execution_count": 459,
   "metadata": {},
   "outputs": [
    {
     "data": {
      "text/plain": [
       "true"
      ]
     },
     "metadata": {},
     "output_type": "display_data"
    }
   ],
   "source": [
    "pi ≤ 3.15    # Using LaTeX notation, \\le + TAB gives Unicode symbol ≤"
   ]
  },
  {
   "cell_type": "code",
   "execution_count": 460,
   "metadata": {},
   "outputs": [
    {
     "data": {
      "text/plain": [
       "true"
      ]
     },
     "metadata": {},
     "output_type": "display_data"
    }
   ],
   "source": [
    "Float64(1/3) != Float32(1/3)"
   ]
  },
  {
   "cell_type": "code",
   "execution_count": 461,
   "metadata": {},
   "outputs": [
    {
     "data": {
      "text/plain": [
       "2"
      ]
     },
     "metadata": {},
     "output_type": "display_data"
    }
   ],
   "source": [
    "x = 2\n",
    "y = x\n",
    "z = 2"
   ]
  },
  {
   "cell_type": "code",
   "execution_count": 462,
   "metadata": {},
   "outputs": [
    {
     "data": {
      "text/plain": [
       "true"
      ]
     },
     "metadata": {},
     "output_type": "display_data"
    }
   ],
   "source": [
    "x === y"
   ]
  },
  {
   "cell_type": "code",
   "execution_count": 463,
   "metadata": {},
   "outputs": [
    {
     "data": {
      "text/plain": [
       "true"
      ]
     },
     "metadata": {},
     "output_type": "display_data"
    }
   ],
   "source": [
    "x === z"
   ]
  },
  {
   "cell_type": "code",
   "execution_count": 464,
   "metadata": {},
   "outputs": [
    {
     "data": {
      "text/plain": [
       "false"
      ]
     },
     "metadata": {},
     "output_type": "display_data"
    }
   ],
   "source": [
    "x !== z"
   ]
  },
  {
   "cell_type": "code",
   "execution_count": 465,
   "metadata": {},
   "outputs": [
    {
     "data": {
      "text/plain": [
       "true"
      ]
     },
     "metadata": {},
     "output_type": "display_data"
    }
   ],
   "source": [
    "<(2,3)"
   ]
  },
  {
   "cell_type": "code",
   "execution_count": 466,
   "metadata": {},
   "outputs": [
    {
     "data": {
      "text/plain": [
       "true"
      ]
     },
     "metadata": {},
     "output_type": "display_data"
    }
   ],
   "source": [
    "isapprox(Float64(1/3),Float32(1/3))"
   ]
  },
  {
   "cell_type": "markdown",
   "metadata": {},
   "source": [
    "### Logical operators\n",
    "Logical operators are operators on the `Bool` datatype which gives a Boolean outcome.\n",
    "Infix notation for *negation* (`!`), logical *and* (`&&`), logical *or* (`||`); grouping of operation by parenthesis in the normal way.\n",
    "\n",
    "Observe that logical *and* and logical *or* are *short-circuiting* in the sense that in `a && b`, `b` is not evaluated if `a` is `false`, while in `a || b`, `b` is not evaluated if `a` is `true`. This short-circuiting helps speed up the execution of the code."
   ]
  },
  {
   "cell_type": "code",
   "execution_count": 467,
   "metadata": {},
   "outputs": [
    {
     "data": {
      "text/plain": [
       "false"
      ]
     },
     "metadata": {},
     "output_type": "display_data"
    }
   ],
   "source": [
    "true == false"
   ]
  },
  {
   "cell_type": "code",
   "execution_count": 468,
   "metadata": {},
   "outputs": [
    {
     "data": {
      "text/plain": [
       "true"
      ]
     },
     "metadata": {},
     "output_type": "display_data"
    }
   ],
   "source": [
    "(2<3) && (5>4)"
   ]
  },
  {
   "cell_type": "code",
   "execution_count": 469,
   "metadata": {},
   "outputs": [
    {
     "data": {
      "text/plain": [
       "true"
      ]
     },
     "metadata": {},
     "output_type": "display_data"
    }
   ],
   "source": [
    "(2<3) || (5<4)"
   ]
  },
  {
   "cell_type": "markdown",
   "metadata": {},
   "source": [
    "### Mathematical functions\n",
    "#### Algebraic operations as functions\n",
    "Infix operators can also be written as functions:\n",
    "* **Addition**: `x+y+...+z` can be written as `+(x,y,...,z)`\n",
    "* **Subtraction**: `x-y` can be written as `-(x,y)`\n",
    "* **Multiplication**: `x*y*...*z` can be written as `*(x,y,...,z)`\n",
    "* **Division**: `x/y` can be written as `/(x,y)`\n",
    "* **Left division**: `x\\y` can be written as `\\(x,y)`\n",
    "* **Power**: `x^y` can be written as `^(x,y)`"
   ]
  },
  {
   "cell_type": "code",
   "execution_count": 470,
   "metadata": {},
   "outputs": [
    {
     "data": {
      "text/plain": [
       "(7, 7)"
      ]
     },
     "metadata": {},
     "output_type": "display_data"
    }
   ],
   "source": [
    "2+5, +(2,5)"
   ]
  },
  {
   "cell_type": "code",
   "execution_count": 471,
   "metadata": {},
   "outputs": [
    {
     "data": {
      "text/plain": [
       "(0.6666666666666666, 0.6666666666666666)"
      ]
     },
     "metadata": {},
     "output_type": "display_data"
    }
   ],
   "source": [
    "2/3, /(2,3)"
   ]
  },
  {
   "cell_type": "code",
   "execution_count": 472,
   "metadata": {},
   "outputs": [
    {
     "data": {
      "text/plain": [
       "(8, 8)"
      ]
     },
     "metadata": {},
     "output_type": "display_data"
    }
   ],
   "source": [
    "2^3, ^(2,3)"
   ]
  },
  {
   "cell_type": "code",
   "execution_count": 473,
   "metadata": {},
   "outputs": [
    {
     "data": {
      "text/plain": [
       "(24, 24)"
      ]
     },
     "metadata": {},
     "output_type": "display_data"
    }
   ],
   "source": [
    "2*3*4, *(2,3,4)"
   ]
  },
  {
   "cell_type": "markdown",
   "metadata": {},
   "source": [
    "#### Relational operators as functions\n",
    "Infix relational operators can be writtens as functions:\n",
    "* **Equality**: `x==y` can be written as `==(x,y)`; `x!=y` can be written as `!=(x,y)`; `x===y` can be written as `===(x,y)`; `x!==y` can be written as `!==(x,y)`.\n",
    "* **Larger than**: `x>y` can be written as `>(x,y)`; `x>=y` can be written as `>=(x,y)`.\n",
    "* **Less than**: `x>y` can be written as `<(x,y)`; `x<=y` can be written as `<:(x,y)`.\n",
    "\n",
    "Because computers use finite wordlength binary representation, floating point numbers can not be represented exactly. We are therefore often interested in whether numbers are *approximately* equal, within the given machine precision. Julia provides function `isapprox(x,y)` for that."
   ]
  },
  {
   "cell_type": "code",
   "execution_count": 474,
   "metadata": {},
   "outputs": [
    {
     "data": {
      "text/plain": [
       "false"
      ]
     },
     "metadata": {},
     "output_type": "display_data"
    }
   ],
   "source": [
    "==(Float64(1/3),Float32(1/3))"
   ]
  },
  {
   "cell_type": "code",
   "execution_count": 475,
   "metadata": {},
   "outputs": [
    {
     "data": {
      "text/plain": [
       "true"
      ]
     },
     "metadata": {},
     "output_type": "display_data"
    }
   ],
   "source": [
    "isapprox(Float64(1/3),Float32(1/3))"
   ]
  },
  {
   "cell_type": "markdown",
   "metadata": {},
   "source": [
    "#### Basic mathematical functions: single argument\n",
    "The following *single argument* mathematical functions are given in the on-line Julia documentation at https://julialang.org/:\n",
    "* **Trigonometric [radians]**: `sin`,`cos`,`tan`,`sec`,`csc`,`cot` represent $\\sin(x)$, $\\cos(x)$, $\\tan(x)$, $\\sec(x) = \\frac{1}{\\cos(x)}$, $\\csc(x) = \\frac{1}{\\sin(x)}$, $\\cot(x) = \\frac{1}{\\tan(x)}$, respectively, where $x$ is given in $\\mathrm{radians}$.\n",
    "\n",
    "* **Trigonometric [degrees]**: `sind`,`cosd`,`tand`,`secd`,`cscd`,`cotd` represent $\\sin(x)$, $\\cos(x)$, $\\tan(x)$, $\\sec(x)$, $\\csc(x)$, $\\cot(x)$, respectively, where $x$ is given in $\\mathrm{degrees}$.\n",
    "     \n",
    "* **Inverse trigonometric [radians]**: `asin`,`acos`,`atan`,`asec`,`acsc`,`acot` represent $\\arcsin(x)$, $\\arccos(x)$, $\\arctan(x)$, $\\mathrm{arcsec}(x)$, $\\mathrm{arccsc}(x)$, $\\mathrm{arccot}(x)$, respectively, where the result is given in $\\mathrm{radians}$.\n",
    "\n",
    "* **Inverse trigonometric [degrees]**: `asind`,`acosd`,`atand`,`asecd`,`acscd`,`acotd` represent $\\arcsin(x)$, $\\arccos(x)$, $\\arctan(x)$, $\\mathrm{arcsec}(x)$, $\\mathrm{arccsc}(x)$, $\\mathrm{arccot}(x)$, respectively, where the result is given in $\\mathrm{degrees}$.\n",
    "\n",
    "* **Special trigonometric [radians]**: `sincos`, `sinpi`,`cospi`,`sincospi`,`sinc`,`cosc` represent tuple $(\\sin(x),\\cos(x))$, $\\sin(\\pi x)$, $\\cos(\\pi x)$, tuple $(\\sin(\\pi x),\\cos(\\pi x))$, $\\mathrm{sinc}(x) = \\frac{\\sin(\\pi x)}{\\pi x}$, $\\mathrm{cosc}(x) = \\frac{\\mathrm{d}}{\\mathrm{d}x}\\mathrm{sinc}(x)$, respectively.\n",
    "\n",
    "* **Hyperbolic trigonometric [radians]**: `sinh`,`cosh`,`tanh`,`sech`,`csch`,`coth` represent $\\sinh(x)$, $\\cosh(x)$, $\\tanh(x)$, $\\mathrm{sech}(x) = \\frac{1}{\\cosh(x)}$, $\\mathrm{csch}(x) = \\frac{1}{\\sinh(x)}$, $\\mathrm{coth}(x) = \\frac{1}{\\tanh(x)}$, respectively, where $x$ is given in $\\mathrm{radians}$.\n",
    "\n",
    "* **Inverse hyperbolic [radians]**: `asinh`,`acosh`,`atanh`,`asech`,`acsch`,`acoth`  represent $\\mathrm{arcsinh}(x)$, $\\mathrm{arccosh}(x)$, $\\mathrm{arctanh}(x)$, $\\mathrm{arcsech}(x)$, $\\mathrm{arccsch}(x)$, $\\mathrm{arccoth}(x)$, respectively, where $x$ is given in $\\mathrm{radians}$.\n",
    "\n",
    "* **Angle conversion**: `deg2rad`,`rad2deg` represent $x \\rightarrow \\frac{2\\pi\\cdot x}{360}$ and $x \\rightarrow \\frac{360\\cdot x}{2\\pi}$, respectively.\n",
    "\n",
    "* **Logarithmic/exponential**: `log`,`log2`,`log10`,`log1p`,`exp`,`exp2`,`exp10`,`expm1` represent $\\ln(x)=\\log_e(x)$, $\\log_2(x)$, $\\lg(x) = \\log_{10}(x)$, $\\ln(1+x)$, $\\exp(x)$, $2^x$, $10^x$, and $\\exp(x)-1$, respectively. `log1p` is more accurate than `log` when the argument is close to 1 in value.\n",
    "\n",
    "* **Roots**: `sqrt`,`cbrt` represent $\\sqrt{x}$ (with an error if $x$ is real and negative) and $\\sqrt[3]{x}$, respectively.\n",
    "\n",
    "* **Absolute values**: `abs`,`abs2` represent $|x|$ and $|x|^2$, respectively.\n",
    "`sign` returns zero if x==0 and x/|x| otherwise (i.e., ±1 for real x).\n",
    "\n",
    "* **Complex numbers**: with $j=\\sqrt{-1}$ and $z=x+y\\cdot j$, functions `real`, `imag`, `reim`, `conj`, `angle`, `cis`, `cispi` return $x$, $y$, tuple $(x,y)$, $\\bar{z}=x-y\\cdot j$, $\\arctan{\\left(\\frac{y}{x}\\right)}$, $\\exp{(z\\cdot j)}$, $\\exp{(2\\pi z\\cdot j)}$, respectively.\n",
    "\n",
    "* **Combinatorics**: `factorial(n)` returns $n!$ \n",
    "\n",
    "* **Rational numbers**: `numerator(x)` returns the numerator of rational number `x`, `denominator(x)` returns the denominator of rational number `x`\n"
   ]
  },
  {
   "cell_type": "code",
   "execution_count": 476,
   "metadata": {},
   "outputs": [
    {
     "data": {
      "text/plain": [
       "1.0"
      ]
     },
     "metadata": {},
     "output_type": "display_data"
    }
   ],
   "source": [
    "sin(pi/2)"
   ]
  },
  {
   "cell_type": "code",
   "execution_count": 477,
   "metadata": {},
   "outputs": [
    {
     "data": {
      "text/plain": [
       "1.0"
      ]
     },
     "metadata": {},
     "output_type": "display_data"
    }
   ],
   "source": [
    "sind(90)"
   ]
  },
  {
   "cell_type": "code",
   "execution_count": 478,
   "metadata": {},
   "outputs": [
    {
     "data": {
      "text/plain": [
       "(0.8660254037844386, 0.5000000000000001)"
      ]
     },
     "metadata": {},
     "output_type": "display_data"
    }
   ],
   "source": [
    "sincos(pi/3)"
   ]
  },
  {
   "cell_type": "code",
   "execution_count": 479,
   "metadata": {},
   "outputs": [
    {
     "data": {
      "text/plain": [
       "90.0"
      ]
     },
     "metadata": {},
     "output_type": "display_data"
    }
   ],
   "source": [
    "rad2deg(pi/2)"
   ]
  },
  {
   "cell_type": "code",
   "execution_count": 480,
   "metadata": {},
   "outputs": [
    {
     "data": {
      "text/plain": [
       "1.0"
      ]
     },
     "metadata": {},
     "output_type": "display_data"
    }
   ],
   "source": [
    "log10(10)"
   ]
  },
  {
   "cell_type": "code",
   "execution_count": 481,
   "metadata": {},
   "outputs": [
    {
     "data": {
      "text/plain": [
       "2.0"
      ]
     },
     "metadata": {},
     "output_type": "display_data"
    }
   ],
   "source": [
    "cbrt(8)"
   ]
  },
  {
   "cell_type": "code",
   "execution_count": 482,
   "metadata": {},
   "outputs": [
    {
     "data": {
      "text/plain": [
       "4"
      ]
     },
     "metadata": {},
     "output_type": "display_data"
    }
   ],
   "source": [
    "abs2(-2)"
   ]
  },
  {
   "cell_type": "code",
   "execution_count": 483,
   "metadata": {},
   "outputs": [
    {
     "data": {
      "text/plain": [
       "(-1, 0)"
      ]
     },
     "metadata": {},
     "output_type": "display_data"
    }
   ],
   "source": [
    "sign(-2), sign(0)"
   ]
  },
  {
   "cell_type": "code",
   "execution_count": 484,
   "metadata": {},
   "outputs": [
    {
     "data": {
      "text/plain": [
       "2"
      ]
     },
     "metadata": {},
     "output_type": "display_data"
    }
   ],
   "source": [
    "real(2+3im)"
   ]
  },
  {
   "cell_type": "code",
   "execution_count": 485,
   "metadata": {},
   "outputs": [
    {
     "data": {
      "text/plain": [
       "(2, 3)"
      ]
     },
     "metadata": {},
     "output_type": "display_data"
    }
   ],
   "source": [
    "reim(2+3im)"
   ]
  },
  {
   "cell_type": "code",
   "execution_count": 486,
   "metadata": {},
   "outputs": [
    {
     "data": {
      "text/plain": [
       "2 - 3im"
      ]
     },
     "metadata": {},
     "output_type": "display_data"
    }
   ],
   "source": [
    "conj(2+3im)"
   ]
  },
  {
   "cell_type": "code",
   "execution_count": 487,
   "metadata": {},
   "outputs": [
    {
     "data": {
      "text/plain": [
       "0.982793723247329"
      ]
     },
     "metadata": {},
     "output_type": "display_data"
    }
   ],
   "source": [
    "angle(2+3im)"
   ]
  },
  {
   "cell_type": "code",
   "execution_count": 488,
   "metadata": {},
   "outputs": [
    {
     "data": {
      "text/plain": [
       "56.309932474020215"
      ]
     },
     "metadata": {},
     "output_type": "display_data"
    }
   ],
   "source": [
    "rad2deg(angle(2+3im))"
   ]
  },
  {
   "cell_type": "code",
   "execution_count": 489,
   "metadata": {},
   "outputs": [
    {
     "data": {
      "text/plain": [
       "-0.02071873100224288 + 0.045271253156092976im"
      ]
     },
     "metadata": {},
     "output_type": "display_data"
    }
   ],
   "source": [
    "cis(2+3im)"
   ]
  },
  {
   "cell_type": "code",
   "execution_count": 490,
   "metadata": {},
   "outputs": [
    {
     "data": {
      "text/plain": [
       "-0.02071873100224288 + 0.045271253156092976im"
      ]
     },
     "metadata": {},
     "output_type": "display_data"
    }
   ],
   "source": [
    "exp(im*(2+3im))"
   ]
  },
  {
   "cell_type": "code",
   "execution_count": 491,
   "metadata": {},
   "outputs": [
    {
     "data": {
      "text/plain": [
       "8.069951757030463e-5 + 0.0im"
      ]
     },
     "metadata": {},
     "output_type": "display_data"
    }
   ],
   "source": [
    "cispi(2+3im)"
   ]
  },
  {
   "cell_type": "code",
   "execution_count": 492,
   "metadata": {},
   "outputs": [
    {
     "data": {
      "text/plain": [
       "8.069951757030463e-5 - 1.976568117704183e-20im"
      ]
     },
     "metadata": {},
     "output_type": "display_data"
    }
   ],
   "source": [
    "exp(pi*im*(2+3im))"
   ]
  },
  {
   "cell_type": "code",
   "execution_count": 493,
   "metadata": {},
   "outputs": [
    {
     "data": {
      "text/plain": [
       "(1, 2, 6, 24)"
      ]
     },
     "metadata": {},
     "output_type": "display_data"
    }
   ],
   "source": [
    "factorial(1),factorial(2),factorial(3),factorial(4)"
   ]
  },
  {
   "cell_type": "code",
   "execution_count": 494,
   "metadata": {},
   "outputs": [
    {
     "data": {
      "text/plain": [
       "7"
      ]
     },
     "metadata": {},
     "output_type": "display_data"
    }
   ],
   "source": [
    "denominator(22//7)"
   ]
  },
  {
   "cell_type": "markdown",
   "metadata": {},
   "source": [
    "#### Basic mathematical functions: two or more arguments\n",
    "The following *multiple argument* mathematical functions are given in the on-line Julia documentation at https://julialang.org/:\n",
    "\n",
    "* **Geometry**: `hypot` [hypotenuse] represents $(x_1,\\ldots,x_n) \\rightarrow \\sqrt{\\sum_1^n |x_i|^2}$, base `b` logarithm of `x`. For a complex number `z`, `hypot(z)` is `hypot(re(z),im(z))`.\n",
    "\n",
    "* **Logarithm**: `log(b,x)` represents the logarithm of `x` at base `b`, i.e., $\\log_b(x) = \\frac{\\log_c(x)}{\\log_c(b)}$ \n",
    "\n",
    "* **Modulo, etc.**: `div(x,y)` (or: `÷(x,y)`, `x÷y`) represents `x/y` truncated to an integer; `mod(x,y)` represents `x` modulo `y`; `rem(x,y)` (or: `%(x,y)`, `x%y`) returns the remainder from Euclidian division; `rem2pi(x)` returns `rem(x,pi)`; `mod2pi(x)` returns `mod(x,pi)`.\n",
    "\n",
    "* **Integer**: `gcd(x1,...,xn)` returns greatest common divisor of arguments, `lcm(x1,...,xn)` returns least common multiple. \n",
    "\n",
    "* **Combinatorics**: `binomial(n,k)` returns $\\binom{n}{k}$ where $n$ and $k$ are integers.\n",
    "\n",
    "* **Min-max**: `min(x, y, ...)` returns the minimum of the arguments; `max(x, y, ...)` returns the maximum of the arguments; `minmax(x, y)` returns the tuple of min and max of the arguments; `clamp(x, lo, hi)` returns the saturation of `x` in the interval `[lo,hi]`.\n"
   ]
  },
  {
   "cell_type": "code",
   "execution_count": 495,
   "metadata": {},
   "outputs": [
    {
     "data": {
      "text/plain": [
       "(3.605551275463989, 3.605551275463989)"
      ]
     },
     "metadata": {},
     "output_type": "display_data"
    }
   ],
   "source": [
    "hypot(2,3), hypot(2+3im)"
   ]
  },
  {
   "cell_type": "code",
   "execution_count": 496,
   "metadata": {},
   "outputs": [
    {
     "data": {
      "text/plain": [
       "(1.892789260714372, 1.8927892607143724)"
      ]
     },
     "metadata": {},
     "output_type": "display_data"
    }
   ],
   "source": [
    "log(3,8), log2(8)/log2(3)"
   ]
  },
  {
   "cell_type": "code",
   "execution_count": 497,
   "metadata": {},
   "outputs": [
    {
     "data": {
      "text/plain": [
       "(4, 4.0)"
      ]
     },
     "metadata": {},
     "output_type": "display_data"
    }
   ],
   "source": [
    "div(14,3), div(14.,3)"
   ]
  },
  {
   "cell_type": "code",
   "execution_count": 498,
   "metadata": {},
   "outputs": [
    {
     "data": {
      "text/plain": [
       "2"
      ]
     },
     "metadata": {},
     "output_type": "display_data"
    }
   ],
   "source": [
    "mod(14,3)"
   ]
  },
  {
   "cell_type": "code",
   "execution_count": 499,
   "metadata": {},
   "outputs": [
    {
     "data": {
      "text/plain": [
       "2"
      ]
     },
     "metadata": {},
     "output_type": "display_data"
    }
   ],
   "source": [
    "rem(14,3)"
   ]
  },
  {
   "cell_type": "code",
   "execution_count": 500,
   "metadata": {},
   "outputs": [
    {
     "data": {
      "text/plain": [
       "14"
      ]
     },
     "metadata": {},
     "output_type": "display_data"
    }
   ],
   "source": [
    "div(14,3)*3 + mod(14,3)"
   ]
  },
  {
   "cell_type": "code",
   "execution_count": 501,
   "metadata": {},
   "outputs": [
    {
     "data": {
      "text/plain": [
       "3"
      ]
     },
     "metadata": {},
     "output_type": "display_data"
    }
   ],
   "source": [
    "gcd(12,36,45)"
   ]
  },
  {
   "cell_type": "code",
   "execution_count": 502,
   "metadata": {},
   "outputs": [
    {
     "data": {
      "text/plain": [
       "180"
      ]
     },
     "metadata": {},
     "output_type": "display_data"
    }
   ],
   "source": [
    "lcm(12,36,45)"
   ]
  },
  {
   "cell_type": "code",
   "execution_count": 503,
   "metadata": {},
   "outputs": [
    {
     "data": {
      "text/plain": [
       "1"
      ]
     },
     "metadata": {},
     "output_type": "display_data"
    }
   ],
   "source": [
    "binomial(12,12)"
   ]
  },
  {
   "cell_type": "code",
   "execution_count": 504,
   "metadata": {},
   "outputs": [
    {
     "data": {
      "text/plain": [
       "220"
      ]
     },
     "metadata": {},
     "output_type": "display_data"
    }
   ],
   "source": [
    "binomial(12,9)"
   ]
  },
  {
   "cell_type": "code",
   "execution_count": 505,
   "metadata": {},
   "outputs": [
    {
     "data": {
      "text/plain": [
       "-2"
      ]
     },
     "metadata": {},
     "output_type": "display_data"
    }
   ],
   "source": [
    "min(-1,0,-2,3)"
   ]
  },
  {
   "cell_type": "code",
   "execution_count": 506,
   "metadata": {},
   "outputs": [
    {
     "data": {
      "text/plain": [
       "3"
      ]
     },
     "metadata": {},
     "output_type": "display_data"
    }
   ],
   "source": [
    "max(-1,0,-2,3)"
   ]
  },
  {
   "cell_type": "code",
   "execution_count": 507,
   "metadata": {},
   "outputs": [
    {
     "data": {
      "text/plain": [
       "1"
      ]
     },
     "metadata": {},
     "output_type": "display_data"
    }
   ],
   "source": [
    "clamp(1,-1,3)"
   ]
  },
  {
   "cell_type": "code",
   "execution_count": 508,
   "metadata": {},
   "outputs": [
    {
     "data": {
      "text/plain": [
       "-1"
      ]
     },
     "metadata": {},
     "output_type": "display_data"
    }
   ],
   "source": [
    "clamp(-2,-1,3)"
   ]
  },
  {
   "cell_type": "code",
   "execution_count": 509,
   "metadata": {},
   "outputs": [
    {
     "data": {
      "text/plain": [
       "3"
      ]
     },
     "metadata": {},
     "output_type": "display_data"
    }
   ],
   "source": [
    "clamp(4,-1,3)"
   ]
  },
  {
   "cell_type": "markdown",
   "metadata": {},
   "source": [
    "### Operation on numbers\n",
    "#### Floating point deconstruction\n",
    "\n",
    "* **Mantissa**: `significand(x)` extracts the mantissa of `x` in binary representation, with value of the same type as `x` in the interval $[1,2)$ \n",
    "* **Exponent**: `exponent(x)` returns the exponent of a normalized floating point number (i.e., with mantissa in  $[1,2)$). The result is the largest integer `y` such that `2ʸ ≤ abs(x)`.\n",
    "\n",
    "#### Rounding\n",
    "\n",
    "* **Rounding**: `round(x)` rounds `x` to an integer of the same type as `x`; `round(x;digits=val)` where `val` is an integer, returns `x` rounded to `val` digits; `round(x;sigdigits=val)` where `val` is an integer returns `x` rounded to `val` significant digits.\n",
    "\n",
    "* **Ceiling**: `ceil(x)` returns the nearest integral value of the same type as `x` that is greater than or equal to `x`; `ceil(x;digits=val)` where `val` is an integer, returns the nearest integral value of the same type as `x` that is greater than or equal to `x` to `val` digits; `ceil(x;sigdigits=val)` where `val` is an integer, returns the nearest integral value of the same type as `x` that is greater than or equal to `x` to `val` significant digits.\n",
    "\n",
    "* **Floor**: `floor(x)` returns the nearest integral value of the same type as `x` that is less than or equal to `x`; `floor(x;digits=val)` where `val` is an integer, returns the nearest integral value of the same type as `x` that is less than or equal to `x` to `val` digits; `floor(x;sigdigits=val)` where `val` is an integer, returns the nearest integral value of the same type as `x` that is less than or equal to `x` to `val` significant digits.\n",
    "\n",
    "* **Trunc**: `trunc(x)` returns the nearest integral value of the same type as `x` whose *absolute value* is less than or equal to `x`; `trunc(x;digits=val)` where `val` is an integer, returns the nearest integral value of the same type as `x` whose absolute value is less than or equal to `x` to `val` digits; `trunc(x;sigdigits=val)` where `val` is an integer, returns the nearest integral value of the same type as `x` whose absolute value is less than or equal to `x` to `val` significant digits.\n",
    "\n",
    "#### Rational approximation\n",
    "\n",
    "* **Rational numbers**: `rationalize(x)` with `x` a floating point number returns a rational number approximately equal to `x`, `rationalize(x;tol=val)` returns a rational approximation of `x` to tolerance given by `val`, `rationalize(T,x)` returns a rational number with numerator/denominator given by type `T`.\n",
    "\n",
    "#### BigFloat precision\n",
    "\n",
    "* **BigFloat**: `BigFloat(x;precision=val)` produces a `BigFloat` type of `x`, with `val` (integer) number of digits in the mantissa (significand). Function `precision(x)` checks the precision of `x`."
   ]
  },
  {
   "cell_type": "code",
   "execution_count": 510,
   "metadata": {},
   "outputs": [
    {
     "data": {
      "text/plain": [
       "314.1592653589793"
      ]
     },
     "metadata": {},
     "output_type": "display_data"
    }
   ],
   "source": [
    "x=100pi"
   ]
  },
  {
   "cell_type": "code",
   "execution_count": 511,
   "metadata": {},
   "outputs": [
    {
     "data": {
      "text/plain": [
       "1.227184630308513"
      ]
     },
     "metadata": {},
     "output_type": "display_data"
    }
   ],
   "source": [
    "s_x = significand(x)"
   ]
  },
  {
   "cell_type": "code",
   "execution_count": 512,
   "metadata": {},
   "outputs": [
    {
     "data": {
      "text/plain": [
       "8"
      ]
     },
     "metadata": {},
     "output_type": "display_data"
    }
   ],
   "source": [
    "e_x = exponent(x)"
   ]
  },
  {
   "cell_type": "code",
   "execution_count": 513,
   "metadata": {},
   "outputs": [
    {
     "data": {
      "text/plain": [
       "314.1592653589793"
      ]
     },
     "metadata": {},
     "output_type": "display_data"
    }
   ],
   "source": [
    "s_x*2^e_x"
   ]
  },
  {
   "cell_type": "code",
   "execution_count": 514,
   "metadata": {},
   "outputs": [
    {
     "data": {
      "text/plain": [
       "314.0"
      ]
     },
     "metadata": {},
     "output_type": "display_data"
    }
   ],
   "source": [
    "round(x)"
   ]
  },
  {
   "cell_type": "code",
   "execution_count": 515,
   "metadata": {},
   "outputs": [
    {
     "data": {
      "text/plain": [
       "314.159"
      ]
     },
     "metadata": {},
     "output_type": "display_data"
    }
   ],
   "source": [
    "round(x,digits=3)"
   ]
  },
  {
   "cell_type": "code",
   "execution_count": 516,
   "metadata": {},
   "outputs": [
    {
     "data": {
      "text/plain": [
       "314.2"
      ]
     },
     "metadata": {},
     "output_type": "display_data"
    }
   ],
   "source": [
    "round(x,sigdigits=4)"
   ]
  },
  {
   "cell_type": "code",
   "execution_count": 517,
   "metadata": {},
   "outputs": [
    {
     "data": {
      "text/plain": [
       "(315.0, -314.0)"
      ]
     },
     "metadata": {},
     "output_type": "display_data"
    }
   ],
   "source": [
    "ceil(x),ceil(-x)"
   ]
  },
  {
   "cell_type": "code",
   "execution_count": 518,
   "metadata": {},
   "outputs": [
    {
     "data": {
      "text/plain": [
       "(314.0, -315.0)"
      ]
     },
     "metadata": {},
     "output_type": "display_data"
    }
   ],
   "source": [
    "floor(x),floor(-x)"
   ]
  },
  {
   "cell_type": "code",
   "execution_count": 519,
   "metadata": {},
   "outputs": [
    {
     "data": {
      "text/plain": [
       "(314.0, -314.0)"
      ]
     },
     "metadata": {},
     "output_type": "display_data"
    }
   ],
   "source": [
    "trunc(x),trunc(-x)"
   ]
  },
  {
   "cell_type": "code",
   "execution_count": 520,
   "metadata": {},
   "outputs": [
    {
     "data": {
      "text/plain": [
       "-314.0"
      ]
     },
     "metadata": {},
     "output_type": "display_data"
    }
   ],
   "source": [
    "ceil(-x)"
   ]
  },
  {
   "cell_type": "code",
   "execution_count": 521,
   "metadata": {},
   "outputs": [
    {
     "data": {
      "text/plain": [
       "-315.0"
      ]
     },
     "metadata": {},
     "output_type": "display_data"
    }
   ],
   "source": [
    "floor(-x)"
   ]
  },
  {
   "cell_type": "code",
   "execution_count": 522,
   "metadata": {},
   "outputs": [
    {
     "data": {
      "text/plain": [
       "-314.0"
      ]
     },
     "metadata": {},
     "output_type": "display_data"
    }
   ],
   "source": [
    "trunc(-x)"
   ]
  },
  {
   "cell_type": "code",
   "execution_count": 523,
   "metadata": {},
   "outputs": [
    {
     "data": {
      "text/plain": [
       "(165707065//52746197, 201//64, 355//113, 22//7)"
      ]
     },
     "metadata": {},
     "output_type": "display_data"
    }
   ],
   "source": [
    "rationalize(Float64(pi)), rationalize(Float64(pi);tol=1e-3), rationalize(Int16,Float64(pi)), rationalize(Int8,Float64(pi))"
   ]
  },
  {
   "cell_type": "code",
   "execution_count": 524,
   "metadata": {},
   "outputs": [
    {
     "data": {
      "text/plain": [
       "3.1416"
      ]
     },
     "metadata": {},
     "output_type": "display_data"
    }
   ],
   "source": [
    "x = BigFloat(pi;precision=12)"
   ]
  },
  {
   "cell_type": "code",
   "execution_count": 525,
   "metadata": {},
   "outputs": [
    {
     "data": {
      "text/plain": [
       "1.57080078125"
      ]
     },
     "metadata": {},
     "output_type": "display_data"
    }
   ],
   "source": [
    "significand(x)"
   ]
  }
 ],
 "metadata": {
  "kernelspec": {
   "display_name": "Julia 1.9.3",
   "language": "julia",
   "name": "julia-1.9"
  },
  "language_info": {
   "file_extension": ".jl",
   "mimetype": "application/julia",
   "name": "julia",
   "version": "1.9.3"
  }
 },
 "nbformat": 4,
 "nbformat_minor": 4
}
