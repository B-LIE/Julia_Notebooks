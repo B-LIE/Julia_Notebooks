{
 "cells": [
  {
   "cell_type": "markdown",
   "metadata": {},
   "source": [
    "# Julia 3: Choices, Loops, Functions, and Performance issues\n",
    "### Bernt Lie\n",
    "#### University of South-Eastern Norway\n",
    "#### May, 2021; minor update September 2023"
   ]
  },
  {
   "cell_type": "markdown",
   "metadata": {},
   "source": [
    "## Learning goals\n",
    "In this session, we will look at structures for automation:\n",
    "* conditional choices\n",
    "* loops\n",
    "* functions\n",
    "* performance tips"
   ]
  },
  {
   "cell_type": "markdown",
   "metadata": {},
   "source": [
    "## Conditional choices\n",
    "### General if statement\n",
    "The standard `if` syntax is:\n",
    "```julia\n",
    "if condition_1\n",
    "    <block_1>\n",
    "elseif condition_2\n",
    "    <block_2>\n",
    "    ...\n",
    "elseif condition_n\n",
    "    <block_n>\n",
    "else\n",
    "    <block_n+1>\n",
    "end\n",
    "```\n",
    "Here, a `condition_j` is a statement having a `Bool` outcome, and may be composed of Bool variables, relational expressions, logical expressions, etc. Depending on the conditions, the first condition (`condition_j`) that is `true` is chosen, `block_j` is executed, and the if-statement is finished.\n",
    "\n",
    "As in most computer languages, there may be one condition, or many.\n",
    "\n",
    "### Ternary operator\n",
    "\n",
    "A ternary operator `a ? b : c` exists as a short form of:\n",
    "```julia\n",
    "if a\n",
    "    b\n",
    "else\n",
    "    c\n",
    "end\n",
    "```\n",
    "This ternary operator is typically used in single line tests. "
   ]
  },
  {
   "cell_type": "code",
   "execution_count": 1,
   "metadata": {},
   "outputs": [
    {
     "name": "stdout",
     "output_type": "stream",
     "text": [
      "No, not greater\n"
     ]
    }
   ],
   "source": [
    "x = 3\n",
    "if x > 3\n",
    "    println(\"Yes, greater\")\n",
    "else\n",
    "    println(\"No, not greater\")\n",
    "end"
   ]
  },
  {
   "cell_type": "code",
   "execution_count": 2,
   "metadata": {},
   "outputs": [
    {
     "name": "stdout",
     "output_type": "stream",
     "text": [
      "Equal to\n"
     ]
    }
   ],
   "source": [
    "x = 3\n",
    "if x > 3\n",
    "    println(\"Yes, greater\")\n",
    "elseif x == 3\n",
    "    println(\"Equal to\")\n",
    "else\n",
    "    println(\"No, not greater\")\n",
    "end"
   ]
  },
  {
   "cell_type": "markdown",
   "metadata": {},
   "source": [
    "## Loops\n",
    "### For loops\n",
    "#### Basic loop\n",
    "The general syntax is\n",
    "```julia\n",
    "for c in col\n",
    "    <block>\n",
    "end\n",
    "```\n",
    "Here, `col` is some collection or iterator, and `c` will in turn be given a value by traversing `col`. Alternatively to `for c in col`, the syntax `for c = col` is valid.\n",
    "\n",
    "As in all languages, it is possible to have loops within loops. In Julia, there is a simplified syntax for this:\n",
    "```julia\n",
    "for i in I, j in J, ...\n",
    "    <block>\n",
    "end\n",
    "```\n",
    "which is a short form of\n",
    "```julia\n",
    "for i in I\n",
    "    for j in J\n",
    "        ...\n",
    "        <block>\n",
    "        ...\n",
    "    end\n",
    "end\n",
    "```\n",
    "\n",
    "#### Enumeration\n",
    "Sometimes, both the *value* and the *index* in the collection is needed:\n",
    "```julia\n",
    "for (i,c) in enumerate(col)\n",
    "    <block>\n",
    "end\n",
    "```\n",
    "\n",
    "#### Comprehension\n",
    "Comprehension is an efficient way to create arrays without intermediate arrays. The syntax is:\n",
    "```julia\n",
    "[expression for c in C]\n",
    "```\n",
    "Here, `expression` is typically computed from `c`, and one vector element is created for each `c` in `C`. The syntax can be extended with more loops, leading to higher dimensional arrays:\n",
    "```julia\n",
    "[expression for c1 in C1, c2 in C2, ...]\n",
    "```\n",
    "\n",
    "#### Variable scope and loops\n",
    "Iterators in loops (e.g., `c` in `for c in C`) are local to the loop, and its value does not exist outside of the loop.\n",
    "\n",
    "Perhaps more unusual is that variables defined inside a loop have local scope within the loop, and do not exist when the loops is finished. However, if a variable has been defined prior to a loop, and this variable is modified inside the loop, then the modification exists after the loop."
   ]
  },
  {
   "cell_type": "code",
   "execution_count": 3,
   "metadata": {},
   "outputs": [
    {
     "name": "stdout",
     "output_type": "stream",
     "text": [
      "Counter i = 1\n",
      "Counter i = 2\n",
      "Counter i = 3\n",
      "Counter i = 4\n",
      "Counter i = 5\n"
     ]
    }
   ],
   "source": [
    "for i in 1:5\n",
    "    println(\"Counter i = $i\")\n",
    "end"
   ]
  },
  {
   "cell_type": "code",
   "execution_count": 4,
   "metadata": {},
   "outputs": [
    {
     "name": "stdout",
     "output_type": "stream",
     "text": [
      "Dictionary elements :a => 2, key a, value 2\n",
      "Dictionary elements :b => 3, key b, value 3\n",
      "Dictionary elements :c => 4, key c, value 4\n"
     ]
    }
   ],
   "source": [
    "D = Dict([(:a,2),(:b,3),(:c,4)])\n",
    "for d in D\n",
    "    println(\"Dictionary elements $d, key $(d[1]), value $(d[2])\")\n",
    "end"
   ]
  },
  {
   "cell_type": "code",
   "execution_count": 5,
   "metadata": {},
   "outputs": [
    {
     "name": "stdout",
     "output_type": "stream",
     "text": [
      "Result for (1,1) is 0\n",
      "Result for (1,2) is -1\n",
      "Result for (2,1) is 3\n",
      "Result for (2,2) is 2\n"
     ]
    }
   ],
   "source": [
    "for i in 1:2, j in 1:2\n",
    "    println(\"Result for ($i,$j) is $(i^2-j)\")\n",
    "end"
   ]
  },
  {
   "cell_type": "code",
   "execution_count": 6,
   "metadata": {},
   "outputs": [
    {
     "name": "stdout",
     "output_type": "stream",
     "text": [
      "Element 1 has value 4\n",
      "Element 2 has value -4\n",
      "Element 3 has value 0\n",
      "Element 4 has value 4\n",
      "Element 5 has value -4\n"
     ]
    }
   ],
   "source": [
    "A = rand(-9:9,5)\n",
    "#\n",
    "for (i,v) in enumerate(A)\n",
    "    println(\"Element $i has value $v\")\n",
    "end"
   ]
  },
  {
   "cell_type": "code",
   "execution_count": 7,
   "metadata": {},
   "outputs": [
    {
     "data": {
      "text/plain": [
       "3-element Vector{Int64}:\n",
       " 1\n",
       " 4\n",
       " 9"
      ]
     },
     "metadata": {},
     "output_type": "display_data"
    }
   ],
   "source": [
    "A = [i^2 for i in 1:3]"
   ]
  },
  {
   "cell_type": "code",
   "execution_count": 8,
   "metadata": {},
   "outputs": [
    {
     "data": {
      "text/plain": [
       "2×3 Matrix{Int64}:\n",
       " 0  -1  -2\n",
       " 3   2   1"
      ]
     },
     "metadata": {},
     "output_type": "display_data"
    }
   ],
   "source": [
    "A = [(i^2-j) for i in 1:2, j in 1:3]"
   ]
  },
  {
   "cell_type": "code",
   "execution_count": 9,
   "metadata": {},
   "outputs": [
    {
     "name": "stdout",
     "output_type": "stream",
     "text": [
      "1\n",
      "2\n",
      "3\n"
     ]
    }
   ],
   "source": [
    "# variable `k` does not exist prior to the loop\n",
    "for i in 1:3\n",
    "    k = i\n",
    "    println(\"$k\")\n",
    "end"
   ]
  },
  {
   "cell_type": "code",
   "execution_count": 10,
   "metadata": {},
   "outputs": [
    {
     "ename": "UndefVarError",
     "evalue": "UndefVarError: `k` not defined",
     "output_type": "error",
     "traceback": [
      "UndefVarError: `k` not defined\n"
     ]
    }
   ],
   "source": [
    "k    # variable `k` was only created locally within the loop, and does not have\n",
    "     # a value outside of the loop"
   ]
  },
  {
   "cell_type": "code",
   "execution_count": 11,
   "metadata": {},
   "outputs": [
    {
     "name": "stdout",
     "output_type": "stream",
     "text": [
      "1\n",
      "2\n",
      "3\n"
     ]
    }
   ],
   "source": [
    "k = 0    # Here, variable `k` is defined before the loop is executed. Variable \n",
    "         # `k` by default gets *global scope*.\n",
    "for i in 1:3\n",
    "    k = i\n",
    "    println(\"$k\")\n",
    "end"
   ]
  },
  {
   "cell_type": "code",
   "execution_count": 12,
   "metadata": {},
   "outputs": [
    {
     "data": {
      "text/plain": [
       "3"
      ]
     },
     "metadata": {},
     "output_type": "display_data"
    }
   ],
   "source": [
    "k    # Because `k` had global scope prior to the loop, the loop changes the \n",
    "     # value of a variable which is accessible outside of the loop"
   ]
  },
  {
   "cell_type": "markdown",
   "metadata": {},
   "source": [
    "#### While loop\n",
    "The `while` loop is used when we do not know in advance how many times we need to go through the loop. Typical examples are within numeric methods where we do not know in advance how many iterations are required to reach a certain accuracy goal. The structure is as in most languages:\n",
    "```julia\n",
    "while boolvar\n",
    "    statements\n",
    "end\n",
    "```\n",
    "The statements are executed as long as the Bool variable/expression `boolvar` is `true`. To avoid an infinite loop, the `statements` must contain some provision to change `boolvar` to `false` under given conditions."
   ]
  },
  {
   "cell_type": "code",
   "execution_count": 13,
   "metadata": {},
   "outputs": [
    {
     "data": {
      "text/plain": [
       "11"
      ]
     },
     "metadata": {},
     "output_type": "display_data"
    }
   ],
   "source": [
    "x = 0\n",
    "cont = true\n",
    "while cont\n",
    "    x += 1\n",
    "    if x > 10\n",
    "        cont = false\n",
    "    end\n",
    "end\n",
    "x"
   ]
  },
  {
   "cell_type": "markdown",
   "metadata": {},
   "source": [
    "## Blocks\n",
    "Sometimes, it is convenient to group code in blocks. Julia provides the following two structures for blocks: `begin ... end` and `let ... end`.\n",
    "### Grouping statements\n",
    "The basic syntax for the `begin ... end` statement is:\n",
    "```julia\n",
    "begin \n",
    "    statements\n",
    "end\n",
    "```\n",
    "The key use of this construct is in combination with other statements where only a single line should be used. Examples could be in \"one line\" function definitions (see below), in the `Pluto` notebook system, etc. \n",
    "\n",
    "Observe that all variables defined within the `begin ... end` block are available in the scope where the block is defined.\n",
    "\n",
    "### Grouping statements with local variables\n",
    "The basic syntax of the `let ... end` statement is:\n",
    "```julia\n",
    "let\n",
    "    statements\n",
    "end\n",
    "```\n",
    "For the `let` block, it is also possible to add variable declarations on the first line, and optionally to give them values on this line:\n",
    "```julia\n",
    "let var1 = 2, var2, var3 = 5\n",
    "    statements\n",
    "end\n",
    "```\n",
    "The *key* difference with the `begin` block is that the variables within a `let` block are *local*, i.e., they do not have a value outside of the scope of the block. Only the result on the last line of the block is available outside of the block. The last line can, e.g., an assignment, or it can be a `return` statement which explicitly declares what to return out of the block.\n",
    "\n",
    "When it comes to scope of variables, the `let` block is similar to *functions*, see below."
   ]
  },
  {
   "cell_type": "code",
   "execution_count": 14,
   "metadata": {},
   "outputs": [
    {
     "data": {
      "text/plain": [
       "5"
      ]
     },
     "metadata": {},
     "output_type": "display_data"
    }
   ],
   "source": [
    "begin \n",
    "    u = 3\n",
    "    w = u+2\n",
    "end"
   ]
  },
  {
   "cell_type": "code",
   "execution_count": 15,
   "metadata": {},
   "outputs": [
    {
     "data": {
      "text/plain": [
       "(3, 5)"
      ]
     },
     "metadata": {},
     "output_type": "display_data"
    }
   ],
   "source": [
    "u, w    # Observe that all variables defined in the block have values outside of the block"
   ]
  },
  {
   "cell_type": "code",
   "execution_count": 16,
   "metadata": {},
   "outputs": [
    {
     "data": {
      "text/plain": [
       "5"
      ]
     },
     "metadata": {},
     "output_type": "display_data"
    }
   ],
   "source": [
    "let\n",
    "    m = 3\n",
    "    n = m+2    \n",
    "end"
   ]
  },
  {
   "cell_type": "code",
   "execution_count": 17,
   "metadata": {},
   "outputs": [
    {
     "ename": "UndefVarError",
     "evalue": "UndefVarError: `n` not defined",
     "output_type": "error",
     "traceback": [
      "UndefVarError: `n` not defined\n"
     ]
    }
   ],
   "source": [
    "n"
   ]
  },
  {
   "cell_type": "code",
   "execution_count": 18,
   "metadata": {},
   "outputs": [
    {
     "data": {
      "text/plain": [
       "(3, 5)"
      ]
     },
     "metadata": {},
     "output_type": "display_data"
    }
   ],
   "source": [
    "let \n",
    "    p = 3\n",
    "    q = p+2\n",
    "    return p, q\n",
    "end"
   ]
  },
  {
   "cell_type": "markdown",
   "metadata": {},
   "source": [
    "## Functions\n",
    "### General functions\n",
    "The basic syntax for defining a function in Julia is:\n",
    "```julia\n",
    "function f(x)\n",
    "    statements\n",
    "    return result\n",
    "end\n",
    "```\n",
    "Here, `x` is the argument of the function. The statement `return result` determines what is returned from the function; typically `result` is a tuple, e.g., specified by a comma separated list of elements. If statement `return` is dropped, the last result computed in the `statements` is returned.\n",
    "\n",
    "Any variable introduced inside of the function has *local scope*, and can not be examined outside of the function.\n",
    "\n",
    "Functions can have multiple input arguments. Arguments are given *positional* reference (`args`) or are referenced by keywords. Arguments are separated by comma as in tuples. However, to make a distinction between positional arguments and keyword arguments, a semicolon is used:\n",
    "```julia\n",
    "function f(arg1, arg2, ..., argn; kwarg1, krarg2,...)\n",
    "    statements\n",
    "end\n",
    "```\n",
    "It is possible to give default values to both positional and keyword arguments, e.g.:\n",
    "```julia\n",
    "function f(arg1, arg2, arg3=val1,...; kwarg1 = kwval1,...)\n",
    "    statements\n",
    "end\n",
    "```\n",
    "\n",
    "When calling a function, the positional arguments (those occurring before \";\") must be given in the specified order. However, keyword arguments can be given in any order. Example:\n",
    "```julia\n",
    "function f(x,n=1; a=1, b=2, c=1)\n",
    "    return a*x^n + b*(1/x)^n + c*log(n+1,x)\n",
    "end\n",
    "```\n",
    "This function can be called as `f(2)`, `f(2,3)`, `f(2;a=5)`, `f(2;c=3,a=2)`, etc. The point with keyword arguments is that they can be given in arbitrary order. Positional variables, however, *have* to be given in the specified order.\n",
    "\n",
    "A final comment: in the *definition* of functions, a semicolon must be used to separate positional arguments vs. keyword arguments. However, when *calling* a function, use of semicolon is optional: we can also just use comma when calling the function.\n",
    "\n",
    "### Type declaration for arguments\n",
    "\n",
    "It is possible to specify the type of arguments using the syntax `x::T` where `T` is some type. As an example:\n",
    "```julia\n",
    "function f(x::Number, n::Int=1; a::Number=1, b::Number=2, c::Number = 1)\n",
    "    statements\n",
    "end\n",
    "```\n",
    "will restrict the type of allowed arguments, and may help in avoiding erroneus use of  function. Think of the `x :: T` as in mathematics: $x \\in \\cal{T}$ where $\\cal{T}$ is a set. **However**, it is recommended to use as few restrictions as possible on the type of function arguments.\n",
    "\n",
    "### Function dispatching\n",
    "\n",
    "A key concept in Julia is that of function *dispatching*. The idea is that it is possible to define many different \"functions\" in Julia with the same name, but with different number of arguments, and with different type restrictions on arguments. These different versions of functions with the same name are referreded to as *methods*. [In many cases, dispatching is the same as function/operator overloading, but not in all cases.] Dispatching solves one problem with namespace in other languages: in, e.g., Python, if you write a new function, and accidentally give it the same name as an existing function, you simply overwrite the existing function so that it is not available any more. This is so no matter what arguments the function has, and what its results are. In Julia, on the other hand, it is possible to create functions with the same name as existing ones, without destroying the functionality of the original functions -- as long as the two functions do not have identical arguments (including: identical types).\n",
    "\n",
    "A simple example of dispatching: the Julia function `range` can be used to produce an iterator of numbers, as in `range(0,2*pi,length=10)`. But if the two first arguments are *colors*, the the function produces an iterator of *colors* between the two given values; we'll see examples of this later.\n",
    "\n",
    "### One-line functions\n",
    "Simple functions used in mathematics, etc., can be given a simplified on-line defintion with syntax:\n",
    "```julia\n",
    "f(x) = statement\n",
    "```\n",
    "Such functions can also have multiple arguments, keyword arguments, etc. If the `statement` is too complicated to fit in one-line, it can be wrapped in a `begin... end` block, and stretch over multiple lines:\n",
    "```julia\n",
    "f(x) = begin\n",
    "    statement_1\n",
    "    statement_2\n",
    "    ...\n",
    "end\n",
    "```\n",
    "\n",
    "### Anonymous functions\n",
    "Anonymous functions, or lambda functions, have the syntax `x -> statement`. It is possible to use several arguments: `(x,y,...) -> statement`. These anonymous functions are typically used in function calls when one does not want to create named functions.\n",
    "\n",
    "It is also possible to give name to anonymous functions and achieve something similar to in one-line functions, e.g.,\n",
    "```julia\n",
    "f = x -> statement\n",
    "```\n",
    "whereupon the function is called as `f(x)`.\n",
    "\n",
    "### Chaining of functions\n",
    "Two functions, `f(x)` and `g(x)` can be chained provided as `g(f(x))` provided that the return value of `f(x)` matches the required argument of `g(x)`. \n",
    "\n",
    "Such a chaining can also be written using syntax: `g∘f(x)` where `∘` is introduced as `\\circ + TAB`.\n",
    "\n",
    "Furthermore, such a chaining can also be written using *function piping*, with notation `f(x) |> g`.\n",
    "\n",
    "With all three ways of achievng function chaining, the requirement on return value of `f(x)` to match the required argument of `g(x)` is the same. \n",
    "\n",
    "In the case that the returned value of `f(x)` does not match the required argument of `g(x)`, it is convenient to use anonymous functions to correct this. Such corrections may get somewhat cluttered, and to reduce the clutter, piping is recommended.\n",
    "\n",
    "### Unpacking collections to sequence of arguments\n",
    "Suppose we have a collection that we need to pass to a function where the function requires multiple arguments. We can then *unpack* the collection `C` as follows: `f(C...)`."
   ]
  },
  {
   "cell_type": "code",
   "execution_count": 19,
   "metadata": {},
   "outputs": [
    {
     "data": {
      "text/plain": [
       "f (generic function with 2 methods)"
      ]
     },
     "metadata": {},
     "output_type": "display_data"
    }
   ],
   "source": [
    "function f(x::Number,n::Int=1;a::Number=1,b::Number=2,c::Number=1)\n",
    "    return a*x^n + b*(1/x)^2 + c*log(n+1,x)\n",
    "end"
   ]
  },
  {
   "cell_type": "code",
   "execution_count": 20,
   "metadata": {},
   "outputs": [
    {
     "data": {
      "text/plain": [
       "4.807184722943378"
      ]
     },
     "metadata": {},
     "output_type": "display_data"
    }
   ],
   "source": [
    "f(3)"
   ]
  },
  {
   "cell_type": "code",
   "execution_count": 21,
   "metadata": {},
   "outputs": [
    {
     "data": {
      "text/plain": [
       "10.222222222222221"
      ]
     },
     "metadata": {},
     "output_type": "display_data"
    }
   ],
   "source": [
    "f(3,2)"
   ]
  },
  {
   "cell_type": "code",
   "execution_count": 22,
   "metadata": {},
   "outputs": [
    {
     "data": {
      "text/plain": [
       "6.392147223664535"
      ]
     },
     "metadata": {},
     "output_type": "display_data"
    }
   ],
   "source": [
    "f(3;c=2)"
   ]
  },
  {
   "cell_type": "code",
   "execution_count": 23,
   "metadata": {},
   "outputs": [
    {
     "data": {
      "text/plain": [
       "myfun (generic function with 1 method)"
      ]
     },
     "metadata": {},
     "output_type": "display_data"
    }
   ],
   "source": [
    "myfun(x) = sin(x)*exp(-x/3)    # One-line function"
   ]
  },
  {
   "cell_type": "code",
   "execution_count": 24,
   "metadata": {},
   "outputs": [
    {
     "data": {
      "text/plain": [
       "0.6108481445504094"
      ]
     },
     "metadata": {},
     "output_type": "display_data"
    }
   ],
   "source": [
    "myfun(pi/3)"
   ]
  },
  {
   "cell_type": "code",
   "execution_count": 25,
   "metadata": {},
   "outputs": [
    {
     "data": {
      "text/plain": [
       "#16 (generic function with 1 method)"
      ]
     },
     "metadata": {},
     "output_type": "display_data"
    }
   ],
   "source": [
    "myfun1 = x -> sin(x)*exp(-x/3)    # Giving name `myfun1` to anonymous function"
   ]
  },
  {
   "cell_type": "code",
   "execution_count": 26,
   "metadata": {},
   "outputs": [
    {
     "data": {
      "text/plain": [
       "0.6108481445504094"
      ]
     },
     "metadata": {},
     "output_type": "display_data"
    }
   ],
   "source": [
    "myfun1(pi/3)"
   ]
  },
  {
   "cell_type": "code",
   "execution_count": 27,
   "metadata": {},
   "outputs": [
    {
     "data": {
      "text/plain": [
       "0.4794255386042031"
      ]
     },
     "metadata": {},
     "output_type": "display_data"
    }
   ],
   "source": [
    "sin(cos(pi/3))"
   ]
  },
  {
   "cell_type": "code",
   "execution_count": 28,
   "metadata": {},
   "outputs": [
    {
     "data": {
      "text/plain": [
       "0.4794255386042031"
      ]
     },
     "metadata": {},
     "output_type": "display_data"
    }
   ],
   "source": [
    "(sin∘cos)(pi/3)"
   ]
  },
  {
   "cell_type": "code",
   "execution_count": 29,
   "metadata": {},
   "outputs": [
    {
     "data": {
      "text/plain": [
       "0.4794255386042031"
      ]
     },
     "metadata": {},
     "output_type": "display_data"
    }
   ],
   "source": [
    "cos(pi/3) |> sin"
   ]
  },
  {
   "cell_type": "code",
   "execution_count": 30,
   "metadata": {},
   "outputs": [
    {
     "data": {
      "text/plain": [
       "-0.35620718710802207"
      ]
     },
     "metadata": {},
     "output_type": "display_data"
    }
   ],
   "source": [
    "cos(pi/3) |> x-> log(7,x)    # Example on how to pipe the result of \n",
    "                             # a function with single result into \n",
    "                             # function requiring 2 arguments"
   ]
  },
  {
   "cell_type": "code",
   "execution_count": 31,
   "metadata": {},
   "outputs": [
    {
     "data": {
      "text/plain": [
       "5-element Vector{Int64}:\n",
       " -4\n",
       " -7\n",
       " -8\n",
       " -3\n",
       "  8"
      ]
     },
     "metadata": {},
     "output_type": "display_data"
    }
   ],
   "source": [
    "v = rand(-9:9,5)"
   ]
  },
  {
   "cell_type": "code",
   "execution_count": 32,
   "metadata": {},
   "outputs": [
    {
     "data": {
      "text/plain": [
       "8"
      ]
     },
     "metadata": {},
     "output_type": "display_data"
    }
   ],
   "source": [
    "max(v...)    # Unpacking vector into a comma separated sequence of scalars"
   ]
  },
  {
   "cell_type": "markdown",
   "metadata": {},
   "source": [
    "## User-defined types\n",
    "Julia types are dynamic, nominative and parametric. The `::` operator can be used to attach type annotations to expressions and variables in programs. This may add extra information to the (Just-In-Time; JIT) compiler so that the compiled code runs more efficiently, but it may also help to inform the user about a wrong choice of argument in function calls.\n",
    "\n",
    "### Abstract types\n",
    "Abstract types are defined using the syntax `abstract type «name» end` or `abstract type «name» <: «supertype» end`. An abstract type is used as the \"main branch\" of several more specialized abstract types, or as the main branch of several concrete types. In Julia, the most general type is `Any`. One example of an abstract numeric type is `Number`; another is `Real`. This means that Julia has built-in the following abstract types:\n",
    "```julia\n",
    "abstract type Number end\n",
    "abstract type Real <: Number end\n",
    "```\n",
    "and so on. Suppose a user wants to define a new type for dynamic systems. This could be, e.g., `abstract type DynamicSystem end`. Then perhaps one wants to create concrete subtype named `LTI` for Linear, Time Invariant system. To do that, we need to discuss concrete, composite types.\n",
    "\n",
    "### Primitive types\n",
    "The primitive types are built-in types, which are defined as, e.g., `primitive type Int16 <: Signed 16 end`, which essentially says that type `Int16` is a subtype of abstract type `Signed`, and takes up `16 bits` of memory space.\n",
    "\n",
    "### Composite types\n",
    "Composite types are denoted \"records\", \"structs\", or \"objects\" in other languages. Immutable types are defined in a `struct`... `end` block, where the block defines the data fields of the type.\n",
    "\n",
    "```julia\n",
    "struct typename\n",
    "    field specification block\n",
    "end\n",
    "``` \n",
    "The field specification block lists the field names, and optionally their type. If field names are given without type, they are assumed to be of type `Any`. The type name also works as a type *constructor*/instantiator, which is a function with the same number of arguments as there are fields.\n",
    "\n",
    "Suppose we want to define a type for storing a circle with 2D position, radius, and color via RGB values. This can be done via:"
   ]
  },
  {
   "cell_type": "code",
   "execution_count": 33,
   "metadata": {},
   "outputs": [],
   "source": [
    "struct Circle\n",
    "    x::Int\n",
    "    y::Int\n",
    "    r::Int\n",
    "    R::Int\n",
    "    G::Int\n",
    "    B::Int\n",
    "end"
   ]
  },
  {
   "cell_type": "code",
   "execution_count": 34,
   "metadata": {},
   "outputs": [
    {
     "data": {
      "text/plain": [
       "Circle(10, 20, 5, 0, 0, 0)"
      ]
     },
     "metadata": {},
     "output_type": "display_data"
    }
   ],
   "source": [
    "mycirc = Circle(10,20,5,0,0,0)"
   ]
  },
  {
   "cell_type": "markdown",
   "metadata": {},
   "source": [
    "We can query the field names of the type using function `fieldnames(type)`. We can access the values of the various fields of the *instance* using dot-notation:"
   ]
  },
  {
   "cell_type": "code",
   "execution_count": 35,
   "metadata": {},
   "outputs": [
    {
     "data": {
      "text/plain": [
       "(:x, :y, :r, :R, :G, :B)"
      ]
     },
     "metadata": {},
     "output_type": "display_data"
    }
   ],
   "source": [
    "fieldnames(Circle)    # Observe that we query the field names of \n",
    "                      # the *type*/*struct* name. The result is a \n",
    "                      # simple symbol, i.e., the \"unevaluated\" field names"
   ]
  },
  {
   "cell_type": "code",
   "execution_count": 36,
   "metadata": {},
   "outputs": [
    {
     "data": {
      "text/plain": [
       "10"
      ]
     },
     "metadata": {},
     "output_type": "display_data"
    }
   ],
   "source": [
    "mycirc.x    # Observe that we request the field *value* of \n",
    "            # the *instantiated struct* using dot-notation where \n",
    "            # the field name is *without* the \"unevaluation\" symbol \":\""
   ]
  },
  {
   "cell_type": "code",
   "execution_count": 37,
   "metadata": {},
   "outputs": [
    {
     "data": {
      "text/plain": [
       "0"
      ]
     },
     "metadata": {},
     "output_type": "display_data"
    }
   ],
   "source": [
    "mycirc.R"
   ]
  },
  {
   "cell_type": "markdown",
   "metadata": {},
   "source": [
    "The standard struct is *immutable*, in that once populated, it is not possible to change the values of the fields:"
   ]
  },
  {
   "cell_type": "code",
   "execution_count": 38,
   "metadata": {},
   "outputs": [
    {
     "ename": "ErrorException",
     "evalue": "setfield!: immutable struct of type Circle cannot be changed",
     "output_type": "error",
     "traceback": [
      "setfield!: immutable struct of type Circle cannot be changed\n",
      "\n",
      "Stacktrace:\n",
      " [1] setproperty!(x::Circle, f::Symbol, v::Int64)\n",
      "   @ Base .\\Base.jl:38\n",
      " [2] top-level scope\n",
      "   @ c:\\Users\\Bernt_Lie\\OneDrive\\Documents\\booksBLSOL\\Julia\\Notebooks\\J3_Julia_conditions_loops_functions.ipynb:1"
     ]
    }
   ],
   "source": [
    "mycirc.R = 10"
   ]
  },
  {
   "cell_type": "markdown",
   "metadata": {},
   "source": [
    "### Mutable composite types\n",
    "*Mutable* composite types are defined just like immutable types, *except* that we prepend the `struct` keyword with the keyword `mutable`, e.g.,\n",
    "```julia\n",
    "mutable struct typename\n",
    "    field specification block\n",
    "end\n",
    "```"
   ]
  },
  {
   "cell_type": "code",
   "execution_count": 39,
   "metadata": {},
   "outputs": [],
   "source": [
    "mutable struct CircleM\n",
    "    x::Int\n",
    "    y::Int\n",
    "    r::Int\n",
    "    R::Int\n",
    "    G::Int\n",
    "    B::Int\n",
    "end"
   ]
  },
  {
   "cell_type": "code",
   "execution_count": 40,
   "metadata": {},
   "outputs": [
    {
     "data": {
      "text/plain": [
       "CircleM(10, 20, 5, 0, 0, 0)"
      ]
     },
     "metadata": {},
     "output_type": "display_data"
    }
   ],
   "source": [
    "mycirc = CircleM(10,20,5,0,0,0)"
   ]
  },
  {
   "cell_type": "code",
   "execution_count": 41,
   "metadata": {},
   "outputs": [
    {
     "data": {
      "text/plain": [
       "(:x, :y, :r, :R, :G, :B)"
      ]
     },
     "metadata": {},
     "output_type": "display_data"
    }
   ],
   "source": [
    "fieldnames(CircleM)"
   ]
  },
  {
   "cell_type": "code",
   "execution_count": 42,
   "metadata": {},
   "outputs": [
    {
     "data": {
      "text/plain": [
       "0"
      ]
     },
     "metadata": {},
     "output_type": "display_data"
    }
   ],
   "source": [
    "mycirc.R"
   ]
  },
  {
   "cell_type": "code",
   "execution_count": 43,
   "metadata": {},
   "outputs": [
    {
     "data": {
      "text/plain": [
       "10"
      ]
     },
     "metadata": {},
     "output_type": "display_data"
    }
   ],
   "source": [
    "mycirc.R = 10"
   ]
  },
  {
   "cell_type": "markdown",
   "metadata": {},
   "source": [
    "### Parametric types\n",
    "Types may take parameters, and this way create a new family of types. Example:\n",
    "```julia\n",
    "struct Point{T}\n",
    "    x::T\n",
    "    y::T\n",
    "end\n",
    "```\n",
    "allows us to operate with structs such as `Point{Float64}`, `Point{Int}`, etc., without defining new types for the various types of the fields."
   ]
  },
  {
   "cell_type": "code",
   "execution_count": 44,
   "metadata": {},
   "outputs": [],
   "source": [
    "struct Point{T}\n",
    "    x::T\n",
    "    y::T\n",
    "end"
   ]
  },
  {
   "cell_type": "code",
   "execution_count": 45,
   "metadata": {},
   "outputs": [
    {
     "data": {
      "text/plain": [
       "Point{Int64}(1, 2)"
      ]
     },
     "metadata": {},
     "output_type": "display_data"
    }
   ],
   "source": [
    "Point(1,2)    # Here, the type `T` is inferred from the arguments of \n",
    "              # the constructor."
   ]
  },
  {
   "cell_type": "code",
   "execution_count": 46,
   "metadata": {},
   "outputs": [
    {
     "data": {
      "text/plain": [
       "Point{Float64}(1.0, 2.0)"
      ]
     },
     "metadata": {},
     "output_type": "display_data"
    }
   ],
   "source": [
    "Point(1.0,2.0)    # Here, the type `T` is inferred from the arguments of \n",
    "                  # the constructor. *Both* arguments must be of the same \n",
    "                  # type for this to work."
   ]
  },
  {
   "cell_type": "code",
   "execution_count": 47,
   "metadata": {},
   "outputs": [
    {
     "data": {
      "text/plain": [
       "Point{Float64}(1.0, 2.0)"
      ]
     },
     "metadata": {},
     "output_type": "display_data"
    }
   ],
   "source": [
    "Point{Float64}(1,2)    # Here, the type `T` is explicitly specified \n",
    "                       # via the `{Float64}` construct"
   ]
  },
  {
   "cell_type": "markdown",
   "metadata": {},
   "source": [
    "### Type tuples\n",
    "Instead of specifying a single parametric type, we can specify one type for each field, e.g.,\n",
    "```julia\n",
    "struct Point1{X,Y}\n",
    "    x::X\n",
    "    y::Y\n",
    "end\n",
    "```\n"
   ]
  },
  {
   "cell_type": "code",
   "execution_count": 48,
   "metadata": {},
   "outputs": [],
   "source": [
    "struct Point1{X,Y}\n",
    "    x::X\n",
    "    y::Y\n",
    "end"
   ]
  },
  {
   "cell_type": "code",
   "execution_count": 49,
   "metadata": {},
   "outputs": [
    {
     "data": {
      "text/plain": [
       "Point1{Int64, Float64}(1, 2.0)"
      ]
     },
     "metadata": {},
     "output_type": "display_data"
    }
   ],
   "source": [
    "Point1(1,2.)    # This time, the struct (`Point1`) is able to infer both types, \n",
    "                # since we have allowed them to differ."
   ]
  },
  {
   "cell_type": "markdown",
   "metadata": {},
   "source": [
    "### Type unions\n",
    "Sometimes, we want to consider unions of types. This can be done by `Union{T1,T2,...,Tn}` where `Tj` is some union."
   ]
  },
  {
   "cell_type": "code",
   "execution_count": 50,
   "metadata": {},
   "outputs": [
    {
     "data": {
      "text/plain": [
       "Union{Float32, Int64}"
      ]
     },
     "metadata": {},
     "output_type": "display_data"
    }
   ],
   "source": [
    "mixedtype = Union{Int,Float32}"
   ]
  },
  {
   "cell_type": "code",
   "execution_count": 51,
   "metadata": {},
   "outputs": [
    {
     "data": {
      "text/plain": [
       "(32, 32.0f0)"
      ]
     },
     "metadata": {},
     "output_type": "display_data"
    }
   ],
   "source": [
    "32::mixedtype, 3.2f1::mixedtype"
   ]
  },
  {
   "cell_type": "code",
   "execution_count": 52,
   "metadata": {},
   "outputs": [
    {
     "ename": "TypeError",
     "evalue": "TypeError: in typeassert, expected Union{Float32, Int64}, got a value of type Float64",
     "output_type": "error",
     "traceback": [
      "TypeError: in typeassert, expected Union{Float32, Int64}, got a value of type Float64\n",
      "\n",
      "Stacktrace:\n",
      " [1] top-level scope\n",
      "   @ c:\\Users\\Bernt_Lie\\OneDrive\\Documents\\booksBLSOL\\Julia\\Notebooks\\J3_Julia_conditions_loops_functions.ipynb:1"
     ]
    }
   ],
   "source": [
    "3.2e1::mixedtype    # 3.2e1 is of type Float64, which does not belong to\n",
    "                    #  `mixedtype`"
   ]
  },
  {
   "cell_type": "markdown",
   "metadata": {},
   "source": [
    "## Performance tips\n",
    "### Measure performance with @time\n",
    "Julia has a built-in, simple *macro*  for measuring time consumption and memory allocation during execution: `@time`. There are better tools for doing this, but they require additional packages which we have not looked into yet.\n",
    "\n",
    "The timing macro is used by prepending a statement with `@time`. If the statement goes over several lines, we can use the `@time begin ... end` construct, where the execution block is inserted instead of `...`.\n",
    "\n",
    "Julia is based on Just-In-Time compilation, which implies that the code is compiled the first time a function us executed. Thus, timing the first execution will include both the compilation time and the execution time. It is therefore not fair to report execution of the first run of a function.\n",
    "\n",
    "Because Julia is based on multiple dispatch, and may have many methods which vary depending on their arguments/argument types, this also has the consequence that if an argument type is changed, from one call to another, the new method that will then be used must also be compiled. In other words: changing the arguments/argument type requires a fresh compilation."
   ]
  },
  {
   "cell_type": "code",
   "execution_count": 53,
   "metadata": {},
   "outputs": [
    {
     "name": "stdout",
     "output_type": "stream",
     "text": [
      "  0.000006 seconds (1 allocation: 96 bytes)\n"
     ]
    },
    {
     "data": {
      "text/plain": [
       "5-element Vector{Float64}:\n",
       " 0.48912933050925445\n",
       " 0.3721907149998902\n",
       " 0.9577277306681533\n",
       " 0.5915005992512532\n",
       " 0.16358297275347522"
      ]
     },
     "metadata": {},
     "output_type": "display_data"
    }
   ],
   "source": [
    "@time rand(5)"
   ]
  },
  {
   "cell_type": "code",
   "execution_count": 54,
   "metadata": {},
   "outputs": [
    {
     "name": "stdout",
     "output_type": "stream",
     "text": [
      "  1.281257 seconds (2 allocations: 7.451 GiB, 0.37% gc time)\n"
     ]
    }
   ],
   "source": [
    "@time rand(10^9);"
   ]
  },
  {
   "cell_type": "code",
   "execution_count": 55,
   "metadata": {},
   "outputs": [
    {
     "name": "stdout",
     "output_type": "stream",
     "text": [
      "  1.238581 seconds (85.15 k allocations: 1.496 GiB, 32.55% gc time, 2.63% compilation time)\n"
     ]
    }
   ],
   "source": [
    "@time begin\n",
    "    x = rand(10^8)\n",
    "    y = sin.(x)\n",
    "end;"
   ]
  },
  {
   "cell_type": "markdown",
   "metadata": {},
   "source": [
    "### Avoid global variables\n",
    "Variables defined in the REPL have global scope, i.e., they are accessible everywhere, even within `for` loops and within functions. These variables are known as \"global variables\", and global variable `x` can be defined in either of the following two ways (which are equivalent):\n",
    "```julia\n",
    "julia> x = 5\n",
    "julia> global x = 5\n",
    "```\n",
    "A global variables may have its value, and therefore its type, changed at any point. Because of this, it is difficult for the JIT compiler to optimize the resulting code.\n",
    "\n",
    "Global variables are often meant to be constants, and if we prepend the declaration with keyword `constant`,\n",
    "```julia\n",
    "julia> constant x = 5\n",
    "```\n",
    "we make it impossible to change the value and thus the type. Thus, when declared as a `constant`, the JIT compiler has much more possibilities to optimize the code, while still allowing the variable to have global scope (i.e., its value is available inside `for` loops and functions). The disadvantage is, of course, that we need to restart the Julia session to change the value of the constant.\n",
    "\n",
    "Passing a value as an argument to a function is a much better way of operating in Julia, since the Julia compiler can optimize the compilation of the function for the actual type that is used."
   ]
  },
  {
   "cell_type": "code",
   "execution_count": 56,
   "metadata": {},
   "outputs": [
    {
     "data": {
      "text/plain": [
       "1.6666666666666667"
      ]
     },
     "metadata": {},
     "output_type": "display_data"
    }
   ],
   "source": [
    "x = 5\n",
    "f() = x/3\n",
    "f()"
   ]
  },
  {
   "cell_type": "code",
   "execution_count": 57,
   "metadata": {},
   "outputs": [
    {
     "name": "stdout",
     "output_type": "stream",
     "text": [
      "  0.297789 seconds (10.00 M allocations: 152.588 MiB, 7.75% gc time)\n"
     ]
    }
   ],
   "source": [
    "# Calling `f()` in a loop where the global variable is used.\n",
    "@time begin\n",
    "    for i in 1:10^7\n",
    "        f()\n",
    "    end\n",
    "end"
   ]
  },
  {
   "cell_type": "code",
   "execution_count": 58,
   "metadata": {},
   "outputs": [
    {
     "data": {
      "text/plain": [
       "1.6666666666666667"
      ]
     },
     "metadata": {},
     "output_type": "display_data"
    }
   ],
   "source": [
    "g(x) = x/3\n",
    "g(x)"
   ]
  },
  {
   "cell_type": "code",
   "execution_count": 59,
   "metadata": {},
   "outputs": [
    {
     "name": "stdout",
     "output_type": "stream",
     "text": [
      "  0.211445 seconds (10.00 M allocations: 152.588 MiB, 5.92% gc time)\n"
     ]
    }
   ],
   "source": [
    "# Calling `g(x)` in a loop where the global variable is passed on as \n",
    "# input argument to the function.\n",
    "#\n",
    "@time begin\n",
    "    for i in 1:10^7\n",
    "        g(x)\n",
    "    end\n",
    "end"
   ]
  },
  {
   "cell_type": "markdown",
   "metadata": {},
   "source": [
    "### Avoid changing type\n",
    "Changing code, e.g., in a loop, reduces the execution speed. "
   ]
  },
  {
   "cell_type": "code",
   "execution_count": 60,
   "metadata": {},
   "outputs": [
    {
     "name": "stdout",
     "output_type": "stream",
     "text": [
      "  8.003919 seconds (51.24 M allocations: 2.027 GiB, 2.89% gc time, 1.19% compilation time)\n"
     ]
    }
   ],
   "source": [
    "@time begin\n",
    "    for i in 1:10^6\n",
    "        x = [1,2,3]    # x is defined as a vector of Int\n",
    "        for j in 1:10\n",
    "            x = 1 ./(1 .+ x)    # the type of x is changed to Float64\n",
    "        end\n",
    "    end\n",
    "end"
   ]
  },
  {
   "cell_type": "code",
   "execution_count": 61,
   "metadata": {},
   "outputs": [
    {
     "name": "stdout",
     "output_type": "stream",
     "text": [
      "  7.785134 seconds (51.00 M allocations: 2.012 GiB, 2.91% gc time)\n"
     ]
    }
   ],
   "source": [
    "@time begin\n",
    "    for i in 1:10^6\n",
    "        x = [1.0,2.0,3.0]    # x is defined as a vector of Float64\n",
    "        for j in 1:10\n",
    "            x = 1 ./(1 .+ x)    # there is no change of type for x\n",
    "        end\n",
    "    end\n",
    "end"
   ]
  },
  {
   "cell_type": "markdown",
   "metadata": {},
   "source": [
    "### Break functions into multiple methods\n",
    "Instead of creating complex functions where there are tests on input arguments, with `if` statements to handle the various cases depending on input arguments, it is better to write one method for each case, where the argument type decides which method is used.\n",
    "\n",
    "Example of a poor, complex function:\n",
    "```julia\n",
    "function f(x)\n",
    "    if typeof(x) == Int\n",
    "        statements\n",
    "    elseif typeof(x) == Rational\n",
    "        statements\n",
    "    elseif typeof(x) == Float64\n",
    "        statements\n",
    "    end\n",
    "    return result\n",
    "end\n",
    "```\n",
    "is complex/poor code. Instead, split the function into multiple methods:\n",
    "```julia\n",
    "function f(x)\n",
    "    statements\n",
    "    return result\n",
    "end\n",
    "#\n",
    "function f(x::Int)\n",
    "    statements\n",
    "    return result\n",
    "end\n",
    "#\n",
    "function f(x::Rational)\n",
    "    statements\n",
    "    return result\n",
    "end\n",
    "```"
   ]
  },
  {
   "cell_type": "markdown",
   "metadata": {},
   "source": [
    "### Write type-stable functions\n",
    "Type-stable functions return results that do not depend on the input argument type/value. "
   ]
  },
  {
   "cell_type": "markdown",
   "metadata": {},
   "source": [
    "### Access arrays in column-major order\n",
    "Arrays are stored in column-major order in Julia. It is quicker to access elements in contiguous memory order, so arrays should be manipulated in column-major order."
   ]
  },
  {
   "cell_type": "code",
   "execution_count": 62,
   "metadata": {},
   "outputs": [
    {
     "data": {
      "text/plain": [
       "2×3 Matrix{Int64}:\n",
       " 1  0  8\n",
       " 7  9  6"
      ]
     },
     "metadata": {},
     "output_type": "display_data"
    }
   ],
   "source": [
    "A = rand(0:9,2,3)"
   ]
  },
  {
   "cell_type": "code",
   "execution_count": 63,
   "metadata": {},
   "outputs": [
    {
     "data": {
      "text/plain": [
       "6-element Vector{Int64}:\n",
       " 1\n",
       " 7\n",
       " 0\n",
       " 9\n",
       " 8\n",
       " 6"
      ]
     },
     "metadata": {},
     "output_type": "display_data"
    }
   ],
   "source": [
    "A[:]    # Linear indexing reveals the the column-major ordering of arrays"
   ]
  },
  {
   "cell_type": "code",
   "execution_count": 64,
   "metadata": {},
   "outputs": [
    {
     "name": "stdout",
     "output_type": "stream",
     "text": [
      " 13.220910 seconds (289.82 M allocations: 5.809 GiB, 3.13% gc time, 0.03% compilation time)\n"
     ]
    }
   ],
   "source": [
    "# Here, the inner loop adds unity *row-wise*\n",
    "ni = 10^4\n",
    "nj = 10^4\n",
    "A = rand(0:9,ni,nj)\n",
    "#\n",
    "@time begin\n",
    "    for i in 1:ni\n",
    "        for j in 1:nj\n",
    "            A[i,j] += 1\n",
    "        end\n",
    "    end\n",
    "end"
   ]
  },
  {
   "cell_type": "code",
   "execution_count": 65,
   "metadata": {},
   "outputs": [
    {
     "name": "stdout",
     "output_type": "stream",
     "text": [
      " 10.294266 seconds (289.82 M allocations: 5.809 GiB, 3.92% gc time)\n"
     ]
    }
   ],
   "source": [
    "# Here, the inner loop adds unity *column-wise*, which is consistent with column-major ordering\n",
    "ni = 10^4\n",
    "nj = 10^4\n",
    "A = rand(0:9,ni,nj)\n",
    "#\n",
    "@time begin\n",
    "    for j in 1:nj\n",
    "        for i in 1:ni\n",
    "            A[i,j] += 1\n",
    "        end\n",
    "    end\n",
    "end"
   ]
  },
  {
   "cell_type": "markdown",
   "metadata": {},
   "source": [
    "### Reduce array allocation\n",
    "It is common to introduce temporary variables in functions. Variables in functions are stored either in the so-called *stack* memory or in the so-called *heap* memory. Every time a function is called, the programming language allocates some stack memory to the function; the stack memory is relatively small, and is deleted every time the program exits the function.\n",
    "\n",
    "When more memory is needed than is available in the stack, these variables are put into the *heap* memory. This typically happens for larger collections such as arrays, etc. The programming language does not automatically delete allocated heap memory, and this implies that new memory space is allocated every time the function is called. If a function is called many times, allocated memory in the heap can grow uncontrollably. This build-up of memory allocation is particular problematic in code where functions are called many times, such as in differential equation solvers, root solvers, optimization code, etc.\n",
    "\n",
    "Some programming languages, such as C, have special commands for *deleting* the allocated memory in heap. If this deletion of allocated memory is not done properly, the programs are known to have a \"memory leak\". In other languages, such as Julia, Python, MATLAB, etc., special routines for \"garbage collection\" are used to reduce the growth of allocated memory.\n",
    "\n",
    "One way to reduce this build-up of heap memory allocation is to reduce the introduction of new variables in a function. This can be done by passing a variable as an argument in the function call, and then use this input argument to store temporary variables and results. In this way, we instead operate on an existing memory structure: no matter how many times the function is called, we are still working on the same memory addresses. The \"downside\" of this is, of course, that the variable in the function call is *changed*. "
   ]
  },
  {
   "cell_type": "code",
   "execution_count": 66,
   "metadata": {},
   "outputs": [],
   "source": [
    "# Example where vector `x` is created every time function `f` is called.\n",
    "function f()\n",
    "    x = Vector{Float64}(undef,200)\n",
    "    for i in 1:length(x)\n",
    "        x[i] = rand()\n",
    "    end\n",
    "    return x\n",
    "end\n",
    "f();    # Calling the function once to avoid compilation in the @time macro"
   ]
  },
  {
   "cell_type": "code",
   "execution_count": 67,
   "metadata": {},
   "outputs": [
    {
     "name": "stdout",
     "output_type": "stream",
     "text": [
      "  8.900915 seconds (10.00 M allocations: 16.838 GiB, 19.29% gc time)\n"
     ]
    }
   ],
   "source": [
    "# Calling the function 10^7 times, we have 10^7 memory allocations, and \n",
    "# the loops spends a considerable amount of time on garbage collection\n",
    "#\n",
    "@time begin\n",
    "    for i in 1:10^7\n",
    "        f()\n",
    "    end\n",
    "end"
   ]
  },
  {
   "cell_type": "code",
   "execution_count": 68,
   "metadata": {},
   "outputs": [],
   "source": [
    "# Example where vector `x` is passed as argument, and where we manipulate \n",
    "# the content of this \"global\" variable. No variables are put in the heap in \n",
    "# function `g`\n",
    "#\n",
    "function g(x)\n",
    "    for i in 1:length(x)\n",
    "        x[i] = rand()\n",
    "    end\n",
    "    return x\n",
    "end\n",
    "g(rand(2)); # Calling the function once to avoid compilation in the @time macro"
   ]
  },
  {
   "cell_type": "code",
   "execution_count": 69,
   "metadata": {},
   "outputs": [
    {
     "name": "stdout",
     "output_type": "stream",
     "text": [
      "  1.288085 seconds\n"
     ]
    }
   ],
   "source": [
    "# There is zero heap memory allocation in the loop since we operate on \n",
    "# the predefined, global variable `x` all the time. Obviously, there is \n",
    "# no need for garbage collection.\n",
    "#\n",
    "x = rand(100)\n",
    "@time begin\n",
    "    for i in 1:10^7\n",
    "        g(x)\n",
    "    end\n",
    "end"
   ]
  }
 ],
 "metadata": {
  "kernelspec": {
   "display_name": "Julia 1.9.3",
   "language": "julia",
   "name": "julia-1.9"
  },
  "language_info": {
   "file_extension": ".jl",
   "mimetype": "application/julia",
   "name": "julia",
   "version": "1.9.3"
  }
 },
 "nbformat": 4,
 "nbformat_minor": 4
}
