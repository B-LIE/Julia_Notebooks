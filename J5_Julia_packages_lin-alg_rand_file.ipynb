{
 "cells": [
  {
   "cell_type": "markdown",
   "metadata": {},
   "source": [
    "# Julia 5: Linear Algebra. Random numbers and statistics. DataFrames and File handling\n",
    "### Bernt Lie\n",
    "#### University of South-Eastern Norway\n",
    "#### May, 2021. Minor updates June 2023, September 2023"
   ]
  },
  {
   "cell_type": "markdown",
   "metadata": {},
   "source": [
    "## Learning goals\n",
    "In this session, we will look at:\n",
    "* Linear algebra\n",
    "* Offset arrays\n",
    "* Random numbers and statistics\n",
    "* DataFrames and File handling"
   ]
  },
  {
   "cell_type": "code",
   "execution_count": 1,
   "metadata": {},
   "outputs": [],
   "source": [
    "# How to write matrices and vectors?\n",
    "# v = [1,2,3]\n",
    "# A = [1 2 3; 2 3 4]\n",
    "# MATLAB-files *.mat\n",
    "# Vectors: separation by comma versus semi-colon in concatenation"
   ]
  },
  {
   "cell_type": "markdown",
   "metadata": {},
   "source": [
    "## Linear Algebra\n",
    "Here, we consider packages `LinearAlgebra` and `SparseArrays`. We will also consider package `Plots` with command `spy`, which plots the sparse structure of a matrix, and has attributes being a subset of those for scatter plots.\n",
    "\n",
    "### Creating vectors and matrices\n",
    "\n",
    "In the section on collections and *arrays*, we saw how to create general arrays, including vectors and matrices. Remember: arrays are mutable objects in Julia, i.e., it is possible to change the elements of an array after it has been created.\n",
    "\n",
    "#### Vector\n",
    "In Julia, a *vector* is a one-dimensional array, where elements are comma-separated (or semicolon-separated) within square brackets, e.g.:\n",
    "\n",
    "```julia\n",
    "v = [v1, v2, v3,..., vn]\n",
    "```\n",
    "For linear algebra purposes, each element should be a *scalar*.\n",
    "\n",
    "*Note*: if the elements are *vectors* in themselves, *comma-separation* creates a *vector of vectors*, while *semicolon-separation* stacks the elements below each other and creates a *vector of scalars*. A vector of equally sized vector elements an be converted to a matrix, see below.\n",
    "\n",
    "#### Matrix\n",
    "In Julia, a *matrix* is a two-dimensional array, where row elements are separated by *space*, while rows are separated by *semicolon \";\"* or carriage return, e.g.:\n",
    "\n",
    "```julia\n",
    "A = [a11 a12 a13; a21 a22 a23]\n",
    "# or\n",
    "B = [b11 b12 b13\n",
    "        b21 b22 b23]\n",
    "```\n",
    "If we create data which consist of a vector of equally sized, comma-separated vector elements (typically: by logging experiments, etc.), these can be converted to matrices via the `reduce(hcat,...)` command. The alternative `reduce(vcat,vector)` leads to a vector, and is similar to the semicolon-separated vector of vector elements.\n",
    "\n",
    "*Identity Matrix*: in Julia, it is possible to write the identify matrix as `I`. Note that this is a square matrix\n",
    "\n",
    "#### Empty array \n",
    "Constructions `Array{T}(undef,dims)` creates an \"empty\" vector of data type `T` if `dims` is a scalar positive integer or a singleton tuple of a positive integer, and an \"empty\" matrix of data type `T` if dims is a tuple of positive integers or a sequence of two positive integers. The vector/matrix contains arbitrary element values taken from what already was stored in the memory locations the vector/matrix has been assigned.\n",
    "\n",
    "It is possible to replace `Array` with `Vector` when `dims` is a scalar positive integer or a singleton positive integer tuple -- with `Vector`, an error is flagged if `dims` is a sequence of more than one integer, or a tuple with more than one element, or a negative integer is used in `dims`. It is possible to create a vector with `dims` set to zero.\n",
    "\n",
    "Similarly, it is possible to replace `Array` with `Matrix` when `dims` is a sequence of two positive integers, or a pair of two positive integers -- just like for `Vector`, and error is flagged if `dims` does not satisfy the requirements of a matrix.\n",
    "\n",
    "#### Zero array\n",
    "Command `zeros([T=Float64,] dims)` constructs a vector of zeros if `dims` is a scalar positive integer or a singleton tuple, and a matrix of zeros if `dims` is a sequence of two positive integers or a pair (tuple) of positive integers .\n",
    "\n",
    "#### Unit array\n",
    "Command `zeros([T=Float64,] dims)` constructs a vector of unit elements if `dims` is a scalar positive integer or a singleton tuple, and a matrix of unit elements if `dims` is a sequence of two positive integers or a pair (tuple) of positive integers .\n",
    "\n",
    "\n",
    "#### Fill array\n",
    "Command `fill(x,dims)` creates an array where every element has value `x`. If `dims` is a scalar positive integer or a singleton tuple with positive integer element, the result is a vector. If `dims` is a sequence of two positive integers or a pair (tuple) of two positie integers, the result is a matrix.\n",
    "\n",
    "#### Random array\n",
    "Command `rand([C,] dims)` creates an array of dimension given by `dims`, where the elements are chosen by random from the set `C`. If `C` is not specified, the elements are chosen from floating point numbers in the range $[0,1)$. \n"
   ]
  },
  {
   "cell_type": "code",
   "execution_count": 2,
   "metadata": {},
   "outputs": [
    {
     "data": {
      "text/plain": [
       "3-element Vector{Int64}:\n",
       " 1\n",
       " 2\n",
       " 3"
      ]
     },
     "metadata": {},
     "output_type": "display_data"
    }
   ],
   "source": [
    "# Vector\n",
    "v = [1,2,3]"
   ]
  },
  {
   "cell_type": "code",
   "execution_count": 3,
   "metadata": {},
   "outputs": [
    {
     "data": {
      "text/plain": [
       "3-element Vector{Int64}:\n",
       " 1\n",
       " 2\n",
       " 3"
      ]
     },
     "metadata": {},
     "output_type": "display_data"
    }
   ],
   "source": [
    "u = [1;2;3]"
   ]
  },
  {
   "cell_type": "code",
   "execution_count": 4,
   "metadata": {},
   "outputs": [
    {
     "data": {
      "text/plain": [
       "3-element Vector{Vector{Int64}}:\n",
       " [1, 2]\n",
       " [-1, 1]\n",
       " [2, 3]"
      ]
     },
     "metadata": {},
     "output_type": "display_data"
    }
   ],
   "source": [
    "# Vector of vectors\n",
    "w = [[1,2], [-1,1],[2,3]]"
   ]
  },
  {
   "cell_type": "code",
   "execution_count": 5,
   "metadata": {},
   "outputs": [
    {
     "data": {
      "text/plain": [
       "2×3 Matrix{Int64}:\n",
       " 1  -1  2\n",
       " 2   1  3"
      ]
     },
     "metadata": {},
     "output_type": "display_data"
    }
   ],
   "source": [
    "w |> x-> reduce(hcat,x)"
   ]
  },
  {
   "cell_type": "code",
   "execution_count": 6,
   "metadata": {},
   "outputs": [
    {
     "data": {
      "text/plain": [
       "1×6 Matrix{Int64}:\n",
       " 1  2  -1  1  2  3"
      ]
     },
     "metadata": {},
     "output_type": "display_data"
    }
   ],
   "source": [
    "w |> x-> reduce(vcat,x) |> permutedims  # permute dimensions to save space"
   ]
  },
  {
   "cell_type": "code",
   "execution_count": 7,
   "metadata": {},
   "outputs": [
    {
     "data": {
      "text/plain": [
       "1×6 Matrix{Int64}:\n",
       " 1  2  -1  1  2  3"
      ]
     },
     "metadata": {},
     "output_type": "display_data"
    }
   ],
   "source": [
    "[[1,2]; [-1,1];[2,3]] |> permutedims"
   ]
  },
  {
   "cell_type": "code",
   "execution_count": 8,
   "metadata": {},
   "outputs": [
    {
     "data": {
      "text/plain": [
       "2×3 Matrix{Int64}:\n",
       " 1  2  3\n",
       " 4  5  6"
      ]
     },
     "metadata": {},
     "output_type": "display_data"
    }
   ],
   "source": [
    "# Matrix\n",
    "A = [1 2 3;4 5 6]"
   ]
  },
  {
   "cell_type": "code",
   "execution_count": 9,
   "metadata": {},
   "outputs": [
    {
     "data": {
      "text/plain": [
       "2×3 Matrix{Int64}:\n",
       " 1  2  3\n",
       " 4  5  6"
      ]
     },
     "metadata": {},
     "output_type": "display_data"
    }
   ],
   "source": [
    "B = [1 2 3\n",
    "    4 5 6]"
   ]
  },
  {
   "cell_type": "code",
   "execution_count": 10,
   "metadata": {},
   "outputs": [
    {
     "data": {
      "text/plain": [
       "2×3 Matrix{Int64}:\n",
       " 1  2  3\n",
       " 4  5  6"
      ]
     },
     "metadata": {},
     "output_type": "display_data"
    }
   ],
   "source": [
    "C = A"
   ]
  },
  {
   "cell_type": "code",
   "execution_count": 11,
   "metadata": {},
   "outputs": [
    {
     "data": {
      "text/plain": [
       "(0xcca371f815d56ea6, 0xf804915b6be0d020, 0xcca371f815d56ea6)"
      ]
     },
     "metadata": {},
     "output_type": "display_data"
    }
   ],
   "source": [
    "# Memory location\n",
    "objectid(A), objectid(B), objectid(C) # Observe that A and C has the same memory location"
   ]
  },
  {
   "cell_type": "code",
   "execution_count": 12,
   "metadata": {},
   "outputs": [
    {
     "data": {
      "text/plain": [
       "3-element Vector{Int64}:\n",
       " 6949054226650628096\n",
       "     123557625491568\n",
       "                  96"
      ]
     },
     "metadata": {},
     "output_type": "display_data"
    }
   ],
   "source": [
    "# Empty Array\n",
    "Array{Int}(undef,3)"
   ]
  },
  {
   "cell_type": "code",
   "execution_count": 13,
   "metadata": {},
   "outputs": [
    {
     "data": {
      "text/plain": [
       "3-element Vector{Float16}:\n",
       "   2.67e-5\n",
       " 176.5\n",
       "   2.89e-5"
      ]
     },
     "metadata": {},
     "output_type": "display_data"
    }
   ],
   "source": [
    "Vector{Float16}(undef,(3,))"
   ]
  },
  {
   "cell_type": "code",
   "execution_count": 14,
   "metadata": {},
   "outputs": [
    {
     "data": {
      "text/plain": [
       "Int64[]"
      ]
     },
     "metadata": {},
     "output_type": "display_data"
    }
   ],
   "source": [
    "Vector{Int}(undef,0)"
   ]
  },
  {
   "cell_type": "code",
   "execution_count": 15,
   "metadata": {},
   "outputs": [
    {
     "data": {
      "text/plain": [
       "2×3 Matrix{Float32}:\n",
       " 0.0  0.0  0.0\n",
       " 0.0  0.0  0.0"
      ]
     },
     "metadata": {},
     "output_type": "display_data"
    }
   ],
   "source": [
    "Array{Float32}(undef,2,3)"
   ]
  },
  {
   "cell_type": "code",
   "execution_count": 16,
   "metadata": {},
   "outputs": [
    {
     "data": {
      "text/plain": [
       "2×3 Matrix{Int64}:\n",
       " 2084581249664  2083647684368  140705361945104\n",
       "             0              0                0"
      ]
     },
     "metadata": {},
     "output_type": "display_data"
    }
   ],
   "source": [
    "Matrix{Int}(undef,(2,3))"
   ]
  },
  {
   "cell_type": "code",
   "execution_count": 17,
   "metadata": {},
   "outputs": [
    {
     "data": {
      "text/plain": [
       "2×3 Matrix{Int64}:\n",
       " 0  0  0\n",
       " 0  0  0"
      ]
     },
     "metadata": {},
     "output_type": "display_data"
    }
   ],
   "source": [
    "# Zero Array\n",
    "zeros(Int,2,3)"
   ]
  },
  {
   "cell_type": "code",
   "execution_count": 18,
   "metadata": {},
   "outputs": [
    {
     "data": {
      "text/plain": [
       "1×3 Matrix{Float64}:\n",
       " 1.0  1.0  1.0"
      ]
     },
     "metadata": {},
     "output_type": "display_data"
    }
   ],
   "source": [
    "# Unit Array\n",
    "ones(3) |> permutedims"
   ]
  },
  {
   "cell_type": "code",
   "execution_count": 19,
   "metadata": {},
   "outputs": [
    {
     "data": {
      "text/plain": [
       "2×3 Matrix{Int64}:\n",
       " 3  3  3\n",
       " 3  3  3"
      ]
     },
     "metadata": {},
     "output_type": "display_data"
    }
   ],
   "source": [
    "# Fill Array\n",
    "fill(3,(2,3))"
   ]
  },
  {
   "cell_type": "code",
   "execution_count": 20,
   "metadata": {},
   "outputs": [
    {
     "data": {
      "text/plain": [
       "1×3 Matrix{Float64}:\n",
       " 0.212125  0.18056  0.659879"
      ]
     },
     "metadata": {},
     "output_type": "display_data"
    }
   ],
   "source": [
    "# Random Array\n",
    "rand(3) |> permutedims"
   ]
  },
  {
   "cell_type": "code",
   "execution_count": 21,
   "metadata": {},
   "outputs": [
    {
     "data": {
      "text/plain": [
       "2×3 Matrix{Int64}:\n",
       "  3  0   2\n",
       " -3  1  -3"
      ]
     },
     "metadata": {},
     "output_type": "display_data"
    }
   ],
   "source": [
    "rand(-3:3,2,3)"
   ]
  },
  {
   "cell_type": "markdown",
   "metadata": {},
   "source": [
    "### `LinearAlgebra` package\n",
    "In addition to (and as part of) its support for multi-dimensional arrays, Julia provides native implementations of many common and useful linear algebra operations which can be by command with `using LinearAlgebra`. These routines mainly work for matrices, i.e., 2D arrays.\n",
    "\n",
    "#### Basic operations\n",
    "* **Trace**: `tr(A)` where `A` is a matrix\n",
    "* **Rank**: `rank(A)` where `A` is a square matrix\n",
    "* **Determinant**: `det(A)` where `A` is a square matrix\n",
    "* **Inverse**: `inv(A)` where `A` is a square matrix"
   ]
  },
  {
   "cell_type": "code",
   "execution_count": 22,
   "metadata": {},
   "outputs": [],
   "source": [
    "import LinearAlgebra as la"
   ]
  },
  {
   "cell_type": "code",
   "execution_count": 23,
   "metadata": {},
   "outputs": [
    {
     "data": {
      "text/plain": [
       "3×3 Matrix{Int64}:\n",
       "  0  -1  -6\n",
       " -9   1   8\n",
       " -1   3  -5"
      ]
     },
     "metadata": {},
     "output_type": "display_data"
    }
   ],
   "source": [
    "A = rand(-9:9,3,3)"
   ]
  },
  {
   "cell_type": "code",
   "execution_count": 24,
   "metadata": {},
   "outputs": [
    {
     "data": {
      "text/plain": [
       "(-4, 3, 209.0)"
      ]
     },
     "metadata": {},
     "output_type": "display_data"
    }
   ],
   "source": [
    "la.tr(A), la.rank(A), la.det(A)"
   ]
  },
  {
   "cell_type": "code",
   "execution_count": 25,
   "metadata": {},
   "outputs": [
    {
     "data": {
      "text/plain": [
       "3×3 Matrix{Float64}:\n",
       " -0.138756  -0.110048    -0.00956938\n",
       " -0.253589  -0.0287081    0.258373\n",
       " -0.124402   0.00478469  -0.0430622"
      ]
     },
     "metadata": {},
     "output_type": "display_data"
    }
   ],
   "source": [
    "la.inv(A)"
   ]
  },
  {
   "cell_type": "code",
   "execution_count": 26,
   "metadata": {},
   "outputs": [
    {
     "data": {
      "text/plain": [
       "LinearAlgebra.UniformScaling{Float64}\n",
       "1.0*I"
      ]
     },
     "metadata": {},
     "output_type": "display_data"
    }
   ],
   "source": [
    "la.inv(la.I)"
   ]
  },
  {
   "cell_type": "code",
   "execution_count": 27,
   "metadata": {},
   "outputs": [
    {
     "data": {
      "text/plain": [
       "3×3 Matrix{Float64}:\n",
       " -0.197531  -0.135802    0.0246914\n",
       " -0.271605  -0.0617284   0.283951\n",
       " -0.154321  -0.0123457  -0.0432099"
      ]
     },
     "metadata": {},
     "output_type": "display_data"
    }
   ],
   "source": [
    "la.inv(A+la.I)"
   ]
  },
  {
   "cell_type": "markdown",
   "metadata": {},
   "source": [
    "#### Special types of matrices\n",
    "Julia's `LinearAlgebra` package supports a number of special matrix types, which allows for more efficient operation. Typically, with an existing, square matrix `A` as argument, they produce a new matrix that satisfies the type. \n",
    "* **Symmetric** matrix: `Symmetric(A)` produces a symmetric matrix from square matrix `A`, with optional arguments `:U` (default) and `:L`\n",
    "* **Hermitian** matrix: `Hermitian(A)` produces a hermitian matrix from square matrix `A`, with optional arguments `:U` (default) and `:L`\n",
    "* **UpperTriangular** matrix: `UpperTriangular(A)` produces an upper triangular matrix from square matrix `A`\n",
    "* **UnitUpperTriangular** matrix: `UnitUpperTriangular(A)` produces an upper triangular matrix from square matrix `A`, with unit elements on the main diagonal\n",
    "* **Lower Triangular** matrix: `LowerTriangular(A)` produces a lower triangular matrix from square matrix `A`\n",
    "* **Unit Lower Triangular** matrix: `UnitLowerTriangular(A)` produces a lower triangular matrix from square matrix `A`, with unit elements on the main\n",
    "* **Upper Hessenberg** matrix: `UpperHessenberg(A)` produces an upper Hessenberg matrix from *rectangular* matrix `A`\n",
    "* **Tridiagnoal** matrix: `Tridiagonal(A)` produces tridiagonal matrix from square matrix `A`\n",
    "* **Symmetric tridiagonal** matrix: `SymTridiagonal(A)` produces symmetric tridiagonal matrix from *symmetric* matrix `A`\n",
    "* **Bidiagonal** matrix: `Bidiagonal(A)` produces bidiagonal matrix from *rectangular* matrix `A`, with **required** extra argument `:U` or `:L`\n",
    "* **Diagonal** matrix: `Diagonal(A)` produces diagonal matrix from *rectangular* matrix `A`\n",
    "* **Uniform scaling** matrix: `UniformScaling(x)` with scalar number `x` produces a diagonal matrix `x*I` where `I` is the identity matrix. The size of the resulting matrix scales to fit other matrices. A special case is `UniformScaling(1)` which has short form name `I`."
   ]
  },
  {
   "cell_type": "code",
   "execution_count": 28,
   "metadata": {},
   "outputs": [
    {
     "data": {
      "text/plain": [
       "2×3 Matrix{Int64}:\n",
       " 7  -3   2\n",
       " 4  -9  -7"
      ]
     },
     "metadata": {},
     "output_type": "display_data"
    }
   ],
   "source": [
    "B = rand(-9:9,2,3)"
   ]
  },
  {
   "cell_type": "code",
   "execution_count": 29,
   "metadata": {},
   "outputs": [
    {
     "data": {
      "text/plain": [
       "3×3 LinearAlgebra.Symmetric{Int64, Matrix{Int64}}:\n",
       "  0  -1  -6\n",
       " -1   1   8\n",
       " -6   8  -5"
      ]
     },
     "metadata": {},
     "output_type": "display_data"
    }
   ],
   "source": [
    "la.Symmetric(A)"
   ]
  },
  {
   "cell_type": "code",
   "execution_count": 30,
   "metadata": {},
   "outputs": [
    {
     "data": {
      "text/plain": [
       "3×3 LinearAlgebra.Symmetric{Int64, Matrix{Int64}}:\n",
       "  0  -9  -1\n",
       " -9   1   3\n",
       " -1   3  -5"
      ]
     },
     "metadata": {},
     "output_type": "display_data"
    }
   ],
   "source": [
    "ans = la.Symmetric(A,:L)"
   ]
  },
  {
   "cell_type": "code",
   "execution_count": 31,
   "metadata": {},
   "outputs": [
    {
     "data": {
      "text/plain": [
       "LinearAlgebra.Symmetric{Int64, Matrix{Int64}}"
      ]
     },
     "metadata": {},
     "output_type": "display_data"
    }
   ],
   "source": [
    "typeof(ans)"
   ]
  },
  {
   "cell_type": "code",
   "execution_count": 32,
   "metadata": {},
   "outputs": [
    {
     "data": {
      "text/plain": [
       "3×3 LinearAlgebra.UpperHessenberg{Int64, Matrix{Int64}}:\n",
       "  0  -1  -6\n",
       " -9   1   8\n",
       "  ⋅   3  -5"
      ]
     },
     "metadata": {},
     "output_type": "display_data"
    }
   ],
   "source": [
    "la.UpperHessenberg(A)"
   ]
  },
  {
   "cell_type": "code",
   "execution_count": 33,
   "metadata": {},
   "outputs": [
    {
     "data": {
      "text/plain": [
       "2×3 LinearAlgebra.UpperHessenberg{Int64, Matrix{Int64}}:\n",
       " 7  -3   2\n",
       " 4  -9  -7"
      ]
     },
     "metadata": {},
     "output_type": "display_data"
    }
   ],
   "source": [
    "la.UpperHessenberg(B)"
   ]
  },
  {
   "cell_type": "code",
   "execution_count": 34,
   "metadata": {},
   "outputs": [
    {
     "data": {
      "text/plain": [
       "3×3 LinearAlgebra.Diagonal{Int64, Vector{Int64}}:\n",
       " 0  ⋅   ⋅\n",
       " ⋅  1   ⋅\n",
       " ⋅  ⋅  -5"
      ]
     },
     "metadata": {},
     "output_type": "display_data"
    }
   ],
   "source": [
    "la.Diagonal(A)"
   ]
  },
  {
   "cell_type": "code",
   "execution_count": 35,
   "metadata": {},
   "outputs": [
    {
     "data": {
      "text/plain": [
       "LinearAlgebra.UniformScaling{Float64}\n",
       "0.3*I"
      ]
     },
     "metadata": {},
     "output_type": "display_data"
    }
   ],
   "source": [
    "la.UniformScaling(0.3)"
   ]
  },
  {
   "cell_type": "code",
   "execution_count": 36,
   "metadata": {},
   "outputs": [
    {
     "data": {
      "text/plain": [
       "4×4 Matrix{Int64}:\n",
       "  2   5  -4  -3\n",
       "  0  -5  -6   3\n",
       " -7  -7  -7  -8\n",
       "  1  -4  -5   7"
      ]
     },
     "metadata": {},
     "output_type": "display_data"
    }
   ],
   "source": [
    "C = rand(-9:9,4,4)"
   ]
  },
  {
   "cell_type": "code",
   "execution_count": 37,
   "metadata": {},
   "outputs": [
    {
     "data": {
      "text/plain": [
       "3×3 Matrix{Float64}:\n",
       "  0.3  -1.0  -6.0\n",
       " -9.0   1.3   8.0\n",
       " -1.0   3.0  -4.7"
      ]
     },
     "metadata": {},
     "output_type": "display_data"
    }
   ],
   "source": [
    "A + 0.3*la.I"
   ]
  },
  {
   "cell_type": "code",
   "execution_count": 38,
   "metadata": {},
   "outputs": [
    {
     "data": {
      "text/plain": [
       "4×4 Matrix{Float64}:\n",
       "  2.3   5.0  -4.0  -3.0\n",
       "  0.0  -4.7  -6.0   3.0\n",
       " -7.0  -7.0  -6.7  -8.0\n",
       "  1.0  -4.0  -5.0   7.3"
      ]
     },
     "metadata": {},
     "output_type": "display_data"
    }
   ],
   "source": [
    "C + 0.3*la.I"
   ]
  },
  {
   "cell_type": "markdown",
   "metadata": {},
   "source": [
    "#### Matrix factorizations\n",
    "The following matrix factorizations are implemented in Julia, and work for matrices with **floating point** elements:\n",
    "* **Bunch-Kaufman factorization** `bunchkaufman(A)` is only valid for symmetric/Hermitian matrices. Fields `D`, `U`, `p` [right permutation vector].\n",
    "* **Cholesky factorization** `cholesky(A)` is only valid for positive definite (symmetric) matrices. Fields `U`, `p` [right permutation vector`].\n",
    "* **LDL(T) factorization** `ldlt(A)` is only valid for symmetric, tridiagonal matrices. Fields `L`, `D`.\n",
    "* **LU factorization** `lu(A)` is valid for rectangular matrices. Fields `L`, `U`, `p` [right permutation vector], `P` [right permutation matrix]`.\n",
    "* **QR factorization** `qr(A)` is valid for rectangular matrices. Fields `Q`, `R`.\n",
    "* **QR factorization of transpose(A)** `lq(A)` is valid for rectangular matrices. Fields `L`, `Q`.\n",
    "* **Hessenberg decomposition** `hessenberg(A)` is valid for square matrices. Fields `Q`, `H`.\n",
    "* **Spectral decomposition** `eigen(A)` is valid for square matrices. Fields `values`, `vectors`. Function `eigvals(A)` provides `eigen(A).values`, while `eigvecs(A)` provides `eigen(A).vectors`. \n",
    "* **Generalized spectral decomposition** `eigen(A,B) is valid for square matrices. Fields `values`, `vectors`. Function `eigvals(A,B)` provides `eigen(A,B).values`, while `eigvecs(A,B)` provides `eigen(A,B).vectors`.\n",
    "* **Singular value decomposition** `svd(A)` is valid for rectangular matrices. Fields `U`, `S`, `V` [or `Vt`]. Function `svdvals(A)` provides `svd(A).S`. \n",
    "* **Generalized singular value decomposition** `svd(A,B)` is valid for rectangular matrices. Fields `U`, `S`, `V` [or `Vt`]. Function `svdvals(A)` provides `svd(A).S`. \n",
    "* **Schur decomposition** `schur(A)` is valid for square matrices. Fields `T`, `Z`, `values`.\n",
    "* **Generalized Schur decomposition** `schur(A,B)` is valid for square matrices. Fields `T`, `Z`, `values`.\n",
    "\n",
    "In some algorithms, the original matrix (`A`) is row-permuted prior to the factorization. To find the *inverse*  of permutation `p`, function `invperm(p)` provides this.\n",
    "\n",
    "A generic factorization, `factorize(A)` exists which attempts to find out a suitable factorization based on the specialized *type* of the matrix (`Symmetric`, `Hermitian`, etc.).\n",
    "\n",
    "More functions/factorizations, and more arguments (tolerance, etc., etc.) can be found under standard functions (https://docs.julialang.org/en/v1/stdlib/LinearAlgebra/#man-linalg)."
   ]
  },
  {
   "cell_type": "code",
   "execution_count": 39,
   "metadata": {},
   "outputs": [
    {
     "data": {
      "text/plain": [
       "3×3 Matrix{Float64}:\n",
       "  0.0  -1.0  -6.0\n",
       " -9.0   1.0   8.0\n",
       " -1.0   3.0  -5.0"
      ]
     },
     "metadata": {},
     "output_type": "display_data"
    }
   ],
   "source": [
    "A = Float64.(A)"
   ]
  },
  {
   "cell_type": "code",
   "execution_count": 40,
   "metadata": {},
   "outputs": [
    {
     "data": {
      "text/plain": [
       "LinearAlgebra.LU{Float64, Matrix{Float64}, Vector{Int64}}\n",
       "L factor:\n",
       "3×3 Matrix{Float64}:\n",
       "  1.0        0.0       0.0\n",
       "  0.111111   1.0       0.0\n",
       " -0.0       -0.346154  1.0\n",
       "U factor:\n",
       "3×3 Matrix{Float64}:\n",
       " -9.0  1.0       8.0\n",
       "  0.0  2.88889  -5.88889\n",
       "  0.0  0.0      -8.03846"
      ]
     },
     "metadata": {},
     "output_type": "display_data"
    }
   ],
   "source": [
    "B = la.lu(A)"
   ]
  },
  {
   "cell_type": "code",
   "execution_count": 41,
   "metadata": {},
   "outputs": [
    {
     "data": {
      "text/plain": [
       "([1.0 0.0 0.0; 0.1111111111111111 1.0 0.0; -0.0 -0.34615384615384615 1.0], [-9.0 1.0 8.0; 0.0 2.888888888888889 -5.888888888888889; 0.0 0.0 -8.038461538461538], [2, 3, 1])"
      ]
     },
     "metadata": {},
     "output_type": "display_data"
    }
   ],
   "source": [
    "B.L, B.U, B.p"
   ]
  },
  {
   "cell_type": "code",
   "execution_count": 42,
   "metadata": {},
   "outputs": [
    {
     "data": {
      "text/plain": [
       "3×3 Matrix{Float64}:\n",
       " -9.0   1.0   8.0\n",
       " -1.0   3.0  -5.0\n",
       "  0.0  -1.0  -6.0"
      ]
     },
     "metadata": {},
     "output_type": "display_data"
    }
   ],
   "source": [
    "B.L*B.U"
   ]
  },
  {
   "cell_type": "code",
   "execution_count": 43,
   "metadata": {},
   "outputs": [
    {
     "data": {
      "text/plain": [
       "3×3 Matrix{Float64}:\n",
       " -9.0   1.0   8.0\n",
       " -1.0   3.0  -5.0\n",
       "  0.0  -1.0  -6.0"
      ]
     },
     "metadata": {},
     "output_type": "display_data"
    }
   ],
   "source": [
    "A[B.p,:]"
   ]
  },
  {
   "cell_type": "code",
   "execution_count": 44,
   "metadata": {},
   "outputs": [
    {
     "data": {
      "text/plain": [
       "3×3 Matrix{Float64}:\n",
       " -9.0   1.0   8.0\n",
       " -1.0   3.0  -5.0\n",
       "  0.0  -1.0  -6.0"
      ]
     },
     "metadata": {},
     "output_type": "display_data"
    }
   ],
   "source": [
    "B.P*A"
   ]
  },
  {
   "cell_type": "code",
   "execution_count": 45,
   "metadata": {},
   "outputs": [
    {
     "data": {
      "text/plain": [
       "3×3 Matrix{Float64}:\n",
       "  0.0  -1.0  -6.0\n",
       " -9.0   1.0   8.0\n",
       " -1.0   3.0  -5.0"
      ]
     },
     "metadata": {},
     "output_type": "display_data"
    }
   ],
   "source": [
    "A"
   ]
  },
  {
   "cell_type": "code",
   "execution_count": 46,
   "metadata": {},
   "outputs": [
    {
     "data": {
      "text/plain": [
       "3×3 Matrix{Float64}:\n",
       "  0.0  -1.0  -6.0\n",
       " -9.0   1.0   8.0\n",
       " -1.0   3.0  -5.0"
      ]
     },
     "metadata": {},
     "output_type": "display_data"
    }
   ],
   "source": [
    "(B.L*B.U)[la.invperm(B.p),:]"
   ]
  },
  {
   "cell_type": "code",
   "execution_count": 47,
   "metadata": {},
   "outputs": [
    {
     "data": {
      "text/plain": [
       "LinearAlgebra.LU{Float64, Matrix{Float64}, Vector{Int64}}\n",
       "L factor:\n",
       "3×3 Matrix{Float64}:\n",
       "  1.0        0.0       0.0\n",
       "  0.111111   1.0       0.0\n",
       " -0.0       -0.346154  1.0\n",
       "U factor:\n",
       "3×3 Matrix{Float64}:\n",
       " -9.0  1.0       8.0\n",
       "  0.0  2.88889  -5.88889\n",
       "  0.0  0.0      -8.03846"
      ]
     },
     "metadata": {},
     "output_type": "display_data"
    }
   ],
   "source": [
    "L,U,p = la.lu(A)"
   ]
  },
  {
   "cell_type": "code",
   "execution_count": 48,
   "metadata": {},
   "outputs": [
    {
     "data": {
      "text/plain": [
       "3-element Vector{ComplexF64}:\n",
       " -5.429252555835748 - 0.9981630620599852im\n",
       " -5.429252555835748 + 0.9981630620599852im\n",
       "    6.8585051116715 + 0.0im"
      ]
     },
     "metadata": {},
     "output_type": "display_data"
    }
   ],
   "source": [
    "B = la.eigen(A)\n",
    "B.values"
   ]
  },
  {
   "cell_type": "code",
   "execution_count": 49,
   "metadata": {},
   "outputs": [
    {
     "data": {
      "text/plain": [
       "3-element Vector{ComplexF64}:\n",
       " -5.429252555835748 - 0.9981630620599852im\n",
       " -5.429252555835748 + 0.9981630620599852im\n",
       "    6.8585051116715 + 0.0im"
      ]
     },
     "metadata": {},
     "output_type": "display_data"
    }
   ],
   "source": [
    "la.eigvals(A)"
   ]
  },
  {
   "cell_type": "code",
   "execution_count": 50,
   "metadata": {},
   "outputs": [
    {
     "data": {
      "text/plain": [
       "LinearAlgebra.GeneralizedEigen{ComplexF64, ComplexF64, Matrix{ComplexF64}, Vector{ComplexF64}}\n",
       "values:\n",
       "3-element Vector{ComplexF64}:\n",
       " -0.40914610086086783 + 0.0im\n",
       "   0.9940467346409598 - 2.3944073415556093im\n",
       "   0.9940467346409599 + 2.3944073415556097im\n",
       "vectors:\n",
       "3×3 Matrix{ComplexF64}:\n",
       "      -1.0+0.0im    -0.676814+0.232704im    -0.676814-0.232704im\n",
       " -0.763572+0.0im  -0.00879368-0.560208im  -0.00879368+0.560208im\n",
       " -0.607495+0.0im     0.573848+0.426152im     0.573848-0.426152im"
      ]
     },
     "metadata": {},
     "output_type": "display_data"
    }
   ],
   "source": [
    "B = Float64.(rand(0:9,3,3))\n",
    "#\n",
    "la.eigen(A,B)"
   ]
  },
  {
   "cell_type": "code",
   "execution_count": 51,
   "metadata": {},
   "outputs": [
    {
     "data": {
      "text/plain": [
       "3-element Vector{ComplexF64}:\n",
       " -0.40914610086086783 + 0.0im\n",
       "   0.9940467346409598 - 2.3944073415556093im\n",
       "   0.9940467346409599 + 2.3944073415556097im"
      ]
     },
     "metadata": {},
     "output_type": "display_data"
    }
   ],
   "source": [
    "la.eigvals(A,B)"
   ]
  },
  {
   "cell_type": "markdown",
   "metadata": {},
   "source": [
    "#### Standard functions\n",
    "Standard linear algebra operators are supported: \n",
    "* **Addition and subtraction** , e.g., `A+B`, `A-B` operate on an element by element basis\n",
    "* **Multiplication**, e.g., `A*B` produces the standard matrix product\n",
    "* **Integer power**, e.g., `A^n` produces `A*...*A` (`n` times) for positive `n`, and `inv(A*...A)` (`-n` times) for negative `n`.\n",
    "* **Left inverse** - `A\\B` of `\\(A,B)` attempts to solve `A*x = B`. When `A` is square and intertible, the result satisfies `A*x=B`. Otherwise, a minimum-norm least squares solution is found.\n",
    "* **Right inverse** - `A/B` or `/(A,B)` attempts to solve `A = x*B`, with similar provisions as for the left inverse. \n",
    "* **Scalar product** - `dot(x,y)` computes `x'*y`, the dot vector product. More generally, `dot(x,A,y)` computes `dot(x,A*y)`.\n",
    "* **Cross product** - `cross(x,y)` computes the cross product of vectors `x` and `y`.\n",
    "* **Diagonal of matrix** - `diag(A,k::Integer=0)` provides the `k`th diagonal of matrix `A`.\n",
    "* **Vectors to diagonals** - `diagm(k::Integer=0 => v)` puts vector `v` on the `k`th diagonal of a matrix. The function generalizes to a comma-separated list of constructs.\n",
    "* **Norm** - `norm(A,p::Real=2)` provides the `p`th norm of array `A`. `opnorm(A,p::Real=2)` computes the *matrix* norm of `A` *induced* by the `p`th vector norm.\n",
    "* **Normalize** - `normalize(A,p::Real=2)` normalizes array `A` so that it has `p`th norm unity.\n",
    "* **Condition number** - `cond(A,p::Real=2)` finds the condition number of `A` wrt. the `p`th norm.\n",
    "* **Pseudo inverse** - `pinv(A)` computes the Moore-Penrose pseudoinverse of a square matrix `A`. Additional arguments are possible.\n",
    "* **Nullspace basis** - `nullspace(A)` computes orthonormal basis vectors for the nullspace of matrix `A`.\n",
    "* **Kronecker product** - `kron(A,B)` computes the Kronecker product of vectors/matrices `A` and `B`.\n",
    "* **Matrix exponent** - `exp(A)` computes the matrix exponent of square matrix `A`. Note: this is different from `exp.(A)`.\n",
    "* **Matrix logarithm** - `log(A)` computes the principal matrix lograrithm `X` of `A` such that `exp(X) = A`.\n",
    "* **Matrix square root** - `sqrt(A)` computes the principal matrix square root `X` of `A` such that `X*X = A`.\n",
    "* **Matrix trigonometric functions** - most trigonometric functions for scalars (including hyperbolic and inverse functions) are available for square matrices.\n",
    "* **Lyapunov equation** - `lyap(A,C)` computes matrix `X` satisfying the linear equation `AX + XA' + C = 0`.\n",
    "* **Sylvester equation** - `sylvester(A,B,C)` computes matrix `X` satisfying the linear equations `AX + XB + C = 0`. \n",
    "* **Matrix transpose** - `transpose(A)`, `A'` computes the matrix transpose\n",
    "* **Matrix adjoint** - `adjoint(A)`, `A'` computes the matrix adjoint (tarnspose + complex conjugate). For real matrices, this is the same as the transpose.\n",
    "\n",
    "A number of matrix tests exist:\n",
    "\n",
    "* **Matrix type tests** - `issymmetric(A)`, `isposdef(A)`, `istril(A)` (lower triangular), `istriu(A)`, `isdiag(A)`, `ishermitian(A)` return a `Bool` value, while `checksquare(A)` returns the common dimension for square matrices, and crashes for rectangular matrices.\n",
    "\n",
    "* **Computer speed** - `peakflops(n::Integer=2000; parallel::Bool=false)` finds the maximum double precision floating point operations per second on the computer configuration, when multiplying an `n x n` matrix with itself. \n",
    "\n",
    "A number of other functions, mutating versions of functions, and low-level functions are available for specialized, efficient computation."
   ]
  },
  {
   "cell_type": "code",
   "execution_count": 52,
   "metadata": {},
   "outputs": [
    {
     "data": {
      "text/plain": [
       "4"
      ]
     },
     "metadata": {},
     "output_type": "display_data"
    }
   ],
   "source": [
    "x = [1,2,3]\n",
    "y = [-2,3,0]\n",
    "#\n",
    "la.dot(x,y)"
   ]
  },
  {
   "cell_type": "code",
   "execution_count": 53,
   "metadata": {},
   "outputs": [
    {
     "data": {
      "text/plain": [
       "3-element Vector{Int64}:\n",
       " -9\n",
       " -6\n",
       "  7"
      ]
     },
     "metadata": {},
     "output_type": "display_data"
    }
   ],
   "source": [
    "la.cross(x,y)"
   ]
  },
  {
   "cell_type": "code",
   "execution_count": 54,
   "metadata": {},
   "outputs": [
    {
     "data": {
      "text/plain": [
       "3×3 Matrix{Int64}:\n",
       "  9   7  -1\n",
       " -6  -3   0\n",
       " -2   4  -1"
      ]
     },
     "metadata": {},
     "output_type": "display_data"
    }
   ],
   "source": [
    "A = rand(-9:9,3,3)"
   ]
  },
  {
   "cell_type": "code",
   "execution_count": 55,
   "metadata": {},
   "outputs": [
    {
     "data": {
      "text/plain": [
       "3-element Vector{Int64}:\n",
       "  9\n",
       " -3\n",
       " -1"
      ]
     },
     "metadata": {},
     "output_type": "display_data"
    }
   ],
   "source": [
    "la.diag(A)"
   ]
  },
  {
   "cell_type": "code",
   "execution_count": 56,
   "metadata": {},
   "outputs": [
    {
     "data": {
      "text/plain": [
       "2-element Vector{Int64}:\n",
       " -6\n",
       "  4"
      ]
     },
     "metadata": {},
     "output_type": "display_data"
    }
   ],
   "source": [
    "la.diag(A,-1)"
   ]
  },
  {
   "cell_type": "code",
   "execution_count": 57,
   "metadata": {},
   "outputs": [
    {
     "data": {
      "text/plain": [
       "3×3 Matrix{Int64}:\n",
       "  0  0  0\n",
       " -2  0  0\n",
       "  0  9  0"
      ]
     },
     "metadata": {},
     "output_type": "display_data"
    }
   ],
   "source": [
    "la.diagm(-1=>[-2,9])"
   ]
  },
  {
   "cell_type": "code",
   "execution_count": 58,
   "metadata": {},
   "outputs": [
    {
     "data": {
      "text/plain": [
       "3×3 Matrix{Int64}:\n",
       "  0  8  0\n",
       " -2  0  3\n",
       "  0  9  0"
      ]
     },
     "metadata": {},
     "output_type": "display_data"
    }
   ],
   "source": [
    "la.diagm(-1=>[-2,9],1=>[8,3])"
   ]
  },
  {
   "cell_type": "code",
   "execution_count": 59,
   "metadata": {},
   "outputs": [
    {
     "data": {
      "text/plain": [
       "14.035668847618199"
      ]
     },
     "metadata": {},
     "output_type": "display_data"
    }
   ],
   "source": [
    "la.norm(A,2)"
   ]
  },
  {
   "cell_type": "code",
   "execution_count": 60,
   "metadata": {},
   "outputs": [
    {
     "data": {
      "text/plain": [
       "9.0"
      ]
     },
     "metadata": {},
     "output_type": "display_data"
    }
   ],
   "source": [
    "la.norm(A,Inf)"
   ]
  },
  {
   "cell_type": "code",
   "execution_count": 61,
   "metadata": {},
   "outputs": [
    {
     "data": {
      "text/plain": [
       "0.0"
      ]
     },
     "metadata": {},
     "output_type": "display_data"
    }
   ],
   "source": [
    "la.norm(A,-Inf)"
   ]
  },
  {
   "cell_type": "code",
   "execution_count": 62,
   "metadata": {},
   "outputs": [
    {
     "data": {
      "text/plain": [
       "0.8744381977071682"
      ]
     },
     "metadata": {},
     "output_type": "display_data"
    }
   ],
   "source": [
    "la.norm(rand(5),Inf)"
   ]
  },
  {
   "cell_type": "code",
   "execution_count": 63,
   "metadata": {},
   "outputs": [
    {
     "data": {
      "text/plain": [
       "14.035668847618199"
      ]
     },
     "metadata": {},
     "output_type": "display_data"
    }
   ],
   "source": [
    "la.norm(A,2)"
   ]
  },
  {
   "cell_type": "code",
   "execution_count": 64,
   "metadata": {},
   "outputs": [
    {
     "data": {
      "text/plain": [
       "13.230308768267026"
      ]
     },
     "metadata": {},
     "output_type": "display_data"
    }
   ],
   "source": [
    "la.opnorm(A,2)"
   ]
  },
  {
   "cell_type": "code",
   "execution_count": 65,
   "metadata": {},
   "outputs": [
    {
     "data": {
      "text/plain": [
       "3-element Vector{Float64}:\n",
       " 13.230308768267026\n",
       "  4.679768785792185\n",
       "  0.24226846233416402"
      ]
     },
     "metadata": {},
     "output_type": "display_data"
    }
   ],
   "source": [
    "la.svdvals(A)   # opnorm(A,2)  is the same as the largest singular value of A"
   ]
  },
  {
   "cell_type": "code",
   "execution_count": 66,
   "metadata": {},
   "outputs": [
    {
     "data": {
      "text/plain": [
       "3×3 Matrix{Float64}:\n",
       "  0.641223   0.498729  -0.071247\n",
       " -0.427482  -0.213741   0.0\n",
       " -0.142494   0.284988  -0.071247"
      ]
     },
     "metadata": {},
     "output_type": "display_data"
    }
   ],
   "source": [
    "ans = la.normalize(A,2)"
   ]
  },
  {
   "cell_type": "code",
   "execution_count": 67,
   "metadata": {},
   "outputs": [
    {
     "data": {
      "text/plain": [
       "1.0"
      ]
     },
     "metadata": {},
     "output_type": "display_data"
    }
   ],
   "source": [
    "la.norm(ans,2)"
   ]
  },
  {
   "cell_type": "code",
   "execution_count": 68,
   "metadata": {},
   "outputs": [
    {
     "data": {
      "text/plain": [
       "54.61011574019193"
      ]
     },
     "metadata": {},
     "output_type": "display_data"
    }
   ],
   "source": [
    "la.cond(A,2)"
   ]
  },
  {
   "cell_type": "code",
   "execution_count": 69,
   "metadata": {},
   "outputs": [
    {
     "data": {
      "text/plain": [
       "54.61011574019193"
      ]
     },
     "metadata": {},
     "output_type": "display_data"
    }
   ],
   "source": [
    "la.svd(A).S[1]/la.svd(A).S[end]    # With 2-norm, the condition number can \n",
    "                                   # be found from the SVD"
   ]
  },
  {
   "cell_type": "code",
   "execution_count": 70,
   "metadata": {},
   "outputs": [
    {
     "data": {
      "text/plain": [
       "2×4 Matrix{Int64}:\n",
       "  9  -2  -8  4\n",
       " -6  -7   3  7"
      ]
     },
     "metadata": {},
     "output_type": "display_data"
    }
   ],
   "source": [
    "D = rand(-9:9,2,4)"
   ]
  },
  {
   "cell_type": "code",
   "execution_count": 71,
   "metadata": {},
   "outputs": [
    {
     "data": {
      "text/plain": [
       "4×2 Matrix{Float64}:\n",
       "  0.617011   -0.0885124\n",
       " -0.0757253   0.748891\n",
       "  0.773821    0.0409397\n",
       "  0.121504    0.655478"
      ]
     },
     "metadata": {},
     "output_type": "display_data"
    }
   ],
   "source": [
    "la.nullspace(D)"
   ]
  },
  {
   "cell_type": "code",
   "execution_count": 72,
   "metadata": {},
   "outputs": [
    {
     "data": {
      "text/plain": [
       "3×3 Matrix{Float64}:\n",
       "  139.203   120.696   -26.4189\n",
       " -115.689   -99.3123   21.4121\n",
       " -138.486  -115.583    24.899"
      ]
     },
     "metadata": {},
     "output_type": "display_data"
    }
   ],
   "source": [
    "la.exp(A)"
   ]
  },
  {
   "cell_type": "code",
   "execution_count": 73,
   "metadata": {},
   "outputs": [
    {
     "data": {
      "text/plain": [
       "3×3 Matrix{Float64}:\n",
       " 8103.08        1096.63       0.367879\n",
       "    0.00247875     0.0497871  1.0\n",
       "    0.135335      54.5982     0.367879"
      ]
     },
     "metadata": {},
     "output_type": "display_data"
    }
   ],
   "source": [
    "exp.(A)"
   ]
  },
  {
   "cell_type": "code",
   "execution_count": 74,
   "metadata": {},
   "outputs": [
    {
     "data": {
      "text/plain": [
       "3×3 Matrix{Float64}:\n",
       " -2.27024  -3.77918   1.69826\n",
       "  4.7838    8.19832  -2.70288\n",
       " 14.208    21.1367   -4.20779"
      ]
     },
     "metadata": {},
     "output_type": "display_data"
    }
   ],
   "source": [
    "la.sin(A)"
   ]
  },
  {
   "cell_type": "code",
   "execution_count": 75,
   "metadata": {},
   "outputs": [
    {
     "data": {
      "text/plain": [
       "3×3 Matrix{Float64}:\n",
       "  0.412118   0.656987  -0.841471\n",
       "  0.279415  -0.14112    0.0\n",
       " -0.909297  -0.756802  -0.841471"
      ]
     },
     "metadata": {},
     "output_type": "display_data"
    }
   ],
   "source": [
    "sin.(A)"
   ]
  },
  {
   "cell_type": "code",
   "execution_count": 76,
   "metadata": {},
   "outputs": [
    {
     "data": {
      "text/plain": [
       "3"
      ]
     },
     "metadata": {},
     "output_type": "display_data"
    }
   ],
   "source": [
    "la.checksquare(A)"
   ]
  },
  {
   "cell_type": "code",
   "execution_count": 77,
   "metadata": {},
   "outputs": [
    {
     "data": {
      "text/plain": [
       "3.073306032131414e11"
      ]
     },
     "metadata": {},
     "output_type": "display_data"
    }
   ],
   "source": [
    "la.peakflops()"
   ]
  },
  {
   "cell_type": "markdown",
   "metadata": {},
   "source": [
    "### `SparseArrays` package\n",
    "A sparse array is an array where only the non-zero elements are stored. For arrays with a large fraction of zero elements, storing the array as a *sparse array*  gives huge reduction in memory requirement. Some of the array operation may, however, be somewhat slower than for dense matrices. Still, the main idea behind sparse arrays is that the reduced memory requirement allows to handle really large arrays that can not be handled otherwise. \n",
    "\n",
    "#### Basic contructors\n",
    "* **Convert to sparse array** - `sparse(A)` converts array `A` from a dense array to a sparse array. Command `Array(A)` converts a sparse array `A` to a dense array.\n",
    "* **Create a sparse matrix/vector** - `sparse(I,J,V)` with `I`, `J`, and `V` vectors of the same size, creates a sparse matrix `A` where `A[I[k],J[k]] = V[k]`. `sparsevec(I,V)` with `I`, `V` vectors of the same length, creates a sparse vector `A` where `A[I[k]] = V[k]`.\n",
    "* **Find input arguments to sparse matrix** - `findnz(A)` find `I,J,V` such that `sparse(I,J,V) = A`, or `I,A` such that `sparsevec(I,V) = A`.\n",
    "* **Find non-zero coordinates** - `findall(!iszero,A)` finds the Cartesian coordinates of `A` which are non-zero.\n",
    "* **Find non-zero values** - `nonzeros(A)` return a vector of the structural nonzero values in sparse array `A`, including the zero values that have been explicitly entered.\n",
    "* **Drop explicit zero values** - `dropzeros(A)` removes zeros in sparse array `A` which have been entered explicitly.\n",
    "* **Is the array sparse?** - `issparse(A)` returns a `Bool` on whether `A` is sparse.\n",
    "\n",
    "#### Sparse vs. dense constructors\n",
    "Sparse constructors use characters `sp` in front of some corresponding dense constructors.\n",
    "\n",
    "* **Zero matrix** - `spzeros(m,n)` corresponds to `zeros(m,n)`, where the sparse version is an empty matrix.\n",
    "* **Sparse matrix with vectors on diagonals** - `spdiagm(k => v)` creates a sparse matrix with vector `v` on the `k`th diagonal, corresponding to `diagm(k => v)`. Just like `diagm()`, `spdiagm()` allows a sequence of constructs `k => v` as arguments. \n",
    "* **Block-diagonal sparse matrices** - `blockdiag(A1,...,An)` where `A1`,..., `An` are sparse matrices, produces a block-diagonal sparse matrix.\n",
    "* **Sparse uniform random matrix** - `sprand(m,n,d)` corresponds to `rand(m,n)`, where `d` specifies the *density*  of non-zero numbers (`[0,1]`).\n",
    "* **Sparse normally distributed random matrix** - `sprandn(m,n,d)` corresponds to `randn(m,n)`, where `d` specifies the *density*  of non-zero numbers (`[0,1]`).\n",
    "\n",
    "#### Other sparse operations\n",
    "* **Permutation** - `permute(A,p,q)` with the lengths of `p`, `q` matching the number of rows, columns of matrix `A`, respectively, returns the bilaterally permuted matrix `A[p,q]`. \n",
    "\n"
   ]
  },
  {
   "cell_type": "code",
   "execution_count": 78,
   "metadata": {},
   "outputs": [],
   "source": [
    "import SparseArrays as spa\n",
    "import Plots as plt"
   ]
  },
  {
   "cell_type": "code",
   "execution_count": 79,
   "metadata": {},
   "outputs": [
    {
     "data": {
      "text/plain": [
       "5×5 Matrix{Float64}:\n",
       " 1.0  0.0  0.0  0.0  0.0\n",
       " 0.0  1.0  0.0  0.0  0.0\n",
       " 0.0  0.0  1.0  0.0  0.0\n",
       " 0.0  0.0  0.0  1.0  0.0\n",
       " 0.0  0.0  0.0  0.0  1.0"
      ]
     },
     "metadata": {},
     "output_type": "display_data"
    }
   ],
   "source": [
    "A = la.diagm(0=> ones(5))"
   ]
  },
  {
   "cell_type": "code",
   "execution_count": 80,
   "metadata": {},
   "outputs": [
    {
     "data": {
      "text/plain": [
       "5×5 SparseArrays.SparseMatrixCSC{Float64, Int64} with 5 stored entries:\n",
       " 1.0   ⋅    ⋅    ⋅    ⋅ \n",
       "  ⋅   1.0   ⋅    ⋅    ⋅ \n",
       "  ⋅    ⋅   1.0   ⋅    ⋅ \n",
       "  ⋅    ⋅    ⋅   1.0   ⋅ \n",
       "  ⋅    ⋅    ⋅    ⋅   1.0"
      ]
     },
     "metadata": {},
     "output_type": "display_data"
    }
   ],
   "source": [
    "As = spa.sparse(A)"
   ]
  },
  {
   "cell_type": "code",
   "execution_count": 81,
   "metadata": {},
   "outputs": [
    {
     "data": {
      "text/plain": [
       "(200, 40)"
      ]
     },
     "metadata": {},
     "output_type": "display_data"
    }
   ],
   "source": [
    "sizeof(A), sizeof(As)"
   ]
  },
  {
   "cell_type": "code",
   "execution_count": 82,
   "metadata": {},
   "outputs": [
    {
     "data": {
      "text/plain": [
       "3×9 SparseArrays.SparseMatrixCSC{Int64, Int64} with 3 stored entries:\n",
       " ⋅  ⋅  ⋅  3  ⋅  ⋅   ⋅  ⋅  ⋅\n",
       " ⋅  ⋅  ⋅  ⋅  ⋅  ⋅  12  ⋅  ⋅\n",
       " ⋅  ⋅  ⋅  ⋅  ⋅  ⋅   ⋅  ⋅  1"
      ]
     },
     "metadata": {},
     "output_type": "display_data"
    }
   ],
   "source": [
    "Bs = spa.sparse([1,2,3],[4,7,9],[3,12,1])"
   ]
  },
  {
   "cell_type": "code",
   "execution_count": 83,
   "metadata": {},
   "outputs": [
    {
     "data": {
      "text/plain": [
       "([1, 2, 3, 4, 5], [1, 2, 3, 4, 5], [1.0, 1.0, 1.0, 1.0, 1.0])"
      ]
     },
     "metadata": {},
     "output_type": "display_data"
    }
   ],
   "source": [
    "I,J,V = spa.findnz(As)"
   ]
  },
  {
   "cell_type": "code",
   "execution_count": 84,
   "metadata": {},
   "outputs": [
    {
     "data": {
      "text/plain": [
       "5-element Vector{CartesianIndex{2}}:\n",
       " CartesianIndex(1, 1)\n",
       " CartesianIndex(2, 2)\n",
       " CartesianIndex(3, 3)\n",
       " CartesianIndex(4, 4)\n",
       " CartesianIndex(5, 5)"
      ]
     },
     "metadata": {},
     "output_type": "display_data"
    }
   ],
   "source": [
    "spa.findall(!iszero,As)"
   ]
  },
  {
   "cell_type": "code",
   "execution_count": 85,
   "metadata": {},
   "outputs": [
    {
     "data": {
      "text/plain": [
       "5-element Vector{Tuple{Int64, Int64}}:\n",
       " (1, 1)\n",
       " (2, 2)\n",
       " (3, 3)\n",
       " (4, 4)\n",
       " (5, 5)"
      ]
     },
     "metadata": {},
     "output_type": "display_data"
    }
   ],
   "source": [
    "zip(I,J) |> collect"
   ]
  },
  {
   "cell_type": "code",
   "execution_count": 86,
   "metadata": {},
   "outputs": [
    {
     "data": {
      "text/plain": [
       "3-element Vector{Int64}:\n",
       "  3\n",
       " 12\n",
       "  1"
      ]
     },
     "metadata": {},
     "output_type": "display_data"
    }
   ],
   "source": [
    "spa.nonzeros(Bs)"
   ]
  },
  {
   "cell_type": "code",
   "execution_count": 87,
   "metadata": {},
   "outputs": [
    {
     "data": {
      "image/png": "[encoded data removed]",
      "image/svg+xml": [
       "<?xml version=\"1.0\" encoding=\"utf-8\"?>\n",
       "<svg xmlns=\"http://www.w3.org/2000/svg\" xmlns:xlink=\"http://www.w3.org/1999/xlink\" width=\"600\" height=\"400\" viewBox=\"0 0 2400 1600\">\n",
       "<defs>\n",
       "  <clipPath id=\"clip110\">\n",
       "    <rect x=\"0\" y=\"0\" width=\"2400\" height=\"1600\"/>\n",
       "  </clipPath>\n",
       "</defs>\n",
       "<path clip-path=\"url(#clip110)\" d=\"M0 1600 L2400 1600 L2400 0 L0 0  Z\" fill=\"#ffffff\" fill-rule=\"evenodd\" fill-opacity=\"1\"/>\n",
       "<defs>\n",
       "  <clipPath id=\"clip111\">\n",
       "    <rect x=\"480\" y=\"0\" width=\"1681\" height=\"1600\"/>\n",
       "  </clipPath>\n",
       "</defs>\n",
       "<path clip-path=\"url(#clip110)\" d=\"M512.865 1486.45 L1952.07 1486.45 L1952.07 47.2441 L512.865 47.2441  Z\" fill=\"#ffffff\" fill-rule=\"evenodd\" fill-opacity=\"1\"/>\n",
       "<defs>\n",
       "  <clipPath id=\"clip112\">\n",
       "    <rect x=\"512\" y=\"47\" width=\"1440\" height=\"1440\"/>\n",
       "  </clipPath>\n",
       "</defs>\n",
       "<polyline clip-path=\"url(#clip110)\" style=\"stroke:#000000; stroke-linecap:round; stroke-linejoin:round; stroke-width:4; stroke-opacity:1; fill:none\" points=\"512.865,1486.45 1952.07,1486.45 \"/>\n",
       "<polyline clip-path=\"url(#clip110)\" style=\"stroke:#000000; stroke-linecap:round; stroke-linejoin:round; stroke-width:4; stroke-opacity:1; fill:none\" points=\"553.597,1486.45 553.597,1467.55 \"/>\n",
       "<polyline clip-path=\"url(#clip110)\" style=\"stroke:#000000; stroke-linecap:round; stroke-linejoin:round; stroke-width:4; stroke-opacity:1; fill:none\" points=\"893.032,1486.45 893.032,1467.55 \"/>\n",
       "<polyline clip-path=\"url(#clip110)\" style=\"stroke:#000000; stroke-linecap:round; stroke-linejoin:round; stroke-width:4; stroke-opacity:1; fill:none\" points=\"1232.47,1486.45 1232.47,1467.55 \"/>\n",
       "<polyline clip-path=\"url(#clip110)\" style=\"stroke:#000000; stroke-linecap:round; stroke-linejoin:round; stroke-width:4; stroke-opacity:1; fill:none\" points=\"1571.9,1486.45 1571.9,1467.55 \"/>\n",
       "<polyline clip-path=\"url(#clip110)\" style=\"stroke:#000000; stroke-linecap:round; stroke-linejoin:round; stroke-width:4; stroke-opacity:1; fill:none\" points=\"1911.34,1486.45 1911.34,1467.55 \"/>\n",
       "<path clip-path=\"url(#clip110)\" d=\"M543.979 1544.91 L551.618 1544.91 L551.618 1518.55 L543.308 1520.21 L543.308 1515.95 L551.571 1514.29 L556.247 1514.29 L556.247 1544.91 L563.886 1544.91 L563.886 1548.85 L543.979 1548.85 L543.979 1544.91 Z\" fill=\"#000000\" fill-rule=\"nonzero\" fill-opacity=\"1\" /><path clip-path=\"url(#clip110)\" d=\"M887.684 1544.91 L904.004 1544.91 L904.004 1548.85 L882.06 1548.85 L882.06 1544.91 Q884.722 1542.16 889.305 1537.53 Q893.911 1532.88 895.092 1531.53 Q897.337 1529.01 898.217 1527.27 Q899.12 1525.51 899.12 1523.82 Q899.12 1521.07 897.175 1519.33 Q895.254 1517.6 892.152 1517.6 Q889.953 1517.6 887.499 1518.36 Q885.069 1519.13 882.291 1520.68 L882.291 1515.95 Q885.115 1514.82 887.569 1514.24 Q890.022 1513.66 892.059 1513.66 Q897.43 1513.66 900.624 1516.35 Q903.819 1519.03 903.819 1523.52 Q903.819 1525.65 903.008 1527.57 Q902.221 1529.47 900.115 1532.07 Q899.536 1532.74 896.434 1535.95 Q893.333 1539.15 887.684 1544.91 Z\" fill=\"#000000\" fill-rule=\"nonzero\" fill-opacity=\"1\" /><path clip-path=\"url(#clip110)\" d=\"M1236.71 1530.21 Q1240.07 1530.93 1241.95 1533.2 Q1243.84 1535.47 1243.84 1538.8 Q1243.84 1543.92 1240.33 1546.72 Q1236.81 1549.52 1230.33 1549.52 Q1228.15 1549.52 1225.83 1549.08 Q1223.54 1548.66 1221.09 1547.81 L1221.09 1543.29 Q1223.03 1544.43 1225.35 1545.01 Q1227.66 1545.58 1230.19 1545.58 Q1234.58 1545.58 1236.88 1543.85 Q1239.19 1542.11 1239.19 1538.8 Q1239.19 1535.75 1237.04 1534.03 Q1234.91 1532.3 1231.09 1532.3 L1227.06 1532.3 L1227.06 1528.45 L1231.27 1528.45 Q1234.72 1528.45 1236.55 1527.09 Q1238.38 1525.7 1238.38 1523.11 Q1238.38 1520.45 1236.48 1519.03 Q1234.61 1517.6 1231.09 1517.6 Q1229.17 1517.6 1226.97 1518.01 Q1224.77 1518.43 1222.13 1519.31 L1222.13 1515.14 Q1224.79 1514.4 1227.11 1514.03 Q1229.45 1513.66 1231.51 1513.66 Q1236.83 1513.66 1239.93 1516.09 Q1243.03 1518.5 1243.03 1522.62 Q1243.03 1525.49 1241.39 1527.48 Q1239.75 1529.45 1236.71 1530.21 Z\" fill=\"#000000\" fill-rule=\"nonzero\" fill-opacity=\"1\" /><path clip-path=\"url(#clip110)\" d=\"M1574.91 1518.36 L1563.11 1536.81 L1574.91 1536.81 L1574.91 1518.36 M1573.68 1514.29 L1579.56 1514.29 L1579.56 1536.81 L1584.49 1536.81 L1584.49 1540.7 L1579.56 1540.7 L1579.56 1548.85 L1574.91 1548.85 L1574.91 1540.7 L1559.31 1540.7 L1559.31 1536.19 L1573.68 1514.29 Z\" fill=\"#000000\" fill-rule=\"nonzero\" fill-opacity=\"1\" /><path clip-path=\"url(#clip110)\" d=\"M1901.61 1514.29 L1919.97 1514.29 L1919.97 1518.22 L1905.9 1518.22 L1905.9 1526.7 Q1906.91 1526.35 1907.93 1526.19 Q1908.95 1526 1909.97 1526 Q1915.76 1526 1919.14 1529.17 Q1922.52 1532.34 1922.52 1537.76 Q1922.52 1543.34 1919.04 1546.44 Q1915.57 1549.52 1909.25 1549.52 Q1907.08 1549.52 1904.81 1549.15 Q1902.56 1548.78 1900.16 1548.04 L1900.16 1543.34 Q1902.24 1544.47 1904.46 1545.03 Q1906.68 1545.58 1909.16 1545.58 Q1913.16 1545.58 1915.5 1543.48 Q1917.84 1541.37 1917.84 1537.76 Q1917.84 1534.15 1915.5 1532.04 Q1913.16 1529.94 1909.16 1529.94 Q1907.29 1529.94 1905.41 1530.35 Q1903.56 1530.77 1901.61 1531.65 L1901.61 1514.29 Z\" fill=\"#000000\" fill-rule=\"nonzero\" fill-opacity=\"1\" /><polyline clip-path=\"url(#clip110)\" style=\"stroke:#000000; stroke-linecap:round; stroke-linejoin:round; stroke-width:4; stroke-opacity:1; fill:none\" points=\"512.865,47.2441 512.865,1486.45 \"/>\n",
       "<polyline clip-path=\"url(#clip110)\" style=\"stroke:#000000; stroke-linecap:round; stroke-linejoin:round; stroke-width:4; stroke-opacity:1; fill:none\" points=\"512.865,87.9763 525.003,87.9763 \"/>\n",
       "<polyline clip-path=\"url(#clip110)\" style=\"stroke:#000000; stroke-linecap:round; stroke-linejoin:round; stroke-width:4; stroke-opacity:1; fill:none\" points=\"512.865,427.411 525.003,427.411 \"/>\n",
       "<polyline clip-path=\"url(#clip110)\" style=\"stroke:#000000; stroke-linecap:round; stroke-linejoin:round; stroke-width:4; stroke-opacity:1; fill:none\" points=\"512.865,766.846 525.003,766.846 \"/>\n",
       "<polyline clip-path=\"url(#clip110)\" style=\"stroke:#000000; stroke-linecap:round; stroke-linejoin:round; stroke-width:4; stroke-opacity:1; fill:none\" points=\"512.865,1106.28 525.003,1106.28 \"/>\n",
       "<polyline clip-path=\"url(#clip110)\" style=\"stroke:#000000; stroke-linecap:round; stroke-linejoin:round; stroke-width:4; stroke-opacity:1; fill:none\" points=\"512.865,1445.72 525.003,1445.72 \"/>\n",
       "<path clip-path=\"url(#clip110)\" d=\"M456.957 101.321 L464.596 101.321 L464.596 74.9555 L456.286 76.6222 L456.286 72.3629 L464.55 70.6963 L469.226 70.6963 L469.226 101.321 L476.865 101.321 L476.865 105.256 L456.957 105.256 L456.957 101.321 Z\" fill=\"#000000\" fill-rule=\"nonzero\" fill-opacity=\"1\" /><path clip-path=\"url(#clip110)\" d=\"M460.545 440.756 L476.865 440.756 L476.865 444.691 L454.92 444.691 L454.92 440.756 Q457.582 438.001 462.166 433.372 Q466.772 428.719 467.953 427.376 Q470.198 424.853 471.078 423.117 Q471.98 421.358 471.98 419.668 Q471.98 416.914 470.036 415.177 Q468.115 413.441 465.013 413.441 Q462.814 413.441 460.36 414.205 Q457.93 414.969 455.152 416.52 L455.152 411.798 Q457.976 410.664 460.43 410.085 Q462.883 409.506 464.92 409.506 Q470.291 409.506 473.485 412.191 Q476.679 414.876 476.679 419.367 Q476.679 421.497 475.869 423.418 Q475.082 425.316 472.976 427.909 Q472.397 428.58 469.295 431.798 Q466.193 434.992 460.545 440.756 Z\" fill=\"#000000\" fill-rule=\"nonzero\" fill-opacity=\"1\" /><path clip-path=\"url(#clip110)\" d=\"M469.735 765.492 Q473.092 766.209 474.967 768.478 Q476.865 770.746 476.865 774.08 Q476.865 779.195 473.346 781.996 Q469.828 784.797 463.346 784.797 Q461.17 784.797 458.855 784.357 Q456.564 783.941 454.11 783.084 L454.11 778.57 Q456.055 779.705 458.369 780.283 Q460.684 780.862 463.207 780.862 Q467.605 780.862 469.897 779.126 Q472.212 777.39 472.212 774.08 Q472.212 771.024 470.059 769.311 Q467.93 767.575 464.11 767.575 L460.082 767.575 L460.082 763.733 L464.295 763.733 Q467.744 763.733 469.573 762.367 Q471.402 760.978 471.402 758.385 Q471.402 755.723 469.504 754.311 Q467.629 752.876 464.11 752.876 Q462.189 752.876 459.99 753.293 Q457.791 753.709 455.152 754.589 L455.152 750.422 Q457.814 749.682 460.129 749.311 Q462.467 748.941 464.527 748.941 Q469.851 748.941 472.953 751.372 Q476.054 753.779 476.054 757.899 Q476.054 760.77 474.411 762.76 Q472.767 764.728 469.735 765.492 Z\" fill=\"#000000\" fill-rule=\"nonzero\" fill-opacity=\"1\" /><path clip-path=\"url(#clip110)\" d=\"M467.281 1093.07 L455.476 1111.52 L467.281 1111.52 L467.281 1093.07 M466.055 1089 L471.934 1089 L471.934 1111.52 L476.865 1111.52 L476.865 1115.41 L471.934 1115.41 L471.934 1123.56 L467.281 1123.56 L467.281 1115.41 L451.68 1115.41 L451.68 1110.9 L466.055 1089 Z\" fill=\"#000000\" fill-rule=\"nonzero\" fill-opacity=\"1\" /><path clip-path=\"url(#clip110)\" d=\"M455.962 1428.44 L474.318 1428.44 L474.318 1432.37 L460.244 1432.37 L460.244 1440.84 Q461.263 1440.5 462.281 1440.33 Q463.3 1440.15 464.318 1440.15 Q470.105 1440.15 473.485 1443.32 Q476.865 1446.49 476.865 1451.91 Q476.865 1457.49 473.392 1460.59 Q469.92 1463.67 463.601 1463.67 Q461.425 1463.67 459.156 1463.3 Q456.911 1462.93 454.504 1462.19 L454.504 1457.49 Q456.587 1458.62 458.809 1459.18 Q461.031 1459.73 463.508 1459.73 Q467.513 1459.73 469.851 1457.63 Q472.189 1455.52 472.189 1451.91 Q472.189 1448.3 469.851 1446.19 Q467.513 1444.08 463.508 1444.08 Q461.633 1444.08 459.758 1444.5 Q457.906 1444.92 455.962 1445.8 L455.962 1428.44 Z\" fill=\"#000000\" fill-rule=\"nonzero\" fill-opacity=\"1\" /><circle clip-path=\"url(#clip112)\" cx=\"553.597\" cy=\"87.9763\" r=\"21.6\" fill=\"#0000ff\" fill-rule=\"evenodd\" fill-opacity=\"1\" stroke=\"none\"/>\n",
       "<circle clip-path=\"url(#clip112)\" cx=\"893.032\" cy=\"427.411\" r=\"21.6\" fill=\"#0000ff\" fill-rule=\"evenodd\" fill-opacity=\"1\" stroke=\"none\"/>\n",
       "<circle clip-path=\"url(#clip112)\" cx=\"1232.47\" cy=\"766.846\" r=\"21.6\" fill=\"#0000ff\" fill-rule=\"evenodd\" fill-opacity=\"1\" stroke=\"none\"/>\n",
       "<circle clip-path=\"url(#clip112)\" cx=\"1571.9\" cy=\"1106.28\" r=\"21.6\" fill=\"#0000ff\" fill-rule=\"evenodd\" fill-opacity=\"1\" stroke=\"none\"/>\n",
       "<circle clip-path=\"url(#clip112)\" cx=\"1911.34\" cy=\"1445.72\" r=\"21.6\" fill=\"#0000ff\" fill-rule=\"evenodd\" fill-opacity=\"1\" stroke=\"none\"/>\n",
       "</svg>\n"
      ],
      "text/html": [
       "<?xml version=\"1.0\" encoding=\"utf-8\"?>\n",
       "<svg xmlns=\"http://www.w3.org/2000/svg\" xmlns:xlink=\"http://www.w3.org/1999/xlink\" width=\"600\" height=\"400\" viewBox=\"0 0 2400 1600\">\n",
       "<defs>\n",
       "  <clipPath id=\"clip160\">\n",
       "    <rect x=\"0\" y=\"0\" width=\"2400\" height=\"1600\"/>\n",
       "  </clipPath>\n",
       "</defs>\n",
       "<path clip-path=\"url(#clip160)\" d=\"M0 1600 L2400 1600 L2400 0 L0 0  Z\" fill=\"#ffffff\" fill-rule=\"evenodd\" fill-opacity=\"1\"/>\n",
       "<defs>\n",
       "  <clipPath id=\"clip161\">\n",
       "    <rect x=\"480\" y=\"0\" width=\"1681\" height=\"1600\"/>\n",
       "  </clipPath>\n",
       "</defs>\n",
       "<path clip-path=\"url(#clip160)\" d=\"M512.865 1486.45 L1952.07 1486.45 L1952.07 47.2441 L512.865 47.2441  Z\" fill=\"#ffffff\" fill-rule=\"evenodd\" fill-opacity=\"1\"/>\n",
       "<defs>\n",
       "  <clipPath id=\"clip162\">\n",
       "    <rect x=\"512\" y=\"47\" width=\"1440\" height=\"1440\"/>\n",
       "  </clipPath>\n",
       "</defs>\n",
       "<polyline clip-path=\"url(#clip160)\" style=\"stroke:#000000; stroke-linecap:round; stroke-linejoin:round; stroke-width:4; stroke-opacity:1; fill:none\" points=\"512.865,1486.45 1952.07,1486.45 \"/>\n",
       "<polyline clip-path=\"url(#clip160)\" style=\"stroke:#000000; stroke-linecap:round; stroke-linejoin:round; stroke-width:4; stroke-opacity:1; fill:none\" points=\"553.597,1486.45 553.597,1467.55 \"/>\n",
       "<polyline clip-path=\"url(#clip160)\" style=\"stroke:#000000; stroke-linecap:round; stroke-linejoin:round; stroke-width:4; stroke-opacity:1; fill:none\" points=\"893.032,1486.45 893.032,1467.55 \"/>\n",
       "<polyline clip-path=\"url(#clip160)\" style=\"stroke:#000000; stroke-linecap:round; stroke-linejoin:round; stroke-width:4; stroke-opacity:1; fill:none\" points=\"1232.47,1486.45 1232.47,1467.55 \"/>\n",
       "<polyline clip-path=\"url(#clip160)\" style=\"stroke:#000000; stroke-linecap:round; stroke-linejoin:round; stroke-width:4; stroke-opacity:1; fill:none\" points=\"1571.9,1486.45 1571.9,1467.55 \"/>\n",
       "<polyline clip-path=\"url(#clip160)\" style=\"stroke:#000000; stroke-linecap:round; stroke-linejoin:round; stroke-width:4; stroke-opacity:1; fill:none\" points=\"1911.34,1486.45 1911.34,1467.55 \"/>\n",
       "<path clip-path=\"url(#clip160)\" d=\"M543.979 1544.91 L551.618 1544.91 L551.618 1518.55 L543.308 1520.21 L543.308 1515.95 L551.571 1514.29 L556.247 1514.29 L556.247 1544.91 L563.886 1544.91 L563.886 1548.85 L543.979 1548.85 L543.979 1544.91 Z\" fill=\"#000000\" fill-rule=\"nonzero\" fill-opacity=\"1\" /><path clip-path=\"url(#clip160)\" d=\"M887.684 1544.91 L904.004 1544.91 L904.004 1548.85 L882.06 1548.85 L882.06 1544.91 Q884.722 1542.16 889.305 1537.53 Q893.911 1532.88 895.092 1531.53 Q897.337 1529.01 898.217 1527.27 Q899.12 1525.51 899.12 1523.82 Q899.12 1521.07 897.175 1519.33 Q895.254 1517.6 892.152 1517.6 Q889.953 1517.6 887.499 1518.36 Q885.069 1519.13 882.291 1520.68 L882.291 1515.95 Q885.115 1514.82 887.569 1514.24 Q890.022 1513.66 892.059 1513.66 Q897.43 1513.66 900.624 1516.35 Q903.819 1519.03 903.819 1523.52 Q903.819 1525.65 903.008 1527.57 Q902.221 1529.47 900.115 1532.07 Q899.536 1532.74 896.434 1535.95 Q893.333 1539.15 887.684 1544.91 Z\" fill=\"#000000\" fill-rule=\"nonzero\" fill-opacity=\"1\" /><path clip-path=\"url(#clip160)\" d=\"M1236.71 1530.21 Q1240.07 1530.93 1241.95 1533.2 Q1243.84 1535.47 1243.84 1538.8 Q1243.84 1543.92 1240.33 1546.72 Q1236.81 1549.52 1230.33 1549.52 Q1228.15 1549.52 1225.83 1549.08 Q1223.54 1548.66 1221.09 1547.81 L1221.09 1543.29 Q1223.03 1544.43 1225.35 1545.01 Q1227.66 1545.58 1230.19 1545.58 Q1234.58 1545.58 1236.88 1543.85 Q1239.19 1542.11 1239.19 1538.8 Q1239.19 1535.75 1237.04 1534.03 Q1234.91 1532.3 1231.09 1532.3 L1227.06 1532.3 L1227.06 1528.45 L1231.27 1528.45 Q1234.72 1528.45 1236.55 1527.09 Q1238.38 1525.7 1238.38 1523.11 Q1238.38 1520.45 1236.48 1519.03 Q1234.61 1517.6 1231.09 1517.6 Q1229.17 1517.6 1226.97 1518.01 Q1224.77 1518.43 1222.13 1519.31 L1222.13 1515.14 Q1224.79 1514.4 1227.11 1514.03 Q1229.45 1513.66 1231.51 1513.66 Q1236.83 1513.66 1239.93 1516.09 Q1243.03 1518.5 1243.03 1522.62 Q1243.03 1525.49 1241.39 1527.48 Q1239.75 1529.45 1236.71 1530.21 Z\" fill=\"#000000\" fill-rule=\"nonzero\" fill-opacity=\"1\" /><path clip-path=\"url(#clip160)\" d=\"M1574.91 1518.36 L1563.11 1536.81 L1574.91 1536.81 L1574.91 1518.36 M1573.68 1514.29 L1579.56 1514.29 L1579.56 1536.81 L1584.49 1536.81 L1584.49 1540.7 L1579.56 1540.7 L1579.56 1548.85 L1574.91 1548.85 L1574.91 1540.7 L1559.31 1540.7 L1559.31 1536.19 L1573.68 1514.29 Z\" fill=\"#000000\" fill-rule=\"nonzero\" fill-opacity=\"1\" /><path clip-path=\"url(#clip160)\" d=\"M1901.61 1514.29 L1919.97 1514.29 L1919.97 1518.22 L1905.9 1518.22 L1905.9 1526.7 Q1906.91 1526.35 1907.93 1526.19 Q1908.95 1526 1909.97 1526 Q1915.76 1526 1919.14 1529.17 Q1922.52 1532.34 1922.52 1537.76 Q1922.52 1543.34 1919.04 1546.44 Q1915.57 1549.52 1909.25 1549.52 Q1907.08 1549.52 1904.81 1549.15 Q1902.56 1548.78 1900.16 1548.04 L1900.16 1543.34 Q1902.24 1544.47 1904.46 1545.03 Q1906.68 1545.58 1909.16 1545.58 Q1913.16 1545.58 1915.5 1543.48 Q1917.84 1541.37 1917.84 1537.76 Q1917.84 1534.15 1915.5 1532.04 Q1913.16 1529.94 1909.16 1529.94 Q1907.29 1529.94 1905.41 1530.35 Q1903.56 1530.77 1901.61 1531.65 L1901.61 1514.29 Z\" fill=\"#000000\" fill-rule=\"nonzero\" fill-opacity=\"1\" /><polyline clip-path=\"url(#clip160)\" style=\"stroke:#000000; stroke-linecap:round; stroke-linejoin:round; stroke-width:4; stroke-opacity:1; fill:none\" points=\"512.865,47.2441 512.865,1486.45 \"/>\n",
       "<polyline clip-path=\"url(#clip160)\" style=\"stroke:#000000; stroke-linecap:round; stroke-linejoin:round; stroke-width:4; stroke-opacity:1; fill:none\" points=\"512.865,87.9763 525.003,87.9763 \"/>\n",
       "<polyline clip-path=\"url(#clip160)\" style=\"stroke:#000000; stroke-linecap:round; stroke-linejoin:round; stroke-width:4; stroke-opacity:1; fill:none\" points=\"512.865,427.411 525.003,427.411 \"/>\n",
       "<polyline clip-path=\"url(#clip160)\" style=\"stroke:#000000; stroke-linecap:round; stroke-linejoin:round; stroke-width:4; stroke-opacity:1; fill:none\" points=\"512.865,766.846 525.003,766.846 \"/>\n",
       "<polyline clip-path=\"url(#clip160)\" style=\"stroke:#000000; stroke-linecap:round; stroke-linejoin:round; stroke-width:4; stroke-opacity:1; fill:none\" points=\"512.865,1106.28 525.003,1106.28 \"/>\n",
       "<polyline clip-path=\"url(#clip160)\" style=\"stroke:#000000; stroke-linecap:round; stroke-linejoin:round; stroke-width:4; stroke-opacity:1; fill:none\" points=\"512.865,1445.72 525.003,1445.72 \"/>\n",
       "<path clip-path=\"url(#clip160)\" d=\"M456.957 101.321 L464.596 101.321 L464.596 74.9555 L456.286 76.6222 L456.286 72.3629 L464.55 70.6963 L469.226 70.6963 L469.226 101.321 L476.865 101.321 L476.865 105.256 L456.957 105.256 L456.957 101.321 Z\" fill=\"#000000\" fill-rule=\"nonzero\" fill-opacity=\"1\" /><path clip-path=\"url(#clip160)\" d=\"M460.545 440.756 L476.865 440.756 L476.865 444.691 L454.92 444.691 L454.92 440.756 Q457.582 438.001 462.166 433.372 Q466.772 428.719 467.953 427.376 Q470.198 424.853 471.078 423.117 Q471.98 421.358 471.98 419.668 Q471.98 416.914 470.036 415.177 Q468.115 413.441 465.013 413.441 Q462.814 413.441 460.36 414.205 Q457.93 414.969 455.152 416.52 L455.152 411.798 Q457.976 410.664 460.43 410.085 Q462.883 409.506 464.92 409.506 Q470.291 409.506 473.485 412.191 Q476.679 414.876 476.679 419.367 Q476.679 421.497 475.869 423.418 Q475.082 425.316 472.976 427.909 Q472.397 428.58 469.295 431.798 Q466.193 434.992 460.545 440.756 Z\" fill=\"#000000\" fill-rule=\"nonzero\" fill-opacity=\"1\" /><path clip-path=\"url(#clip160)\" d=\"M469.735 765.492 Q473.092 766.209 474.967 768.478 Q476.865 770.746 476.865 774.08 Q476.865 779.195 473.346 781.996 Q469.828 784.797 463.346 784.797 Q461.17 784.797 458.855 784.357 Q456.564 783.941 454.11 783.084 L454.11 778.57 Q456.055 779.705 458.369 780.283 Q460.684 780.862 463.207 780.862 Q467.605 780.862 469.897 779.126 Q472.212 777.39 472.212 774.08 Q472.212 771.024 470.059 769.311 Q467.93 767.575 464.11 767.575 L460.082 767.575 L460.082 763.733 L464.295 763.733 Q467.744 763.733 469.573 762.367 Q471.402 760.978 471.402 758.385 Q471.402 755.723 469.504 754.311 Q467.629 752.876 464.11 752.876 Q462.189 752.876 459.99 753.293 Q457.791 753.709 455.152 754.589 L455.152 750.422 Q457.814 749.682 460.129 749.311 Q462.467 748.941 464.527 748.941 Q469.851 748.941 472.953 751.372 Q476.054 753.779 476.054 757.899 Q476.054 760.77 474.411 762.76 Q472.767 764.728 469.735 765.492 Z\" fill=\"#000000\" fill-rule=\"nonzero\" fill-opacity=\"1\" /><path clip-path=\"url(#clip160)\" d=\"M467.281 1093.07 L455.476 1111.52 L467.281 1111.52 L467.281 1093.07 M466.055 1089 L471.934 1089 L471.934 1111.52 L476.865 1111.52 L476.865 1115.41 L471.934 1115.41 L471.934 1123.56 L467.281 1123.56 L467.281 1115.41 L451.68 1115.41 L451.68 1110.9 L466.055 1089 Z\" fill=\"#000000\" fill-rule=\"nonzero\" fill-opacity=\"1\" /><path clip-path=\"url(#clip160)\" d=\"M455.962 1428.44 L474.318 1428.44 L474.318 1432.37 L460.244 1432.37 L460.244 1440.84 Q461.263 1440.5 462.281 1440.33 Q463.3 1440.15 464.318 1440.15 Q470.105 1440.15 473.485 1443.32 Q476.865 1446.49 476.865 1451.91 Q476.865 1457.49 473.392 1460.59 Q469.92 1463.67 463.601 1463.67 Q461.425 1463.67 459.156 1463.3 Q456.911 1462.93 454.504 1462.19 L454.504 1457.49 Q456.587 1458.62 458.809 1459.18 Q461.031 1459.73 463.508 1459.73 Q467.513 1459.73 469.851 1457.63 Q472.189 1455.52 472.189 1451.91 Q472.189 1448.3 469.851 1446.19 Q467.513 1444.08 463.508 1444.08 Q461.633 1444.08 459.758 1444.5 Q457.906 1444.92 455.962 1445.8 L455.962 1428.44 Z\" fill=\"#000000\" fill-rule=\"nonzero\" fill-opacity=\"1\" /><circle clip-path=\"url(#clip162)\" cx=\"553.597\" cy=\"87.9763\" r=\"21.6\" fill=\"#0000ff\" fill-rule=\"evenodd\" fill-opacity=\"1\" stroke=\"none\"/>\n",
       "<circle clip-path=\"url(#clip162)\" cx=\"893.032\" cy=\"427.411\" r=\"21.6\" fill=\"#0000ff\" fill-rule=\"evenodd\" fill-opacity=\"1\" stroke=\"none\"/>\n",
       "<circle clip-path=\"url(#clip162)\" cx=\"1232.47\" cy=\"766.846\" r=\"21.6\" fill=\"#0000ff\" fill-rule=\"evenodd\" fill-opacity=\"1\" stroke=\"none\"/>\n",
       "<circle clip-path=\"url(#clip162)\" cx=\"1571.9\" cy=\"1106.28\" r=\"21.6\" fill=\"#0000ff\" fill-rule=\"evenodd\" fill-opacity=\"1\" stroke=\"none\"/>\n",
       "<circle clip-path=\"url(#clip162)\" cx=\"1911.34\" cy=\"1445.72\" r=\"21.6\" fill=\"#0000ff\" fill-rule=\"evenodd\" fill-opacity=\"1\" stroke=\"none\"/>\n",
       "</svg>\n"
      ]
     },
     "metadata": {},
     "output_type": "display_data"
    }
   ],
   "source": [
    "plt.spy(As;ms=6,mc=:blue)"
   ]
  },
  {
   "cell_type": "code",
   "execution_count": 88,
   "metadata": {},
   "outputs": [
    {
     "data": {
      "image/png": "[encoded data removed]",
      "image/svg+xml": [
       "<?xml version=\"1.0\" encoding=\"utf-8\"?>\n",
       "<svg xmlns=\"http://www.w3.org/2000/svg\" xmlns:xlink=\"http://www.w3.org/1999/xlink\" width=\"600\" height=\"400\" viewBox=\"0 0 2400 1600\">\n",
       "<defs>\n",
       "  <clipPath id=\"clip200\">\n",
       "    <rect x=\"0\" y=\"0\" width=\"2400\" height=\"1600\"/>\n",
       "  </clipPath>\n",
       "</defs>\n",
       "<path clip-path=\"url(#clip200)\" d=\"M0 1600 L2400 1600 L2400 0 L0 0  Z\" fill=\"#ffffff\" fill-rule=\"evenodd\" fill-opacity=\"1\"/>\n",
       "<defs>\n",
       "  <clipPath id=\"clip201\">\n",
       "    <rect x=\"480\" y=\"0\" width=\"1681\" height=\"1600\"/>\n",
       "  </clipPath>\n",
       "</defs>\n",
       "<path clip-path=\"url(#clip200)\" d=\"M112.177 1486.45 L2352.76 1486.45 L2352.76 47.2441 L112.177 47.2441  Z\" fill=\"#ffffff\" fill-rule=\"evenodd\" fill-opacity=\"1\"/>\n",
       "<defs>\n",
       "  <clipPath id=\"clip202\">\n",
       "    <rect x=\"112\" y=\"47\" width=\"2242\" height=\"1440\"/>\n",
       "  </clipPath>\n",
       "</defs>\n",
       "<polyline clip-path=\"url(#clip202)\" style=\"stroke:#000000; stroke-linecap:round; stroke-linejoin:round; stroke-width:2; stroke-opacity:0.1; fill:none\" points=\"175.59,47.2441 175.59,1486.45 \"/>\n",
       "<polyline clip-path=\"url(#clip202)\" style=\"stroke:#000000; stroke-linecap:round; stroke-linejoin:round; stroke-width:2; stroke-opacity:0.1; fill:none\" points=\"704.028,47.2441 704.028,1486.45 \"/>\n",
       "<polyline clip-path=\"url(#clip202)\" style=\"stroke:#000000; stroke-linecap:round; stroke-linejoin:round; stroke-width:2; stroke-opacity:0.1; fill:none\" points=\"1232.47,47.2441 1232.47,1486.45 \"/>\n",
       "<polyline clip-path=\"url(#clip202)\" style=\"stroke:#000000; stroke-linecap:round; stroke-linejoin:round; stroke-width:2; stroke-opacity:0.1; fill:none\" points=\"1760.9,47.2441 1760.9,1486.45 \"/>\n",
       "<polyline clip-path=\"url(#clip202)\" style=\"stroke:#000000; stroke-linecap:round; stroke-linejoin:round; stroke-width:2; stroke-opacity:0.1; fill:none\" points=\"2289.34,47.2441 2289.34,1486.45 \"/>\n",
       "<polyline clip-path=\"url(#clip200)\" style=\"stroke:#000000; stroke-linecap:round; stroke-linejoin:round; stroke-width:4; stroke-opacity:1; fill:none\" points=\"112.177,1486.45 2352.76,1486.45 \"/>\n",
       "<polyline clip-path=\"url(#clip200)\" style=\"stroke:#000000; stroke-linecap:round; stroke-linejoin:round; stroke-width:4; stroke-opacity:1; fill:none\" points=\"175.59,1486.45 175.59,1467.55 \"/>\n",
       "<polyline clip-path=\"url(#clip200)\" style=\"stroke:#000000; stroke-linecap:round; stroke-linejoin:round; stroke-width:4; stroke-opacity:1; fill:none\" points=\"704.028,1486.45 704.028,1467.55 \"/>\n",
       "<polyline clip-path=\"url(#clip200)\" style=\"stroke:#000000; stroke-linecap:round; stroke-linejoin:round; stroke-width:4; stroke-opacity:1; fill:none\" points=\"1232.47,1486.45 1232.47,1467.55 \"/>\n",
       "<polyline clip-path=\"url(#clip200)\" style=\"stroke:#000000; stroke-linecap:round; stroke-linejoin:round; stroke-width:4; stroke-opacity:1; fill:none\" points=\"1760.9,1486.45 1760.9,1467.55 \"/>\n",
       "<polyline clip-path=\"url(#clip200)\" style=\"stroke:#000000; stroke-linecap:round; stroke-linejoin:round; stroke-width:4; stroke-opacity:1; fill:none\" points=\"2289.34,1486.45 2289.34,1467.55 \"/>\n",
       "<path clip-path=\"url(#clip200)\" d=\"M165.972 1544.91 L173.611 1544.91 L173.611 1518.55 L165.3 1520.21 L165.3 1515.95 L173.564 1514.29 L178.24 1514.29 L178.24 1544.91 L185.879 1544.91 L185.879 1548.85 L165.972 1548.85 L165.972 1544.91 Z\" fill=\"#000000\" fill-rule=\"nonzero\" fill-opacity=\"1\" /><path clip-path=\"url(#clip200)\" d=\"M698.681 1544.91 L715 1544.91 L715 1548.85 L693.056 1548.85 L693.056 1544.91 Q695.718 1542.16 700.301 1537.53 Q704.908 1532.88 706.088 1531.53 Q708.334 1529.01 709.213 1527.27 Q710.116 1525.51 710.116 1523.82 Q710.116 1521.07 708.172 1519.33 Q706.25 1517.6 703.149 1517.6 Q700.949 1517.6 698.496 1518.36 Q696.065 1519.13 693.287 1520.68 L693.287 1515.95 Q696.112 1514.82 698.565 1514.24 Q701.019 1513.66 703.056 1513.66 Q708.426 1513.66 711.621 1516.35 Q714.815 1519.03 714.815 1523.52 Q714.815 1525.65 714.005 1527.57 Q713.218 1529.47 711.111 1532.07 Q710.533 1532.74 707.431 1535.95 Q704.329 1539.15 698.681 1544.91 Z\" fill=\"#000000\" fill-rule=\"nonzero\" fill-opacity=\"1\" /><path clip-path=\"url(#clip200)\" d=\"M1236.71 1530.21 Q1240.07 1530.93 1241.95 1533.2 Q1243.84 1535.47 1243.84 1538.8 Q1243.84 1543.92 1240.33 1546.72 Q1236.81 1549.52 1230.33 1549.52 Q1228.15 1549.52 1225.83 1549.08 Q1223.54 1548.66 1221.09 1547.81 L1221.09 1543.29 Q1223.03 1544.43 1225.35 1545.01 Q1227.66 1545.58 1230.19 1545.58 Q1234.58 1545.58 1236.88 1543.85 Q1239.19 1542.11 1239.19 1538.8 Q1239.19 1535.75 1237.04 1534.03 Q1234.91 1532.3 1231.09 1532.3 L1227.06 1532.3 L1227.06 1528.45 L1231.27 1528.45 Q1234.72 1528.45 1236.55 1527.09 Q1238.38 1525.7 1238.38 1523.11 Q1238.38 1520.45 1236.48 1519.03 Q1234.61 1517.6 1231.09 1517.6 Q1229.17 1517.6 1226.97 1518.01 Q1224.77 1518.43 1222.13 1519.31 L1222.13 1515.14 Q1224.79 1514.4 1227.11 1514.03 Q1229.45 1513.66 1231.51 1513.66 Q1236.83 1513.66 1239.93 1516.09 Q1243.03 1518.5 1243.03 1522.62 Q1243.03 1525.49 1241.39 1527.48 Q1239.75 1529.45 1236.71 1530.21 Z\" fill=\"#000000\" fill-rule=\"nonzero\" fill-opacity=\"1\" /><path clip-path=\"url(#clip200)\" d=\"M1763.91 1518.36 L1752.11 1536.81 L1763.91 1536.81 L1763.91 1518.36 M1762.69 1514.29 L1768.57 1514.29 L1768.57 1536.81 L1773.5 1536.81 L1773.5 1540.7 L1768.57 1540.7 L1768.57 1548.85 L1763.91 1548.85 L1763.91 1540.7 L1748.31 1540.7 L1748.31 1536.19 L1762.69 1514.29 Z\" fill=\"#000000\" fill-rule=\"nonzero\" fill-opacity=\"1\" /><path clip-path=\"url(#clip200)\" d=\"M2279.62 1514.29 L2297.98 1514.29 L2297.98 1518.22 L2283.9 1518.22 L2283.9 1526.7 Q2284.92 1526.35 2285.94 1526.19 Q2286.96 1526 2287.98 1526 Q2293.76 1526 2297.14 1529.17 Q2300.52 1532.34 2300.52 1537.76 Q2300.52 1543.34 2297.05 1546.44 Q2293.58 1549.52 2287.26 1549.52 Q2285.08 1549.52 2282.82 1549.15 Q2280.57 1548.78 2278.16 1548.04 L2278.16 1543.34 Q2280.25 1544.47 2282.47 1545.03 Q2284.69 1545.58 2287.17 1545.58 Q2291.17 1545.58 2293.51 1543.48 Q2295.85 1541.37 2295.85 1537.76 Q2295.85 1534.15 2293.51 1532.04 Q2291.17 1529.94 2287.17 1529.94 Q2285.29 1529.94 2283.42 1530.35 Q2281.57 1530.77 2279.62 1531.65 L2279.62 1514.29 Z\" fill=\"#000000\" fill-rule=\"nonzero\" fill-opacity=\"1\" /><polyline clip-path=\"url(#clip202)\" style=\"stroke:#000000; stroke-linecap:round; stroke-linejoin:round; stroke-width:2; stroke-opacity:0.1; fill:none\" points=\"112.177,87.9763 2352.76,87.9763 \"/>\n",
       "<polyline clip-path=\"url(#clip202)\" style=\"stroke:#000000; stroke-linecap:round; stroke-linejoin:round; stroke-width:2; stroke-opacity:0.1; fill:none\" points=\"112.177,427.411 2352.76,427.411 \"/>\n",
       "<polyline clip-path=\"url(#clip202)\" style=\"stroke:#000000; stroke-linecap:round; stroke-linejoin:round; stroke-width:2; stroke-opacity:0.1; fill:none\" points=\"112.177,766.846 2352.76,766.846 \"/>\n",
       "<polyline clip-path=\"url(#clip202)\" style=\"stroke:#000000; stroke-linecap:round; stroke-linejoin:round; stroke-width:2; stroke-opacity:0.1; fill:none\" points=\"112.177,1106.28 2352.76,1106.28 \"/>\n",
       "<polyline clip-path=\"url(#clip202)\" style=\"stroke:#000000; stroke-linecap:round; stroke-linejoin:round; stroke-width:2; stroke-opacity:0.1; fill:none\" points=\"112.177,1445.72 2352.76,1445.72 \"/>\n",
       "<polyline clip-path=\"url(#clip200)\" style=\"stroke:#000000; stroke-linecap:round; stroke-linejoin:round; stroke-width:4; stroke-opacity:1; fill:none\" points=\"112.177,47.2441 112.177,1486.45 \"/>\n",
       "<polyline clip-path=\"url(#clip200)\" style=\"stroke:#000000; stroke-linecap:round; stroke-linejoin:round; stroke-width:4; stroke-opacity:1; fill:none\" points=\"112.177,87.9763 131.075,87.9763 \"/>\n",
       "<polyline clip-path=\"url(#clip200)\" style=\"stroke:#000000; stroke-linecap:round; stroke-linejoin:round; stroke-width:4; stroke-opacity:1; fill:none\" points=\"112.177,427.411 131.075,427.411 \"/>\n",
       "<polyline clip-path=\"url(#clip200)\" style=\"stroke:#000000; stroke-linecap:round; stroke-linejoin:round; stroke-width:4; stroke-opacity:1; fill:none\" points=\"112.177,766.846 131.075,766.846 \"/>\n",
       "<polyline clip-path=\"url(#clip200)\" style=\"stroke:#000000; stroke-linecap:round; stroke-linejoin:round; stroke-width:4; stroke-opacity:1; fill:none\" points=\"112.177,1106.28 131.075,1106.28 \"/>\n",
       "<polyline clip-path=\"url(#clip200)\" style=\"stroke:#000000; stroke-linecap:round; stroke-linejoin:round; stroke-width:4; stroke-opacity:1; fill:none\" points=\"112.177,1445.72 131.075,1445.72 \"/>\n",
       "<path clip-path=\"url(#clip200)\" d=\"M56.2699 101.321 L63.9087 101.321 L63.9087 74.9555 L55.5986 76.6222 L55.5986 72.3629 L63.8624 70.6963 L68.5383 70.6963 L68.5383 101.321 L76.1772 101.321 L76.1772 105.256 L56.2699 105.256 L56.2699 101.321 Z\" fill=\"#000000\" fill-rule=\"nonzero\" fill-opacity=\"1\" /><path clip-path=\"url(#clip200)\" d=\"M59.8578 440.756 L76.1772 440.756 L76.1772 444.691 L54.2328 444.691 L54.2328 440.756 Q56.8949 438.001 61.4782 433.372 Q66.0846 428.719 67.2652 427.376 Q69.5105 424.853 70.3902 423.117 Q71.2929 421.358 71.2929 419.668 Q71.2929 416.914 69.3485 415.177 Q67.4272 413.441 64.3254 413.441 Q62.1263 413.441 59.6726 414.205 Q57.2421 414.969 54.4643 416.52 L54.4643 411.798 Q57.2884 410.664 59.7421 410.085 Q62.1958 409.506 64.2328 409.506 Q69.6031 409.506 72.7976 412.191 Q75.992 414.876 75.992 419.367 Q75.992 421.497 75.1818 423.418 Q74.3948 425.316 72.2883 427.909 Q71.7096 428.58 68.6078 431.798 Q65.5059 434.992 59.8578 440.756 Z\" fill=\"#000000\" fill-rule=\"nonzero\" fill-opacity=\"1\" /><path clip-path=\"url(#clip200)\" d=\"M69.0476 765.492 Q72.404 766.209 74.279 768.478 Q76.1772 770.746 76.1772 774.08 Q76.1772 779.195 72.6587 781.996 Q69.1402 784.797 62.6587 784.797 Q60.4828 784.797 58.168 784.357 Q55.8764 783.941 53.4227 783.084 L53.4227 778.57 Q55.3671 779.705 57.6819 780.283 Q59.9967 780.862 62.5198 780.862 Q66.918 780.862 69.2096 779.126 Q71.5244 777.39 71.5244 774.08 Q71.5244 771.024 69.3717 769.311 Q67.242 767.575 63.4226 767.575 L59.3949 767.575 L59.3949 763.733 L63.6078 763.733 Q67.0569 763.733 68.8855 762.367 Q70.7142 760.978 70.7142 758.385 Q70.7142 755.723 68.8161 754.311 Q66.9411 752.876 63.4226 752.876 Q61.5013 752.876 59.3023 753.293 Q57.1032 753.709 54.4643 754.589 L54.4643 750.422 Q57.1264 749.682 59.4412 749.311 Q61.7791 748.941 63.8393 748.941 Q69.1633 748.941 72.2652 751.372 Q75.367 753.779 75.367 757.899 Q75.367 760.77 73.7235 762.76 Q72.08 764.728 69.0476 765.492 Z\" fill=\"#000000\" fill-rule=\"nonzero\" fill-opacity=\"1\" /><path clip-path=\"url(#clip200)\" d=\"M66.5939 1093.07 L54.7884 1111.52 L66.5939 1111.52 L66.5939 1093.07 M65.367 1089 L71.2466 1089 L71.2466 1111.52 L76.1772 1111.52 L76.1772 1115.41 L71.2466 1115.41 L71.2466 1123.56 L66.5939 1123.56 L66.5939 1115.41 L50.9921 1115.41 L50.9921 1110.9 L65.367 1089 Z\" fill=\"#000000\" fill-rule=\"nonzero\" fill-opacity=\"1\" /><path clip-path=\"url(#clip200)\" d=\"M55.2745 1428.44 L73.6309 1428.44 L73.6309 1432.37 L59.5569 1432.37 L59.5569 1440.84 Q60.5754 1440.5 61.5939 1440.33 Q62.6124 1440.15 63.6309 1440.15 Q69.418 1440.15 72.7976 1443.32 Q76.1772 1446.49 76.1772 1451.91 Q76.1772 1457.49 72.705 1460.59 Q69.2328 1463.67 62.9134 1463.67 Q60.7374 1463.67 58.4689 1463.3 Q56.2236 1462.93 53.8162 1462.19 L53.8162 1457.49 Q55.8995 1458.62 58.1217 1459.18 Q60.3439 1459.73 62.8208 1459.73 Q66.8254 1459.73 69.1633 1457.63 Q71.5013 1455.52 71.5013 1451.91 Q71.5013 1448.3 69.1633 1446.19 Q66.8254 1444.08 62.8208 1444.08 Q60.9458 1444.08 59.0708 1444.5 Q57.2189 1444.92 55.2745 1445.8 L55.2745 1428.44 Z\" fill=\"#000000\" fill-rule=\"nonzero\" fill-opacity=\"1\" /><circle clip-path=\"url(#clip202)\" cx=\"175.59\" cy=\"87.9763\" r=\"21.6\" fill=\"#0000ff\" fill-rule=\"evenodd\" fill-opacity=\"1\" stroke=\"#000000\" stroke-opacity=\"1\" stroke-width=\"3.2\"/>\n",
       "<circle clip-path=\"url(#clip202)\" cx=\"704.028\" cy=\"427.411\" r=\"21.6\" fill=\"#0000ff\" fill-rule=\"evenodd\" fill-opacity=\"1\" stroke=\"#000000\" stroke-opacity=\"1\" stroke-width=\"3.2\"/>\n",
       "<circle clip-path=\"url(#clip202)\" cx=\"1232.47\" cy=\"766.846\" r=\"21.6\" fill=\"#0000ff\" fill-rule=\"evenodd\" fill-opacity=\"1\" stroke=\"#000000\" stroke-opacity=\"1\" stroke-width=\"3.2\"/>\n",
       "<circle clip-path=\"url(#clip202)\" cx=\"1760.9\" cy=\"1106.28\" r=\"21.6\" fill=\"#0000ff\" fill-rule=\"evenodd\" fill-opacity=\"1\" stroke=\"#000000\" stroke-opacity=\"1\" stroke-width=\"3.2\"/>\n",
       "<circle clip-path=\"url(#clip202)\" cx=\"2289.34\" cy=\"1445.72\" r=\"21.6\" fill=\"#0000ff\" fill-rule=\"evenodd\" fill-opacity=\"1\" stroke=\"#000000\" stroke-opacity=\"1\" stroke-width=\"3.2\"/>\n",
       "</svg>\n"
      ],
      "text/html": [
       "<?xml version=\"1.0\" encoding=\"utf-8\"?>\n",
       "<svg xmlns=\"http://www.w3.org/2000/svg\" xmlns:xlink=\"http://www.w3.org/1999/xlink\" width=\"600\" height=\"400\" viewBox=\"0 0 2400 1600\">\n",
       "<defs>\n",
       "  <clipPath id=\"clip250\">\n",
       "    <rect x=\"0\" y=\"0\" width=\"2400\" height=\"1600\"/>\n",
       "  </clipPath>\n",
       "</defs>\n",
       "<path clip-path=\"url(#clip250)\" d=\"M0 1600 L2400 1600 L2400 0 L0 0  Z\" fill=\"#ffffff\" fill-rule=\"evenodd\" fill-opacity=\"1\"/>\n",
       "<defs>\n",
       "  <clipPath id=\"clip251\">\n",
       "    <rect x=\"480\" y=\"0\" width=\"1681\" height=\"1600\"/>\n",
       "  </clipPath>\n",
       "</defs>\n",
       "<path clip-path=\"url(#clip250)\" d=\"M112.177 1486.45 L2352.76 1486.45 L2352.76 47.2441 L112.177 47.2441  Z\" fill=\"#ffffff\" fill-rule=\"evenodd\" fill-opacity=\"1\"/>\n",
       "<defs>\n",
       "  <clipPath id=\"clip252\">\n",
       "    <rect x=\"112\" y=\"47\" width=\"2242\" height=\"1440\"/>\n",
       "  </clipPath>\n",
       "</defs>\n",
       "<polyline clip-path=\"url(#clip252)\" style=\"stroke:#000000; stroke-linecap:round; stroke-linejoin:round; stroke-width:2; stroke-opacity:0.1; fill:none\" points=\"175.59,47.2441 175.59,1486.45 \"/>\n",
       "<polyline clip-path=\"url(#clip252)\" style=\"stroke:#000000; stroke-linecap:round; stroke-linejoin:round; stroke-width:2; stroke-opacity:0.1; fill:none\" points=\"704.028,47.2441 704.028,1486.45 \"/>\n",
       "<polyline clip-path=\"url(#clip252)\" style=\"stroke:#000000; stroke-linecap:round; stroke-linejoin:round; stroke-width:2; stroke-opacity:0.1; fill:none\" points=\"1232.47,47.2441 1232.47,1486.45 \"/>\n",
       "<polyline clip-path=\"url(#clip252)\" style=\"stroke:#000000; stroke-linecap:round; stroke-linejoin:round; stroke-width:2; stroke-opacity:0.1; fill:none\" points=\"1760.9,47.2441 1760.9,1486.45 \"/>\n",
       "<polyline clip-path=\"url(#clip252)\" style=\"stroke:#000000; stroke-linecap:round; stroke-linejoin:round; stroke-width:2; stroke-opacity:0.1; fill:none\" points=\"2289.34,47.2441 2289.34,1486.45 \"/>\n",
       "<polyline clip-path=\"url(#clip250)\" style=\"stroke:#000000; stroke-linecap:round; stroke-linejoin:round; stroke-width:4; stroke-opacity:1; fill:none\" points=\"112.177,1486.45 2352.76,1486.45 \"/>\n",
       "<polyline clip-path=\"url(#clip250)\" style=\"stroke:#000000; stroke-linecap:round; stroke-linejoin:round; stroke-width:4; stroke-opacity:1; fill:none\" points=\"175.59,1486.45 175.59,1467.55 \"/>\n",
       "<polyline clip-path=\"url(#clip250)\" style=\"stroke:#000000; stroke-linecap:round; stroke-linejoin:round; stroke-width:4; stroke-opacity:1; fill:none\" points=\"704.028,1486.45 704.028,1467.55 \"/>\n",
       "<polyline clip-path=\"url(#clip250)\" style=\"stroke:#000000; stroke-linecap:round; stroke-linejoin:round; stroke-width:4; stroke-opacity:1; fill:none\" points=\"1232.47,1486.45 1232.47,1467.55 \"/>\n",
       "<polyline clip-path=\"url(#clip250)\" style=\"stroke:#000000; stroke-linecap:round; stroke-linejoin:round; stroke-width:4; stroke-opacity:1; fill:none\" points=\"1760.9,1486.45 1760.9,1467.55 \"/>\n",
       "<polyline clip-path=\"url(#clip250)\" style=\"stroke:#000000; stroke-linecap:round; stroke-linejoin:round; stroke-width:4; stroke-opacity:1; fill:none\" points=\"2289.34,1486.45 2289.34,1467.55 \"/>\n",
       "<path clip-path=\"url(#clip250)\" d=\"M165.972 1544.91 L173.611 1544.91 L173.611 1518.55 L165.3 1520.21 L165.3 1515.95 L173.564 1514.29 L178.24 1514.29 L178.24 1544.91 L185.879 1544.91 L185.879 1548.85 L165.972 1548.85 L165.972 1544.91 Z\" fill=\"#000000\" fill-rule=\"nonzero\" fill-opacity=\"1\" /><path clip-path=\"url(#clip250)\" d=\"M698.681 1544.91 L715 1544.91 L715 1548.85 L693.056 1548.85 L693.056 1544.91 Q695.718 1542.16 700.301 1537.53 Q704.908 1532.88 706.088 1531.53 Q708.334 1529.01 709.213 1527.27 Q710.116 1525.51 710.116 1523.82 Q710.116 1521.07 708.172 1519.33 Q706.25 1517.6 703.149 1517.6 Q700.949 1517.6 698.496 1518.36 Q696.065 1519.13 693.287 1520.68 L693.287 1515.95 Q696.112 1514.82 698.565 1514.24 Q701.019 1513.66 703.056 1513.66 Q708.426 1513.66 711.621 1516.35 Q714.815 1519.03 714.815 1523.52 Q714.815 1525.65 714.005 1527.57 Q713.218 1529.47 711.111 1532.07 Q710.533 1532.74 707.431 1535.95 Q704.329 1539.15 698.681 1544.91 Z\" fill=\"#000000\" fill-rule=\"nonzero\" fill-opacity=\"1\" /><path clip-path=\"url(#clip250)\" d=\"M1236.71 1530.21 Q1240.07 1530.93 1241.95 1533.2 Q1243.84 1535.47 1243.84 1538.8 Q1243.84 1543.92 1240.33 1546.72 Q1236.81 1549.52 1230.33 1549.52 Q1228.15 1549.52 1225.83 1549.08 Q1223.54 1548.66 1221.09 1547.81 L1221.09 1543.29 Q1223.03 1544.43 1225.35 1545.01 Q1227.66 1545.58 1230.19 1545.58 Q1234.58 1545.58 1236.88 1543.85 Q1239.19 1542.11 1239.19 1538.8 Q1239.19 1535.75 1237.04 1534.03 Q1234.91 1532.3 1231.09 1532.3 L1227.06 1532.3 L1227.06 1528.45 L1231.27 1528.45 Q1234.72 1528.45 1236.55 1527.09 Q1238.38 1525.7 1238.38 1523.11 Q1238.38 1520.45 1236.48 1519.03 Q1234.61 1517.6 1231.09 1517.6 Q1229.17 1517.6 1226.97 1518.01 Q1224.77 1518.43 1222.13 1519.31 L1222.13 1515.14 Q1224.79 1514.4 1227.11 1514.03 Q1229.45 1513.66 1231.51 1513.66 Q1236.83 1513.66 1239.93 1516.09 Q1243.03 1518.5 1243.03 1522.62 Q1243.03 1525.49 1241.39 1527.48 Q1239.75 1529.45 1236.71 1530.21 Z\" fill=\"#000000\" fill-rule=\"nonzero\" fill-opacity=\"1\" /><path clip-path=\"url(#clip250)\" d=\"M1763.91 1518.36 L1752.11 1536.81 L1763.91 1536.81 L1763.91 1518.36 M1762.69 1514.29 L1768.57 1514.29 L1768.57 1536.81 L1773.5 1536.81 L1773.5 1540.7 L1768.57 1540.7 L1768.57 1548.85 L1763.91 1548.85 L1763.91 1540.7 L1748.31 1540.7 L1748.31 1536.19 L1762.69 1514.29 Z\" fill=\"#000000\" fill-rule=\"nonzero\" fill-opacity=\"1\" /><path clip-path=\"url(#clip250)\" d=\"M2279.62 1514.29 L2297.98 1514.29 L2297.98 1518.22 L2283.9 1518.22 L2283.9 1526.7 Q2284.92 1526.35 2285.94 1526.19 Q2286.96 1526 2287.98 1526 Q2293.76 1526 2297.14 1529.17 Q2300.52 1532.34 2300.52 1537.76 Q2300.52 1543.34 2297.05 1546.44 Q2293.58 1549.52 2287.26 1549.52 Q2285.08 1549.52 2282.82 1549.15 Q2280.57 1548.78 2278.16 1548.04 L2278.16 1543.34 Q2280.25 1544.47 2282.47 1545.03 Q2284.69 1545.58 2287.17 1545.58 Q2291.17 1545.58 2293.51 1543.48 Q2295.85 1541.37 2295.85 1537.76 Q2295.85 1534.15 2293.51 1532.04 Q2291.17 1529.94 2287.17 1529.94 Q2285.29 1529.94 2283.42 1530.35 Q2281.57 1530.77 2279.62 1531.65 L2279.62 1514.29 Z\" fill=\"#000000\" fill-rule=\"nonzero\" fill-opacity=\"1\" /><polyline clip-path=\"url(#clip252)\" style=\"stroke:#000000; stroke-linecap:round; stroke-linejoin:round; stroke-width:2; stroke-opacity:0.1; fill:none\" points=\"112.177,87.9763 2352.76,87.9763 \"/>\n",
       "<polyline clip-path=\"url(#clip252)\" style=\"stroke:#000000; stroke-linecap:round; stroke-linejoin:round; stroke-width:2; stroke-opacity:0.1; fill:none\" points=\"112.177,427.411 2352.76,427.411 \"/>\n",
       "<polyline clip-path=\"url(#clip252)\" style=\"stroke:#000000; stroke-linecap:round; stroke-linejoin:round; stroke-width:2; stroke-opacity:0.1; fill:none\" points=\"112.177,766.846 2352.76,766.846 \"/>\n",
       "<polyline clip-path=\"url(#clip252)\" style=\"stroke:#000000; stroke-linecap:round; stroke-linejoin:round; stroke-width:2; stroke-opacity:0.1; fill:none\" points=\"112.177,1106.28 2352.76,1106.28 \"/>\n",
       "<polyline clip-path=\"url(#clip252)\" style=\"stroke:#000000; stroke-linecap:round; stroke-linejoin:round; stroke-width:2; stroke-opacity:0.1; fill:none\" points=\"112.177,1445.72 2352.76,1445.72 \"/>\n",
       "<polyline clip-path=\"url(#clip250)\" style=\"stroke:#000000; stroke-linecap:round; stroke-linejoin:round; stroke-width:4; stroke-opacity:1; fill:none\" points=\"112.177,47.2441 112.177,1486.45 \"/>\n",
       "<polyline clip-path=\"url(#clip250)\" style=\"stroke:#000000; stroke-linecap:round; stroke-linejoin:round; stroke-width:4; stroke-opacity:1; fill:none\" points=\"112.177,87.9763 131.075,87.9763 \"/>\n",
       "<polyline clip-path=\"url(#clip250)\" style=\"stroke:#000000; stroke-linecap:round; stroke-linejoin:round; stroke-width:4; stroke-opacity:1; fill:none\" points=\"112.177,427.411 131.075,427.411 \"/>\n",
       "<polyline clip-path=\"url(#clip250)\" style=\"stroke:#000000; stroke-linecap:round; stroke-linejoin:round; stroke-width:4; stroke-opacity:1; fill:none\" points=\"112.177,766.846 131.075,766.846 \"/>\n",
       "<polyline clip-path=\"url(#clip250)\" style=\"stroke:#000000; stroke-linecap:round; stroke-linejoin:round; stroke-width:4; stroke-opacity:1; fill:none\" points=\"112.177,1106.28 131.075,1106.28 \"/>\n",
       "<polyline clip-path=\"url(#clip250)\" style=\"stroke:#000000; stroke-linecap:round; stroke-linejoin:round; stroke-width:4; stroke-opacity:1; fill:none\" points=\"112.177,1445.72 131.075,1445.72 \"/>\n",
       "<path clip-path=\"url(#clip250)\" d=\"M56.2699 101.321 L63.9087 101.321 L63.9087 74.9555 L55.5986 76.6222 L55.5986 72.3629 L63.8624 70.6963 L68.5383 70.6963 L68.5383 101.321 L76.1772 101.321 L76.1772 105.256 L56.2699 105.256 L56.2699 101.321 Z\" fill=\"#000000\" fill-rule=\"nonzero\" fill-opacity=\"1\" /><path clip-path=\"url(#clip250)\" d=\"M59.8578 440.756 L76.1772 440.756 L76.1772 444.691 L54.2328 444.691 L54.2328 440.756 Q56.8949 438.001 61.4782 433.372 Q66.0846 428.719 67.2652 427.376 Q69.5105 424.853 70.3902 423.117 Q71.2929 421.358 71.2929 419.668 Q71.2929 416.914 69.3485 415.177 Q67.4272 413.441 64.3254 413.441 Q62.1263 413.441 59.6726 414.205 Q57.2421 414.969 54.4643 416.52 L54.4643 411.798 Q57.2884 410.664 59.7421 410.085 Q62.1958 409.506 64.2328 409.506 Q69.6031 409.506 72.7976 412.191 Q75.992 414.876 75.992 419.367 Q75.992 421.497 75.1818 423.418 Q74.3948 425.316 72.2883 427.909 Q71.7096 428.58 68.6078 431.798 Q65.5059 434.992 59.8578 440.756 Z\" fill=\"#000000\" fill-rule=\"nonzero\" fill-opacity=\"1\" /><path clip-path=\"url(#clip250)\" d=\"M69.0476 765.492 Q72.404 766.209 74.279 768.478 Q76.1772 770.746 76.1772 774.08 Q76.1772 779.195 72.6587 781.996 Q69.1402 784.797 62.6587 784.797 Q60.4828 784.797 58.168 784.357 Q55.8764 783.941 53.4227 783.084 L53.4227 778.57 Q55.3671 779.705 57.6819 780.283 Q59.9967 780.862 62.5198 780.862 Q66.918 780.862 69.2096 779.126 Q71.5244 777.39 71.5244 774.08 Q71.5244 771.024 69.3717 769.311 Q67.242 767.575 63.4226 767.575 L59.3949 767.575 L59.3949 763.733 L63.6078 763.733 Q67.0569 763.733 68.8855 762.367 Q70.7142 760.978 70.7142 758.385 Q70.7142 755.723 68.8161 754.311 Q66.9411 752.876 63.4226 752.876 Q61.5013 752.876 59.3023 753.293 Q57.1032 753.709 54.4643 754.589 L54.4643 750.422 Q57.1264 749.682 59.4412 749.311 Q61.7791 748.941 63.8393 748.941 Q69.1633 748.941 72.2652 751.372 Q75.367 753.779 75.367 757.899 Q75.367 760.77 73.7235 762.76 Q72.08 764.728 69.0476 765.492 Z\" fill=\"#000000\" fill-rule=\"nonzero\" fill-opacity=\"1\" /><path clip-path=\"url(#clip250)\" d=\"M66.5939 1093.07 L54.7884 1111.52 L66.5939 1111.52 L66.5939 1093.07 M65.367 1089 L71.2466 1089 L71.2466 1111.52 L76.1772 1111.52 L76.1772 1115.41 L71.2466 1115.41 L71.2466 1123.56 L66.5939 1123.56 L66.5939 1115.41 L50.9921 1115.41 L50.9921 1110.9 L65.367 1089 Z\" fill=\"#000000\" fill-rule=\"nonzero\" fill-opacity=\"1\" /><path clip-path=\"url(#clip250)\" d=\"M55.2745 1428.44 L73.6309 1428.44 L73.6309 1432.37 L59.5569 1432.37 L59.5569 1440.84 Q60.5754 1440.5 61.5939 1440.33 Q62.6124 1440.15 63.6309 1440.15 Q69.418 1440.15 72.7976 1443.32 Q76.1772 1446.49 76.1772 1451.91 Q76.1772 1457.49 72.705 1460.59 Q69.2328 1463.67 62.9134 1463.67 Q60.7374 1463.67 58.4689 1463.3 Q56.2236 1462.93 53.8162 1462.19 L53.8162 1457.49 Q55.8995 1458.62 58.1217 1459.18 Q60.3439 1459.73 62.8208 1459.73 Q66.8254 1459.73 69.1633 1457.63 Q71.5013 1455.52 71.5013 1451.91 Q71.5013 1448.3 69.1633 1446.19 Q66.8254 1444.08 62.8208 1444.08 Q60.9458 1444.08 59.0708 1444.5 Q57.2189 1444.92 55.2745 1445.8 L55.2745 1428.44 Z\" fill=\"#000000\" fill-rule=\"nonzero\" fill-opacity=\"1\" /><circle clip-path=\"url(#clip252)\" cx=\"175.59\" cy=\"87.9763\" r=\"21.6\" fill=\"#0000ff\" fill-rule=\"evenodd\" fill-opacity=\"1\" stroke=\"#000000\" stroke-opacity=\"1\" stroke-width=\"3.2\"/>\n",
       "<circle clip-path=\"url(#clip252)\" cx=\"704.028\" cy=\"427.411\" r=\"21.6\" fill=\"#0000ff\" fill-rule=\"evenodd\" fill-opacity=\"1\" stroke=\"#000000\" stroke-opacity=\"1\" stroke-width=\"3.2\"/>\n",
       "<circle clip-path=\"url(#clip252)\" cx=\"1232.47\" cy=\"766.846\" r=\"21.6\" fill=\"#0000ff\" fill-rule=\"evenodd\" fill-opacity=\"1\" stroke=\"#000000\" stroke-opacity=\"1\" stroke-width=\"3.2\"/>\n",
       "<circle clip-path=\"url(#clip252)\" cx=\"1760.9\" cy=\"1106.28\" r=\"21.6\" fill=\"#0000ff\" fill-rule=\"evenodd\" fill-opacity=\"1\" stroke=\"#000000\" stroke-opacity=\"1\" stroke-width=\"3.2\"/>\n",
       "<circle clip-path=\"url(#clip252)\" cx=\"2289.34\" cy=\"1445.72\" r=\"21.6\" fill=\"#0000ff\" fill-rule=\"evenodd\" fill-opacity=\"1\" stroke=\"#000000\" stroke-opacity=\"1\" stroke-width=\"3.2\"/>\n",
       "</svg>\n"
      ]
     },
     "metadata": {},
     "output_type": "display_data"
    }
   ],
   "source": [
    "#Alternative\n",
    "plt.scatter(I,J;ms=6,mc=:blue,yflip=true,label=\"\")"
   ]
  },
  {
   "cell_type": "code",
   "execution_count": 89,
   "metadata": {},
   "outputs": [
    {
     "data": {
      "text/plain": [
       "3×5 SparseArrays.SparseMatrixCSC{Float64, Int64} with 0 stored entries:\n",
       "  ⋅    ⋅    ⋅    ⋅    ⋅ \n",
       "  ⋅    ⋅    ⋅    ⋅    ⋅ \n",
       "  ⋅    ⋅    ⋅    ⋅    ⋅ "
      ]
     },
     "metadata": {},
     "output_type": "display_data"
    }
   ],
   "source": [
    "spa.spzeros(3,5)"
   ]
  },
  {
   "cell_type": "code",
   "execution_count": 90,
   "metadata": {},
   "outputs": [
    {
     "data": {
      "text/plain": [
       "5×5 SparseArrays.SparseMatrixCSC{Int64, Int64} with 7 stored entries:\n",
       " ⋅  2  ⋅   ⋅  ⋅\n",
       " ⋅  ⋅  4   ⋅  ⋅\n",
       " 1  ⋅  ⋅  -1  ⋅\n",
       " ⋅  2  ⋅   ⋅  2\n",
       " ⋅  ⋅  3   ⋅  ⋅"
      ]
     },
     "metadata": {},
     "output_type": "display_data"
    }
   ],
   "source": [
    "Cs = spa.spdiagm(-2 => [1,2,3],1 => [2,4,-1,2])"
   ]
  },
  {
   "cell_type": "code",
   "execution_count": 91,
   "metadata": {},
   "outputs": [
    {
     "data": {
      "text/plain": [
       "13×19 SparseArrays.SparseMatrixCSC{Float64, Int64} with 15 stored entries:\n",
       "⎡⠑⢄⠀⠀⠀⠀⠀⠀⠀⠀⎤\n",
       "⎢⠀⠀⠁⠀⠂⠠⢀⠀⠀⠀⎥\n",
       "⎢⠀⠀⠀⠀⠀⠀⠀⢌⠢⡀⎥\n",
       "⎣⠀⠀⠀⠀⠀⠀⠀⠀⠁⠀⎦"
      ]
     },
     "metadata": {},
     "output_type": "display_data"
    }
   ],
   "source": [
    "Ds = spa.blockdiag(As,Bs,Cs)"
   ]
  },
  {
   "cell_type": "code",
   "execution_count": 92,
   "metadata": {},
   "outputs": [
    {
     "data": {
      "image/png": "[encoded data removed]",
      "image/svg+xml": [
       "<?xml version=\"1.0\" encoding=\"utf-8\"?>\n",
       "<svg xmlns=\"http://www.w3.org/2000/svg\" xmlns:xlink=\"http://www.w3.org/1999/xlink\" width=\"600\" height=\"400\" viewBox=\"0 0 2400 1600\">\n",
       "<defs>\n",
       "  <clipPath id=\"clip290\">\n",
       "    <rect x=\"0\" y=\"0\" width=\"2400\" height=\"1600\"/>\n",
       "  </clipPath>\n",
       "</defs>\n",
       "<path clip-path=\"url(#clip290)\" d=\"M0 1600 L2400 1600 L2400 0 L0 0  Z\" fill=\"#ffffff\" fill-rule=\"evenodd\" fill-opacity=\"1\"/>\n",
       "<defs>\n",
       "  <clipPath id=\"clip291\">\n",
       "    <rect x=\"480\" y=\"0\" width=\"1681\" height=\"1600\"/>\n",
       "  </clipPath>\n",
       "</defs>\n",
       "<path clip-path=\"url(#clip290)\" d=\"M184.191 1486.45 L2352.76 1486.45 L2352.76 47.2441 L184.191 47.2441  Z\" fill=\"#ffffff\" fill-rule=\"evenodd\" fill-opacity=\"1\"/>\n",
       "<defs>\n",
       "  <clipPath id=\"clip292\">\n",
       "    <rect x=\"184\" y=\"47\" width=\"2170\" height=\"1440\"/>\n",
       "  </clipPath>\n",
       "</defs>\n",
       "<polyline clip-path=\"url(#clip292)\" style=\"stroke:#000000; stroke-linecap:round; stroke-linejoin:round; stroke-width:2; stroke-opacity:0.1; fill:none\" points=\"501.292,47.2441 501.292,1486.45 \"/>\n",
       "<polyline clip-path=\"url(#clip292)\" style=\"stroke:#000000; stroke-linecap:round; stroke-linejoin:round; stroke-width:2; stroke-opacity:0.1; fill:none\" points=\"927.504,47.2441 927.504,1486.45 \"/>\n",
       "<polyline clip-path=\"url(#clip292)\" style=\"stroke:#000000; stroke-linecap:round; stroke-linejoin:round; stroke-width:2; stroke-opacity:0.1; fill:none\" points=\"1353.72,47.2441 1353.72,1486.45 \"/>\n",
       "<polyline clip-path=\"url(#clip292)\" style=\"stroke:#000000; stroke-linecap:round; stroke-linejoin:round; stroke-width:2; stroke-opacity:0.1; fill:none\" points=\"1779.93,47.2441 1779.93,1486.45 \"/>\n",
       "<polyline clip-path=\"url(#clip292)\" style=\"stroke:#000000; stroke-linecap:round; stroke-linejoin:round; stroke-width:2; stroke-opacity:0.1; fill:none\" points=\"2206.14,47.2441 2206.14,1486.45 \"/>\n",
       "<polyline clip-path=\"url(#clip290)\" style=\"stroke:#000000; stroke-linecap:round; stroke-linejoin:round; stroke-width:4; stroke-opacity:1; fill:none\" points=\"184.191,1486.45 2352.76,1486.45 \"/>\n",
       "<polyline clip-path=\"url(#clip290)\" style=\"stroke:#000000; stroke-linecap:round; stroke-linejoin:round; stroke-width:4; stroke-opacity:1; fill:none\" points=\"501.292,1486.45 501.292,1467.55 \"/>\n",
       "<polyline clip-path=\"url(#clip290)\" style=\"stroke:#000000; stroke-linecap:round; stroke-linejoin:round; stroke-width:4; stroke-opacity:1; fill:none\" points=\"927.504,1486.45 927.504,1467.55 \"/>\n",
       "<polyline clip-path=\"url(#clip290)\" style=\"stroke:#000000; stroke-linecap:round; stroke-linejoin:round; stroke-width:4; stroke-opacity:1; fill:none\" points=\"1353.72,1486.45 1353.72,1467.55 \"/>\n",
       "<polyline clip-path=\"url(#clip290)\" style=\"stroke:#000000; stroke-linecap:round; stroke-linejoin:round; stroke-width:4; stroke-opacity:1; fill:none\" points=\"1779.93,1486.45 1779.93,1467.55 \"/>\n",
       "<polyline clip-path=\"url(#clip290)\" style=\"stroke:#000000; stroke-linecap:round; stroke-linejoin:round; stroke-width:4; stroke-opacity:1; fill:none\" points=\"2206.14,1486.45 2206.14,1467.55 \"/>\n",
       "<path clip-path=\"url(#clip290)\" d=\"M473.028 1544.91 L489.348 1544.91 L489.348 1548.85 L467.403 1548.85 L467.403 1544.91 Q470.066 1542.16 474.649 1537.53 Q479.255 1532.88 480.436 1531.53 Q482.681 1529.01 483.561 1527.27 Q484.464 1525.51 484.464 1523.82 Q484.464 1521.07 482.519 1519.33 Q480.598 1517.6 477.496 1517.6 Q475.297 1517.6 472.843 1518.36 Q470.413 1519.13 467.635 1520.68 L467.635 1515.95 Q470.459 1514.82 472.913 1514.24 Q475.366 1513.66 477.403 1513.66 Q482.774 1513.66 485.968 1516.35 Q489.163 1519.03 489.163 1523.52 Q489.163 1525.65 488.352 1527.57 Q487.565 1529.47 485.459 1532.07 Q484.88 1532.74 481.778 1535.95 Q478.677 1539.15 473.028 1544.91 Z\" fill=\"#000000\" fill-rule=\"nonzero\" fill-opacity=\"1\" /><path clip-path=\"url(#clip290)\" d=\"M499.163 1542.97 L504.047 1542.97 L504.047 1548.85 L499.163 1548.85 L499.163 1542.97 Z\" fill=\"#000000\" fill-rule=\"nonzero\" fill-opacity=\"1\" /><path clip-path=\"url(#clip290)\" d=\"M514.278 1514.29 L532.635 1514.29 L532.635 1518.22 L518.561 1518.22 L518.561 1526.7 Q519.579 1526.35 520.598 1526.19 Q521.616 1526 522.635 1526 Q528.422 1526 531.801 1529.17 Q535.181 1532.34 535.181 1537.76 Q535.181 1543.34 531.709 1546.44 Q528.236 1549.52 521.917 1549.52 Q519.741 1549.52 517.473 1549.15 Q515.227 1548.78 512.82 1548.04 L512.82 1543.34 Q514.903 1544.47 517.125 1545.03 Q519.348 1545.58 521.824 1545.58 Q525.829 1545.58 528.167 1543.48 Q530.505 1541.37 530.505 1537.76 Q530.505 1534.15 528.167 1532.04 Q525.829 1529.94 521.824 1529.94 Q519.95 1529.94 518.075 1530.35 Q516.223 1530.77 514.278 1531.65 L514.278 1514.29 Z\" fill=\"#000000\" fill-rule=\"nonzero\" fill-opacity=\"1\" /><path clip-path=\"url(#clip290)\" d=\"M894.668 1514.29 L913.025 1514.29 L913.025 1518.22 L898.951 1518.22 L898.951 1526.7 Q899.969 1526.35 900.988 1526.19 Q902.006 1526 903.025 1526 Q908.812 1526 912.191 1529.17 Q915.571 1532.34 915.571 1537.76 Q915.571 1543.34 912.099 1546.44 Q908.627 1549.52 902.307 1549.52 Q900.131 1549.52 897.863 1549.15 Q895.618 1548.78 893.21 1548.04 L893.21 1543.34 Q895.293 1544.47 897.516 1545.03 Q899.738 1545.58 902.215 1545.58 Q906.219 1545.58 908.557 1543.48 Q910.895 1541.37 910.895 1537.76 Q910.895 1534.15 908.557 1532.04 Q906.219 1529.94 902.215 1529.94 Q900.34 1529.94 898.465 1530.35 Q896.613 1530.77 894.668 1531.65 L894.668 1514.29 Z\" fill=\"#000000\" fill-rule=\"nonzero\" fill-opacity=\"1\" /><path clip-path=\"url(#clip290)\" d=\"M924.784 1542.97 L929.668 1542.97 L929.668 1548.85 L924.784 1548.85 L924.784 1542.97 Z\" fill=\"#000000\" fill-rule=\"nonzero\" fill-opacity=\"1\" /><path clip-path=\"url(#clip290)\" d=\"M949.853 1517.37 Q946.242 1517.37 944.414 1520.93 Q942.608 1524.47 942.608 1531.6 Q942.608 1538.71 944.414 1542.27 Q946.242 1545.82 949.853 1545.82 Q953.488 1545.82 955.293 1542.27 Q957.122 1538.71 957.122 1531.6 Q957.122 1524.47 955.293 1520.93 Q953.488 1517.37 949.853 1517.37 M949.853 1513.66 Q955.663 1513.66 958.719 1518.27 Q961.798 1522.85 961.798 1531.6 Q961.798 1540.33 958.719 1544.94 Q955.663 1549.52 949.853 1549.52 Q944.043 1549.52 940.964 1544.94 Q937.909 1540.33 937.909 1531.6 Q937.909 1522.85 940.964 1518.27 Q944.043 1513.66 949.853 1513.66 Z\" fill=\"#000000\" fill-rule=\"nonzero\" fill-opacity=\"1\" /><path clip-path=\"url(#clip290)\" d=\"M1320.04 1514.29 L1342.26 1514.29 L1342.26 1516.28 L1329.71 1548.85 L1324.83 1548.85 L1336.63 1518.22 L1320.04 1518.22 L1320.04 1514.29 Z\" fill=\"#000000\" fill-rule=\"nonzero\" fill-opacity=\"1\" /><path clip-path=\"url(#clip290)\" d=\"M1351.38 1542.97 L1356.26 1542.97 L1356.26 1548.85 L1351.38 1548.85 L1351.38 1542.97 Z\" fill=\"#000000\" fill-rule=\"nonzero\" fill-opacity=\"1\" /><path clip-path=\"url(#clip290)\" d=\"M1366.49 1514.29 L1384.85 1514.29 L1384.85 1518.22 L1370.78 1518.22 L1370.78 1526.7 Q1371.79 1526.35 1372.81 1526.19 Q1373.83 1526 1374.85 1526 Q1380.64 1526 1384.02 1529.17 Q1387.4 1532.34 1387.4 1537.76 Q1387.4 1543.34 1383.92 1546.44 Q1380.45 1549.52 1374.13 1549.52 Q1371.96 1549.52 1369.69 1549.15 Q1367.44 1548.78 1365.04 1548.04 L1365.04 1543.34 Q1367.12 1544.47 1369.34 1545.03 Q1371.56 1545.58 1374.04 1545.58 Q1378.04 1545.58 1380.38 1543.48 Q1382.72 1541.37 1382.72 1537.76 Q1382.72 1534.15 1380.38 1532.04 Q1378.04 1529.94 1374.04 1529.94 Q1372.16 1529.94 1370.29 1530.35 Q1368.44 1530.77 1366.49 1531.65 L1366.49 1514.29 Z\" fill=\"#000000\" fill-rule=\"nonzero\" fill-opacity=\"1\" /><path clip-path=\"url(#clip290)\" d=\"M1732 1544.91 L1739.64 1544.91 L1739.64 1518.55 L1731.33 1520.21 L1731.33 1515.95 L1739.59 1514.29 L1744.27 1514.29 L1744.27 1544.91 L1751.91 1544.91 L1751.91 1548.85 L1732 1548.85 L1732 1544.91 Z\" fill=\"#000000\" fill-rule=\"nonzero\" fill-opacity=\"1\" /><path clip-path=\"url(#clip290)\" d=\"M1771.35 1517.37 Q1767.74 1517.37 1765.91 1520.93 Q1764.11 1524.47 1764.11 1531.6 Q1764.11 1538.71 1765.91 1542.27 Q1767.74 1545.82 1771.35 1545.82 Q1774.99 1545.82 1776.79 1542.27 Q1778.62 1538.71 1778.62 1531.6 Q1778.62 1524.47 1776.79 1520.93 Q1774.99 1517.37 1771.35 1517.37 M1771.35 1513.66 Q1777.16 1513.66 1780.22 1518.27 Q1783.3 1522.85 1783.3 1531.6 Q1783.3 1540.33 1780.22 1544.94 Q1777.16 1549.52 1771.35 1549.52 Q1765.54 1549.52 1762.46 1544.94 Q1759.41 1540.33 1759.41 1531.6 Q1759.41 1522.85 1762.46 1518.27 Q1765.54 1513.66 1771.35 1513.66 Z\" fill=\"#000000\" fill-rule=\"nonzero\" fill-opacity=\"1\" /><path clip-path=\"url(#clip290)\" d=\"M1791.51 1542.97 L1796.4 1542.97 L1796.4 1548.85 L1791.51 1548.85 L1791.51 1542.97 Z\" fill=\"#000000\" fill-rule=\"nonzero\" fill-opacity=\"1\" /><path clip-path=\"url(#clip290)\" d=\"M1816.58 1517.37 Q1812.97 1517.37 1811.14 1520.93 Q1809.34 1524.47 1809.34 1531.6 Q1809.34 1538.71 1811.14 1542.27 Q1812.97 1545.82 1816.58 1545.82 Q1820.22 1545.82 1822.02 1542.27 Q1823.85 1538.71 1823.85 1531.6 Q1823.85 1524.47 1822.02 1520.93 Q1820.22 1517.37 1816.58 1517.37 M1816.58 1513.66 Q1822.39 1513.66 1825.45 1518.27 Q1828.53 1522.85 1828.53 1531.6 Q1828.53 1540.33 1825.45 1544.94 Q1822.39 1549.52 1816.58 1549.52 Q1810.77 1549.52 1807.69 1544.94 Q1804.64 1540.33 1804.64 1531.6 Q1804.64 1522.85 1807.69 1518.27 Q1810.77 1513.66 1816.58 1513.66 Z\" fill=\"#000000\" fill-rule=\"nonzero\" fill-opacity=\"1\" /><path clip-path=\"url(#clip290)\" d=\"M2158.71 1544.91 L2166.35 1544.91 L2166.35 1518.55 L2158.04 1520.21 L2158.04 1515.95 L2166.3 1514.29 L2170.98 1514.29 L2170.98 1544.91 L2178.62 1544.91 L2178.62 1548.85 L2158.71 1548.85 L2158.71 1544.91 Z\" fill=\"#000000\" fill-rule=\"nonzero\" fill-opacity=\"1\" /><path clip-path=\"url(#clip290)\" d=\"M2192.09 1544.91 L2208.41 1544.91 L2208.41 1548.85 L2186.46 1548.85 L2186.46 1544.91 Q2189.13 1542.16 2193.71 1537.53 Q2198.32 1532.88 2199.5 1531.53 Q2201.74 1529.01 2202.62 1527.27 Q2203.52 1525.51 2203.52 1523.82 Q2203.52 1521.07 2201.58 1519.33 Q2199.66 1517.6 2196.56 1517.6 Q2194.36 1517.6 2191.9 1518.36 Q2189.47 1519.13 2186.69 1520.68 L2186.69 1515.95 Q2189.52 1514.82 2191.97 1514.24 Q2194.43 1513.66 2196.46 1513.66 Q2201.83 1513.66 2205.03 1516.35 Q2208.22 1519.03 2208.22 1523.52 Q2208.22 1525.65 2207.41 1527.57 Q2206.63 1529.47 2204.52 1532.07 Q2203.94 1532.74 2200.84 1535.95 Q2197.74 1539.15 2192.09 1544.91 Z\" fill=\"#000000\" fill-rule=\"nonzero\" fill-opacity=\"1\" /><path clip-path=\"url(#clip290)\" d=\"M2218.22 1542.97 L2223.11 1542.97 L2223.11 1548.85 L2218.22 1548.85 L2218.22 1542.97 Z\" fill=\"#000000\" fill-rule=\"nonzero\" fill-opacity=\"1\" /><path clip-path=\"url(#clip290)\" d=\"M2233.34 1514.29 L2251.69 1514.29 L2251.69 1518.22 L2237.62 1518.22 L2237.62 1526.7 Q2238.64 1526.35 2239.66 1526.19 Q2240.68 1526 2241.69 1526 Q2247.48 1526 2250.86 1529.17 Q2254.24 1532.34 2254.24 1537.76 Q2254.24 1543.34 2250.77 1546.44 Q2247.3 1549.52 2240.98 1549.52 Q2238.8 1549.52 2236.53 1549.15 Q2234.29 1548.78 2231.88 1548.04 L2231.88 1543.34 Q2233.96 1544.47 2236.19 1545.03 Q2238.41 1545.58 2240.88 1545.58 Q2244.89 1545.58 2247.23 1543.48 Q2249.56 1541.37 2249.56 1537.76 Q2249.56 1534.15 2247.23 1532.04 Q2244.89 1529.94 2240.88 1529.94 Q2239.01 1529.94 2237.13 1530.35 Q2235.28 1530.77 2233.34 1531.65 L2233.34 1514.29 Z\" fill=\"#000000\" fill-rule=\"nonzero\" fill-opacity=\"1\" /><polyline clip-path=\"url(#clip292)\" style=\"stroke:#000000; stroke-linecap:round; stroke-linejoin:round; stroke-width:2; stroke-opacity:0.1; fill:none\" points=\"184.191,201.121 2352.76,201.121 \"/>\n",
       "<polyline clip-path=\"url(#clip292)\" style=\"stroke:#000000; stroke-linecap:round; stroke-linejoin:round; stroke-width:2; stroke-opacity:0.1; fill:none\" points=\"184.191,389.696 2352.76,389.696 \"/>\n",
       "<polyline clip-path=\"url(#clip292)\" style=\"stroke:#000000; stroke-linecap:round; stroke-linejoin:round; stroke-width:2; stroke-opacity:0.1; fill:none\" points=\"184.191,578.271 2352.76,578.271 \"/>\n",
       "<polyline clip-path=\"url(#clip292)\" style=\"stroke:#000000; stroke-linecap:round; stroke-linejoin:round; stroke-width:2; stroke-opacity:0.1; fill:none\" points=\"184.191,766.846 2352.76,766.846 \"/>\n",
       "<polyline clip-path=\"url(#clip292)\" style=\"stroke:#000000; stroke-linecap:round; stroke-linejoin:round; stroke-width:2; stroke-opacity:0.1; fill:none\" points=\"184.191,955.421 2352.76,955.421 \"/>\n",
       "<polyline clip-path=\"url(#clip292)\" style=\"stroke:#000000; stroke-linecap:round; stroke-linejoin:round; stroke-width:2; stroke-opacity:0.1; fill:none\" points=\"184.191,1144 2352.76,1144 \"/>\n",
       "<polyline clip-path=\"url(#clip292)\" style=\"stroke:#000000; stroke-linecap:round; stroke-linejoin:round; stroke-width:2; stroke-opacity:0.1; fill:none\" points=\"184.191,1332.57 2352.76,1332.57 \"/>\n",
       "<polyline clip-path=\"url(#clip290)\" style=\"stroke:#000000; stroke-linecap:round; stroke-linejoin:round; stroke-width:4; stroke-opacity:1; fill:none\" points=\"184.191,47.2441 184.191,1486.45 \"/>\n",
       "<polyline clip-path=\"url(#clip290)\" style=\"stroke:#000000; stroke-linecap:round; stroke-linejoin:round; stroke-width:4; stroke-opacity:1; fill:none\" points=\"184.191,201.121 203.088,201.121 \"/>\n",
       "<polyline clip-path=\"url(#clip290)\" style=\"stroke:#000000; stroke-linecap:round; stroke-linejoin:round; stroke-width:4; stroke-opacity:1; fill:none\" points=\"184.191,389.696 203.088,389.696 \"/>\n",
       "<polyline clip-path=\"url(#clip290)\" style=\"stroke:#000000; stroke-linecap:round; stroke-linejoin:round; stroke-width:4; stroke-opacity:1; fill:none\" points=\"184.191,578.271 203.088,578.271 \"/>\n",
       "<polyline clip-path=\"url(#clip290)\" style=\"stroke:#000000; stroke-linecap:round; stroke-linejoin:round; stroke-width:4; stroke-opacity:1; fill:none\" points=\"184.191,766.846 203.088,766.846 \"/>\n",
       "<polyline clip-path=\"url(#clip290)\" style=\"stroke:#000000; stroke-linecap:round; stroke-linejoin:round; stroke-width:4; stroke-opacity:1; fill:none\" points=\"184.191,955.421 203.088,955.421 \"/>\n",
       "<polyline clip-path=\"url(#clip290)\" style=\"stroke:#000000; stroke-linecap:round; stroke-linejoin:round; stroke-width:4; stroke-opacity:1; fill:none\" points=\"184.191,1144 203.088,1144 \"/>\n",
       "<polyline clip-path=\"url(#clip290)\" style=\"stroke:#000000; stroke-linecap:round; stroke-linejoin:round; stroke-width:4; stroke-opacity:1; fill:none\" points=\"184.191,1332.57 203.088,1332.57 \"/>\n",
       "<path clip-path=\"url(#clip290)\" d=\"M86.0382 214.466 L102.358 214.466 L102.358 218.401 L80.4133 218.401 L80.4133 214.466 Q83.0753 211.711 87.6586 207.082 Q92.2651 202.429 93.4456 201.087 Q95.691 198.563 96.5706 196.827 Q97.4734 195.068 97.4734 193.378 Q97.4734 190.624 95.5289 188.887 Q93.6076 187.151 90.5058 187.151 Q88.3067 187.151 85.8531 187.915 Q83.4225 188.679 80.6447 190.23 L80.6447 185.508 Q83.4688 184.374 85.9225 183.795 Q88.3762 183.216 90.4132 183.216 Q95.7836 183.216 98.978 185.901 Q102.172 188.587 102.172 193.077 Q102.172 195.207 101.362 197.128 Q100.575 199.026 98.4687 201.619 Q97.89 202.29 94.7882 205.508 Q91.6864 208.702 86.0382 214.466 Z\" fill=\"#000000\" fill-rule=\"nonzero\" fill-opacity=\"1\" /><path clip-path=\"url(#clip290)\" d=\"M112.172 212.522 L117.057 212.522 L117.057 218.401 L112.172 218.401 L112.172 212.522 Z\" fill=\"#000000\" fill-rule=\"nonzero\" fill-opacity=\"1\" /><path clip-path=\"url(#clip290)\" d=\"M127.288 183.841 L145.644 183.841 L145.644 187.776 L131.57 187.776 L131.57 196.249 Q132.589 195.901 133.607 195.739 Q134.626 195.554 135.644 195.554 Q141.431 195.554 144.811 198.725 Q148.191 201.897 148.191 207.313 Q148.191 212.892 144.718 215.994 Q141.246 219.073 134.927 219.073 Q132.751 219.073 130.482 218.702 Q128.237 218.332 125.83 217.591 L125.83 212.892 Q127.913 214.026 130.135 214.582 Q132.357 215.137 134.834 215.137 Q138.839 215.137 141.177 213.031 Q143.515 210.924 143.515 207.313 Q143.515 203.702 141.177 201.596 Q138.839 199.489 134.834 199.489 Q132.959 199.489 131.084 199.906 Q129.232 200.323 127.288 201.202 L127.288 183.841 Z\" fill=\"#000000\" fill-rule=\"nonzero\" fill-opacity=\"1\" /><path clip-path=\"url(#clip290)\" d=\"M81.0614 372.416 L99.4178 372.416 L99.4178 376.351 L85.3438 376.351 L85.3438 384.823 Q86.3623 384.476 87.3808 384.314 Q88.3993 384.129 89.4178 384.129 Q95.2049 384.129 98.5845 387.3 Q101.964 390.472 101.964 395.888 Q101.964 401.467 98.4919 404.569 Q95.0197 407.647 88.7003 407.647 Q86.5243 407.647 84.2558 407.277 Q82.0105 406.907 79.6031 406.166 L79.6031 401.467 Q81.6864 402.601 83.9086 403.157 Q86.1308 403.712 88.6077 403.712 Q92.6123 403.712 94.9502 401.606 Q97.2882 399.499 97.2882 395.888 Q97.2882 392.277 94.9502 390.171 Q92.6123 388.064 88.6077 388.064 Q86.7327 388.064 84.8577 388.481 Q83.0058 388.898 81.0614 389.777 L81.0614 372.416 Z\" fill=\"#000000\" fill-rule=\"nonzero\" fill-opacity=\"1\" /><path clip-path=\"url(#clip290)\" d=\"M111.177 401.097 L116.061 401.097 L116.061 406.976 L111.177 406.976 L111.177 401.097 Z\" fill=\"#000000\" fill-rule=\"nonzero\" fill-opacity=\"1\" /><path clip-path=\"url(#clip290)\" d=\"M136.246 375.495 Q132.635 375.495 130.807 379.06 Q129.001 382.601 129.001 389.731 Q129.001 396.837 130.807 400.402 Q132.635 403.944 136.246 403.944 Q139.881 403.944 141.686 400.402 Q143.515 396.837 143.515 389.731 Q143.515 382.601 141.686 379.06 Q139.881 375.495 136.246 375.495 M136.246 371.791 Q142.056 371.791 145.112 376.398 Q148.191 380.981 148.191 389.731 Q148.191 398.458 145.112 403.064 Q142.056 407.647 136.246 407.647 Q130.436 407.647 127.357 403.064 Q124.302 398.458 124.302 389.731 Q124.302 380.981 127.357 376.398 Q130.436 371.791 136.246 371.791 Z\" fill=\"#000000\" fill-rule=\"nonzero\" fill-opacity=\"1\" /><path clip-path=\"url(#clip290)\" d=\"M80.8299 560.991 L103.052 560.991 L103.052 562.982 L90.5058 595.551 L85.6216 595.551 L97.4271 564.926 L80.8299 564.926 L80.8299 560.991 Z\" fill=\"#000000\" fill-rule=\"nonzero\" fill-opacity=\"1\" /><path clip-path=\"url(#clip290)\" d=\"M112.172 589.671 L117.057 589.671 L117.057 595.551 L112.172 595.551 L112.172 589.671 Z\" fill=\"#000000\" fill-rule=\"nonzero\" fill-opacity=\"1\" /><path clip-path=\"url(#clip290)\" d=\"M127.288 560.991 L145.644 560.991 L145.644 564.926 L131.57 564.926 L131.57 573.398 Q132.589 573.051 133.607 572.889 Q134.626 572.704 135.644 572.704 Q141.431 572.704 144.811 575.875 Q148.191 579.047 148.191 584.463 Q148.191 590.042 144.718 593.144 Q141.246 596.222 134.927 596.222 Q132.751 596.222 130.482 595.852 Q128.237 595.482 125.83 594.741 L125.83 590.042 Q127.913 591.176 130.135 591.732 Q132.357 592.287 134.834 592.287 Q138.839 592.287 141.177 590.181 Q143.515 588.074 143.515 584.463 Q143.515 580.852 141.177 578.746 Q138.839 576.639 134.834 576.639 Q132.959 576.639 131.084 577.056 Q129.232 577.472 127.288 578.352 L127.288 560.991 Z\" fill=\"#000000\" fill-rule=\"nonzero\" fill-opacity=\"1\" /><path clip-path=\"url(#clip290)\" d=\"M51.6634 780.191 L59.3023 780.191 L59.3023 753.825 L50.9921 755.492 L50.9921 751.233 L59.256 749.566 L63.9319 749.566 L63.9319 780.191 L71.5707 780.191 L71.5707 784.126 L51.6634 784.126 L51.6634 780.191 Z\" fill=\"#000000\" fill-rule=\"nonzero\" fill-opacity=\"1\" /><path clip-path=\"url(#clip290)\" d=\"M91.0151 752.645 Q87.404 752.645 85.5753 756.209 Q83.7697 759.751 83.7697 766.881 Q83.7697 773.987 85.5753 777.552 Q87.404 781.094 91.0151 781.094 Q94.6493 781.094 96.4548 777.552 Q98.2835 773.987 98.2835 766.881 Q98.2835 759.751 96.4548 756.209 Q94.6493 752.645 91.0151 752.645 M91.0151 748.941 Q96.8252 748.941 99.8808 753.547 Q102.959 758.131 102.959 766.881 Q102.959 775.608 99.8808 780.214 Q96.8252 784.797 91.0151 784.797 Q85.2049 784.797 82.1262 780.214 Q79.0707 775.608 79.0707 766.881 Q79.0707 758.131 82.1262 753.547 Q85.2049 748.941 91.0151 748.941 Z\" fill=\"#000000\" fill-rule=\"nonzero\" fill-opacity=\"1\" /><path clip-path=\"url(#clip290)\" d=\"M111.177 778.246 L116.061 778.246 L116.061 784.126 L111.177 784.126 L111.177 778.246 Z\" fill=\"#000000\" fill-rule=\"nonzero\" fill-opacity=\"1\" /><path clip-path=\"url(#clip290)\" d=\"M136.246 752.645 Q132.635 752.645 130.807 756.209 Q129.001 759.751 129.001 766.881 Q129.001 773.987 130.807 777.552 Q132.635 781.094 136.246 781.094 Q139.881 781.094 141.686 777.552 Q143.515 773.987 143.515 766.881 Q143.515 759.751 141.686 756.209 Q139.881 752.645 136.246 752.645 M136.246 748.941 Q142.056 748.941 145.112 753.547 Q148.191 758.131 148.191 766.881 Q148.191 775.608 145.112 780.214 Q142.056 784.797 136.246 784.797 Q130.436 784.797 127.357 780.214 Q124.302 775.608 124.302 766.881 Q124.302 758.131 127.357 753.547 Q130.436 748.941 136.246 748.941 Z\" fill=\"#000000\" fill-rule=\"nonzero\" fill-opacity=\"1\" /><path clip-path=\"url(#clip290)\" d=\"M52.6588 968.766 L60.2976 968.766 L60.2976 942.4 L51.9875 944.067 L51.9875 939.808 L60.2513 938.141 L64.9272 938.141 L64.9272 968.766 L72.5661 968.766 L72.5661 972.701 L52.6588 972.701 L52.6588 968.766 Z\" fill=\"#000000\" fill-rule=\"nonzero\" fill-opacity=\"1\" /><path clip-path=\"url(#clip290)\" d=\"M86.0382 968.766 L102.358 968.766 L102.358 972.701 L80.4133 972.701 L80.4133 968.766 Q83.0753 966.011 87.6586 961.382 Q92.2651 956.729 93.4456 955.386 Q95.691 952.863 96.5706 951.127 Q97.4734 949.368 97.4734 947.678 Q97.4734 944.923 95.5289 943.187 Q93.6076 941.451 90.5058 941.451 Q88.3067 941.451 85.8531 942.215 Q83.4225 942.979 80.6447 944.53 L80.6447 939.808 Q83.4688 938.673 85.9225 938.095 Q88.3762 937.516 90.4132 937.516 Q95.7836 937.516 98.978 940.201 Q102.172 942.886 102.172 947.377 Q102.172 949.507 101.362 951.428 Q100.575 953.326 98.4687 955.919 Q97.89 956.59 94.7882 959.807 Q91.6864 963.002 86.0382 968.766 Z\" fill=\"#000000\" fill-rule=\"nonzero\" fill-opacity=\"1\" /><path clip-path=\"url(#clip290)\" d=\"M112.172 966.821 L117.057 966.821 L117.057 972.701 L112.172 972.701 L112.172 966.821 Z\" fill=\"#000000\" fill-rule=\"nonzero\" fill-opacity=\"1\" /><path clip-path=\"url(#clip290)\" d=\"M127.288 938.141 L145.644 938.141 L145.644 942.076 L131.57 942.076 L131.57 950.548 Q132.589 950.201 133.607 950.039 Q134.626 949.854 135.644 949.854 Q141.431 949.854 144.811 953.025 Q148.191 956.196 148.191 961.613 Q148.191 967.192 144.718 970.294 Q141.246 973.372 134.927 973.372 Q132.751 973.372 130.482 973.002 Q128.237 972.631 125.83 971.891 L125.83 967.192 Q127.913 968.326 130.135 968.881 Q132.357 969.437 134.834 969.437 Q138.839 969.437 141.177 967.331 Q143.515 965.224 143.515 961.613 Q143.515 958.002 141.177 955.895 Q138.839 953.789 134.834 953.789 Q132.959 953.789 131.084 954.206 Q129.232 954.622 127.288 955.502 L127.288 938.141 Z\" fill=\"#000000\" fill-rule=\"nonzero\" fill-opacity=\"1\" /><path clip-path=\"url(#clip290)\" d=\"M51.6634 1157.34 L59.3023 1157.34 L59.3023 1130.98 L50.9921 1132.64 L50.9921 1128.38 L59.256 1126.72 L63.9319 1126.72 L63.9319 1157.34 L71.5707 1157.34 L71.5707 1161.28 L51.6634 1161.28 L51.6634 1157.34 Z\" fill=\"#000000\" fill-rule=\"nonzero\" fill-opacity=\"1\" /><path clip-path=\"url(#clip290)\" d=\"M81.0614 1126.72 L99.4178 1126.72 L99.4178 1130.65 L85.3438 1130.65 L85.3438 1139.12 Q86.3623 1138.78 87.3808 1138.61 Q88.3993 1138.43 89.4178 1138.43 Q95.2049 1138.43 98.5845 1141.6 Q101.964 1144.77 101.964 1150.19 Q101.964 1155.77 98.4919 1158.87 Q95.0197 1161.95 88.7003 1161.95 Q86.5243 1161.95 84.2558 1161.58 Q82.0105 1161.21 79.6031 1160.47 L79.6031 1155.77 Q81.6864 1156.9 83.9086 1157.46 Q86.1308 1158.01 88.6077 1158.01 Q92.6123 1158.01 94.9502 1155.91 Q97.2882 1153.8 97.2882 1150.19 Q97.2882 1146.58 94.9502 1144.47 Q92.6123 1142.36 88.6077 1142.36 Q86.7327 1142.36 84.8577 1142.78 Q83.0058 1143.2 81.0614 1144.08 L81.0614 1126.72 Z\" fill=\"#000000\" fill-rule=\"nonzero\" fill-opacity=\"1\" /><path clip-path=\"url(#clip290)\" d=\"M111.177 1155.4 L116.061 1155.4 L116.061 1161.28 L111.177 1161.28 L111.177 1155.4 Z\" fill=\"#000000\" fill-rule=\"nonzero\" fill-opacity=\"1\" /><path clip-path=\"url(#clip290)\" d=\"M136.246 1129.79 Q132.635 1129.79 130.807 1133.36 Q129.001 1136.9 129.001 1144.03 Q129.001 1151.14 130.807 1154.7 Q132.635 1158.24 136.246 1158.24 Q139.881 1158.24 141.686 1154.7 Q143.515 1151.14 143.515 1144.03 Q143.515 1136.9 141.686 1133.36 Q139.881 1129.79 136.246 1129.79 M136.246 1126.09 Q142.056 1126.09 145.112 1130.7 Q148.191 1135.28 148.191 1144.03 Q148.191 1152.76 145.112 1157.36 Q142.056 1161.95 136.246 1161.95 Q130.436 1161.95 127.357 1157.36 Q124.302 1152.76 124.302 1144.03 Q124.302 1135.28 127.357 1130.7 Q130.436 1126.09 136.246 1126.09 Z\" fill=\"#000000\" fill-rule=\"nonzero\" fill-opacity=\"1\" /><path clip-path=\"url(#clip290)\" d=\"M52.6588 1345.92 L60.2976 1345.92 L60.2976 1319.55 L51.9875 1321.22 L51.9875 1316.96 L60.2513 1315.29 L64.9272 1315.29 L64.9272 1345.92 L72.5661 1345.92 L72.5661 1349.85 L52.6588 1349.85 L52.6588 1345.92 Z\" fill=\"#000000\" fill-rule=\"nonzero\" fill-opacity=\"1\" /><path clip-path=\"url(#clip290)\" d=\"M80.8299 1315.29 L103.052 1315.29 L103.052 1317.28 L90.5058 1349.85 L85.6216 1349.85 L97.4271 1319.23 L80.8299 1319.23 L80.8299 1315.29 Z\" fill=\"#000000\" fill-rule=\"nonzero\" fill-opacity=\"1\" /><path clip-path=\"url(#clip290)\" d=\"M112.172 1343.97 L117.057 1343.97 L117.057 1349.85 L112.172 1349.85 L112.172 1343.97 Z\" fill=\"#000000\" fill-rule=\"nonzero\" fill-opacity=\"1\" /><path clip-path=\"url(#clip290)\" d=\"M127.288 1315.29 L145.644 1315.29 L145.644 1319.23 L131.57 1319.23 L131.57 1327.7 Q132.589 1327.35 133.607 1327.19 Q134.626 1327 135.644 1327 Q141.431 1327 144.811 1330.17 Q148.191 1333.35 148.191 1338.76 Q148.191 1344.34 144.718 1347.44 Q141.246 1350.52 134.927 1350.52 Q132.751 1350.52 130.482 1350.15 Q128.237 1349.78 125.83 1349.04 L125.83 1344.34 Q127.913 1345.48 130.135 1346.03 Q132.357 1346.59 134.834 1346.59 Q138.839 1346.59 141.177 1344.48 Q143.515 1342.37 143.515 1338.76 Q143.515 1335.15 141.177 1333.05 Q138.839 1330.94 134.834 1330.94 Q132.959 1330.94 131.084 1331.36 Q129.232 1331.77 127.288 1332.65 L127.288 1315.29 Z\" fill=\"#000000\" fill-rule=\"nonzero\" fill-opacity=\"1\" /><circle clip-path=\"url(#clip292)\" cx=\"245.565\" cy=\"87.9763\" r=\"21.6\" fill=\"#0000ff\" fill-rule=\"evenodd\" fill-opacity=\"1\" stroke=\"#000000\" stroke-opacity=\"1\" stroke-width=\"3.2\"/>\n",
       "<circle clip-path=\"url(#clip292)\" cx=\"416.05\" cy=\"163.406\" r=\"21.6\" fill=\"#0000ff\" fill-rule=\"evenodd\" fill-opacity=\"1\" stroke=\"#000000\" stroke-opacity=\"1\" stroke-width=\"3.2\"/>\n",
       "<circle clip-path=\"url(#clip292)\" cx=\"586.535\" cy=\"238.836\" r=\"21.6\" fill=\"#0000ff\" fill-rule=\"evenodd\" fill-opacity=\"1\" stroke=\"#000000\" stroke-opacity=\"1\" stroke-width=\"3.2\"/>\n",
       "<circle clip-path=\"url(#clip292)\" cx=\"757.019\" cy=\"314.266\" r=\"21.6\" fill=\"#0000ff\" fill-rule=\"evenodd\" fill-opacity=\"1\" stroke=\"#000000\" stroke-opacity=\"1\" stroke-width=\"3.2\"/>\n",
       "<circle clip-path=\"url(#clip292)\" cx=\"927.504\" cy=\"389.696\" r=\"21.6\" fill=\"#0000ff\" fill-rule=\"evenodd\" fill-opacity=\"1\" stroke=\"#000000\" stroke-opacity=\"1\" stroke-width=\"3.2\"/>\n",
       "<circle clip-path=\"url(#clip292)\" cx=\"1097.99\" cy=\"691.416\" r=\"21.6\" fill=\"#0000ff\" fill-rule=\"evenodd\" fill-opacity=\"1\" stroke=\"#000000\" stroke-opacity=\"1\" stroke-width=\"3.2\"/>\n",
       "<circle clip-path=\"url(#clip292)\" cx=\"1268.47\" cy=\"917.706\" r=\"21.6\" fill=\"#0000ff\" fill-rule=\"evenodd\" fill-opacity=\"1\" stroke=\"#000000\" stroke-opacity=\"1\" stroke-width=\"3.2\"/>\n",
       "<circle clip-path=\"url(#clip292)\" cx=\"1438.96\" cy=\"1068.57\" r=\"21.6\" fill=\"#0000ff\" fill-rule=\"evenodd\" fill-opacity=\"1\" stroke=\"#000000\" stroke-opacity=\"1\" stroke-width=\"3.2\"/>\n",
       "<circle clip-path=\"url(#clip292)\" cx=\"1950.41\" cy=\"1144\" r=\"21.6\" fill=\"#0000ff\" fill-rule=\"evenodd\" fill-opacity=\"1\" stroke=\"#000000\" stroke-opacity=\"1\" stroke-width=\"3.2\"/>\n",
       "<circle clip-path=\"url(#clip292)\" cx=\"1609.44\" cy=\"1219.43\" r=\"21.6\" fill=\"#0000ff\" fill-rule=\"evenodd\" fill-opacity=\"1\" stroke=\"#000000\" stroke-opacity=\"1\" stroke-width=\"3.2\"/>\n",
       "<circle clip-path=\"url(#clip292)\" cx=\"2120.9\" cy=\"1219.43\" r=\"21.6\" fill=\"#0000ff\" fill-rule=\"evenodd\" fill-opacity=\"1\" stroke=\"#000000\" stroke-opacity=\"1\" stroke-width=\"3.2\"/>\n",
       "<circle clip-path=\"url(#clip292)\" cx=\"1779.93\" cy=\"1294.86\" r=\"21.6\" fill=\"#0000ff\" fill-rule=\"evenodd\" fill-opacity=\"1\" stroke=\"#000000\" stroke-opacity=\"1\" stroke-width=\"3.2\"/>\n",
       "<circle clip-path=\"url(#clip292)\" cx=\"2291.38\" cy=\"1294.86\" r=\"21.6\" fill=\"#0000ff\" fill-rule=\"evenodd\" fill-opacity=\"1\" stroke=\"#000000\" stroke-opacity=\"1\" stroke-width=\"3.2\"/>\n",
       "<circle clip-path=\"url(#clip292)\" cx=\"1950.41\" cy=\"1370.29\" r=\"21.6\" fill=\"#0000ff\" fill-rule=\"evenodd\" fill-opacity=\"1\" stroke=\"#000000\" stroke-opacity=\"1\" stroke-width=\"3.2\"/>\n",
       "<circle clip-path=\"url(#clip292)\" cx=\"2120.9\" cy=\"1445.72\" r=\"21.6\" fill=\"#0000ff\" fill-rule=\"evenodd\" fill-opacity=\"1\" stroke=\"#000000\" stroke-opacity=\"1\" stroke-width=\"3.2\"/>\n",
       "</svg>\n"
      ],
      "text/html": [
       "<?xml version=\"1.0\" encoding=\"utf-8\"?>\n",
       "<svg xmlns=\"http://www.w3.org/2000/svg\" xmlns:xlink=\"http://www.w3.org/1999/xlink\" width=\"600\" height=\"400\" viewBox=\"0 0 2400 1600\">\n",
       "<defs>\n",
       "  <clipPath id=\"clip340\">\n",
       "    <rect x=\"0\" y=\"0\" width=\"2400\" height=\"1600\"/>\n",
       "  </clipPath>\n",
       "</defs>\n",
       "<path clip-path=\"url(#clip340)\" d=\"M0 1600 L2400 1600 L2400 0 L0 0  Z\" fill=\"#ffffff\" fill-rule=\"evenodd\" fill-opacity=\"1\"/>\n",
       "<defs>\n",
       "  <clipPath id=\"clip341\">\n",
       "    <rect x=\"480\" y=\"0\" width=\"1681\" height=\"1600\"/>\n",
       "  </clipPath>\n",
       "</defs>\n",
       "<path clip-path=\"url(#clip340)\" d=\"M184.191 1486.45 L2352.76 1486.45 L2352.76 47.2441 L184.191 47.2441  Z\" fill=\"#ffffff\" fill-rule=\"evenodd\" fill-opacity=\"1\"/>\n",
       "<defs>\n",
       "  <clipPath id=\"clip342\">\n",
       "    <rect x=\"184\" y=\"47\" width=\"2170\" height=\"1440\"/>\n",
       "  </clipPath>\n",
       "</defs>\n",
       "<polyline clip-path=\"url(#clip342)\" style=\"stroke:#000000; stroke-linecap:round; stroke-linejoin:round; stroke-width:2; stroke-opacity:0.1; fill:none\" points=\"501.292,47.2441 501.292,1486.45 \"/>\n",
       "<polyline clip-path=\"url(#clip342)\" style=\"stroke:#000000; stroke-linecap:round; stroke-linejoin:round; stroke-width:2; stroke-opacity:0.1; fill:none\" points=\"927.504,47.2441 927.504,1486.45 \"/>\n",
       "<polyline clip-path=\"url(#clip342)\" style=\"stroke:#000000; stroke-linecap:round; stroke-linejoin:round; stroke-width:2; stroke-opacity:0.1; fill:none\" points=\"1353.72,47.2441 1353.72,1486.45 \"/>\n",
       "<polyline clip-path=\"url(#clip342)\" style=\"stroke:#000000; stroke-linecap:round; stroke-linejoin:round; stroke-width:2; stroke-opacity:0.1; fill:none\" points=\"1779.93,47.2441 1779.93,1486.45 \"/>\n",
       "<polyline clip-path=\"url(#clip342)\" style=\"stroke:#000000; stroke-linecap:round; stroke-linejoin:round; stroke-width:2; stroke-opacity:0.1; fill:none\" points=\"2206.14,47.2441 2206.14,1486.45 \"/>\n",
       "<polyline clip-path=\"url(#clip340)\" style=\"stroke:#000000; stroke-linecap:round; stroke-linejoin:round; stroke-width:4; stroke-opacity:1; fill:none\" points=\"184.191,1486.45 2352.76,1486.45 \"/>\n",
       "<polyline clip-path=\"url(#clip340)\" style=\"stroke:#000000; stroke-linecap:round; stroke-linejoin:round; stroke-width:4; stroke-opacity:1; fill:none\" points=\"501.292,1486.45 501.292,1467.55 \"/>\n",
       "<polyline clip-path=\"url(#clip340)\" style=\"stroke:#000000; stroke-linecap:round; stroke-linejoin:round; stroke-width:4; stroke-opacity:1; fill:none\" points=\"927.504,1486.45 927.504,1467.55 \"/>\n",
       "<polyline clip-path=\"url(#clip340)\" style=\"stroke:#000000; stroke-linecap:round; stroke-linejoin:round; stroke-width:4; stroke-opacity:1; fill:none\" points=\"1353.72,1486.45 1353.72,1467.55 \"/>\n",
       "<polyline clip-path=\"url(#clip340)\" style=\"stroke:#000000; stroke-linecap:round; stroke-linejoin:round; stroke-width:4; stroke-opacity:1; fill:none\" points=\"1779.93,1486.45 1779.93,1467.55 \"/>\n",
       "<polyline clip-path=\"url(#clip340)\" style=\"stroke:#000000; stroke-linecap:round; stroke-linejoin:round; stroke-width:4; stroke-opacity:1; fill:none\" points=\"2206.14,1486.45 2206.14,1467.55 \"/>\n",
       "<path clip-path=\"url(#clip340)\" d=\"M473.028 1544.91 L489.348 1544.91 L489.348 1548.85 L467.403 1548.85 L467.403 1544.91 Q470.066 1542.16 474.649 1537.53 Q479.255 1532.88 480.436 1531.53 Q482.681 1529.01 483.561 1527.27 Q484.464 1525.51 484.464 1523.82 Q484.464 1521.07 482.519 1519.33 Q480.598 1517.6 477.496 1517.6 Q475.297 1517.6 472.843 1518.36 Q470.413 1519.13 467.635 1520.68 L467.635 1515.95 Q470.459 1514.82 472.913 1514.24 Q475.366 1513.66 477.403 1513.66 Q482.774 1513.66 485.968 1516.35 Q489.163 1519.03 489.163 1523.52 Q489.163 1525.65 488.352 1527.57 Q487.565 1529.47 485.459 1532.07 Q484.88 1532.74 481.778 1535.95 Q478.677 1539.15 473.028 1544.91 Z\" fill=\"#000000\" fill-rule=\"nonzero\" fill-opacity=\"1\" /><path clip-path=\"url(#clip340)\" d=\"M499.163 1542.97 L504.047 1542.97 L504.047 1548.85 L499.163 1548.85 L499.163 1542.97 Z\" fill=\"#000000\" fill-rule=\"nonzero\" fill-opacity=\"1\" /><path clip-path=\"url(#clip340)\" d=\"M514.278 1514.29 L532.635 1514.29 L532.635 1518.22 L518.561 1518.22 L518.561 1526.7 Q519.579 1526.35 520.598 1526.19 Q521.616 1526 522.635 1526 Q528.422 1526 531.801 1529.17 Q535.181 1532.34 535.181 1537.76 Q535.181 1543.34 531.709 1546.44 Q528.236 1549.52 521.917 1549.52 Q519.741 1549.52 517.473 1549.15 Q515.227 1548.78 512.82 1548.04 L512.82 1543.34 Q514.903 1544.47 517.125 1545.03 Q519.348 1545.58 521.824 1545.58 Q525.829 1545.58 528.167 1543.48 Q530.505 1541.37 530.505 1537.76 Q530.505 1534.15 528.167 1532.04 Q525.829 1529.94 521.824 1529.94 Q519.95 1529.94 518.075 1530.35 Q516.223 1530.77 514.278 1531.65 L514.278 1514.29 Z\" fill=\"#000000\" fill-rule=\"nonzero\" fill-opacity=\"1\" /><path clip-path=\"url(#clip340)\" d=\"M894.668 1514.29 L913.025 1514.29 L913.025 1518.22 L898.951 1518.22 L898.951 1526.7 Q899.969 1526.35 900.988 1526.19 Q902.006 1526 903.025 1526 Q908.812 1526 912.191 1529.17 Q915.571 1532.34 915.571 1537.76 Q915.571 1543.34 912.099 1546.44 Q908.627 1549.52 902.307 1549.52 Q900.131 1549.52 897.863 1549.15 Q895.618 1548.78 893.21 1548.04 L893.21 1543.34 Q895.293 1544.47 897.516 1545.03 Q899.738 1545.58 902.215 1545.58 Q906.219 1545.58 908.557 1543.48 Q910.895 1541.37 910.895 1537.76 Q910.895 1534.15 908.557 1532.04 Q906.219 1529.94 902.215 1529.94 Q900.34 1529.94 898.465 1530.35 Q896.613 1530.77 894.668 1531.65 L894.668 1514.29 Z\" fill=\"#000000\" fill-rule=\"nonzero\" fill-opacity=\"1\" /><path clip-path=\"url(#clip340)\" d=\"M924.784 1542.97 L929.668 1542.97 L929.668 1548.85 L924.784 1548.85 L924.784 1542.97 Z\" fill=\"#000000\" fill-rule=\"nonzero\" fill-opacity=\"1\" /><path clip-path=\"url(#clip340)\" d=\"M949.853 1517.37 Q946.242 1517.37 944.414 1520.93 Q942.608 1524.47 942.608 1531.6 Q942.608 1538.71 944.414 1542.27 Q946.242 1545.82 949.853 1545.82 Q953.488 1545.82 955.293 1542.27 Q957.122 1538.71 957.122 1531.6 Q957.122 1524.47 955.293 1520.93 Q953.488 1517.37 949.853 1517.37 M949.853 1513.66 Q955.663 1513.66 958.719 1518.27 Q961.798 1522.85 961.798 1531.6 Q961.798 1540.33 958.719 1544.94 Q955.663 1549.52 949.853 1549.52 Q944.043 1549.52 940.964 1544.94 Q937.909 1540.33 937.909 1531.6 Q937.909 1522.85 940.964 1518.27 Q944.043 1513.66 949.853 1513.66 Z\" fill=\"#000000\" fill-rule=\"nonzero\" fill-opacity=\"1\" /><path clip-path=\"url(#clip340)\" d=\"M1320.04 1514.29 L1342.26 1514.29 L1342.26 1516.28 L1329.71 1548.85 L1324.83 1548.85 L1336.63 1518.22 L1320.04 1518.22 L1320.04 1514.29 Z\" fill=\"#000000\" fill-rule=\"nonzero\" fill-opacity=\"1\" /><path clip-path=\"url(#clip340)\" d=\"M1351.38 1542.97 L1356.26 1542.97 L1356.26 1548.85 L1351.38 1548.85 L1351.38 1542.97 Z\" fill=\"#000000\" fill-rule=\"nonzero\" fill-opacity=\"1\" /><path clip-path=\"url(#clip340)\" d=\"M1366.49 1514.29 L1384.85 1514.29 L1384.85 1518.22 L1370.78 1518.22 L1370.78 1526.7 Q1371.79 1526.35 1372.81 1526.19 Q1373.83 1526 1374.85 1526 Q1380.64 1526 1384.02 1529.17 Q1387.4 1532.34 1387.4 1537.76 Q1387.4 1543.34 1383.92 1546.44 Q1380.45 1549.52 1374.13 1549.52 Q1371.96 1549.52 1369.69 1549.15 Q1367.44 1548.78 1365.04 1548.04 L1365.04 1543.34 Q1367.12 1544.47 1369.34 1545.03 Q1371.56 1545.58 1374.04 1545.58 Q1378.04 1545.58 1380.38 1543.48 Q1382.72 1541.37 1382.72 1537.76 Q1382.72 1534.15 1380.38 1532.04 Q1378.04 1529.94 1374.04 1529.94 Q1372.16 1529.94 1370.29 1530.35 Q1368.44 1530.77 1366.49 1531.65 L1366.49 1514.29 Z\" fill=\"#000000\" fill-rule=\"nonzero\" fill-opacity=\"1\" /><path clip-path=\"url(#clip340)\" d=\"M1732 1544.91 L1739.64 1544.91 L1739.64 1518.55 L1731.33 1520.21 L1731.33 1515.95 L1739.59 1514.29 L1744.27 1514.29 L1744.27 1544.91 L1751.91 1544.91 L1751.91 1548.85 L1732 1548.85 L1732 1544.91 Z\" fill=\"#000000\" fill-rule=\"nonzero\" fill-opacity=\"1\" /><path clip-path=\"url(#clip340)\" d=\"M1771.35 1517.37 Q1767.74 1517.37 1765.91 1520.93 Q1764.11 1524.47 1764.11 1531.6 Q1764.11 1538.71 1765.91 1542.27 Q1767.74 1545.82 1771.35 1545.82 Q1774.99 1545.82 1776.79 1542.27 Q1778.62 1538.71 1778.62 1531.6 Q1778.62 1524.47 1776.79 1520.93 Q1774.99 1517.37 1771.35 1517.37 M1771.35 1513.66 Q1777.16 1513.66 1780.22 1518.27 Q1783.3 1522.85 1783.3 1531.6 Q1783.3 1540.33 1780.22 1544.94 Q1777.16 1549.52 1771.35 1549.52 Q1765.54 1549.52 1762.46 1544.94 Q1759.41 1540.33 1759.41 1531.6 Q1759.41 1522.85 1762.46 1518.27 Q1765.54 1513.66 1771.35 1513.66 Z\" fill=\"#000000\" fill-rule=\"nonzero\" fill-opacity=\"1\" /><path clip-path=\"url(#clip340)\" d=\"M1791.51 1542.97 L1796.4 1542.97 L1796.4 1548.85 L1791.51 1548.85 L1791.51 1542.97 Z\" fill=\"#000000\" fill-rule=\"nonzero\" fill-opacity=\"1\" /><path clip-path=\"url(#clip340)\" d=\"M1816.58 1517.37 Q1812.97 1517.37 1811.14 1520.93 Q1809.34 1524.47 1809.34 1531.6 Q1809.34 1538.71 1811.14 1542.27 Q1812.97 1545.82 1816.58 1545.82 Q1820.22 1545.82 1822.02 1542.27 Q1823.85 1538.71 1823.85 1531.6 Q1823.85 1524.47 1822.02 1520.93 Q1820.22 1517.37 1816.58 1517.37 M1816.58 1513.66 Q1822.39 1513.66 1825.45 1518.27 Q1828.53 1522.85 1828.53 1531.6 Q1828.53 1540.33 1825.45 1544.94 Q1822.39 1549.52 1816.58 1549.52 Q1810.77 1549.52 1807.69 1544.94 Q1804.64 1540.33 1804.64 1531.6 Q1804.64 1522.85 1807.69 1518.27 Q1810.77 1513.66 1816.58 1513.66 Z\" fill=\"#000000\" fill-rule=\"nonzero\" fill-opacity=\"1\" /><path clip-path=\"url(#clip340)\" d=\"M2158.71 1544.91 L2166.35 1544.91 L2166.35 1518.55 L2158.04 1520.21 L2158.04 1515.95 L2166.3 1514.29 L2170.98 1514.29 L2170.98 1544.91 L2178.62 1544.91 L2178.62 1548.85 L2158.71 1548.85 L2158.71 1544.91 Z\" fill=\"#000000\" fill-rule=\"nonzero\" fill-opacity=\"1\" /><path clip-path=\"url(#clip340)\" d=\"M2192.09 1544.91 L2208.41 1544.91 L2208.41 1548.85 L2186.46 1548.85 L2186.46 1544.91 Q2189.13 1542.16 2193.71 1537.53 Q2198.32 1532.88 2199.5 1531.53 Q2201.74 1529.01 2202.62 1527.27 Q2203.52 1525.51 2203.52 1523.82 Q2203.52 1521.07 2201.58 1519.33 Q2199.66 1517.6 2196.56 1517.6 Q2194.36 1517.6 2191.9 1518.36 Q2189.47 1519.13 2186.69 1520.68 L2186.69 1515.95 Q2189.52 1514.82 2191.97 1514.24 Q2194.43 1513.66 2196.46 1513.66 Q2201.83 1513.66 2205.03 1516.35 Q2208.22 1519.03 2208.22 1523.52 Q2208.22 1525.65 2207.41 1527.57 Q2206.63 1529.47 2204.52 1532.07 Q2203.94 1532.74 2200.84 1535.95 Q2197.74 1539.15 2192.09 1544.91 Z\" fill=\"#000000\" fill-rule=\"nonzero\" fill-opacity=\"1\" /><path clip-path=\"url(#clip340)\" d=\"M2218.22 1542.97 L2223.11 1542.97 L2223.11 1548.85 L2218.22 1548.85 L2218.22 1542.97 Z\" fill=\"#000000\" fill-rule=\"nonzero\" fill-opacity=\"1\" /><path clip-path=\"url(#clip340)\" d=\"M2233.34 1514.29 L2251.69 1514.29 L2251.69 1518.22 L2237.62 1518.22 L2237.62 1526.7 Q2238.64 1526.35 2239.66 1526.19 Q2240.68 1526 2241.69 1526 Q2247.48 1526 2250.86 1529.17 Q2254.24 1532.34 2254.24 1537.76 Q2254.24 1543.34 2250.77 1546.44 Q2247.3 1549.52 2240.98 1549.52 Q2238.8 1549.52 2236.53 1549.15 Q2234.29 1548.78 2231.88 1548.04 L2231.88 1543.34 Q2233.96 1544.47 2236.19 1545.03 Q2238.41 1545.58 2240.88 1545.58 Q2244.89 1545.58 2247.23 1543.48 Q2249.56 1541.37 2249.56 1537.76 Q2249.56 1534.15 2247.23 1532.04 Q2244.89 1529.94 2240.88 1529.94 Q2239.01 1529.94 2237.13 1530.35 Q2235.28 1530.77 2233.34 1531.65 L2233.34 1514.29 Z\" fill=\"#000000\" fill-rule=\"nonzero\" fill-opacity=\"1\" /><polyline clip-path=\"url(#clip342)\" style=\"stroke:#000000; stroke-linecap:round; stroke-linejoin:round; stroke-width:2; stroke-opacity:0.1; fill:none\" points=\"184.191,201.121 2352.76,201.121 \"/>\n",
       "<polyline clip-path=\"url(#clip342)\" style=\"stroke:#000000; stroke-linecap:round; stroke-linejoin:round; stroke-width:2; stroke-opacity:0.1; fill:none\" points=\"184.191,389.696 2352.76,389.696 \"/>\n",
       "<polyline clip-path=\"url(#clip342)\" style=\"stroke:#000000; stroke-linecap:round; stroke-linejoin:round; stroke-width:2; stroke-opacity:0.1; fill:none\" points=\"184.191,578.271 2352.76,578.271 \"/>\n",
       "<polyline clip-path=\"url(#clip342)\" style=\"stroke:#000000; stroke-linecap:round; stroke-linejoin:round; stroke-width:2; stroke-opacity:0.1; fill:none\" points=\"184.191,766.846 2352.76,766.846 \"/>\n",
       "<polyline clip-path=\"url(#clip342)\" style=\"stroke:#000000; stroke-linecap:round; stroke-linejoin:round; stroke-width:2; stroke-opacity:0.1; fill:none\" points=\"184.191,955.421 2352.76,955.421 \"/>\n",
       "<polyline clip-path=\"url(#clip342)\" style=\"stroke:#000000; stroke-linecap:round; stroke-linejoin:round; stroke-width:2; stroke-opacity:0.1; fill:none\" points=\"184.191,1144 2352.76,1144 \"/>\n",
       "<polyline clip-path=\"url(#clip342)\" style=\"stroke:#000000; stroke-linecap:round; stroke-linejoin:round; stroke-width:2; stroke-opacity:0.1; fill:none\" points=\"184.191,1332.57 2352.76,1332.57 \"/>\n",
       "<polyline clip-path=\"url(#clip340)\" style=\"stroke:#000000; stroke-linecap:round; stroke-linejoin:round; stroke-width:4; stroke-opacity:1; fill:none\" points=\"184.191,47.2441 184.191,1486.45 \"/>\n",
       "<polyline clip-path=\"url(#clip340)\" style=\"stroke:#000000; stroke-linecap:round; stroke-linejoin:round; stroke-width:4; stroke-opacity:1; fill:none\" points=\"184.191,201.121 203.088,201.121 \"/>\n",
       "<polyline clip-path=\"url(#clip340)\" style=\"stroke:#000000; stroke-linecap:round; stroke-linejoin:round; stroke-width:4; stroke-opacity:1; fill:none\" points=\"184.191,389.696 203.088,389.696 \"/>\n",
       "<polyline clip-path=\"url(#clip340)\" style=\"stroke:#000000; stroke-linecap:round; stroke-linejoin:round; stroke-width:4; stroke-opacity:1; fill:none\" points=\"184.191,578.271 203.088,578.271 \"/>\n",
       "<polyline clip-path=\"url(#clip340)\" style=\"stroke:#000000; stroke-linecap:round; stroke-linejoin:round; stroke-width:4; stroke-opacity:1; fill:none\" points=\"184.191,766.846 203.088,766.846 \"/>\n",
       "<polyline clip-path=\"url(#clip340)\" style=\"stroke:#000000; stroke-linecap:round; stroke-linejoin:round; stroke-width:4; stroke-opacity:1; fill:none\" points=\"184.191,955.421 203.088,955.421 \"/>\n",
       "<polyline clip-path=\"url(#clip340)\" style=\"stroke:#000000; stroke-linecap:round; stroke-linejoin:round; stroke-width:4; stroke-opacity:1; fill:none\" points=\"184.191,1144 203.088,1144 \"/>\n",
       "<polyline clip-path=\"url(#clip340)\" style=\"stroke:#000000; stroke-linecap:round; stroke-linejoin:round; stroke-width:4; stroke-opacity:1; fill:none\" points=\"184.191,1332.57 203.088,1332.57 \"/>\n",
       "<path clip-path=\"url(#clip340)\" d=\"M86.0382 214.466 L102.358 214.466 L102.358 218.401 L80.4133 218.401 L80.4133 214.466 Q83.0753 211.711 87.6586 207.082 Q92.2651 202.429 93.4456 201.087 Q95.691 198.563 96.5706 196.827 Q97.4734 195.068 97.4734 193.378 Q97.4734 190.624 95.5289 188.887 Q93.6076 187.151 90.5058 187.151 Q88.3067 187.151 85.8531 187.915 Q83.4225 188.679 80.6447 190.23 L80.6447 185.508 Q83.4688 184.374 85.9225 183.795 Q88.3762 183.216 90.4132 183.216 Q95.7836 183.216 98.978 185.901 Q102.172 188.587 102.172 193.077 Q102.172 195.207 101.362 197.128 Q100.575 199.026 98.4687 201.619 Q97.89 202.29 94.7882 205.508 Q91.6864 208.702 86.0382 214.466 Z\" fill=\"#000000\" fill-rule=\"nonzero\" fill-opacity=\"1\" /><path clip-path=\"url(#clip340)\" d=\"M112.172 212.522 L117.057 212.522 L117.057 218.401 L112.172 218.401 L112.172 212.522 Z\" fill=\"#000000\" fill-rule=\"nonzero\" fill-opacity=\"1\" /><path clip-path=\"url(#clip340)\" d=\"M127.288 183.841 L145.644 183.841 L145.644 187.776 L131.57 187.776 L131.57 196.249 Q132.589 195.901 133.607 195.739 Q134.626 195.554 135.644 195.554 Q141.431 195.554 144.811 198.725 Q148.191 201.897 148.191 207.313 Q148.191 212.892 144.718 215.994 Q141.246 219.073 134.927 219.073 Q132.751 219.073 130.482 218.702 Q128.237 218.332 125.83 217.591 L125.83 212.892 Q127.913 214.026 130.135 214.582 Q132.357 215.137 134.834 215.137 Q138.839 215.137 141.177 213.031 Q143.515 210.924 143.515 207.313 Q143.515 203.702 141.177 201.596 Q138.839 199.489 134.834 199.489 Q132.959 199.489 131.084 199.906 Q129.232 200.323 127.288 201.202 L127.288 183.841 Z\" fill=\"#000000\" fill-rule=\"nonzero\" fill-opacity=\"1\" /><path clip-path=\"url(#clip340)\" d=\"M81.0614 372.416 L99.4178 372.416 L99.4178 376.351 L85.3438 376.351 L85.3438 384.823 Q86.3623 384.476 87.3808 384.314 Q88.3993 384.129 89.4178 384.129 Q95.2049 384.129 98.5845 387.3 Q101.964 390.472 101.964 395.888 Q101.964 401.467 98.4919 404.569 Q95.0197 407.647 88.7003 407.647 Q86.5243 407.647 84.2558 407.277 Q82.0105 406.907 79.6031 406.166 L79.6031 401.467 Q81.6864 402.601 83.9086 403.157 Q86.1308 403.712 88.6077 403.712 Q92.6123 403.712 94.9502 401.606 Q97.2882 399.499 97.2882 395.888 Q97.2882 392.277 94.9502 390.171 Q92.6123 388.064 88.6077 388.064 Q86.7327 388.064 84.8577 388.481 Q83.0058 388.898 81.0614 389.777 L81.0614 372.416 Z\" fill=\"#000000\" fill-rule=\"nonzero\" fill-opacity=\"1\" /><path clip-path=\"url(#clip340)\" d=\"M111.177 401.097 L116.061 401.097 L116.061 406.976 L111.177 406.976 L111.177 401.097 Z\" fill=\"#000000\" fill-rule=\"nonzero\" fill-opacity=\"1\" /><path clip-path=\"url(#clip340)\" d=\"M136.246 375.495 Q132.635 375.495 130.807 379.06 Q129.001 382.601 129.001 389.731 Q129.001 396.837 130.807 400.402 Q132.635 403.944 136.246 403.944 Q139.881 403.944 141.686 400.402 Q143.515 396.837 143.515 389.731 Q143.515 382.601 141.686 379.06 Q139.881 375.495 136.246 375.495 M136.246 371.791 Q142.056 371.791 145.112 376.398 Q148.191 380.981 148.191 389.731 Q148.191 398.458 145.112 403.064 Q142.056 407.647 136.246 407.647 Q130.436 407.647 127.357 403.064 Q124.302 398.458 124.302 389.731 Q124.302 380.981 127.357 376.398 Q130.436 371.791 136.246 371.791 Z\" fill=\"#000000\" fill-rule=\"nonzero\" fill-opacity=\"1\" /><path clip-path=\"url(#clip340)\" d=\"M80.8299 560.991 L103.052 560.991 L103.052 562.982 L90.5058 595.551 L85.6216 595.551 L97.4271 564.926 L80.8299 564.926 L80.8299 560.991 Z\" fill=\"#000000\" fill-rule=\"nonzero\" fill-opacity=\"1\" /><path clip-path=\"url(#clip340)\" d=\"M112.172 589.671 L117.057 589.671 L117.057 595.551 L112.172 595.551 L112.172 589.671 Z\" fill=\"#000000\" fill-rule=\"nonzero\" fill-opacity=\"1\" /><path clip-path=\"url(#clip340)\" d=\"M127.288 560.991 L145.644 560.991 L145.644 564.926 L131.57 564.926 L131.57 573.398 Q132.589 573.051 133.607 572.889 Q134.626 572.704 135.644 572.704 Q141.431 572.704 144.811 575.875 Q148.191 579.047 148.191 584.463 Q148.191 590.042 144.718 593.144 Q141.246 596.222 134.927 596.222 Q132.751 596.222 130.482 595.852 Q128.237 595.482 125.83 594.741 L125.83 590.042 Q127.913 591.176 130.135 591.732 Q132.357 592.287 134.834 592.287 Q138.839 592.287 141.177 590.181 Q143.515 588.074 143.515 584.463 Q143.515 580.852 141.177 578.746 Q138.839 576.639 134.834 576.639 Q132.959 576.639 131.084 577.056 Q129.232 577.472 127.288 578.352 L127.288 560.991 Z\" fill=\"#000000\" fill-rule=\"nonzero\" fill-opacity=\"1\" /><path clip-path=\"url(#clip340)\" d=\"M51.6634 780.191 L59.3023 780.191 L59.3023 753.825 L50.9921 755.492 L50.9921 751.233 L59.256 749.566 L63.9319 749.566 L63.9319 780.191 L71.5707 780.191 L71.5707 784.126 L51.6634 784.126 L51.6634 780.191 Z\" fill=\"#000000\" fill-rule=\"nonzero\" fill-opacity=\"1\" /><path clip-path=\"url(#clip340)\" d=\"M91.0151 752.645 Q87.404 752.645 85.5753 756.209 Q83.7697 759.751 83.7697 766.881 Q83.7697 773.987 85.5753 777.552 Q87.404 781.094 91.0151 781.094 Q94.6493 781.094 96.4548 777.552 Q98.2835 773.987 98.2835 766.881 Q98.2835 759.751 96.4548 756.209 Q94.6493 752.645 91.0151 752.645 M91.0151 748.941 Q96.8252 748.941 99.8808 753.547 Q102.959 758.131 102.959 766.881 Q102.959 775.608 99.8808 780.214 Q96.8252 784.797 91.0151 784.797 Q85.2049 784.797 82.1262 780.214 Q79.0707 775.608 79.0707 766.881 Q79.0707 758.131 82.1262 753.547 Q85.2049 748.941 91.0151 748.941 Z\" fill=\"#000000\" fill-rule=\"nonzero\" fill-opacity=\"1\" /><path clip-path=\"url(#clip340)\" d=\"M111.177 778.246 L116.061 778.246 L116.061 784.126 L111.177 784.126 L111.177 778.246 Z\" fill=\"#000000\" fill-rule=\"nonzero\" fill-opacity=\"1\" /><path clip-path=\"url(#clip340)\" d=\"M136.246 752.645 Q132.635 752.645 130.807 756.209 Q129.001 759.751 129.001 766.881 Q129.001 773.987 130.807 777.552 Q132.635 781.094 136.246 781.094 Q139.881 781.094 141.686 777.552 Q143.515 773.987 143.515 766.881 Q143.515 759.751 141.686 756.209 Q139.881 752.645 136.246 752.645 M136.246 748.941 Q142.056 748.941 145.112 753.547 Q148.191 758.131 148.191 766.881 Q148.191 775.608 145.112 780.214 Q142.056 784.797 136.246 784.797 Q130.436 784.797 127.357 780.214 Q124.302 775.608 124.302 766.881 Q124.302 758.131 127.357 753.547 Q130.436 748.941 136.246 748.941 Z\" fill=\"#000000\" fill-rule=\"nonzero\" fill-opacity=\"1\" /><path clip-path=\"url(#clip340)\" d=\"M52.6588 968.766 L60.2976 968.766 L60.2976 942.4 L51.9875 944.067 L51.9875 939.808 L60.2513 938.141 L64.9272 938.141 L64.9272 968.766 L72.5661 968.766 L72.5661 972.701 L52.6588 972.701 L52.6588 968.766 Z\" fill=\"#000000\" fill-rule=\"nonzero\" fill-opacity=\"1\" /><path clip-path=\"url(#clip340)\" d=\"M86.0382 968.766 L102.358 968.766 L102.358 972.701 L80.4133 972.701 L80.4133 968.766 Q83.0753 966.011 87.6586 961.382 Q92.2651 956.729 93.4456 955.386 Q95.691 952.863 96.5706 951.127 Q97.4734 949.368 97.4734 947.678 Q97.4734 944.923 95.5289 943.187 Q93.6076 941.451 90.5058 941.451 Q88.3067 941.451 85.8531 942.215 Q83.4225 942.979 80.6447 944.53 L80.6447 939.808 Q83.4688 938.673 85.9225 938.095 Q88.3762 937.516 90.4132 937.516 Q95.7836 937.516 98.978 940.201 Q102.172 942.886 102.172 947.377 Q102.172 949.507 101.362 951.428 Q100.575 953.326 98.4687 955.919 Q97.89 956.59 94.7882 959.807 Q91.6864 963.002 86.0382 968.766 Z\" fill=\"#000000\" fill-rule=\"nonzero\" fill-opacity=\"1\" /><path clip-path=\"url(#clip340)\" d=\"M112.172 966.821 L117.057 966.821 L117.057 972.701 L112.172 972.701 L112.172 966.821 Z\" fill=\"#000000\" fill-rule=\"nonzero\" fill-opacity=\"1\" /><path clip-path=\"url(#clip340)\" d=\"M127.288 938.141 L145.644 938.141 L145.644 942.076 L131.57 942.076 L131.57 950.548 Q132.589 950.201 133.607 950.039 Q134.626 949.854 135.644 949.854 Q141.431 949.854 144.811 953.025 Q148.191 956.196 148.191 961.613 Q148.191 967.192 144.718 970.294 Q141.246 973.372 134.927 973.372 Q132.751 973.372 130.482 973.002 Q128.237 972.631 125.83 971.891 L125.83 967.192 Q127.913 968.326 130.135 968.881 Q132.357 969.437 134.834 969.437 Q138.839 969.437 141.177 967.331 Q143.515 965.224 143.515 961.613 Q143.515 958.002 141.177 955.895 Q138.839 953.789 134.834 953.789 Q132.959 953.789 131.084 954.206 Q129.232 954.622 127.288 955.502 L127.288 938.141 Z\" fill=\"#000000\" fill-rule=\"nonzero\" fill-opacity=\"1\" /><path clip-path=\"url(#clip340)\" d=\"M51.6634 1157.34 L59.3023 1157.34 L59.3023 1130.98 L50.9921 1132.64 L50.9921 1128.38 L59.256 1126.72 L63.9319 1126.72 L63.9319 1157.34 L71.5707 1157.34 L71.5707 1161.28 L51.6634 1161.28 L51.6634 1157.34 Z\" fill=\"#000000\" fill-rule=\"nonzero\" fill-opacity=\"1\" /><path clip-path=\"url(#clip340)\" d=\"M81.0614 1126.72 L99.4178 1126.72 L99.4178 1130.65 L85.3438 1130.65 L85.3438 1139.12 Q86.3623 1138.78 87.3808 1138.61 Q88.3993 1138.43 89.4178 1138.43 Q95.2049 1138.43 98.5845 1141.6 Q101.964 1144.77 101.964 1150.19 Q101.964 1155.77 98.4919 1158.87 Q95.0197 1161.95 88.7003 1161.95 Q86.5243 1161.95 84.2558 1161.58 Q82.0105 1161.21 79.6031 1160.47 L79.6031 1155.77 Q81.6864 1156.9 83.9086 1157.46 Q86.1308 1158.01 88.6077 1158.01 Q92.6123 1158.01 94.9502 1155.91 Q97.2882 1153.8 97.2882 1150.19 Q97.2882 1146.58 94.9502 1144.47 Q92.6123 1142.36 88.6077 1142.36 Q86.7327 1142.36 84.8577 1142.78 Q83.0058 1143.2 81.0614 1144.08 L81.0614 1126.72 Z\" fill=\"#000000\" fill-rule=\"nonzero\" fill-opacity=\"1\" /><path clip-path=\"url(#clip340)\" d=\"M111.177 1155.4 L116.061 1155.4 L116.061 1161.28 L111.177 1161.28 L111.177 1155.4 Z\" fill=\"#000000\" fill-rule=\"nonzero\" fill-opacity=\"1\" /><path clip-path=\"url(#clip340)\" d=\"M136.246 1129.79 Q132.635 1129.79 130.807 1133.36 Q129.001 1136.9 129.001 1144.03 Q129.001 1151.14 130.807 1154.7 Q132.635 1158.24 136.246 1158.24 Q139.881 1158.24 141.686 1154.7 Q143.515 1151.14 143.515 1144.03 Q143.515 1136.9 141.686 1133.36 Q139.881 1129.79 136.246 1129.79 M136.246 1126.09 Q142.056 1126.09 145.112 1130.7 Q148.191 1135.28 148.191 1144.03 Q148.191 1152.76 145.112 1157.36 Q142.056 1161.95 136.246 1161.95 Q130.436 1161.95 127.357 1157.36 Q124.302 1152.76 124.302 1144.03 Q124.302 1135.28 127.357 1130.7 Q130.436 1126.09 136.246 1126.09 Z\" fill=\"#000000\" fill-rule=\"nonzero\" fill-opacity=\"1\" /><path clip-path=\"url(#clip340)\" d=\"M52.6588 1345.92 L60.2976 1345.92 L60.2976 1319.55 L51.9875 1321.22 L51.9875 1316.96 L60.2513 1315.29 L64.9272 1315.29 L64.9272 1345.92 L72.5661 1345.92 L72.5661 1349.85 L52.6588 1349.85 L52.6588 1345.92 Z\" fill=\"#000000\" fill-rule=\"nonzero\" fill-opacity=\"1\" /><path clip-path=\"url(#clip340)\" d=\"M80.8299 1315.29 L103.052 1315.29 L103.052 1317.28 L90.5058 1349.85 L85.6216 1349.85 L97.4271 1319.23 L80.8299 1319.23 L80.8299 1315.29 Z\" fill=\"#000000\" fill-rule=\"nonzero\" fill-opacity=\"1\" /><path clip-path=\"url(#clip340)\" d=\"M112.172 1343.97 L117.057 1343.97 L117.057 1349.85 L112.172 1349.85 L112.172 1343.97 Z\" fill=\"#000000\" fill-rule=\"nonzero\" fill-opacity=\"1\" /><path clip-path=\"url(#clip340)\" d=\"M127.288 1315.29 L145.644 1315.29 L145.644 1319.23 L131.57 1319.23 L131.57 1327.7 Q132.589 1327.35 133.607 1327.19 Q134.626 1327 135.644 1327 Q141.431 1327 144.811 1330.17 Q148.191 1333.35 148.191 1338.76 Q148.191 1344.34 144.718 1347.44 Q141.246 1350.52 134.927 1350.52 Q132.751 1350.52 130.482 1350.15 Q128.237 1349.78 125.83 1349.04 L125.83 1344.34 Q127.913 1345.48 130.135 1346.03 Q132.357 1346.59 134.834 1346.59 Q138.839 1346.59 141.177 1344.48 Q143.515 1342.37 143.515 1338.76 Q143.515 1335.15 141.177 1333.05 Q138.839 1330.94 134.834 1330.94 Q132.959 1330.94 131.084 1331.36 Q129.232 1331.77 127.288 1332.65 L127.288 1315.29 Z\" fill=\"#000000\" fill-rule=\"nonzero\" fill-opacity=\"1\" /><circle clip-path=\"url(#clip342)\" cx=\"245.565\" cy=\"87.9763\" r=\"21.6\" fill=\"#0000ff\" fill-rule=\"evenodd\" fill-opacity=\"1\" stroke=\"#000000\" stroke-opacity=\"1\" stroke-width=\"3.2\"/>\n",
       "<circle clip-path=\"url(#clip342)\" cx=\"416.05\" cy=\"163.406\" r=\"21.6\" fill=\"#0000ff\" fill-rule=\"evenodd\" fill-opacity=\"1\" stroke=\"#000000\" stroke-opacity=\"1\" stroke-width=\"3.2\"/>\n",
       "<circle clip-path=\"url(#clip342)\" cx=\"586.535\" cy=\"238.836\" r=\"21.6\" fill=\"#0000ff\" fill-rule=\"evenodd\" fill-opacity=\"1\" stroke=\"#000000\" stroke-opacity=\"1\" stroke-width=\"3.2\"/>\n",
       "<circle clip-path=\"url(#clip342)\" cx=\"757.019\" cy=\"314.266\" r=\"21.6\" fill=\"#0000ff\" fill-rule=\"evenodd\" fill-opacity=\"1\" stroke=\"#000000\" stroke-opacity=\"1\" stroke-width=\"3.2\"/>\n",
       "<circle clip-path=\"url(#clip342)\" cx=\"927.504\" cy=\"389.696\" r=\"21.6\" fill=\"#0000ff\" fill-rule=\"evenodd\" fill-opacity=\"1\" stroke=\"#000000\" stroke-opacity=\"1\" stroke-width=\"3.2\"/>\n",
       "<circle clip-path=\"url(#clip342)\" cx=\"1097.99\" cy=\"691.416\" r=\"21.6\" fill=\"#0000ff\" fill-rule=\"evenodd\" fill-opacity=\"1\" stroke=\"#000000\" stroke-opacity=\"1\" stroke-width=\"3.2\"/>\n",
       "<circle clip-path=\"url(#clip342)\" cx=\"1268.47\" cy=\"917.706\" r=\"21.6\" fill=\"#0000ff\" fill-rule=\"evenodd\" fill-opacity=\"1\" stroke=\"#000000\" stroke-opacity=\"1\" stroke-width=\"3.2\"/>\n",
       "<circle clip-path=\"url(#clip342)\" cx=\"1438.96\" cy=\"1068.57\" r=\"21.6\" fill=\"#0000ff\" fill-rule=\"evenodd\" fill-opacity=\"1\" stroke=\"#000000\" stroke-opacity=\"1\" stroke-width=\"3.2\"/>\n",
       "<circle clip-path=\"url(#clip342)\" cx=\"1950.41\" cy=\"1144\" r=\"21.6\" fill=\"#0000ff\" fill-rule=\"evenodd\" fill-opacity=\"1\" stroke=\"#000000\" stroke-opacity=\"1\" stroke-width=\"3.2\"/>\n",
       "<circle clip-path=\"url(#clip342)\" cx=\"1609.44\" cy=\"1219.43\" r=\"21.6\" fill=\"#0000ff\" fill-rule=\"evenodd\" fill-opacity=\"1\" stroke=\"#000000\" stroke-opacity=\"1\" stroke-width=\"3.2\"/>\n",
       "<circle clip-path=\"url(#clip342)\" cx=\"2120.9\" cy=\"1219.43\" r=\"21.6\" fill=\"#0000ff\" fill-rule=\"evenodd\" fill-opacity=\"1\" stroke=\"#000000\" stroke-opacity=\"1\" stroke-width=\"3.2\"/>\n",
       "<circle clip-path=\"url(#clip342)\" cx=\"1779.93\" cy=\"1294.86\" r=\"21.6\" fill=\"#0000ff\" fill-rule=\"evenodd\" fill-opacity=\"1\" stroke=\"#000000\" stroke-opacity=\"1\" stroke-width=\"3.2\"/>\n",
       "<circle clip-path=\"url(#clip342)\" cx=\"2291.38\" cy=\"1294.86\" r=\"21.6\" fill=\"#0000ff\" fill-rule=\"evenodd\" fill-opacity=\"1\" stroke=\"#000000\" stroke-opacity=\"1\" stroke-width=\"3.2\"/>\n",
       "<circle clip-path=\"url(#clip342)\" cx=\"1950.41\" cy=\"1370.29\" r=\"21.6\" fill=\"#0000ff\" fill-rule=\"evenodd\" fill-opacity=\"1\" stroke=\"#000000\" stroke-opacity=\"1\" stroke-width=\"3.2\"/>\n",
       "<circle clip-path=\"url(#clip342)\" cx=\"2120.9\" cy=\"1445.72\" r=\"21.6\" fill=\"#0000ff\" fill-rule=\"evenodd\" fill-opacity=\"1\" stroke=\"#000000\" stroke-opacity=\"1\" stroke-width=\"3.2\"/>\n",
       "</svg>\n"
      ]
     },
     "metadata": {},
     "output_type": "display_data"
    }
   ],
   "source": [
    "I,J,_ = spa.findnz(Ds)\n",
    "plt.scatter(I,J;ms=6,mc=:blue,yflip=true,label=\"\")"
   ]
  },
  {
   "cell_type": "code",
   "execution_count": 93,
   "metadata": {},
   "outputs": [
    {
     "data": {
      "text/plain": [
       "3×9 SparseArrays.SparseMatrixCSC{Int64, Int64} with 3 stored entries:\n",
       " ⋅  ⋅  ⋅  3  ⋅  ⋅   ⋅  ⋅  ⋅\n",
       " ⋅  ⋅  ⋅  ⋅  ⋅  ⋅  12  ⋅  ⋅\n",
       " ⋅  ⋅  ⋅  ⋅  ⋅  ⋅   ⋅  ⋅  1"
      ]
     },
     "metadata": {},
     "output_type": "display_data"
    }
   ],
   "source": [
    "Bs"
   ]
  },
  {
   "cell_type": "code",
   "execution_count": 94,
   "metadata": {},
   "outputs": [
    {
     "data": {
      "text/plain": [
       "3-element Vector{Int64}:\n",
       " 1\n",
       " 2\n",
       " 3"
      ]
     },
     "metadata": {},
     "output_type": "display_data"
    }
   ],
   "source": [
    "spa.rowvals(Bs)"
   ]
  },
  {
   "cell_type": "code",
   "execution_count": 95,
   "metadata": {},
   "outputs": [
    {
     "data": {
      "text/plain": [
       "3×3 SparseArrays.SparseMatrixCSC{Float64, Int64} with 3 stored entries:\n",
       "  ⋅         ⋅    ⋅ \n",
       " 0.898948   ⋅    ⋅ \n",
       " 0.512623   ⋅   0.154731"
      ]
     },
     "metadata": {},
     "output_type": "display_data"
    }
   ],
   "source": [
    "Asr = spa.sprand(3,3,0.4)"
   ]
  },
  {
   "cell_type": "code",
   "execution_count": 96,
   "metadata": {},
   "outputs": [
    {
     "data": {
      "text/plain": [
       "([2, 3, 3], [1, 1, 3], [0.8989481624524839, 0.5126225424205453, 0.15473145974555813])"
      ]
     },
     "metadata": {},
     "output_type": "display_data"
    }
   ],
   "source": [
    "I,J,V = spa.findnz(Asr)"
   ]
  },
  {
   "cell_type": "code",
   "execution_count": 97,
   "metadata": {},
   "outputs": [
    {
     "data": {
      "image/png": "[encoded data removed]",
      "image/svg+xml": [
       "<?xml version=\"1.0\" encoding=\"utf-8\"?>\n",
       "<svg xmlns=\"http://www.w3.org/2000/svg\" xmlns:xlink=\"http://www.w3.org/1999/xlink\" width=\"600\" height=\"400\" viewBox=\"0 0 2400 1600\">\n",
       "<defs>\n",
       "  <clipPath id=\"clip380\">\n",
       "    <rect x=\"0\" y=\"0\" width=\"2400\" height=\"1600\"/>\n",
       "  </clipPath>\n",
       "</defs>\n",
       "<path clip-path=\"url(#clip380)\" d=\"M0 1600 L2400 1600 L2400 0 L0 0  Z\" fill=\"#ffffff\" fill-rule=\"evenodd\" fill-opacity=\"1\"/>\n",
       "<defs>\n",
       "  <clipPath id=\"clip381\">\n",
       "    <rect x=\"480\" y=\"0\" width=\"1681\" height=\"1600\"/>\n",
       "  </clipPath>\n",
       "</defs>\n",
       "<path clip-path=\"url(#clip380)\" d=\"M155.765 1486.45 L2352.76 1486.45 L2352.76 47.2441 L155.765 47.2441  Z\" fill=\"#ffffff\" fill-rule=\"evenodd\" fill-opacity=\"1\"/>\n",
       "<defs>\n",
       "  <clipPath id=\"clip382\">\n",
       "    <rect x=\"155\" y=\"47\" width=\"2198\" height=\"1440\"/>\n",
       "  </clipPath>\n",
       "</defs>\n",
       "<polyline clip-path=\"url(#clip382)\" style=\"stroke:#000000; stroke-linecap:round; stroke-linejoin:round; stroke-width:2; stroke-opacity:0.1; fill:none\" points=\"217.944,47.2441 217.944,1486.45 \"/>\n",
       "<polyline clip-path=\"url(#clip382)\" style=\"stroke:#000000; stroke-linecap:round; stroke-linejoin:round; stroke-width:2; stroke-opacity:0.1; fill:none\" points=\"736.102,47.2441 736.102,1486.45 \"/>\n",
       "<polyline clip-path=\"url(#clip382)\" style=\"stroke:#000000; stroke-linecap:round; stroke-linejoin:round; stroke-width:2; stroke-opacity:0.1; fill:none\" points=\"1254.26,47.2441 1254.26,1486.45 \"/>\n",
       "<polyline clip-path=\"url(#clip382)\" style=\"stroke:#000000; stroke-linecap:round; stroke-linejoin:round; stroke-width:2; stroke-opacity:0.1; fill:none\" points=\"1772.42,47.2441 1772.42,1486.45 \"/>\n",
       "<polyline clip-path=\"url(#clip382)\" style=\"stroke:#000000; stroke-linecap:round; stroke-linejoin:round; stroke-width:2; stroke-opacity:0.1; fill:none\" points=\"2290.58,47.2441 2290.58,1486.45 \"/>\n",
       "<polyline clip-path=\"url(#clip380)\" style=\"stroke:#000000; stroke-linecap:round; stroke-linejoin:round; stroke-width:4; stroke-opacity:1; fill:none\" points=\"155.765,1486.45 2352.76,1486.45 \"/>\n",
       "<polyline clip-path=\"url(#clip380)\" style=\"stroke:#000000; stroke-linecap:round; stroke-linejoin:round; stroke-width:4; stroke-opacity:1; fill:none\" points=\"217.944,1486.45 217.944,1467.55 \"/>\n",
       "<polyline clip-path=\"url(#clip380)\" style=\"stroke:#000000; stroke-linecap:round; stroke-linejoin:round; stroke-width:4; stroke-opacity:1; fill:none\" points=\"736.102,1486.45 736.102,1467.55 \"/>\n",
       "<polyline clip-path=\"url(#clip380)\" style=\"stroke:#000000; stroke-linecap:round; stroke-linejoin:round; stroke-width:4; stroke-opacity:1; fill:none\" points=\"1254.26,1486.45 1254.26,1467.55 \"/>\n",
       "<polyline clip-path=\"url(#clip380)\" style=\"stroke:#000000; stroke-linecap:round; stroke-linejoin:round; stroke-width:4; stroke-opacity:1; fill:none\" points=\"1772.42,1486.45 1772.42,1467.55 \"/>\n",
       "<polyline clip-path=\"url(#clip380)\" style=\"stroke:#000000; stroke-linecap:round; stroke-linejoin:round; stroke-width:4; stroke-opacity:1; fill:none\" points=\"2290.58,1486.45 2290.58,1467.55 \"/>\n",
       "<path clip-path=\"url(#clip380)\" d=\"M174.102 1544.91 L190.421 1544.91 L190.421 1548.85 L168.477 1548.85 L168.477 1544.91 Q171.139 1542.16 175.722 1537.53 Q180.328 1532.88 181.509 1531.53 Q183.754 1529.01 184.634 1527.27 Q185.537 1525.51 185.537 1523.82 Q185.537 1521.07 183.592 1519.33 Q181.671 1517.6 178.569 1517.6 Q176.37 1517.6 173.916 1518.36 Q171.486 1519.13 168.708 1520.68 L168.708 1515.95 Q171.532 1514.82 173.986 1514.24 Q176.439 1513.66 178.477 1513.66 Q183.847 1513.66 187.041 1516.35 Q190.236 1519.03 190.236 1523.52 Q190.236 1525.65 189.426 1527.57 Q188.638 1529.47 186.532 1532.07 Q185.953 1532.74 182.851 1535.95 Q179.75 1539.15 174.102 1544.91 Z\" fill=\"#000000\" fill-rule=\"nonzero\" fill-opacity=\"1\" /><path clip-path=\"url(#clip380)\" d=\"M200.236 1542.97 L205.12 1542.97 L205.12 1548.85 L200.236 1548.85 L200.236 1542.97 Z\" fill=\"#000000\" fill-rule=\"nonzero\" fill-opacity=\"1\" /><path clip-path=\"url(#clip380)\" d=\"M225.305 1517.37 Q221.694 1517.37 219.865 1520.93 Q218.06 1524.47 218.06 1531.6 Q218.06 1538.71 219.865 1542.27 Q221.694 1545.82 225.305 1545.82 Q228.939 1545.82 230.745 1542.27 Q232.573 1538.71 232.573 1531.6 Q232.573 1524.47 230.745 1520.93 Q228.939 1517.37 225.305 1517.37 M225.305 1513.66 Q231.115 1513.66 234.171 1518.27 Q237.249 1522.85 237.249 1531.6 Q237.249 1540.33 234.171 1544.94 Q231.115 1549.52 225.305 1549.52 Q219.495 1549.52 216.416 1544.94 Q213.361 1540.33 213.361 1531.6 Q213.361 1522.85 216.416 1518.27 Q219.495 1513.66 225.305 1513.66 Z\" fill=\"#000000\" fill-rule=\"nonzero\" fill-opacity=\"1\" /><path clip-path=\"url(#clip380)\" d=\"M255.467 1517.37 Q251.856 1517.37 250.027 1520.93 Q248.222 1524.47 248.222 1531.6 Q248.222 1538.71 250.027 1542.27 Q251.856 1545.82 255.467 1545.82 Q259.101 1545.82 260.907 1542.27 Q262.735 1538.71 262.735 1531.6 Q262.735 1524.47 260.907 1520.93 Q259.101 1517.37 255.467 1517.37 M255.467 1513.66 Q261.277 1513.66 264.333 1518.27 Q267.411 1522.85 267.411 1531.6 Q267.411 1540.33 264.333 1544.94 Q261.277 1549.52 255.467 1549.52 Q249.657 1549.52 246.578 1544.94 Q243.522 1540.33 243.522 1531.6 Q243.522 1522.85 246.578 1518.27 Q249.657 1513.66 255.467 1513.66 Z\" fill=\"#000000\" fill-rule=\"nonzero\" fill-opacity=\"1\" /><path clip-path=\"url(#clip380)\" d=\"M692.757 1544.91 L709.077 1544.91 L709.077 1548.85 L687.133 1548.85 L687.133 1544.91 Q689.795 1542.16 694.378 1537.53 Q698.984 1532.88 700.165 1531.53 Q702.41 1529.01 703.29 1527.27 Q704.193 1525.51 704.193 1523.82 Q704.193 1521.07 702.248 1519.33 Q700.327 1517.6 697.225 1517.6 Q695.026 1517.6 692.572 1518.36 Q690.142 1519.13 687.364 1520.68 L687.364 1515.95 Q690.188 1514.82 692.642 1514.24 Q695.095 1513.66 697.132 1513.66 Q702.503 1513.66 705.697 1516.35 Q708.892 1519.03 708.892 1523.52 Q708.892 1525.65 708.081 1527.57 Q707.294 1529.47 705.188 1532.07 Q704.609 1532.74 701.507 1535.95 Q698.406 1539.15 692.757 1544.91 Z\" fill=\"#000000\" fill-rule=\"nonzero\" fill-opacity=\"1\" /><path clip-path=\"url(#clip380)\" d=\"M718.892 1542.97 L723.776 1542.97 L723.776 1548.85 L718.892 1548.85 L718.892 1542.97 Z\" fill=\"#000000\" fill-rule=\"nonzero\" fill-opacity=\"1\" /><path clip-path=\"url(#clip380)\" d=\"M737.989 1544.91 L754.308 1544.91 L754.308 1548.85 L732.364 1548.85 L732.364 1544.91 Q735.026 1542.16 739.609 1537.53 Q744.216 1532.88 745.396 1531.53 Q747.641 1529.01 748.521 1527.27 Q749.424 1525.51 749.424 1523.82 Q749.424 1521.07 747.479 1519.33 Q745.558 1517.6 742.456 1517.6 Q740.257 1517.6 737.804 1518.36 Q735.373 1519.13 732.595 1520.68 L732.595 1515.95 Q735.419 1514.82 737.873 1514.24 Q740.327 1513.66 742.364 1513.66 Q747.734 1513.66 750.928 1516.35 Q754.123 1519.03 754.123 1523.52 Q754.123 1525.65 753.313 1527.57 Q752.526 1529.47 750.419 1532.07 Q749.841 1532.74 746.739 1535.95 Q743.637 1539.15 737.989 1544.91 Z\" fill=\"#000000\" fill-rule=\"nonzero\" fill-opacity=\"1\" /><path clip-path=\"url(#clip380)\" d=\"M764.169 1514.29 L782.526 1514.29 L782.526 1518.22 L768.452 1518.22 L768.452 1526.7 Q769.47 1526.35 770.489 1526.19 Q771.507 1526 772.526 1526 Q778.313 1526 781.692 1529.17 Q785.072 1532.34 785.072 1537.76 Q785.072 1543.34 781.6 1546.44 Q778.127 1549.52 771.808 1549.52 Q769.632 1549.52 767.364 1549.15 Q765.118 1548.78 762.711 1548.04 L762.711 1543.34 Q764.794 1544.47 767.016 1545.03 Q769.239 1545.58 771.715 1545.58 Q775.72 1545.58 778.058 1543.48 Q780.396 1541.37 780.396 1537.76 Q780.396 1534.15 778.058 1532.04 Q775.72 1529.94 771.715 1529.94 Q769.84 1529.94 767.965 1530.35 Q766.114 1530.77 764.169 1531.65 L764.169 1514.29 Z\" fill=\"#000000\" fill-rule=\"nonzero\" fill-opacity=\"1\" /><path clip-path=\"url(#clip380)\" d=\"M1210.42 1544.91 L1226.74 1544.91 L1226.74 1548.85 L1204.79 1548.85 L1204.79 1544.91 Q1207.46 1542.16 1212.04 1537.53 Q1216.64 1532.88 1217.83 1531.53 Q1220.07 1529.01 1220.95 1527.27 Q1221.85 1525.51 1221.85 1523.82 Q1221.85 1521.07 1219.91 1519.33 Q1217.99 1517.6 1214.89 1517.6 Q1212.69 1517.6 1210.23 1518.36 Q1207.8 1519.13 1205.02 1520.68 L1205.02 1515.95 Q1207.85 1514.82 1210.3 1514.24 Q1212.76 1513.66 1214.79 1513.66 Q1220.16 1513.66 1223.36 1516.35 Q1226.55 1519.03 1226.55 1523.52 Q1226.55 1525.65 1225.74 1527.57 Q1224.96 1529.47 1222.85 1532.07 Q1222.27 1532.74 1219.17 1535.95 Q1216.07 1539.15 1210.42 1544.91 Z\" fill=\"#000000\" fill-rule=\"nonzero\" fill-opacity=\"1\" /><path clip-path=\"url(#clip380)\" d=\"M1236.55 1542.97 L1241.44 1542.97 L1241.44 1548.85 L1236.55 1548.85 L1236.55 1542.97 Z\" fill=\"#000000\" fill-rule=\"nonzero\" fill-opacity=\"1\" /><path clip-path=\"url(#clip380)\" d=\"M1251.67 1514.29 L1270.02 1514.29 L1270.02 1518.22 L1255.95 1518.22 L1255.95 1526.7 Q1256.97 1526.35 1257.99 1526.19 Q1259.01 1526 1260.02 1526 Q1265.81 1526 1269.19 1529.17 Q1272.57 1532.34 1272.57 1537.76 Q1272.57 1543.34 1269.1 1546.44 Q1265.63 1549.52 1259.31 1549.52 Q1257.13 1549.52 1254.86 1549.15 Q1252.62 1548.78 1250.21 1548.04 L1250.21 1543.34 Q1252.29 1544.47 1254.52 1545.03 Q1256.74 1545.58 1259.21 1545.58 Q1263.22 1545.58 1265.56 1543.48 Q1267.89 1541.37 1267.89 1537.76 Q1267.89 1534.15 1265.56 1532.04 Q1263.22 1529.94 1259.21 1529.94 Q1257.34 1529.94 1255.46 1530.35 Q1253.61 1530.77 1251.67 1531.65 L1251.67 1514.29 Z\" fill=\"#000000\" fill-rule=\"nonzero\" fill-opacity=\"1\" /><path clip-path=\"url(#clip380)\" d=\"M1291.78 1517.37 Q1288.17 1517.37 1286.34 1520.93 Q1284.54 1524.47 1284.54 1531.6 Q1284.54 1538.71 1286.34 1542.27 Q1288.17 1545.82 1291.78 1545.82 Q1295.42 1545.82 1297.22 1542.27 Q1299.05 1538.71 1299.05 1531.6 Q1299.05 1524.47 1297.22 1520.93 Q1295.42 1517.37 1291.78 1517.37 M1291.78 1513.66 Q1297.59 1513.66 1300.65 1518.27 Q1303.73 1522.85 1303.73 1531.6 Q1303.73 1540.33 1300.65 1544.94 Q1297.59 1549.52 1291.78 1549.52 Q1285.97 1549.52 1282.89 1544.94 Q1279.84 1540.33 1279.84 1531.6 Q1279.84 1522.85 1282.89 1518.27 Q1285.97 1513.66 1291.78 1513.66 Z\" fill=\"#000000\" fill-rule=\"nonzero\" fill-opacity=\"1\" /><path clip-path=\"url(#clip380)\" d=\"M1729.07 1544.91 L1745.39 1544.91 L1745.39 1548.85 L1723.45 1548.85 L1723.45 1544.91 Q1726.11 1542.16 1730.69 1537.53 Q1735.3 1532.88 1736.48 1531.53 Q1738.73 1529.01 1739.61 1527.27 Q1740.51 1525.51 1740.51 1523.82 Q1740.51 1521.07 1738.56 1519.33 Q1736.64 1517.6 1733.54 1517.6 Q1731.34 1517.6 1728.89 1518.36 Q1726.46 1519.13 1723.68 1520.68 L1723.68 1515.95 Q1726.5 1514.82 1728.96 1514.24 Q1731.41 1513.66 1733.45 1513.66 Q1738.82 1513.66 1742.01 1516.35 Q1745.21 1519.03 1745.21 1523.52 Q1745.21 1525.65 1744.4 1527.57 Q1743.61 1529.47 1741.5 1532.07 Q1740.93 1532.74 1737.82 1535.95 Q1734.72 1539.15 1729.07 1544.91 Z\" fill=\"#000000\" fill-rule=\"nonzero\" fill-opacity=\"1\" /><path clip-path=\"url(#clip380)\" d=\"M1755.21 1542.97 L1760.09 1542.97 L1760.09 1548.85 L1755.21 1548.85 L1755.21 1542.97 Z\" fill=\"#000000\" fill-rule=\"nonzero\" fill-opacity=\"1\" /><path clip-path=\"url(#clip380)\" d=\"M1769.1 1514.29 L1791.32 1514.29 L1791.32 1516.28 L1778.77 1548.85 L1773.89 1548.85 L1785.69 1518.22 L1769.1 1518.22 L1769.1 1514.29 Z\" fill=\"#000000\" fill-rule=\"nonzero\" fill-opacity=\"1\" /><path clip-path=\"url(#clip380)\" d=\"M1800.49 1514.29 L1818.84 1514.29 L1818.84 1518.22 L1804.77 1518.22 L1804.77 1526.7 Q1805.79 1526.35 1806.81 1526.19 Q1807.82 1526 1808.84 1526 Q1814.63 1526 1818.01 1529.17 Q1821.39 1532.34 1821.39 1537.76 Q1821.39 1543.34 1817.92 1546.44 Q1814.44 1549.52 1808.12 1549.52 Q1805.95 1549.52 1803.68 1549.15 Q1801.43 1548.78 1799.03 1548.04 L1799.03 1543.34 Q1801.11 1544.47 1803.33 1545.03 Q1805.56 1545.58 1808.03 1545.58 Q1812.04 1545.58 1814.37 1543.48 Q1816.71 1541.37 1816.71 1537.76 Q1816.71 1534.15 1814.37 1532.04 Q1812.04 1529.94 1808.03 1529.94 Q1806.16 1529.94 1804.28 1530.35 Q1802.43 1530.77 1800.49 1531.65 L1800.49 1514.29 Z\" fill=\"#000000\" fill-rule=\"nonzero\" fill-opacity=\"1\" /><path clip-path=\"url(#clip380)\" d=\"M2256.8 1530.21 Q2260.16 1530.93 2262.04 1533.2 Q2263.93 1535.47 2263.93 1538.8 Q2263.93 1543.92 2260.42 1546.72 Q2256.9 1549.52 2250.42 1549.52 Q2248.24 1549.52 2245.92 1549.08 Q2243.63 1548.66 2241.18 1547.81 L2241.18 1543.29 Q2243.12 1544.43 2245.44 1545.01 Q2247.75 1545.58 2250.28 1545.58 Q2254.67 1545.58 2256.97 1543.85 Q2259.28 1542.11 2259.28 1538.8 Q2259.28 1535.75 2257.13 1534.03 Q2255 1532.3 2251.18 1532.3 L2247.15 1532.3 L2247.15 1528.45 L2251.36 1528.45 Q2254.81 1528.45 2256.64 1527.09 Q2258.47 1525.7 2258.47 1523.11 Q2258.47 1520.45 2256.57 1519.03 Q2254.7 1517.6 2251.18 1517.6 Q2249.26 1517.6 2247.06 1518.01 Q2244.86 1518.43 2242.22 1519.31 L2242.22 1515.14 Q2244.88 1514.4 2247.2 1514.03 Q2249.54 1513.66 2251.6 1513.66 Q2256.92 1513.66 2260.02 1516.09 Q2263.12 1518.5 2263.12 1522.62 Q2263.12 1525.49 2261.48 1527.48 Q2259.84 1529.45 2256.8 1530.21 Z\" fill=\"#000000\" fill-rule=\"nonzero\" fill-opacity=\"1\" /><path clip-path=\"url(#clip380)\" d=\"M2272.8 1542.97 L2277.68 1542.97 L2277.68 1548.85 L2272.8 1548.85 L2272.8 1542.97 Z\" fill=\"#000000\" fill-rule=\"nonzero\" fill-opacity=\"1\" /><path clip-path=\"url(#clip380)\" d=\"M2297.87 1517.37 Q2294.26 1517.37 2292.43 1520.93 Q2290.62 1524.47 2290.62 1531.6 Q2290.62 1538.71 2292.43 1542.27 Q2294.26 1545.82 2297.87 1545.82 Q2301.5 1545.82 2303.31 1542.27 Q2305.14 1538.71 2305.14 1531.6 Q2305.14 1524.47 2303.31 1520.93 Q2301.5 1517.37 2297.87 1517.37 M2297.87 1513.66 Q2303.68 1513.66 2306.73 1518.27 Q2309.81 1522.85 2309.81 1531.6 Q2309.81 1540.33 2306.73 1544.94 Q2303.68 1549.52 2297.87 1549.52 Q2292.06 1549.52 2288.98 1544.94 Q2285.92 1540.33 2285.92 1531.6 Q2285.92 1522.85 2288.98 1518.27 Q2292.06 1513.66 2297.87 1513.66 Z\" fill=\"#000000\" fill-rule=\"nonzero\" fill-opacity=\"1\" /><path clip-path=\"url(#clip380)\" d=\"M2328.03 1517.37 Q2324.42 1517.37 2322.59 1520.93 Q2320.79 1524.47 2320.79 1531.6 Q2320.79 1538.71 2322.59 1542.27 Q2324.42 1545.82 2328.03 1545.82 Q2331.66 1545.82 2333.47 1542.27 Q2335.3 1538.71 2335.3 1531.6 Q2335.3 1524.47 2333.47 1520.93 Q2331.66 1517.37 2328.03 1517.37 M2328.03 1513.66 Q2333.84 1513.66 2336.9 1518.27 Q2339.97 1522.85 2339.97 1531.6 Q2339.97 1540.33 2336.9 1544.94 Q2333.84 1549.52 2328.03 1549.52 Q2322.22 1549.52 2319.14 1544.94 Q2316.09 1540.33 2316.09 1531.6 Q2316.09 1522.85 2319.14 1518.27 Q2322.22 1513.66 2328.03 1513.66 Z\" fill=\"#000000\" fill-rule=\"nonzero\" fill-opacity=\"1\" /><polyline clip-path=\"url(#clip382)\" style=\"stroke:#000000; stroke-linecap:round; stroke-linejoin:round; stroke-width:2; stroke-opacity:0.1; fill:none\" points=\"155.765,87.9763 2352.76,87.9763 \"/>\n",
       "<polyline clip-path=\"url(#clip382)\" style=\"stroke:#000000; stroke-linecap:round; stroke-linejoin:round; stroke-width:2; stroke-opacity:0.1; fill:none\" points=\"155.765,427.411 2352.76,427.411 \"/>\n",
       "<polyline clip-path=\"url(#clip382)\" style=\"stroke:#000000; stroke-linecap:round; stroke-linejoin:round; stroke-width:2; stroke-opacity:0.1; fill:none\" points=\"155.765,766.846 2352.76,766.846 \"/>\n",
       "<polyline clip-path=\"url(#clip382)\" style=\"stroke:#000000; stroke-linecap:round; stroke-linejoin:round; stroke-width:2; stroke-opacity:0.1; fill:none\" points=\"155.765,1106.28 2352.76,1106.28 \"/>\n",
       "<polyline clip-path=\"url(#clip382)\" style=\"stroke:#000000; stroke-linecap:round; stroke-linejoin:round; stroke-width:2; stroke-opacity:0.1; fill:none\" points=\"155.765,1445.72 2352.76,1445.72 \"/>\n",
       "<polyline clip-path=\"url(#clip380)\" style=\"stroke:#000000; stroke-linecap:round; stroke-linejoin:round; stroke-width:4; stroke-opacity:1; fill:none\" points=\"155.765,47.2441 155.765,1486.45 \"/>\n",
       "<polyline clip-path=\"url(#clip380)\" style=\"stroke:#000000; stroke-linecap:round; stroke-linejoin:round; stroke-width:4; stroke-opacity:1; fill:none\" points=\"155.765,87.9763 174.663,87.9763 \"/>\n",
       "<polyline clip-path=\"url(#clip380)\" style=\"stroke:#000000; stroke-linecap:round; stroke-linejoin:round; stroke-width:4; stroke-opacity:1; fill:none\" points=\"155.765,427.411 174.663,427.411 \"/>\n",
       "<polyline clip-path=\"url(#clip380)\" style=\"stroke:#000000; stroke-linecap:round; stroke-linejoin:round; stroke-width:4; stroke-opacity:1; fill:none\" points=\"155.765,766.846 174.663,766.846 \"/>\n",
       "<polyline clip-path=\"url(#clip380)\" style=\"stroke:#000000; stroke-linecap:round; stroke-linejoin:round; stroke-width:4; stroke-opacity:1; fill:none\" points=\"155.765,1106.28 174.663,1106.28 \"/>\n",
       "<polyline clip-path=\"url(#clip380)\" style=\"stroke:#000000; stroke-linecap:round; stroke-linejoin:round; stroke-width:4; stroke-opacity:1; fill:none\" points=\"155.765,1445.72 174.663,1445.72 \"/>\n",
       "<path clip-path=\"url(#clip380)\" d=\"M53.3995 101.321 L61.0384 101.321 L61.0384 74.9555 L52.7282 76.6222 L52.7282 72.3629 L60.9921 70.6963 L65.668 70.6963 L65.668 101.321 L73.3068 101.321 L73.3068 105.256 L53.3995 105.256 L53.3995 101.321 Z\" fill=\"#000000\" fill-rule=\"nonzero\" fill-opacity=\"1\" /><path clip-path=\"url(#clip380)\" d=\"M82.7512 99.3767 L87.6354 99.3767 L87.6354 105.256 L82.7512 105.256 L82.7512 99.3767 Z\" fill=\"#000000\" fill-rule=\"nonzero\" fill-opacity=\"1\" /><path clip-path=\"url(#clip380)\" d=\"M107.821 73.775 Q104.209 73.775 102.381 77.3398 Q100.575 80.8814 100.575 88.011 Q100.575 95.1174 102.381 98.6822 Q104.209 102.224 107.821 102.224 Q111.455 102.224 113.26 98.6822 Q115.089 95.1174 115.089 88.011 Q115.089 80.8814 113.26 77.3398 Q111.455 73.775 107.821 73.775 M107.821 70.0713 Q113.631 70.0713 116.686 74.6777 Q119.765 79.261 119.765 88.011 Q119.765 96.7378 116.686 101.344 Q113.631 105.928 107.821 105.928 Q102.01 105.928 98.9317 101.344 Q95.8761 96.7378 95.8761 88.011 Q95.8761 79.261 98.9317 74.6777 Q102.01 70.0713 107.821 70.0713 Z\" fill=\"#000000\" fill-rule=\"nonzero\" fill-opacity=\"1\" /><path clip-path=\"url(#clip380)\" d=\"M54.3949 440.756 L62.0337 440.756 L62.0337 414.39 L53.7236 416.057 L53.7236 411.798 L61.9874 410.131 L66.6633 410.131 L66.6633 440.756 L74.3022 440.756 L74.3022 444.691 L54.3949 444.691 L54.3949 440.756 Z\" fill=\"#000000\" fill-rule=\"nonzero\" fill-opacity=\"1\" /><path clip-path=\"url(#clip380)\" d=\"M83.7466 438.812 L88.6308 438.812 L88.6308 444.691 L83.7466 444.691 L83.7466 438.812 Z\" fill=\"#000000\" fill-rule=\"nonzero\" fill-opacity=\"1\" /><path clip-path=\"url(#clip380)\" d=\"M98.8622 410.131 L117.219 410.131 L117.219 414.066 L103.145 414.066 L103.145 422.538 Q104.163 422.191 105.182 422.029 Q106.2 421.844 107.219 421.844 Q113.006 421.844 116.385 425.015 Q119.765 428.187 119.765 433.603 Q119.765 439.182 116.293 442.284 Q112.82 445.362 106.501 445.362 Q104.325 445.362 102.057 444.992 Q99.8113 444.622 97.4039 443.881 L97.4039 439.182 Q99.4872 440.316 101.709 440.872 Q103.932 441.427 106.408 441.427 Q110.413 441.427 112.751 439.321 Q115.089 437.214 115.089 433.603 Q115.089 429.992 112.751 427.886 Q110.413 425.779 106.408 425.779 Q104.534 425.779 102.659 426.196 Q100.807 426.613 98.8622 427.492 L98.8622 410.131 Z\" fill=\"#000000\" fill-rule=\"nonzero\" fill-opacity=\"1\" /><path clip-path=\"url(#clip380)\" d=\"M56.6171 780.191 L72.9365 780.191 L72.9365 784.126 L50.9921 784.126 L50.9921 780.191 Q53.6541 777.436 58.2375 772.807 Q62.8439 768.154 64.0245 766.811 Q66.2698 764.288 67.1494 762.552 Q68.0522 760.793 68.0522 759.103 Q68.0522 756.348 66.1078 754.612 Q64.1865 752.876 61.0847 752.876 Q58.8856 752.876 56.4319 753.64 Q54.0014 754.404 51.2236 755.955 L51.2236 751.233 Q54.0477 750.098 56.5014 749.52 Q58.955 748.941 60.9921 748.941 Q66.3624 748.941 69.5568 751.626 Q72.7513 754.311 72.7513 758.802 Q72.7513 760.932 71.9411 762.853 Q71.1541 764.751 69.0476 767.344 Q68.4689 768.015 65.367 771.233 Q62.2652 774.427 56.6171 780.191 Z\" fill=\"#000000\" fill-rule=\"nonzero\" fill-opacity=\"1\" /><path clip-path=\"url(#clip380)\" d=\"M82.7512 778.246 L87.6354 778.246 L87.6354 784.126 L82.7512 784.126 L82.7512 778.246 Z\" fill=\"#000000\" fill-rule=\"nonzero\" fill-opacity=\"1\" /><path clip-path=\"url(#clip380)\" d=\"M107.821 752.645 Q104.209 752.645 102.381 756.209 Q100.575 759.751 100.575 766.881 Q100.575 773.987 102.381 777.552 Q104.209 781.094 107.821 781.094 Q111.455 781.094 113.26 777.552 Q115.089 773.987 115.089 766.881 Q115.089 759.751 113.26 756.209 Q111.455 752.645 107.821 752.645 M107.821 748.941 Q113.631 748.941 116.686 753.547 Q119.765 758.131 119.765 766.881 Q119.765 775.608 116.686 780.214 Q113.631 784.797 107.821 784.797 Q102.01 784.797 98.9317 780.214 Q95.8761 775.608 95.8761 766.881 Q95.8761 758.131 98.9317 753.547 Q102.01 748.941 107.821 748.941 Z\" fill=\"#000000\" fill-rule=\"nonzero\" fill-opacity=\"1\" /><path clip-path=\"url(#clip380)\" d=\"M57.6125 1119.63 L73.9318 1119.63 L73.9318 1123.56 L51.9875 1123.56 L51.9875 1119.63 Q54.6495 1116.87 59.2328 1112.24 Q63.8393 1107.59 65.0198 1106.25 Q67.2652 1103.72 68.1448 1101.99 Q69.0476 1100.23 69.0476 1098.54 Q69.0476 1095.78 67.1032 1094.05 Q65.1819 1092.31 62.08 1092.31 Q59.881 1092.31 57.4273 1093.07 Q54.9967 1093.84 52.219 1095.39 L52.219 1090.67 Q55.043 1089.53 57.4967 1088.95 Q59.9504 1088.38 61.9874 1088.38 Q67.3578 1088.38 70.5522 1091.06 Q73.7466 1093.75 73.7466 1098.24 Q73.7466 1100.37 72.9365 1102.29 Q72.1494 1104.19 70.0429 1106.78 Q69.4642 1107.45 66.3624 1110.67 Q63.2606 1113.86 57.6125 1119.63 Z\" fill=\"#000000\" fill-rule=\"nonzero\" fill-opacity=\"1\" /><path clip-path=\"url(#clip380)\" d=\"M83.7466 1117.68 L88.6308 1117.68 L88.6308 1123.56 L83.7466 1123.56 L83.7466 1117.68 Z\" fill=\"#000000\" fill-rule=\"nonzero\" fill-opacity=\"1\" /><path clip-path=\"url(#clip380)\" d=\"M98.8622 1089 L117.219 1089 L117.219 1092.94 L103.145 1092.94 L103.145 1101.41 Q104.163 1101.06 105.182 1100.9 Q106.2 1100.71 107.219 1100.71 Q113.006 1100.71 116.385 1103.89 Q119.765 1107.06 119.765 1112.47 Q119.765 1118.05 116.293 1121.15 Q112.82 1124.23 106.501 1124.23 Q104.325 1124.23 102.057 1123.86 Q99.8113 1123.49 97.4039 1122.75 L97.4039 1118.05 Q99.4872 1119.19 101.709 1119.74 Q103.932 1120.3 106.408 1120.3 Q110.413 1120.3 112.751 1118.19 Q115.089 1116.08 115.089 1112.47 Q115.089 1108.86 112.751 1106.76 Q110.413 1104.65 106.408 1104.65 Q104.534 1104.65 102.659 1105.07 Q100.807 1105.48 98.8622 1106.36 L98.8622 1089 Z\" fill=\"#000000\" fill-rule=\"nonzero\" fill-opacity=\"1\" /><path clip-path=\"url(#clip380)\" d=\"M66.7559 1444.36 Q70.1124 1445.08 71.9874 1447.35 Q73.8855 1449.62 73.8855 1452.95 Q73.8855 1458.07 70.367 1460.87 Q66.8485 1463.67 60.3671 1463.67 Q58.1912 1463.67 55.8764 1463.23 Q53.5847 1462.81 51.131 1461.95 L51.131 1457.44 Q53.0754 1458.57 55.3903 1459.15 Q57.7051 1459.73 60.2282 1459.73 Q64.6263 1459.73 66.918 1458 Q69.2328 1456.26 69.2328 1452.95 Q69.2328 1449.89 67.08 1448.18 Q64.9504 1446.44 61.131 1446.44 L57.1032 1446.44 L57.1032 1442.6 L61.3161 1442.6 Q64.7652 1442.6 66.5939 1441.24 Q68.4226 1439.85 68.4226 1437.26 Q68.4226 1434.59 66.5245 1433.18 Q64.6495 1431.75 61.131 1431.75 Q59.2097 1431.75 57.0106 1432.16 Q54.8115 1432.58 52.1727 1433.46 L52.1727 1429.29 Q54.8347 1428.55 57.1495 1428.18 Q59.4875 1427.81 61.5476 1427.81 Q66.8717 1427.81 69.9735 1430.24 Q73.0753 1432.65 73.0753 1436.77 Q73.0753 1439.64 71.4318 1441.63 Q69.7883 1443.6 66.7559 1444.36 Z\" fill=\"#000000\" fill-rule=\"nonzero\" fill-opacity=\"1\" /><path clip-path=\"url(#clip380)\" d=\"M82.7512 1457.12 L87.6354 1457.12 L87.6354 1463 L82.7512 1463 L82.7512 1457.12 Z\" fill=\"#000000\" fill-rule=\"nonzero\" fill-opacity=\"1\" /><path clip-path=\"url(#clip380)\" d=\"M107.821 1431.51 Q104.209 1431.51 102.381 1435.08 Q100.575 1438.62 100.575 1445.75 Q100.575 1452.86 102.381 1456.42 Q104.209 1459.96 107.821 1459.96 Q111.455 1459.96 113.26 1456.42 Q115.089 1452.86 115.089 1445.75 Q115.089 1438.62 113.26 1435.08 Q111.455 1431.51 107.821 1431.51 M107.821 1427.81 Q113.631 1427.81 116.686 1432.42 Q119.765 1437 119.765 1445.75 Q119.765 1454.48 116.686 1459.08 Q113.631 1463.67 107.821 1463.67 Q102.01 1463.67 98.9317 1459.08 Q95.8761 1454.48 95.8761 1445.75 Q95.8761 1437 98.9317 1432.42 Q102.01 1427.81 107.821 1427.81 Z\" fill=\"#000000\" fill-rule=\"nonzero\" fill-opacity=\"1\" /><circle clip-path=\"url(#clip382)\" cx=\"217.944\" cy=\"87.9763\" r=\"21.6\" fill=\"#0000ff\" fill-rule=\"evenodd\" fill-opacity=\"1\" stroke=\"#000000\" stroke-opacity=\"1\" stroke-width=\"3.2\"/>\n",
       "<circle clip-path=\"url(#clip382)\" cx=\"2290.58\" cy=\"87.9763\" r=\"21.6\" fill=\"#0000ff\" fill-rule=\"evenodd\" fill-opacity=\"1\" stroke=\"#000000\" stroke-opacity=\"1\" stroke-width=\"3.2\"/>\n",
       "<circle clip-path=\"url(#clip382)\" cx=\"2290.58\" cy=\"1445.72\" r=\"21.6\" fill=\"#0000ff\" fill-rule=\"evenodd\" fill-opacity=\"1\" stroke=\"#000000\" stroke-opacity=\"1\" stroke-width=\"3.2\"/>\n",
       "<path clip-path=\"url(#clip380)\" d=\"M228.998 1438.47 L501.127 1438.47 L501.127 1334.79 L228.998 1334.79  Z\" fill=\"#ffffff\" fill-rule=\"evenodd\" fill-opacity=\"1\"/>\n",
       "<polyline clip-path=\"url(#clip380)\" style=\"stroke:#000000; stroke-linecap:round; stroke-linejoin:round; stroke-width:4; stroke-opacity:1; fill:none\" points=\"228.998,1438.47 501.127,1438.47 501.127,1334.79 228.998,1334.79 228.998,1438.47 \"/>\n",
       "<circle clip-path=\"url(#clip380)\" cx=\"326.642\" cy=\"1386.63\" r=\"21.2677\" fill=\"#0000ff\" fill-rule=\"evenodd\" fill-opacity=\"1\" stroke=\"#000000\" stroke-opacity=\"1\" stroke-width=\"3.15077\"/>\n",
       "<path clip-path=\"url(#clip380)\" d=\"M438.129 1406.32 Q436.323 1410.95 434.61 1412.36 Q432.897 1413.78 430.027 1413.78 L426.624 1413.78 L426.624 1410.21 L429.124 1410.21 Q430.883 1410.21 431.855 1409.38 Q432.828 1408.54 434.008 1405.44 L434.772 1403.5 L424.286 1377.99 L428.8 1377.99 L436.902 1398.27 L445.004 1377.99 L449.517 1377.99 L438.129 1406.32 Z\" fill=\"#000000\" fill-rule=\"nonzero\" fill-opacity=\"1\" /><path clip-path=\"url(#clip380)\" d=\"M456.809 1399.98 L464.448 1399.98 L464.448 1373.61 L456.138 1375.28 L456.138 1371.02 L464.402 1369.35 L469.077 1369.35 L469.077 1399.98 L476.716 1399.98 L476.716 1403.91 L456.809 1403.91 L456.809 1399.98 Z\" fill=\"#000000\" fill-rule=\"nonzero\" fill-opacity=\"1\" /></svg>\n"
      ],
      "text/html": [
       "<?xml version=\"1.0\" encoding=\"utf-8\"?>\n",
       "<svg xmlns=\"http://www.w3.org/2000/svg\" xmlns:xlink=\"http://www.w3.org/1999/xlink\" width=\"600\" height=\"400\" viewBox=\"0 0 2400 1600\">\n",
       "<defs>\n",
       "  <clipPath id=\"clip430\">\n",
       "    <rect x=\"0\" y=\"0\" width=\"2400\" height=\"1600\"/>\n",
       "  </clipPath>\n",
       "</defs>\n",
       "<path clip-path=\"url(#clip430)\" d=\"M0 1600 L2400 1600 L2400 0 L0 0  Z\" fill=\"#ffffff\" fill-rule=\"evenodd\" fill-opacity=\"1\"/>\n",
       "<defs>\n",
       "  <clipPath id=\"clip431\">\n",
       "    <rect x=\"480\" y=\"0\" width=\"1681\" height=\"1600\"/>\n",
       "  </clipPath>\n",
       "</defs>\n",
       "<path clip-path=\"url(#clip430)\" d=\"M155.765 1486.45 L2352.76 1486.45 L2352.76 47.2441 L155.765 47.2441  Z\" fill=\"#ffffff\" fill-rule=\"evenodd\" fill-opacity=\"1\"/>\n",
       "<defs>\n",
       "  <clipPath id=\"clip432\">\n",
       "    <rect x=\"155\" y=\"47\" width=\"2198\" height=\"1440\"/>\n",
       "  </clipPath>\n",
       "</defs>\n",
       "<polyline clip-path=\"url(#clip432)\" style=\"stroke:#000000; stroke-linecap:round; stroke-linejoin:round; stroke-width:2; stroke-opacity:0.1; fill:none\" points=\"217.944,47.2441 217.944,1486.45 \"/>\n",
       "<polyline clip-path=\"url(#clip432)\" style=\"stroke:#000000; stroke-linecap:round; stroke-linejoin:round; stroke-width:2; stroke-opacity:0.1; fill:none\" points=\"736.102,47.2441 736.102,1486.45 \"/>\n",
       "<polyline clip-path=\"url(#clip432)\" style=\"stroke:#000000; stroke-linecap:round; stroke-linejoin:round; stroke-width:2; stroke-opacity:0.1; fill:none\" points=\"1254.26,47.2441 1254.26,1486.45 \"/>\n",
       "<polyline clip-path=\"url(#clip432)\" style=\"stroke:#000000; stroke-linecap:round; stroke-linejoin:round; stroke-width:2; stroke-opacity:0.1; fill:none\" points=\"1772.42,47.2441 1772.42,1486.45 \"/>\n",
       "<polyline clip-path=\"url(#clip432)\" style=\"stroke:#000000; stroke-linecap:round; stroke-linejoin:round; stroke-width:2; stroke-opacity:0.1; fill:none\" points=\"2290.58,47.2441 2290.58,1486.45 \"/>\n",
       "<polyline clip-path=\"url(#clip430)\" style=\"stroke:#000000; stroke-linecap:round; stroke-linejoin:round; stroke-width:4; stroke-opacity:1; fill:none\" points=\"155.765,1486.45 2352.76,1486.45 \"/>\n",
       "<polyline clip-path=\"url(#clip430)\" style=\"stroke:#000000; stroke-linecap:round; stroke-linejoin:round; stroke-width:4; stroke-opacity:1; fill:none\" points=\"217.944,1486.45 217.944,1467.55 \"/>\n",
       "<polyline clip-path=\"url(#clip430)\" style=\"stroke:#000000; stroke-linecap:round; stroke-linejoin:round; stroke-width:4; stroke-opacity:1; fill:none\" points=\"736.102,1486.45 736.102,1467.55 \"/>\n",
       "<polyline clip-path=\"url(#clip430)\" style=\"stroke:#000000; stroke-linecap:round; stroke-linejoin:round; stroke-width:4; stroke-opacity:1; fill:none\" points=\"1254.26,1486.45 1254.26,1467.55 \"/>\n",
       "<polyline clip-path=\"url(#clip430)\" style=\"stroke:#000000; stroke-linecap:round; stroke-linejoin:round; stroke-width:4; stroke-opacity:1; fill:none\" points=\"1772.42,1486.45 1772.42,1467.55 \"/>\n",
       "<polyline clip-path=\"url(#clip430)\" style=\"stroke:#000000; stroke-linecap:round; stroke-linejoin:round; stroke-width:4; stroke-opacity:1; fill:none\" points=\"2290.58,1486.45 2290.58,1467.55 \"/>\n",
       "<path clip-path=\"url(#clip430)\" d=\"M174.102 1544.91 L190.421 1544.91 L190.421 1548.85 L168.477 1548.85 L168.477 1544.91 Q171.139 1542.16 175.722 1537.53 Q180.328 1532.88 181.509 1531.53 Q183.754 1529.01 184.634 1527.27 Q185.537 1525.51 185.537 1523.82 Q185.537 1521.07 183.592 1519.33 Q181.671 1517.6 178.569 1517.6 Q176.37 1517.6 173.916 1518.36 Q171.486 1519.13 168.708 1520.68 L168.708 1515.95 Q171.532 1514.82 173.986 1514.24 Q176.439 1513.66 178.477 1513.66 Q183.847 1513.66 187.041 1516.35 Q190.236 1519.03 190.236 1523.52 Q190.236 1525.65 189.426 1527.57 Q188.638 1529.47 186.532 1532.07 Q185.953 1532.74 182.851 1535.95 Q179.75 1539.15 174.102 1544.91 Z\" fill=\"#000000\" fill-rule=\"nonzero\" fill-opacity=\"1\" /><path clip-path=\"url(#clip430)\" d=\"M200.236 1542.97 L205.12 1542.97 L205.12 1548.85 L200.236 1548.85 L200.236 1542.97 Z\" fill=\"#000000\" fill-rule=\"nonzero\" fill-opacity=\"1\" /><path clip-path=\"url(#clip430)\" d=\"M225.305 1517.37 Q221.694 1517.37 219.865 1520.93 Q218.06 1524.47 218.06 1531.6 Q218.06 1538.71 219.865 1542.27 Q221.694 1545.82 225.305 1545.82 Q228.939 1545.82 230.745 1542.27 Q232.573 1538.71 232.573 1531.6 Q232.573 1524.47 230.745 1520.93 Q228.939 1517.37 225.305 1517.37 M225.305 1513.66 Q231.115 1513.66 234.171 1518.27 Q237.249 1522.85 237.249 1531.6 Q237.249 1540.33 234.171 1544.94 Q231.115 1549.52 225.305 1549.52 Q219.495 1549.52 216.416 1544.94 Q213.361 1540.33 213.361 1531.6 Q213.361 1522.85 216.416 1518.27 Q219.495 1513.66 225.305 1513.66 Z\" fill=\"#000000\" fill-rule=\"nonzero\" fill-opacity=\"1\" /><path clip-path=\"url(#clip430)\" d=\"M255.467 1517.37 Q251.856 1517.37 250.027 1520.93 Q248.222 1524.47 248.222 1531.6 Q248.222 1538.71 250.027 1542.27 Q251.856 1545.82 255.467 1545.82 Q259.101 1545.82 260.907 1542.27 Q262.735 1538.71 262.735 1531.6 Q262.735 1524.47 260.907 1520.93 Q259.101 1517.37 255.467 1517.37 M255.467 1513.66 Q261.277 1513.66 264.333 1518.27 Q267.411 1522.85 267.411 1531.6 Q267.411 1540.33 264.333 1544.94 Q261.277 1549.52 255.467 1549.52 Q249.657 1549.52 246.578 1544.94 Q243.522 1540.33 243.522 1531.6 Q243.522 1522.85 246.578 1518.27 Q249.657 1513.66 255.467 1513.66 Z\" fill=\"#000000\" fill-rule=\"nonzero\" fill-opacity=\"1\" /><path clip-path=\"url(#clip430)\" d=\"M692.757 1544.91 L709.077 1544.91 L709.077 1548.85 L687.133 1548.85 L687.133 1544.91 Q689.795 1542.16 694.378 1537.53 Q698.984 1532.88 700.165 1531.53 Q702.41 1529.01 703.29 1527.27 Q704.193 1525.51 704.193 1523.82 Q704.193 1521.07 702.248 1519.33 Q700.327 1517.6 697.225 1517.6 Q695.026 1517.6 692.572 1518.36 Q690.142 1519.13 687.364 1520.68 L687.364 1515.95 Q690.188 1514.82 692.642 1514.24 Q695.095 1513.66 697.132 1513.66 Q702.503 1513.66 705.697 1516.35 Q708.892 1519.03 708.892 1523.52 Q708.892 1525.65 708.081 1527.57 Q707.294 1529.47 705.188 1532.07 Q704.609 1532.74 701.507 1535.95 Q698.406 1539.15 692.757 1544.91 Z\" fill=\"#000000\" fill-rule=\"nonzero\" fill-opacity=\"1\" /><path clip-path=\"url(#clip430)\" d=\"M718.892 1542.97 L723.776 1542.97 L723.776 1548.85 L718.892 1548.85 L718.892 1542.97 Z\" fill=\"#000000\" fill-rule=\"nonzero\" fill-opacity=\"1\" /><path clip-path=\"url(#clip430)\" d=\"M737.989 1544.91 L754.308 1544.91 L754.308 1548.85 L732.364 1548.85 L732.364 1544.91 Q735.026 1542.16 739.609 1537.53 Q744.216 1532.88 745.396 1531.53 Q747.641 1529.01 748.521 1527.27 Q749.424 1525.51 749.424 1523.82 Q749.424 1521.07 747.479 1519.33 Q745.558 1517.6 742.456 1517.6 Q740.257 1517.6 737.804 1518.36 Q735.373 1519.13 732.595 1520.68 L732.595 1515.95 Q735.419 1514.82 737.873 1514.24 Q740.327 1513.66 742.364 1513.66 Q747.734 1513.66 750.928 1516.35 Q754.123 1519.03 754.123 1523.52 Q754.123 1525.65 753.313 1527.57 Q752.526 1529.47 750.419 1532.07 Q749.841 1532.74 746.739 1535.95 Q743.637 1539.15 737.989 1544.91 Z\" fill=\"#000000\" fill-rule=\"nonzero\" fill-opacity=\"1\" /><path clip-path=\"url(#clip430)\" d=\"M764.169 1514.29 L782.526 1514.29 L782.526 1518.22 L768.452 1518.22 L768.452 1526.7 Q769.47 1526.35 770.489 1526.19 Q771.507 1526 772.526 1526 Q778.313 1526 781.692 1529.17 Q785.072 1532.34 785.072 1537.76 Q785.072 1543.34 781.6 1546.44 Q778.127 1549.52 771.808 1549.52 Q769.632 1549.52 767.364 1549.15 Q765.118 1548.78 762.711 1548.04 L762.711 1543.34 Q764.794 1544.47 767.016 1545.03 Q769.239 1545.58 771.715 1545.58 Q775.72 1545.58 778.058 1543.48 Q780.396 1541.37 780.396 1537.76 Q780.396 1534.15 778.058 1532.04 Q775.72 1529.94 771.715 1529.94 Q769.84 1529.94 767.965 1530.35 Q766.114 1530.77 764.169 1531.65 L764.169 1514.29 Z\" fill=\"#000000\" fill-rule=\"nonzero\" fill-opacity=\"1\" /><path clip-path=\"url(#clip430)\" d=\"M1210.42 1544.91 L1226.74 1544.91 L1226.74 1548.85 L1204.79 1548.85 L1204.79 1544.91 Q1207.46 1542.16 1212.04 1537.53 Q1216.64 1532.88 1217.83 1531.53 Q1220.07 1529.01 1220.95 1527.27 Q1221.85 1525.51 1221.85 1523.82 Q1221.85 1521.07 1219.91 1519.33 Q1217.99 1517.6 1214.89 1517.6 Q1212.69 1517.6 1210.23 1518.36 Q1207.8 1519.13 1205.02 1520.68 L1205.02 1515.95 Q1207.85 1514.82 1210.3 1514.24 Q1212.76 1513.66 1214.79 1513.66 Q1220.16 1513.66 1223.36 1516.35 Q1226.55 1519.03 1226.55 1523.52 Q1226.55 1525.65 1225.74 1527.57 Q1224.96 1529.47 1222.85 1532.07 Q1222.27 1532.74 1219.17 1535.95 Q1216.07 1539.15 1210.42 1544.91 Z\" fill=\"#000000\" fill-rule=\"nonzero\" fill-opacity=\"1\" /><path clip-path=\"url(#clip430)\" d=\"M1236.55 1542.97 L1241.44 1542.97 L1241.44 1548.85 L1236.55 1548.85 L1236.55 1542.97 Z\" fill=\"#000000\" fill-rule=\"nonzero\" fill-opacity=\"1\" /><path clip-path=\"url(#clip430)\" d=\"M1251.67 1514.29 L1270.02 1514.29 L1270.02 1518.22 L1255.95 1518.22 L1255.95 1526.7 Q1256.97 1526.35 1257.99 1526.19 Q1259.01 1526 1260.02 1526 Q1265.81 1526 1269.19 1529.17 Q1272.57 1532.34 1272.57 1537.76 Q1272.57 1543.34 1269.1 1546.44 Q1265.63 1549.52 1259.31 1549.52 Q1257.13 1549.52 1254.86 1549.15 Q1252.62 1548.78 1250.21 1548.04 L1250.21 1543.34 Q1252.29 1544.47 1254.52 1545.03 Q1256.74 1545.58 1259.21 1545.58 Q1263.22 1545.58 1265.56 1543.48 Q1267.89 1541.37 1267.89 1537.76 Q1267.89 1534.15 1265.56 1532.04 Q1263.22 1529.94 1259.21 1529.94 Q1257.34 1529.94 1255.46 1530.35 Q1253.61 1530.77 1251.67 1531.65 L1251.67 1514.29 Z\" fill=\"#000000\" fill-rule=\"nonzero\" fill-opacity=\"1\" /><path clip-path=\"url(#clip430)\" d=\"M1291.78 1517.37 Q1288.17 1517.37 1286.34 1520.93 Q1284.54 1524.47 1284.54 1531.6 Q1284.54 1538.71 1286.34 1542.27 Q1288.17 1545.82 1291.78 1545.82 Q1295.42 1545.82 1297.22 1542.27 Q1299.05 1538.71 1299.05 1531.6 Q1299.05 1524.47 1297.22 1520.93 Q1295.42 1517.37 1291.78 1517.37 M1291.78 1513.66 Q1297.59 1513.66 1300.65 1518.27 Q1303.73 1522.85 1303.73 1531.6 Q1303.73 1540.33 1300.65 1544.94 Q1297.59 1549.52 1291.78 1549.52 Q1285.97 1549.52 1282.89 1544.94 Q1279.84 1540.33 1279.84 1531.6 Q1279.84 1522.85 1282.89 1518.27 Q1285.97 1513.66 1291.78 1513.66 Z\" fill=\"#000000\" fill-rule=\"nonzero\" fill-opacity=\"1\" /><path clip-path=\"url(#clip430)\" d=\"M1729.07 1544.91 L1745.39 1544.91 L1745.39 1548.85 L1723.45 1548.85 L1723.45 1544.91 Q1726.11 1542.16 1730.69 1537.53 Q1735.3 1532.88 1736.48 1531.53 Q1738.73 1529.01 1739.61 1527.27 Q1740.51 1525.51 1740.51 1523.82 Q1740.51 1521.07 1738.56 1519.33 Q1736.64 1517.6 1733.54 1517.6 Q1731.34 1517.6 1728.89 1518.36 Q1726.46 1519.13 1723.68 1520.68 L1723.68 1515.95 Q1726.5 1514.82 1728.96 1514.24 Q1731.41 1513.66 1733.45 1513.66 Q1738.82 1513.66 1742.01 1516.35 Q1745.21 1519.03 1745.21 1523.52 Q1745.21 1525.65 1744.4 1527.57 Q1743.61 1529.47 1741.5 1532.07 Q1740.93 1532.74 1737.82 1535.95 Q1734.72 1539.15 1729.07 1544.91 Z\" fill=\"#000000\" fill-rule=\"nonzero\" fill-opacity=\"1\" /><path clip-path=\"url(#clip430)\" d=\"M1755.21 1542.97 L1760.09 1542.97 L1760.09 1548.85 L1755.21 1548.85 L1755.21 1542.97 Z\" fill=\"#000000\" fill-rule=\"nonzero\" fill-opacity=\"1\" /><path clip-path=\"url(#clip430)\" d=\"M1769.1 1514.29 L1791.32 1514.29 L1791.32 1516.28 L1778.77 1548.85 L1773.89 1548.85 L1785.69 1518.22 L1769.1 1518.22 L1769.1 1514.29 Z\" fill=\"#000000\" fill-rule=\"nonzero\" fill-opacity=\"1\" /><path clip-path=\"url(#clip430)\" d=\"M1800.49 1514.29 L1818.84 1514.29 L1818.84 1518.22 L1804.77 1518.22 L1804.77 1526.7 Q1805.79 1526.35 1806.81 1526.19 Q1807.82 1526 1808.84 1526 Q1814.63 1526 1818.01 1529.17 Q1821.39 1532.34 1821.39 1537.76 Q1821.39 1543.34 1817.92 1546.44 Q1814.44 1549.52 1808.12 1549.52 Q1805.95 1549.52 1803.68 1549.15 Q1801.43 1548.78 1799.03 1548.04 L1799.03 1543.34 Q1801.11 1544.47 1803.33 1545.03 Q1805.56 1545.58 1808.03 1545.58 Q1812.04 1545.58 1814.37 1543.48 Q1816.71 1541.37 1816.71 1537.76 Q1816.71 1534.15 1814.37 1532.04 Q1812.04 1529.94 1808.03 1529.94 Q1806.16 1529.94 1804.28 1530.35 Q1802.43 1530.77 1800.49 1531.65 L1800.49 1514.29 Z\" fill=\"#000000\" fill-rule=\"nonzero\" fill-opacity=\"1\" /><path clip-path=\"url(#clip430)\" d=\"M2256.8 1530.21 Q2260.16 1530.93 2262.04 1533.2 Q2263.93 1535.47 2263.93 1538.8 Q2263.93 1543.92 2260.42 1546.72 Q2256.9 1549.52 2250.42 1549.52 Q2248.24 1549.52 2245.92 1549.08 Q2243.63 1548.66 2241.18 1547.81 L2241.18 1543.29 Q2243.12 1544.43 2245.44 1545.01 Q2247.75 1545.58 2250.28 1545.58 Q2254.67 1545.58 2256.97 1543.85 Q2259.28 1542.11 2259.28 1538.8 Q2259.28 1535.75 2257.13 1534.03 Q2255 1532.3 2251.18 1532.3 L2247.15 1532.3 L2247.15 1528.45 L2251.36 1528.45 Q2254.81 1528.45 2256.64 1527.09 Q2258.47 1525.7 2258.47 1523.11 Q2258.47 1520.45 2256.57 1519.03 Q2254.7 1517.6 2251.18 1517.6 Q2249.26 1517.6 2247.06 1518.01 Q2244.86 1518.43 2242.22 1519.31 L2242.22 1515.14 Q2244.88 1514.4 2247.2 1514.03 Q2249.54 1513.66 2251.6 1513.66 Q2256.92 1513.66 2260.02 1516.09 Q2263.12 1518.5 2263.12 1522.62 Q2263.12 1525.49 2261.48 1527.48 Q2259.84 1529.45 2256.8 1530.21 Z\" fill=\"#000000\" fill-rule=\"nonzero\" fill-opacity=\"1\" /><path clip-path=\"url(#clip430)\" d=\"M2272.8 1542.97 L2277.68 1542.97 L2277.68 1548.85 L2272.8 1548.85 L2272.8 1542.97 Z\" fill=\"#000000\" fill-rule=\"nonzero\" fill-opacity=\"1\" /><path clip-path=\"url(#clip430)\" d=\"M2297.87 1517.37 Q2294.26 1517.37 2292.43 1520.93 Q2290.62 1524.47 2290.62 1531.6 Q2290.62 1538.71 2292.43 1542.27 Q2294.26 1545.82 2297.87 1545.82 Q2301.5 1545.82 2303.31 1542.27 Q2305.14 1538.71 2305.14 1531.6 Q2305.14 1524.47 2303.31 1520.93 Q2301.5 1517.37 2297.87 1517.37 M2297.87 1513.66 Q2303.68 1513.66 2306.73 1518.27 Q2309.81 1522.85 2309.81 1531.6 Q2309.81 1540.33 2306.73 1544.94 Q2303.68 1549.52 2297.87 1549.52 Q2292.06 1549.52 2288.98 1544.94 Q2285.92 1540.33 2285.92 1531.6 Q2285.92 1522.85 2288.98 1518.27 Q2292.06 1513.66 2297.87 1513.66 Z\" fill=\"#000000\" fill-rule=\"nonzero\" fill-opacity=\"1\" /><path clip-path=\"url(#clip430)\" d=\"M2328.03 1517.37 Q2324.42 1517.37 2322.59 1520.93 Q2320.79 1524.47 2320.79 1531.6 Q2320.79 1538.71 2322.59 1542.27 Q2324.42 1545.82 2328.03 1545.82 Q2331.66 1545.82 2333.47 1542.27 Q2335.3 1538.71 2335.3 1531.6 Q2335.3 1524.47 2333.47 1520.93 Q2331.66 1517.37 2328.03 1517.37 M2328.03 1513.66 Q2333.84 1513.66 2336.9 1518.27 Q2339.97 1522.85 2339.97 1531.6 Q2339.97 1540.33 2336.9 1544.94 Q2333.84 1549.52 2328.03 1549.52 Q2322.22 1549.52 2319.14 1544.94 Q2316.09 1540.33 2316.09 1531.6 Q2316.09 1522.85 2319.14 1518.27 Q2322.22 1513.66 2328.03 1513.66 Z\" fill=\"#000000\" fill-rule=\"nonzero\" fill-opacity=\"1\" /><polyline clip-path=\"url(#clip432)\" style=\"stroke:#000000; stroke-linecap:round; stroke-linejoin:round; stroke-width:2; stroke-opacity:0.1; fill:none\" points=\"155.765,87.9763 2352.76,87.9763 \"/>\n",
       "<polyline clip-path=\"url(#clip432)\" style=\"stroke:#000000; stroke-linecap:round; stroke-linejoin:round; stroke-width:2; stroke-opacity:0.1; fill:none\" points=\"155.765,427.411 2352.76,427.411 \"/>\n",
       "<polyline clip-path=\"url(#clip432)\" style=\"stroke:#000000; stroke-linecap:round; stroke-linejoin:round; stroke-width:2; stroke-opacity:0.1; fill:none\" points=\"155.765,766.846 2352.76,766.846 \"/>\n",
       "<polyline clip-path=\"url(#clip432)\" style=\"stroke:#000000; stroke-linecap:round; stroke-linejoin:round; stroke-width:2; stroke-opacity:0.1; fill:none\" points=\"155.765,1106.28 2352.76,1106.28 \"/>\n",
       "<polyline clip-path=\"url(#clip432)\" style=\"stroke:#000000; stroke-linecap:round; stroke-linejoin:round; stroke-width:2; stroke-opacity:0.1; fill:none\" points=\"155.765,1445.72 2352.76,1445.72 \"/>\n",
       "<polyline clip-path=\"url(#clip430)\" style=\"stroke:#000000; stroke-linecap:round; stroke-linejoin:round; stroke-width:4; stroke-opacity:1; fill:none\" points=\"155.765,47.2441 155.765,1486.45 \"/>\n",
       "<polyline clip-path=\"url(#clip430)\" style=\"stroke:#000000; stroke-linecap:round; stroke-linejoin:round; stroke-width:4; stroke-opacity:1; fill:none\" points=\"155.765,87.9763 174.663,87.9763 \"/>\n",
       "<polyline clip-path=\"url(#clip430)\" style=\"stroke:#000000; stroke-linecap:round; stroke-linejoin:round; stroke-width:4; stroke-opacity:1; fill:none\" points=\"155.765,427.411 174.663,427.411 \"/>\n",
       "<polyline clip-path=\"url(#clip430)\" style=\"stroke:#000000; stroke-linecap:round; stroke-linejoin:round; stroke-width:4; stroke-opacity:1; fill:none\" points=\"155.765,766.846 174.663,766.846 \"/>\n",
       "<polyline clip-path=\"url(#clip430)\" style=\"stroke:#000000; stroke-linecap:round; stroke-linejoin:round; stroke-width:4; stroke-opacity:1; fill:none\" points=\"155.765,1106.28 174.663,1106.28 \"/>\n",
       "<polyline clip-path=\"url(#clip430)\" style=\"stroke:#000000; stroke-linecap:round; stroke-linejoin:round; stroke-width:4; stroke-opacity:1; fill:none\" points=\"155.765,1445.72 174.663,1445.72 \"/>\n",
       "<path clip-path=\"url(#clip430)\" d=\"M53.3995 101.321 L61.0384 101.321 L61.0384 74.9555 L52.7282 76.6222 L52.7282 72.3629 L60.9921 70.6963 L65.668 70.6963 L65.668 101.321 L73.3068 101.321 L73.3068 105.256 L53.3995 105.256 L53.3995 101.321 Z\" fill=\"#000000\" fill-rule=\"nonzero\" fill-opacity=\"1\" /><path clip-path=\"url(#clip430)\" d=\"M82.7512 99.3767 L87.6354 99.3767 L87.6354 105.256 L82.7512 105.256 L82.7512 99.3767 Z\" fill=\"#000000\" fill-rule=\"nonzero\" fill-opacity=\"1\" /><path clip-path=\"url(#clip430)\" d=\"M107.821 73.775 Q104.209 73.775 102.381 77.3398 Q100.575 80.8814 100.575 88.011 Q100.575 95.1174 102.381 98.6822 Q104.209 102.224 107.821 102.224 Q111.455 102.224 113.26 98.6822 Q115.089 95.1174 115.089 88.011 Q115.089 80.8814 113.26 77.3398 Q111.455 73.775 107.821 73.775 M107.821 70.0713 Q113.631 70.0713 116.686 74.6777 Q119.765 79.261 119.765 88.011 Q119.765 96.7378 116.686 101.344 Q113.631 105.928 107.821 105.928 Q102.01 105.928 98.9317 101.344 Q95.8761 96.7378 95.8761 88.011 Q95.8761 79.261 98.9317 74.6777 Q102.01 70.0713 107.821 70.0713 Z\" fill=\"#000000\" fill-rule=\"nonzero\" fill-opacity=\"1\" /><path clip-path=\"url(#clip430)\" d=\"M54.3949 440.756 L62.0337 440.756 L62.0337 414.39 L53.7236 416.057 L53.7236 411.798 L61.9874 410.131 L66.6633 410.131 L66.6633 440.756 L74.3022 440.756 L74.3022 444.691 L54.3949 444.691 L54.3949 440.756 Z\" fill=\"#000000\" fill-rule=\"nonzero\" fill-opacity=\"1\" /><path clip-path=\"url(#clip430)\" d=\"M83.7466 438.812 L88.6308 438.812 L88.6308 444.691 L83.7466 444.691 L83.7466 438.812 Z\" fill=\"#000000\" fill-rule=\"nonzero\" fill-opacity=\"1\" /><path clip-path=\"url(#clip430)\" d=\"M98.8622 410.131 L117.219 410.131 L117.219 414.066 L103.145 414.066 L103.145 422.538 Q104.163 422.191 105.182 422.029 Q106.2 421.844 107.219 421.844 Q113.006 421.844 116.385 425.015 Q119.765 428.187 119.765 433.603 Q119.765 439.182 116.293 442.284 Q112.82 445.362 106.501 445.362 Q104.325 445.362 102.057 444.992 Q99.8113 444.622 97.4039 443.881 L97.4039 439.182 Q99.4872 440.316 101.709 440.872 Q103.932 441.427 106.408 441.427 Q110.413 441.427 112.751 439.321 Q115.089 437.214 115.089 433.603 Q115.089 429.992 112.751 427.886 Q110.413 425.779 106.408 425.779 Q104.534 425.779 102.659 426.196 Q100.807 426.613 98.8622 427.492 L98.8622 410.131 Z\" fill=\"#000000\" fill-rule=\"nonzero\" fill-opacity=\"1\" /><path clip-path=\"url(#clip430)\" d=\"M56.6171 780.191 L72.9365 780.191 L72.9365 784.126 L50.9921 784.126 L50.9921 780.191 Q53.6541 777.436 58.2375 772.807 Q62.8439 768.154 64.0245 766.811 Q66.2698 764.288 67.1494 762.552 Q68.0522 760.793 68.0522 759.103 Q68.0522 756.348 66.1078 754.612 Q64.1865 752.876 61.0847 752.876 Q58.8856 752.876 56.4319 753.64 Q54.0014 754.404 51.2236 755.955 L51.2236 751.233 Q54.0477 750.098 56.5014 749.52 Q58.955 748.941 60.9921 748.941 Q66.3624 748.941 69.5568 751.626 Q72.7513 754.311 72.7513 758.802 Q72.7513 760.932 71.9411 762.853 Q71.1541 764.751 69.0476 767.344 Q68.4689 768.015 65.367 771.233 Q62.2652 774.427 56.6171 780.191 Z\" fill=\"#000000\" fill-rule=\"nonzero\" fill-opacity=\"1\" /><path clip-path=\"url(#clip430)\" d=\"M82.7512 778.246 L87.6354 778.246 L87.6354 784.126 L82.7512 784.126 L82.7512 778.246 Z\" fill=\"#000000\" fill-rule=\"nonzero\" fill-opacity=\"1\" /><path clip-path=\"url(#clip430)\" d=\"M107.821 752.645 Q104.209 752.645 102.381 756.209 Q100.575 759.751 100.575 766.881 Q100.575 773.987 102.381 777.552 Q104.209 781.094 107.821 781.094 Q111.455 781.094 113.26 777.552 Q115.089 773.987 115.089 766.881 Q115.089 759.751 113.26 756.209 Q111.455 752.645 107.821 752.645 M107.821 748.941 Q113.631 748.941 116.686 753.547 Q119.765 758.131 119.765 766.881 Q119.765 775.608 116.686 780.214 Q113.631 784.797 107.821 784.797 Q102.01 784.797 98.9317 780.214 Q95.8761 775.608 95.8761 766.881 Q95.8761 758.131 98.9317 753.547 Q102.01 748.941 107.821 748.941 Z\" fill=\"#000000\" fill-rule=\"nonzero\" fill-opacity=\"1\" /><path clip-path=\"url(#clip430)\" d=\"M57.6125 1119.63 L73.9318 1119.63 L73.9318 1123.56 L51.9875 1123.56 L51.9875 1119.63 Q54.6495 1116.87 59.2328 1112.24 Q63.8393 1107.59 65.0198 1106.25 Q67.2652 1103.72 68.1448 1101.99 Q69.0476 1100.23 69.0476 1098.54 Q69.0476 1095.78 67.1032 1094.05 Q65.1819 1092.31 62.08 1092.31 Q59.881 1092.31 57.4273 1093.07 Q54.9967 1093.84 52.219 1095.39 L52.219 1090.67 Q55.043 1089.53 57.4967 1088.95 Q59.9504 1088.38 61.9874 1088.38 Q67.3578 1088.38 70.5522 1091.06 Q73.7466 1093.75 73.7466 1098.24 Q73.7466 1100.37 72.9365 1102.29 Q72.1494 1104.19 70.0429 1106.78 Q69.4642 1107.45 66.3624 1110.67 Q63.2606 1113.86 57.6125 1119.63 Z\" fill=\"#000000\" fill-rule=\"nonzero\" fill-opacity=\"1\" /><path clip-path=\"url(#clip430)\" d=\"M83.7466 1117.68 L88.6308 1117.68 L88.6308 1123.56 L83.7466 1123.56 L83.7466 1117.68 Z\" fill=\"#000000\" fill-rule=\"nonzero\" fill-opacity=\"1\" /><path clip-path=\"url(#clip430)\" d=\"M98.8622 1089 L117.219 1089 L117.219 1092.94 L103.145 1092.94 L103.145 1101.41 Q104.163 1101.06 105.182 1100.9 Q106.2 1100.71 107.219 1100.71 Q113.006 1100.71 116.385 1103.89 Q119.765 1107.06 119.765 1112.47 Q119.765 1118.05 116.293 1121.15 Q112.82 1124.23 106.501 1124.23 Q104.325 1124.23 102.057 1123.86 Q99.8113 1123.49 97.4039 1122.75 L97.4039 1118.05 Q99.4872 1119.19 101.709 1119.74 Q103.932 1120.3 106.408 1120.3 Q110.413 1120.3 112.751 1118.19 Q115.089 1116.08 115.089 1112.47 Q115.089 1108.86 112.751 1106.76 Q110.413 1104.65 106.408 1104.65 Q104.534 1104.65 102.659 1105.07 Q100.807 1105.48 98.8622 1106.36 L98.8622 1089 Z\" fill=\"#000000\" fill-rule=\"nonzero\" fill-opacity=\"1\" /><path clip-path=\"url(#clip430)\" d=\"M66.7559 1444.36 Q70.1124 1445.08 71.9874 1447.35 Q73.8855 1449.62 73.8855 1452.95 Q73.8855 1458.07 70.367 1460.87 Q66.8485 1463.67 60.3671 1463.67 Q58.1912 1463.67 55.8764 1463.23 Q53.5847 1462.81 51.131 1461.95 L51.131 1457.44 Q53.0754 1458.57 55.3903 1459.15 Q57.7051 1459.73 60.2282 1459.73 Q64.6263 1459.73 66.918 1458 Q69.2328 1456.26 69.2328 1452.95 Q69.2328 1449.89 67.08 1448.18 Q64.9504 1446.44 61.131 1446.44 L57.1032 1446.44 L57.1032 1442.6 L61.3161 1442.6 Q64.7652 1442.6 66.5939 1441.24 Q68.4226 1439.85 68.4226 1437.26 Q68.4226 1434.59 66.5245 1433.18 Q64.6495 1431.75 61.131 1431.75 Q59.2097 1431.75 57.0106 1432.16 Q54.8115 1432.58 52.1727 1433.46 L52.1727 1429.29 Q54.8347 1428.55 57.1495 1428.18 Q59.4875 1427.81 61.5476 1427.81 Q66.8717 1427.81 69.9735 1430.24 Q73.0753 1432.65 73.0753 1436.77 Q73.0753 1439.64 71.4318 1441.63 Q69.7883 1443.6 66.7559 1444.36 Z\" fill=\"#000000\" fill-rule=\"nonzero\" fill-opacity=\"1\" /><path clip-path=\"url(#clip430)\" d=\"M82.7512 1457.12 L87.6354 1457.12 L87.6354 1463 L82.7512 1463 L82.7512 1457.12 Z\" fill=\"#000000\" fill-rule=\"nonzero\" fill-opacity=\"1\" /><path clip-path=\"url(#clip430)\" d=\"M107.821 1431.51 Q104.209 1431.51 102.381 1435.08 Q100.575 1438.62 100.575 1445.75 Q100.575 1452.86 102.381 1456.42 Q104.209 1459.96 107.821 1459.96 Q111.455 1459.96 113.26 1456.42 Q115.089 1452.86 115.089 1445.75 Q115.089 1438.62 113.26 1435.08 Q111.455 1431.51 107.821 1431.51 M107.821 1427.81 Q113.631 1427.81 116.686 1432.42 Q119.765 1437 119.765 1445.75 Q119.765 1454.48 116.686 1459.08 Q113.631 1463.67 107.821 1463.67 Q102.01 1463.67 98.9317 1459.08 Q95.8761 1454.48 95.8761 1445.75 Q95.8761 1437 98.9317 1432.42 Q102.01 1427.81 107.821 1427.81 Z\" fill=\"#000000\" fill-rule=\"nonzero\" fill-opacity=\"1\" /><circle clip-path=\"url(#clip432)\" cx=\"217.944\" cy=\"87.9763\" r=\"21.6\" fill=\"#0000ff\" fill-rule=\"evenodd\" fill-opacity=\"1\" stroke=\"#000000\" stroke-opacity=\"1\" stroke-width=\"3.2\"/>\n",
       "<circle clip-path=\"url(#clip432)\" cx=\"2290.58\" cy=\"87.9763\" r=\"21.6\" fill=\"#0000ff\" fill-rule=\"evenodd\" fill-opacity=\"1\" stroke=\"#000000\" stroke-opacity=\"1\" stroke-width=\"3.2\"/>\n",
       "<circle clip-path=\"url(#clip432)\" cx=\"2290.58\" cy=\"1445.72\" r=\"21.6\" fill=\"#0000ff\" fill-rule=\"evenodd\" fill-opacity=\"1\" stroke=\"#000000\" stroke-opacity=\"1\" stroke-width=\"3.2\"/>\n",
       "<path clip-path=\"url(#clip430)\" d=\"M228.998 1438.47 L501.127 1438.47 L501.127 1334.79 L228.998 1334.79  Z\" fill=\"#ffffff\" fill-rule=\"evenodd\" fill-opacity=\"1\"/>\n",
       "<polyline clip-path=\"url(#clip430)\" style=\"stroke:#000000; stroke-linecap:round; stroke-linejoin:round; stroke-width:4; stroke-opacity:1; fill:none\" points=\"228.998,1438.47 501.127,1438.47 501.127,1334.79 228.998,1334.79 228.998,1438.47 \"/>\n",
       "<circle clip-path=\"url(#clip430)\" cx=\"326.642\" cy=\"1386.63\" r=\"21.2677\" fill=\"#0000ff\" fill-rule=\"evenodd\" fill-opacity=\"1\" stroke=\"#000000\" stroke-opacity=\"1\" stroke-width=\"3.15077\"/>\n",
       "<path clip-path=\"url(#clip430)\" d=\"M438.129 1406.32 Q436.323 1410.95 434.61 1412.36 Q432.897 1413.78 430.027 1413.78 L426.624 1413.78 L426.624 1410.21 L429.124 1410.21 Q430.883 1410.21 431.855 1409.38 Q432.828 1408.54 434.008 1405.44 L434.772 1403.5 L424.286 1377.99 L428.8 1377.99 L436.902 1398.27 L445.004 1377.99 L449.517 1377.99 L438.129 1406.32 Z\" fill=\"#000000\" fill-rule=\"nonzero\" fill-opacity=\"1\" /><path clip-path=\"url(#clip430)\" d=\"M456.809 1399.98 L464.448 1399.98 L464.448 1373.61 L456.138 1375.28 L456.138 1371.02 L464.402 1369.35 L469.077 1369.35 L469.077 1399.98 L476.716 1399.98 L476.716 1403.91 L456.809 1403.91 L456.809 1399.98 Z\" fill=\"#000000\" fill-rule=\"nonzero\" fill-opacity=\"1\" /></svg>\n"
      ]
     },
     "metadata": {},
     "output_type": "display_data"
    }
   ],
   "source": [
    "plt.scatter(I,J;ms=6,mc=:blue,yflip=true,legend=:bottomleft)"
   ]
  },
  {
   "cell_type": "code",
   "execution_count": 98,
   "metadata": {},
   "outputs": [
    {
     "data": {
      "text/plain": [
       "3×3 SparseArrays.SparseMatrixCSC{Float64, Int64} with 4 stored entries:\n",
       " 0.456616    ⋅         ⋅ \n",
       " 0.755726    ⋅         ⋅ \n",
       "  ⋅        -0.299125  1.576"
      ]
     },
     "metadata": {},
     "output_type": "display_data"
    }
   ],
   "source": [
    "spa.sprandn(3,3,0.4)"
   ]
  },
  {
   "cell_type": "markdown",
   "metadata": {},
   "source": [
    "### `OffsetArrays` package\n",
    "In Julia, just like in FORTRAN and MATLAB, arrays are indexed from unity, while in C, Python, and other languages, arrays are indexed from zero.\n",
    "\n",
    "Package `OffsetArrays.jl` allows us to index from arbitrary integer values. Because few functions are exported, we don't bother to create an alias.\n",
    "\n",
    "* **Creating Offset Array 1** - `OffsetArray(A,idx1,idx2,...)` creates a new array of type \"Offset Array\" where, e.g., `idx1` can be `-1:3` if the original matrix `A` has indices going from `1:5`, etc. In general, the number of index elements must be the same for array `A` and the offset array in each axis. \n",
    "* **Creating Offset Array 2** `OffsetArray(A,dev1,dev2,...)` creates an offset array where the index in axis 1 is `dev1`, etc. As an example, if the original matrix has first axis `1:5`, the `OffsetArray(A,-2,...)` creates an offset matrix where the first axis indices are `-1:3`.\n",
    "* **Creating Offset Array 3** `Origin(or)(A)` creates an absolute initial index (origin) `or` which is the same for all axes. Note: method `Origin` is not exported, so it is necessary to include the name space of the package.\n",
    "\n",
    "Examples of use of Offset Arrays: when solving a PDE where the solution is found over a matrix `S` representing the system volume, the system cells are conveniently indexed starting at 1. When updating the model over the system volume with using stencils, these will at the edge go into the boundaries, and expect zero or negative indices - these system cells outside of the proper system are termed *ghost cells*. The system *with boundaries* (\"ghost cells\"), `SB`, may then be created as an OffsetArray to keep the indexing simple.\n",
    "\n",
    "An other example can be when the array contains regression parameters, and it for some reason is convenient to change the index boundaries."
   ]
  },
  {
   "cell_type": "code",
   "execution_count": 99,
   "metadata": {},
   "outputs": [],
   "source": [
    "using OffsetArrays"
   ]
  },
  {
   "cell_type": "code",
   "execution_count": 100,
   "metadata": {},
   "outputs": [
    {
     "data": {
      "text/plain": [
       "3×5 Matrix{Int64}:\n",
       " -4  -1   3   4   9\n",
       "  3   7  -8  -4  -1\n",
       " -3   0   1   0  -9"
      ]
     },
     "metadata": {},
     "output_type": "display_data"
    }
   ],
   "source": [
    "S = rand(-9:9,3,5)"
   ]
  },
  {
   "cell_type": "code",
   "execution_count": 101,
   "metadata": {},
   "outputs": [
    {
     "data": {
      "text/plain": [
       "3×5 OffsetArray(::Matrix{Int64}, 0:2, 0:4) with eltype Int64 with indices 0:2×0:4:\n",
       " -4  -1   3   4   9\n",
       "  3   7  -8  -4  -1\n",
       " -3   0   1   0  -9"
      ]
     },
     "metadata": {},
     "output_type": "display_data"
    }
   ],
   "source": [
    "OS = OffsetArray(S,0:2,0:4)"
   ]
  },
  {
   "cell_type": "code",
   "execution_count": 102,
   "metadata": {},
   "outputs": [
    {
     "data": {
      "text/plain": [
       "(-4, -4)"
      ]
     },
     "metadata": {},
     "output_type": "display_data"
    }
   ],
   "source": [
    "OS[0,0], S[1,1]"
   ]
  },
  {
   "cell_type": "code",
   "execution_count": 103,
   "metadata": {},
   "outputs": [
    {
     "data": {
      "text/plain": [
       "5×7 OffsetArray(::Matrix{Float64}, 0:4, 0:6) with eltype Float64 with indices 0:4×0:6:\n",
       " 0.0  0.0  0.0  0.0  0.0  0.0  0.0\n",
       " 0.0  0.0  0.0  0.0  0.0  0.0  0.0\n",
       " 0.0  0.0  0.0  0.0  0.0  0.0  0.0\n",
       " 0.0  0.0  0.0  0.0  0.0  0.0  0.0\n",
       " 0.0  0.0  0.0  0.0  0.0  0.0  0.0"
      ]
     },
     "metadata": {},
     "output_type": "display_data"
    }
   ],
   "source": [
    "SB = OffsetArray(zeros(5,7),-1,-1)"
   ]
  },
  {
   "cell_type": "code",
   "execution_count": 104,
   "metadata": {},
   "outputs": [
    {
     "data": {
      "text/plain": [
       "5×7 OffsetArray(::Matrix{Float64}, 0:4, 0:6) with eltype Float64 with indices 0:4×0:6:\n",
       " 0.0  0.0  0.0  0.0  0.0  0.0  0.0\n",
       " 0.0  0.0  0.0  0.0  0.0  0.0  0.0\n",
       " 0.0  0.0  0.0  0.0  0.0  0.0  0.0\n",
       " 0.0  0.0  0.0  0.0  0.0  0.0  0.0\n",
       " 0.0  0.0  0.0  0.0  0.0  0.0  0.0"
      ]
     },
     "metadata": {},
     "output_type": "display_data"
    }
   ],
   "source": [
    "SB1 = OffsetArrays.Origin(0)(zeros(5,7))"
   ]
  },
  {
   "cell_type": "code",
   "execution_count": 105,
   "metadata": {},
   "outputs": [
    {
     "data": {
      "text/plain": [
       "CartesianIndices((3, 5))"
      ]
     },
     "metadata": {},
     "output_type": "display_data"
    }
   ],
   "source": [
    "I = CartesianIndices(S)"
   ]
  },
  {
   "cell_type": "code",
   "execution_count": 106,
   "metadata": {},
   "outputs": [
    {
     "data": {
      "text/plain": [
       "3×5 view(OffsetArray(::Matrix{Float64}, 0:4, 0:6), Base.OneTo(3), Base.OneTo(5)) with eltype Float64:\n",
       " -4.0  -1.0   3.0   4.0   9.0\n",
       "  3.0   7.0  -8.0  -4.0  -1.0\n",
       " -3.0   0.0   1.0   0.0  -9.0"
      ]
     },
     "metadata": {},
     "output_type": "display_data"
    }
   ],
   "source": [
    "SB[I] .= S[I]"
   ]
  },
  {
   "cell_type": "code",
   "execution_count": 107,
   "metadata": {},
   "outputs": [
    {
     "data": {
      "text/plain": [
       "5×7 OffsetArray(::Matrix{Float64}, 0:4, 0:6) with eltype Float64 with indices 0:4×0:6:\n",
       " 0.0   0.0   0.0   0.0   0.0   0.0  0.0\n",
       " 0.0  -4.0  -1.0   3.0   4.0   9.0  0.0\n",
       " 0.0   3.0   7.0  -8.0  -4.0  -1.0  0.0\n",
       " 0.0  -3.0   0.0   1.0   0.0  -9.0  0.0\n",
       " 0.0   0.0   0.0   0.0   0.0   0.0  0.0"
      ]
     },
     "metadata": {},
     "output_type": "display_data"
    }
   ],
   "source": [
    "SB"
   ]
  },
  {
   "cell_type": "markdown",
   "metadata": {},
   "source": [
    "A relatively accurate correlation model for hydrogen specific heat capacity is proportional to $\\sum_{j=0}^4 a_j\\cdot T^j$ where $a_j$ are coefficients and $T$ is absolute temperature. We collect coefficients $a_0,\\ldots,a_4$ into vector $a$. Because of the sum expression above, it is convenient to change the origin of the array to $0$."
   ]
  },
  {
   "cell_type": "code",
   "execution_count": 108,
   "metadata": {},
   "outputs": [
    {
     "data": {
      "text/plain": [
       "3.4620869999999995"
      ]
     },
     "metadata": {},
     "output_type": "display_data"
    }
   ],
   "source": [
    "a = OffsetArrays.Origin(0)([2.883,3.681e-3,-0.772e-5,0.692e-8,-0.213e-11])\n",
    "f(T) = sum(j -> a[j]*T^j, 0:4)\n",
    "#\n",
    "f(300)"
   ]
  },
  {
   "cell_type": "markdown",
   "metadata": {},
   "source": [
    "### `Random` package\n",
    "The `Random` package comes with standard Julia, but must be imported, and extends the support for random numbers, etc.\n",
    "\n",
    "* **Random numbers** - `rand([S], [dims...])` produces random elements picked from \"set\" `S` into array of size given by integer dimensions `dims` (`dims...`, or \"splash\" `dims`  unpacks the elements of `dims` into a sequence of integers). The \"set\" `S` can be a tuple, an array, a set, a dictionary, other iterators, etc. It can also be datatypes, e.g., `Float64`, `Int`, etc. The default is `Float64` which is limited to the interval `[0,1)`. For integers (except `BigInts`), the range is the minimum value to the maximum value of the given integer type. \n",
    "* **Random permutation** - `randperm(n::Integer)` produces a random permutation of integers `1:n`.\n",
    "* **Seeding generator** - `seed!(seed)` sets a seed value (`seed` may be skipped) for the random number generator. Setting a specific value for `seed`  makes it possible to produce a \"deterministic\" random number sequence\n",
    "\n",
    "It is also possible to select random number generator algorithm, and several other random number algorithms are available."
   ]
  },
  {
   "cell_type": "code",
   "execution_count": 109,
   "metadata": {},
   "outputs": [],
   "source": [
    "import Random as rd"
   ]
  },
  {
   "cell_type": "code",
   "execution_count": 110,
   "metadata": {},
   "outputs": [
    {
     "data": {
      "text/plain": [
       "Dict{String, Any} with 4 entries:\n",
       "  \"c\" => \"Hey Jude\"\n",
       "  \"b\" => 5\n",
       "  \"a\" => [1, 2, 3]\n",
       "  \"d\" => 2+3im"
      ]
     },
     "metadata": {},
     "output_type": "display_data"
    }
   ],
   "source": [
    "D = Dict(\"a\" => [1,2,3], \"b\" => 5, \"c\" => \"Hey Jude\", \"d\" => 2+3im)"
   ]
  },
  {
   "cell_type": "code",
   "execution_count": 111,
   "metadata": {},
   "outputs": [
    {
     "data": {
      "text/plain": [
       "4-element Vector{Pair{String, Any}}:\n",
       " \"c\" => \"Hey Jude\"\n",
       " \"d\" => 2 + 3im\n",
       " \"d\" => 2 + 3im\n",
       " \"b\" => 5"
      ]
     },
     "metadata": {},
     "output_type": "display_data"
    }
   ],
   "source": [
    "rd.rand(D,4)"
   ]
  },
  {
   "cell_type": "code",
   "execution_count": 112,
   "metadata": {},
   "outputs": [
    {
     "data": {
      "image/svg+xml": [
       "<?xml version=\"1.0\" encoding=\"UTF-8\"?>\n",
       "<!DOCTYPE svg PUBLIC \"-//W3C//DTD SVG 1.1//EN\"\n",
       " \"http://www.w3.org/Graphics/SVG/1.1/DTD/svg11.dtd\">\n",
       "<svg xmlns=\"http://www.w3.org/2000/svg\" version=\"1.1\"\n",
       "     width=\"125mm\" height=\"25mm\"\n",
       "     viewBox=\"0 0 5 1\" preserveAspectRatio=\"none\"\n",
       "     shape-rendering=\"crispEdges\" stroke=\"none\">\n",
       "<rect width=\".96\" height=\".96\" x=\"0\" y=\"0\" fill=\"#8E0071\" />\n",
       "<rect width=\".96\" height=\".96\" x=\"1\" y=\"0\" fill=\"#1C00E3\" />\n",
       "<rect width=\".96\" height=\".96\" x=\"2\" y=\"0\" fill=\"#FF0000\" />\n",
       "<rect width=\".96\" height=\".96\" x=\"3\" y=\"0\" fill=\"#3900C6\" />\n",
       "<rect width=\".96\" height=\".96\" x=\"4\" y=\"0\" fill=\"#71008E\" />\n",
       "</svg>"
      ],
      "text/plain": [
       "5-element Array{RGB{N0f8},1} with eltype ColorTypes.RGB{FixedPointNumbers.N0f8}:\n",
       " RGB{N0f8}(0.557,0.0,0.443)\n",
       " RGB{N0f8}(0.11,0.0,0.89)\n",
       " RGB{N0f8}(1.0,0.0,0.0)\n",
       " RGB{N0f8}(0.224,0.0,0.776)\n",
       " RGB{N0f8}(0.443,0.0,0.557)"
      ]
     },
     "metadata": {},
     "output_type": "display_data"
    }
   ],
   "source": [
    "C = range(plt.colorant\"red\",plt.colorant\"blue\",length=10)\n",
    "rd.rand(C,5)"
   ]
  },
  {
   "cell_type": "code",
   "execution_count": 113,
   "metadata": {},
   "outputs": [
    {
     "data": {
      "text/plain": [
       "3-element Vector{Int64}:\n",
       " 2\n",
       " 1\n",
       " 3"
      ]
     },
     "metadata": {},
     "output_type": "display_data"
    }
   ],
   "source": [
    "rd.randperm(3)"
   ]
  },
  {
   "cell_type": "code",
   "execution_count": 114,
   "metadata": {},
   "outputs": [
    {
     "data": {
      "text/plain": [
       "(8, 1, 0, -6)"
      ]
     },
     "metadata": {},
     "output_type": "display_data"
    }
   ],
   "source": [
    "rd.rand(-9:9), rd.rand(-9:9), rd.rand(-9:9), rd.rand(-9:9)"
   ]
  },
  {
   "cell_type": "code",
   "execution_count": 115,
   "metadata": {},
   "outputs": [
    {
     "data": {
      "text/plain": [
       "(4, 1, 2, -3)"
      ]
     },
     "metadata": {},
     "output_type": "display_data"
    }
   ],
   "source": [
    "rd.rand(-9:9), rd.rand(-9:9), rd.rand(-9:9), rd.rand(-9:9)"
   ]
  },
  {
   "cell_type": "code",
   "execution_count": 116,
   "metadata": {},
   "outputs": [
    {
     "data": {
      "text/plain": [
       "(9, 8, -9, 1)"
      ]
     },
     "metadata": {},
     "output_type": "display_data"
    }
   ],
   "source": [
    "rd.seed!(5)\n",
    "rd.rand(-9:9), rd.rand(-9:9), rd.rand(-9:9), rd.rand(-9:9)"
   ]
  },
  {
   "cell_type": "code",
   "execution_count": 117,
   "metadata": {},
   "outputs": [
    {
     "data": {
      "text/plain": [
       "(9, 8, -9, 1)"
      ]
     },
     "metadata": {},
     "output_type": "display_data"
    }
   ],
   "source": [
    "rd.seed!(5)\n",
    "rd.rand(-9:9), rd.rand(-9:9), rd.rand(-9:9), rd.rand(-9:9)"
   ]
  },
  {
   "cell_type": "markdown",
   "metadata": {},
   "source": [
    "### `Statistics` package\n",
    "The `Statistics` package provides basic functionality for computing statistics of data. \n",
    "\n",
    "* **Mean of collection** - `mean(itr;dims)` computes the mean over a collection. If the collection is an array, by default the mean is computed over all elements. If the mean is sought over a specific dimension, this dimension is specified by keyword `dims`.\n",
    "* **Standard deviation** - `std(itr; corrected::Bool=true, mean=nothing[, dims])` computes the standard deviation of the collection. By default, this is the *corrected* standard deviation ($\\frac{1}{n-1}\\sum_1^n (x_i-\\bar{x})^2$). To get the uncorrected distribution, set keyword `corrected` to `false`. It is possible to provide a pre-computed mean value by keyword `mean`.  If the collection is an array, by default the standard deviation is computed over all elements. If the standard deviation is sought over a specific dimension, this dimension is specified by keyword `dims`.\n",
    "* **Variance** - `var(itr; corrected::Bool=true, mean=nothing[, dims])` finds the *variance* (square of standard deviation), with similar arguments as `std`.\n",
    "* **Covariance** - `cov(x::AbstractVector, y::AbstractVector; corrected::Bool=true)` computes the covariance between vectors `x` and `y`. `cov(X::AbstractMatrix; dims::Int=1, corrected::Bool=true)` computes the covariance among vectors of array `X`. `cov(X::AbstractVecOrMat, Y::AbstractVecOrMat; dims::Int=1, corrected::Bool=true)` computes the covariance between elements in array `X` and array `Y`.\n",
    "* **Correlation** - `cor(x::AbstractVector, y::AbstractVector)` computes the Pearson correlation between vector `x` and vector `y`. Similar arguments as for the covariance function is possible for correlation.\n",
    "* **Median** - `median(itr; dimes)` computes the median over a collection.\n",
    "* **Quantile** - `quantile(itr, p; sorted=false, alpha::Real=1.0, beta::Real=alpha)` computes the `p` quantile (scalar, or tuple of values) over a vector collection `itr`. If the data are sorted, setting keyword `sorted` to `true` may help the algorithm. There are a number of different quantile algorithms, which are specified by keywords `alpha` and `beta`. Following Hyndman, R.J and Fan, Y. (1996) \"Sample Quantiles in Statistical Packages\", The American Statistician, Vol. 50, No. 4, pp. 361-365, their Definitions 4-9 correcpond to:\n",
    "- Def. 4: alpha=0, beta=1\n",
    "- Def. 5: alpha=0.5, beta=0.5\n",
    "- Def. 6: alpha=0, beta=0 (Excel PERCENTILE.EXC, Python default, Stata altdef)\n",
    "- Def. 7: alpha=1, beta=1 (Julia, R and NumPy default, Excel PERCENTILE and PERCENTILE.INC, Python 'inclusive')\n",
    "- Def. 8: alpha=1/3, beta=1/3\n",
    "- Def. 9: alpha=3/8, beta=3/8"
   ]
  },
  {
   "cell_type": "code",
   "execution_count": 118,
   "metadata": {},
   "outputs": [],
   "source": [
    "import Statistics as sta"
   ]
  },
  {
   "cell_type": "code",
   "execution_count": 119,
   "metadata": {},
   "outputs": [
    {
     "data": {
      "text/plain": [
       "0.061"
      ]
     },
     "metadata": {},
     "output_type": "display_data"
    }
   ],
   "source": [
    "x = rand(-9:9,10^3)\n",
    "sta.mean(x)"
   ]
  },
  {
   "cell_type": "code",
   "execution_count": 120,
   "metadata": {},
   "outputs": [
    {
     "data": {
      "text/plain": [
       "(5.4002260546611796, 5.397525266267867)"
      ]
     },
     "metadata": {},
     "output_type": "display_data"
    }
   ],
   "source": [
    "sta.std(x), sta.std(x;corrected=false)"
   ]
  },
  {
   "cell_type": "code",
   "execution_count": 121,
   "metadata": {},
   "outputs": [
    {
     "data": {
      "text/plain": [
       "5×1000 Matrix{Float64}:\n",
       " 0.183394  0.635689  0.52853   0.557642  …  0.771798   0.694802  0.534446\n",
       " 0.856434  0.631772  0.683127  0.284082     0.797684   0.221213  0.46196\n",
       " 0.382924  0.355842  0.324725  0.551662     0.0561009  0.356986  0.020814\n",
       " 0.253456  0.26677   0.702624  0.942925     0.797108   0.143851  0.939909\n",
       " 0.464731  0.357723  0.427086  0.522995     0.0694786  0.969813  0.301664"
      ]
     },
     "metadata": {},
     "output_type": "display_data"
    }
   ],
   "source": [
    "X = rand(5,10^3)"
   ]
  },
  {
   "cell_type": "code",
   "execution_count": 122,
   "metadata": {},
   "outputs": [
    {
     "data": {
      "text/plain": [
       "0.5017811945156895"
      ]
     },
     "metadata": {},
     "output_type": "display_data"
    }
   ],
   "source": [
    "sta.mean(X)"
   ]
  },
  {
   "cell_type": "code",
   "execution_count": 123,
   "metadata": {},
   "outputs": [
    {
     "data": {
      "text/plain": [
       "5×1 Matrix{Float64}:\n",
       " 0.49562092366647115\n",
       " 0.5094166593062067\n",
       " 0.4982274225808832\n",
       " 0.5231138502859723\n",
       " 0.48252711673891296"
      ]
     },
     "metadata": {},
     "output_type": "display_data"
    }
   ],
   "source": [
    "sta.mean(X;dims=2)"
   ]
  },
  {
   "cell_type": "code",
   "execution_count": 124,
   "metadata": {},
   "outputs": [
    {
     "data": {
      "text/plain": [
       "5×1 Matrix{Float64}:\n",
       " 0.28365320403764094\n",
       " 0.2934417010232463\n",
       " 0.2950782244447049\n",
       " 0.2896817213618654\n",
       " 0.2824843481654099"
      ]
     },
     "metadata": {},
     "output_type": "display_data"
    }
   ],
   "source": [
    "sta.std(X;dims=2)"
   ]
  },
  {
   "cell_type": "code",
   "execution_count": 125,
   "metadata": {},
   "outputs": [
    {
     "data": {
      "text/plain": [
       "5×5 Matrix{Float64}:\n",
       "  1.0         0.0275024    0.0127902  -0.0431334   -0.0459689\n",
       "  0.0275024   1.0         -0.0322195   0.00676144   0.0267468\n",
       "  0.0127902  -0.0322195    1.0         0.0301877   -0.0518603\n",
       " -0.0431334   0.00676144   0.0301877   1.0          0.00169109\n",
       " -0.0459689   0.0267468   -0.0518603   0.00169109   1.0"
      ]
     },
     "metadata": {},
     "output_type": "display_data"
    }
   ],
   "source": [
    "sta.cor(X;dims=2)"
   ]
  },
  {
   "cell_type": "code",
   "execution_count": 126,
   "metadata": {},
   "outputs": [
    {
     "data": {
      "text/plain": [
       "5×5 Matrix{Float64}:\n",
       "  0.0804591    0.00228918    0.00107054  -0.00354423   -0.00368338\n",
       "  0.00228918   0.086108     -0.00278983   0.000574754   0.00221711\n",
       "  0.00107054  -0.00278983    0.0870712    0.00258041   -0.00432282\n",
       " -0.00354423   0.000574754   0.00258041   0.0839155     0.000138382\n",
       " -0.00368338   0.00221711   -0.00432282   0.000138382   0.0797974"
      ]
     },
     "metadata": {},
     "output_type": "display_data"
    }
   ],
   "source": [
    "sta.cov(X;dims=2)"
   ]
  },
  {
   "cell_type": "code",
   "execution_count": 127,
   "metadata": {},
   "outputs": [
    {
     "data": {
      "text/plain": [
       "5×1 Matrix{Float64}:\n",
       " 0.4981056575359342\n",
       " 0.510142433672783\n",
       " 0.4822119651706684\n",
       " 0.5329821477367043\n",
       " 0.4725676126865455"
      ]
     },
     "metadata": {},
     "output_type": "display_data"
    }
   ],
   "source": [
    "sta.median(X;dims=2)"
   ]
  },
  {
   "cell_type": "code",
   "execution_count": 128,
   "metadata": {},
   "outputs": [
    {
     "data": {
      "text/plain": [
       "(0.05169682555066005, 0.9419563943688279)"
      ]
     },
     "metadata": {},
     "output_type": "display_data"
    }
   ],
   "source": [
    "sta.quantile(X[1,:],(0.05,0.95))"
   ]
  },
  {
   "cell_type": "markdown",
   "metadata": {},
   "source": [
    "### DataFrames and File Handling\n",
    "\n",
    "#### Basic DataFrame construction\n",
    "Package `DataFrames` provides an extension of 2D arrays/tabular data with some flexibility similar to sheets in Spreadsheets. In spreadsheets, typically each column has a specific name, and all elements in a columns are of the same type. But other columns may have a different type.\n",
    "\n",
    "Julia's \"DataFrames\" are similar to \"Dataframes\" in R and \"pandas\" [panel data] in Python. Just as in spreadsheets, some cells in a dataframe may be empty. In Julia, empty cells have value `missing`.\n",
    "\n",
    "* **Construction** - `DataFrame(assign1,assign2,...)`, with arguments separated by comma, and each argument consisting of assigning a column name to a 1D array of values. The dataframe is shown as a table with the column names as well as a numbering of the rows.\n",
    "* **Addressing elements** - *Dot notation*: with dataframe `df` and column name `A`, this column can be addressed as `df.A`, `df.\"A\"`, or `df.:A`. *Note*: although `:A` is a simple symbol, doing `df.Symbol(\"A\")` does not work. *Array notation*: the column can be addressed as `df[:,\"A\"]`, `df[:,:A]`, `df[:,Symbol(\"A\")]`, and `df[:,:var\"A\"]`. Note: `df[:,A]` does not work. The *array notation*  is more flexible than the *dot notation* because the array notation allows for specifying the column as a *variable*, while the dot notation does not. *Speed*: addressing columns by *symbols* is slightly faster than addressing them by strings.\n",
    "* **Addressing column no.** - `df.A[:,n]` where `n` is an integer >= 1 addresses column no. *n*. \n",
    "* **Copying vs. in-place** - `df[:,\"A\"]` indicates all rows of column `A`, and implies that a copy of the dataframe is made. Just like for arrays, *slicing* is possible, e.g., `df[1:3,\"A\"]`, `df[1,2,5;\"A\"]`. To change values of the data-frame *in-place*, i.e., without making a copy, the syntax `df[!,\"A\"]` is used.\n",
    "* **Finding column names** - `names(df)` returns a vector of column names as *strings*, while `propertynames(df)` returns a vector of column names as *symbols*.\n",
    "* **Renaming column names** - `rename(df,v)` where `df` is a dataframe and `v` is a vector of changes of form `name_old => name_new`, where `name_j` is a symbol. The resulting dataframe is a *copy* of the original one. `rename!(df,v)` changes the names of dataframe `df`.\n",
    "* **Column-wise construction** - if dataframe `df` exists (e.g., empty dataframe by `df = DataFrame()`), it can be populated column-wise by, e.g., `df.A = ...` and `df.B = ...`.\n",
    "* **Row-wise construction** - if a dataframe `df` exists with specified column names and types (e.g., empty dataframe by `df = DataFrame(A = Int[], B = String[])`, additional rows may be added by `push!(df,row)` where `row` is a tuple or vector with number of elements matching the number of columns. Observe that row-wise construction of dataframes is considerably slower than batch construction or column-wise construction.\n",
    "* **Allow for missing elements** - `allowmissing!(df)` changes a dataframe with specified data types for the columns so that missing elements are allowed in the columns. If a missing elements is allowed, this is indicated by column type followed by question mark, e.g., `String?`.\n",
    "* **Changing values** - `replace(df, val1 => val2)` changes a value of `df` from `val1` to `val2`. A similar, in-place replacement `replace!` exists. Observe: it is required that all elements of `df` have the same eltype as `val1` - which must match the type of `val2`. Typically, this requires that the dataframe is sliced so only include columns with the same type.\n",
    "* **Convert to array** - `Array(df)` converts the data frame to a matrix. Matrices do not allow for cells with type `missing`, so `missing` elements must be converted to something else first, e.g., `NaN`.\n",
    "* **Jupyter notebook width** - `ENV[\"COLUMNS\"]=N` changes the number of IJulia columns (default: 80) to `N`. This is useful in cases of data frames with many columns."
   ]
  },
  {
   "cell_type": "code",
   "execution_count": 129,
   "metadata": {},
   "outputs": [],
   "source": [
    "import DataFrames as daf"
   ]
  },
  {
   "cell_type": "code",
   "execution_count": 130,
   "metadata": {},
   "outputs": [
    {
     "data": {
      "text/html": [
       "<div><div style = \"float: left;\"><span>4×2 DataFrame</span></div><div style = \"clear: both;\"></div></div><div class = \"data-frame\" style = \"overflow-x: scroll;\"><table class = \"data-frame\" style = \"margin-bottom: 6px;\"><thead><tr class = \"header\"><th class = \"rowNumber\" style = \"font-weight: bold; text-align: right;\">Row</th><th style = \"text-align: left;\">A</th><th style = \"text-align: left;\">B</th></tr><tr class = \"subheader headerLastRow\"><th class = \"rowNumber\" style = \"font-weight: bold; text-align: right;\"></th><th title = \"Int64\" style = \"text-align: left;\">Int64</th><th title = \"String\" style = \"text-align: left;\">String</th></tr></thead><tbody><tr><td class = \"rowNumber\" style = \"font-weight: bold; text-align: right;\">1</td><td style = \"text-align: right;\">1</td><td style = \"text-align: left;\">M</td></tr><tr><td class = \"rowNumber\" style = \"font-weight: bold; text-align: right;\">2</td><td style = \"text-align: right;\">2</td><td style = \"text-align: left;\">F</td></tr><tr><td class = \"rowNumber\" style = \"font-weight: bold; text-align: right;\">3</td><td style = \"text-align: right;\">3</td><td style = \"text-align: left;\">F</td></tr><tr><td class = \"rowNumber\" style = \"font-weight: bold; text-align: right;\">4</td><td style = \"text-align: right;\">4</td><td style = \"text-align: left;\">M</td></tr></tbody></table></div>"
      ],
      "text/latex": [
       "\\begin{tabular}{r|cc}\n",
       "\t& A & B\\\\\n",
       "\t\\hline\n",
       "\t& Int64 & String\\\\\n",
       "\t\\hline\n",
       "\t1 & 1 & M \\\\\n",
       "\t2 & 2 & F \\\\\n",
       "\t3 & 3 & F \\\\\n",
       "\t4 & 4 & M \\\\\n",
       "\\end{tabular}\n"
      ],
      "text/plain": [
       "\u001b[1m4×2 DataFrame\u001b[0m\n",
       "\u001b[1m Row \u001b[0m│\u001b[1m A     \u001b[0m\u001b[1m B      \u001b[0m\n",
       "     │\u001b[90m Int64 \u001b[0m\u001b[90m String \u001b[0m\n",
       "─────┼───────────────\n",
       "   1 │     1  M\n",
       "   2 │     2  F\n",
       "   3 │     3  F\n",
       "   4 │     4  M"
      ]
     },
     "metadata": {},
     "output_type": "display_data"
    }
   ],
   "source": [
    "df = daf.DataFrame(A = 1:4, B = [\"M\",\"F\",\"F\",\"M\"])"
   ]
  },
  {
   "cell_type": "code",
   "execution_count": 131,
   "metadata": {},
   "outputs": [
    {
     "data": {
      "text/plain": [
       "3-element Vector{Int64}:\n",
       " 2\n",
       " 3\n",
       " 4"
      ]
     },
     "metadata": {},
     "output_type": "display_data"
    }
   ],
   "source": [
    "df[2:end,:var\"A\"]"
   ]
  },
  {
   "cell_type": "code",
   "execution_count": 132,
   "metadata": {},
   "outputs": [
    {
     "data": {
      "text/html": [
       "<div><div style = \"float: left;\"><span>4×2 DataFrame</span></div><div style = \"clear: both;\"></div></div><div class = \"data-frame\" style = \"overflow-x: scroll;\"><table class = \"data-frame\" style = \"margin-bottom: 6px;\"><thead><tr class = \"header\"><th class = \"rowNumber\" style = \"font-weight: bold; text-align: right;\">Row</th><th style = \"text-align: left;\">B</th><th style = \"text-align: left;\">A</th></tr><tr class = \"subheader headerLastRow\"><th class = \"rowNumber\" style = \"font-weight: bold; text-align: right;\"></th><th title = \"String\" style = \"text-align: left;\">String</th><th title = \"Int64\" style = \"text-align: left;\">Int64</th></tr></thead><tbody><tr><td class = \"rowNumber\" style = \"font-weight: bold; text-align: right;\">1</td><td style = \"text-align: left;\">M</td><td style = \"text-align: right;\">4</td></tr><tr><td class = \"rowNumber\" style = \"font-weight: bold; text-align: right;\">2</td><td style = \"text-align: left;\">F</td><td style = \"text-align: right;\">3</td></tr><tr><td class = \"rowNumber\" style = \"font-weight: bold; text-align: right;\">3</td><td style = \"text-align: left;\">F</td><td style = \"text-align: right;\">2</td></tr><tr><td class = \"rowNumber\" style = \"font-weight: bold; text-align: right;\">4</td><td style = \"text-align: left;\">M</td><td style = \"text-align: right;\">1</td></tr></tbody></table></div>"
      ],
      "text/latex": [
       "\\begin{tabular}{r|cc}\n",
       "\t& B & A\\\\\n",
       "\t\\hline\n",
       "\t& String & Int64\\\\\n",
       "\t\\hline\n",
       "\t1 & M & 4 \\\\\n",
       "\t2 & F & 3 \\\\\n",
       "\t3 & F & 2 \\\\\n",
       "\t4 & M & 1 \\\\\n",
       "\\end{tabular}\n"
      ],
      "text/plain": [
       "\u001b[1m4×2 DataFrame\u001b[0m\n",
       "\u001b[1m Row \u001b[0m│\u001b[1m B      \u001b[0m\u001b[1m A     \u001b[0m\n",
       "     │\u001b[90m String \u001b[0m\u001b[90m Int64 \u001b[0m\n",
       "─────┼───────────────\n",
       "   1 │ M           4\n",
       "   2 │ F           3\n",
       "   3 │ F           2\n",
       "   4 │ M           1"
      ]
     },
     "metadata": {},
     "output_type": "display_data"
    }
   ],
   "source": [
    "df[end:-1:1, [:B, :A]]"
   ]
  },
  {
   "cell_type": "code",
   "execution_count": 133,
   "metadata": {},
   "outputs": [
    {
     "data": {
      "text/plain": [
       "2-element Vector{String}:\n",
       " \"A\"\n",
       " \"B\""
      ]
     },
     "metadata": {},
     "output_type": "display_data"
    }
   ],
   "source": [
    "daf.names(df)"
   ]
  },
  {
   "cell_type": "code",
   "execution_count": 134,
   "metadata": {},
   "outputs": [
    {
     "data": {
      "text/plain": [
       "2-element Vector{Symbol}:\n",
       " :A\n",
       " :B"
      ]
     },
     "metadata": {},
     "output_type": "display_data"
    }
   ],
   "source": [
    "daf.propertynames(df)"
   ]
  },
  {
   "cell_type": "code",
   "execution_count": 135,
   "metadata": {},
   "outputs": [
    {
     "data": {
      "text/plain": [
       "4-element Vector{String}:\n",
       " \"M\"\n",
       " \"F\"\n",
       " \"F\"\n",
       " \"M\""
      ]
     },
     "metadata": {},
     "output_type": "display_data"
    }
   ],
   "source": [
    "df[:,daf.names(df)[2]]"
   ]
  },
  {
   "cell_type": "code",
   "execution_count": 136,
   "metadata": {},
   "outputs": [
    {
     "data": {
      "text/plain": [
       "4-element Vector{Int64}:\n",
       " 1\n",
       " 2\n",
       " 3\n",
       " 4"
      ]
     },
     "metadata": {},
     "output_type": "display_data"
    }
   ],
   "source": [
    "df[:,daf.propertynames(df)[1]]"
   ]
  },
  {
   "cell_type": "code",
   "execution_count": 137,
   "metadata": {},
   "outputs": [
    {
     "data": {
      "text/plain": [
       "4-element Vector{Int64}:\n",
       " 2\n",
       " 4\n",
       " 6\n",
       " 8"
      ]
     },
     "metadata": {},
     "output_type": "display_data"
    }
   ],
   "source": [
    "df.A = [2,4,6,8]"
   ]
  },
  {
   "cell_type": "code",
   "execution_count": 138,
   "metadata": {},
   "outputs": [
    {
     "data": {
      "text/html": [
       "<div><div style = \"float: left;\"><span>4×2 DataFrame</span></div><div style = \"clear: both;\"></div></div><div class = \"data-frame\" style = \"overflow-x: scroll;\"><table class = \"data-frame\" style = \"margin-bottom: 6px;\"><thead><tr class = \"header\"><th class = \"rowNumber\" style = \"font-weight: bold; text-align: right;\">Row</th><th style = \"text-align: left;\">A</th><th style = \"text-align: left;\">B</th></tr><tr class = \"subheader headerLastRow\"><th class = \"rowNumber\" style = \"font-weight: bold; text-align: right;\"></th><th title = \"Int64\" style = \"text-align: left;\">Int64</th><th title = \"String\" style = \"text-align: left;\">String</th></tr></thead><tbody><tr><td class = \"rowNumber\" style = \"font-weight: bold; text-align: right;\">1</td><td style = \"text-align: right;\">2</td><td style = \"text-align: left;\">M</td></tr><tr><td class = \"rowNumber\" style = \"font-weight: bold; text-align: right;\">2</td><td style = \"text-align: right;\">4</td><td style = \"text-align: left;\">F</td></tr><tr><td class = \"rowNumber\" style = \"font-weight: bold; text-align: right;\">3</td><td style = \"text-align: right;\">6</td><td style = \"text-align: left;\">F</td></tr><tr><td class = \"rowNumber\" style = \"font-weight: bold; text-align: right;\">4</td><td style = \"text-align: right;\">8</td><td style = \"text-align: left;\">M</td></tr></tbody></table></div>"
      ],
      "text/latex": [
       "\\begin{tabular}{r|cc}\n",
       "\t& A & B\\\\\n",
       "\t\\hline\n",
       "\t& Int64 & String\\\\\n",
       "\t\\hline\n",
       "\t1 & 2 & M \\\\\n",
       "\t2 & 4 & F \\\\\n",
       "\t3 & 6 & F \\\\\n",
       "\t4 & 8 & M \\\\\n",
       "\\end{tabular}\n"
      ],
      "text/plain": [
       "\u001b[1m4×2 DataFrame\u001b[0m\n",
       "\u001b[1m Row \u001b[0m│\u001b[1m A     \u001b[0m\u001b[1m B      \u001b[0m\n",
       "     │\u001b[90m Int64 \u001b[0m\u001b[90m String \u001b[0m\n",
       "─────┼───────────────\n",
       "   1 │     2  M\n",
       "   2 │     4  F\n",
       "   3 │     6  F\n",
       "   4 │     8  M"
      ]
     },
     "metadata": {},
     "output_type": "display_data"
    }
   ],
   "source": [
    "df"
   ]
  },
  {
   "cell_type": "code",
   "execution_count": 139,
   "metadata": {},
   "outputs": [
    {
     "data": {
      "text/html": [
       "<div><div style = \"float: left;\"><span>4×2 DataFrame</span></div><div style = \"clear: both;\"></div></div><div class = \"data-frame\" style = \"overflow-x: scroll;\"><table class = \"data-frame\" style = \"margin-bottom: 6px;\"><thead><tr class = \"header\"><th class = \"rowNumber\" style = \"font-weight: bold; text-align: right;\">Row</th><th style = \"text-align: left;\">Id</th><th style = \"text-align: left;\">Gender</th></tr><tr class = \"subheader headerLastRow\"><th class = \"rowNumber\" style = \"font-weight: bold; text-align: right;\"></th><th title = \"Int64\" style = \"text-align: left;\">Int64</th><th title = \"String\" style = \"text-align: left;\">String</th></tr></thead><tbody><tr><td class = \"rowNumber\" style = \"font-weight: bold; text-align: right;\">1</td><td style = \"text-align: right;\">2</td><td style = \"text-align: left;\">M</td></tr><tr><td class = \"rowNumber\" style = \"font-weight: bold; text-align: right;\">2</td><td style = \"text-align: right;\">4</td><td style = \"text-align: left;\">F</td></tr><tr><td class = \"rowNumber\" style = \"font-weight: bold; text-align: right;\">3</td><td style = \"text-align: right;\">6</td><td style = \"text-align: left;\">F</td></tr><tr><td class = \"rowNumber\" style = \"font-weight: bold; text-align: right;\">4</td><td style = \"text-align: right;\">8</td><td style = \"text-align: left;\">M</td></tr></tbody></table></div>"
      ],
      "text/latex": [
       "\\begin{tabular}{r|cc}\n",
       "\t& Id & Gender\\\\\n",
       "\t\\hline\n",
       "\t& Int64 & String\\\\\n",
       "\t\\hline\n",
       "\t1 & 2 & M \\\\\n",
       "\t2 & 4 & F \\\\\n",
       "\t3 & 6 & F \\\\\n",
       "\t4 & 8 & M \\\\\n",
       "\\end{tabular}\n"
      ],
      "text/plain": [
       "\u001b[1m4×2 DataFrame\u001b[0m\n",
       "\u001b[1m Row \u001b[0m│\u001b[1m Id    \u001b[0m\u001b[1m Gender \u001b[0m\n",
       "     │\u001b[90m Int64 \u001b[0m\u001b[90m String \u001b[0m\n",
       "─────┼───────────────\n",
       "   1 │     2  M\n",
       "   2 │     4  F\n",
       "   3 │     6  F\n",
       "   4 │     8  M"
      ]
     },
     "metadata": {},
     "output_type": "display_data"
    }
   ],
   "source": [
    "# rename creates a copy\n",
    "daf.rename!(df,:A => :Id, :B => :Gender)"
   ]
  },
  {
   "cell_type": "code",
   "execution_count": 140,
   "metadata": {},
   "outputs": [
    {
     "data": {
      "text/html": [
       "<div><div style = \"float: left;\"><span>5×2 DataFrame</span></div><div style = \"clear: both;\"></div></div><div class = \"data-frame\" style = \"overflow-x: scroll;\"><table class = \"data-frame\" style = \"margin-bottom: 6px;\"><thead><tr class = \"header\"><th class = \"rowNumber\" style = \"font-weight: bold; text-align: right;\">Row</th><th style = \"text-align: left;\">Id</th><th style = \"text-align: left;\">Gender</th></tr><tr class = \"subheader headerLastRow\"><th class = \"rowNumber\" style = \"font-weight: bold; text-align: right;\"></th><th title = \"Int64\" style = \"text-align: left;\">Int64</th><th title = \"String\" style = \"text-align: left;\">String</th></tr></thead><tbody><tr><td class = \"rowNumber\" style = \"font-weight: bold; text-align: right;\">1</td><td style = \"text-align: right;\">2</td><td style = \"text-align: left;\">M</td></tr><tr><td class = \"rowNumber\" style = \"font-weight: bold; text-align: right;\">2</td><td style = \"text-align: right;\">4</td><td style = \"text-align: left;\">F</td></tr><tr><td class = \"rowNumber\" style = \"font-weight: bold; text-align: right;\">3</td><td style = \"text-align: right;\">6</td><td style = \"text-align: left;\">F</td></tr><tr><td class = \"rowNumber\" style = \"font-weight: bold; text-align: right;\">4</td><td style = \"text-align: right;\">8</td><td style = \"text-align: left;\">M</td></tr><tr><td class = \"rowNumber\" style = \"font-weight: bold; text-align: right;\">5</td><td style = \"text-align: right;\">10</td><td style = \"text-align: left;\">F</td></tr></tbody></table></div>"
      ],
      "text/latex": [
       "\\begin{tabular}{r|cc}\n",
       "\t& Id & Gender\\\\\n",
       "\t\\hline\n",
       "\t& Int64 & String\\\\\n",
       "\t\\hline\n",
       "\t1 & 2 & M \\\\\n",
       "\t2 & 4 & F \\\\\n",
       "\t3 & 6 & F \\\\\n",
       "\t4 & 8 & M \\\\\n",
       "\t5 & 10 & F \\\\\n",
       "\\end{tabular}\n"
      ],
      "text/plain": [
       "\u001b[1m5×2 DataFrame\u001b[0m\n",
       "\u001b[1m Row \u001b[0m│\u001b[1m Id    \u001b[0m\u001b[1m Gender \u001b[0m\n",
       "     │\u001b[90m Int64 \u001b[0m\u001b[90m String \u001b[0m\n",
       "─────┼───────────────\n",
       "   1 │     2  M\n",
       "   2 │     4  F\n",
       "   3 │     6  F\n",
       "   4 │     8  M\n",
       "   5 │    10  F"
      ]
     },
     "metadata": {},
     "output_type": "display_data"
    }
   ],
   "source": [
    "daf.push!(df,[10,\"F\"])"
   ]
  },
  {
   "cell_type": "code",
   "execution_count": 141,
   "metadata": {},
   "outputs": [
    {
     "name": "stderr",
     "output_type": "stream",
     "text": [
      "┌ Error: Error adding value to column :Gender. Maybe you forgot passing `promote=true`?\n",
      "└ @ DataFrames C:\\Users\\Bernt_Lie\\.julia\\packages\\DataFrames\\58MUJ\\src\\dataframe\\insertion.jl:697\n"
     ]
    },
    {
     "ename": "MethodError",
     "evalue": "MethodError: Cannot `convert` an object of type Missing to an object of type String\n\nClosest candidates are:\n  convert(::Type{String}, !Matched::String)\n   @ Base essentials.jl:298\n  convert(::Type{T}, !Matched::T) where T<:AbstractString\n   @ Base strings\\basic.jl:231\n  convert(::Type{T}, !Matched::AbstractString) where T<:AbstractString\n   @ Base strings\\basic.jl:232\n  ...\n",
     "output_type": "error",
     "traceback": [
      "MethodError: Cannot `convert` an object of type Missing to an object of type String\n",
      "\n",
      "Closest candidates are:\n",
      "  convert(::Type{String}, !Matched::String)\n",
      "   @ Base essentials.jl:298\n",
      "  convert(::Type{T}, !Matched::T) where T<:AbstractString\n",
      "   @ Base strings\\basic.jl:231\n",
      "  convert(::Type{T}, !Matched::AbstractString) where T<:AbstractString\n",
      "   @ Base strings\\basic.jl:232\n",
      "  ...\n",
      "\n",
      "\n",
      "Stacktrace:\n",
      " [1] push!(a::Vector{String}, item::Missing)\n",
      "   @ Base .\\array.jl:1060\n",
      " [2] _row_inserter!(df::DataFrames.DataFrame, loc::Int64, row::Vector{Union{Missing, Int64}}, mode::Val{:push}, promote::Bool)\n",
      "   @ DataFrames C:\\Users\\Bernt_Lie\\.julia\\packages\\DataFrames\\58MUJ\\src\\dataframe\\insertion.jl:663\n",
      " [3] #push!#350\n",
      "   @ C:\\Users\\Bernt_Lie\\.julia\\packages\\DataFrames\\58MUJ\\src\\dataframe\\insertion.jl:457 [inlined]\n",
      " [4] push!(df::DataFrames.DataFrame, row::Vector{Union{Missing, Int64}})\n",
      "   @ DataFrames C:\\Users\\Bernt_Lie\\.julia\\packages\\DataFrames\\58MUJ\\src\\dataframe\\insertion.jl:457\n",
      " [5] top-level scope\n",
      "   @ c:\\Users\\Bernt_Lie\\OneDrive\\Documents\\booksBLSOL\\Julia\\Notebooks\\J5_Julia_packages_lin-alg_rand_file.ipynb:1"
     ]
    }
   ],
   "source": [
    "daf.push!(df,[12,missing])     # you cannot add a `missing` type until it has been allowed"
   ]
  },
  {
   "cell_type": "code",
   "execution_count": 142,
   "metadata": {},
   "outputs": [
    {
     "data": {
      "text/html": [
       "<div><div style = \"float: left;\"><span>5×2 DataFrame</span></div><div style = \"clear: both;\"></div></div><div class = \"data-frame\" style = \"overflow-x: scroll;\"><table class = \"data-frame\" style = \"margin-bottom: 6px;\"><thead><tr class = \"header\"><th class = \"rowNumber\" style = \"font-weight: bold; text-align: right;\">Row</th><th style = \"text-align: left;\">Id</th><th style = \"text-align: left;\">Gender</th></tr><tr class = \"subheader headerLastRow\"><th class = \"rowNumber\" style = \"font-weight: bold; text-align: right;\"></th><th title = \"Union{Missing, Int64}\" style = \"text-align: left;\">Int64?</th><th title = \"Union{Missing, String}\" style = \"text-align: left;\">String?</th></tr></thead><tbody><tr><td class = \"rowNumber\" style = \"font-weight: bold; text-align: right;\">1</td><td style = \"text-align: right;\">2</td><td style = \"text-align: left;\">M</td></tr><tr><td class = \"rowNumber\" style = \"font-weight: bold; text-align: right;\">2</td><td style = \"text-align: right;\">4</td><td style = \"text-align: left;\">F</td></tr><tr><td class = \"rowNumber\" style = \"font-weight: bold; text-align: right;\">3</td><td style = \"text-align: right;\">6</td><td style = \"text-align: left;\">F</td></tr><tr><td class = \"rowNumber\" style = \"font-weight: bold; text-align: right;\">4</td><td style = \"text-align: right;\">8</td><td style = \"text-align: left;\">M</td></tr><tr><td class = \"rowNumber\" style = \"font-weight: bold; text-align: right;\">5</td><td style = \"text-align: right;\">10</td><td style = \"text-align: left;\">F</td></tr></tbody></table></div>"
      ],
      "text/latex": [
       "\\begin{tabular}{r|cc}\n",
       "\t& Id & Gender\\\\\n",
       "\t\\hline\n",
       "\t& Int64? & String?\\\\\n",
       "\t\\hline\n",
       "\t1 & 2 & M \\\\\n",
       "\t2 & 4 & F \\\\\n",
       "\t3 & 6 & F \\\\\n",
       "\t4 & 8 & M \\\\\n",
       "\t5 & 10 & F \\\\\n",
       "\\end{tabular}\n"
      ],
      "text/plain": [
       "\u001b[1m5×2 DataFrame\u001b[0m\n",
       "\u001b[1m Row \u001b[0m│\u001b[1m Id     \u001b[0m\u001b[1m Gender  \u001b[0m\n",
       "     │\u001b[90m Int64? \u001b[0m\u001b[90m String? \u001b[0m\n",
       "─────┼─────────────────\n",
       "   1 │      2  M\n",
       "   2 │      4  F\n",
       "   3 │      6  F\n",
       "   4 │      8  M\n",
       "   5 │     10  F"
      ]
     },
     "metadata": {},
     "output_type": "display_data"
    }
   ],
   "source": [
    "daf.allowmissing!(df)"
   ]
  },
  {
   "cell_type": "code",
   "execution_count": 143,
   "metadata": {},
   "outputs": [
    {
     "data": {
      "text/html": [
       "<div><div style = \"float: left;\"><span>7×2 DataFrame</span></div><div style = \"clear: both;\"></div></div><div class = \"data-frame\" style = \"overflow-x: scroll;\"><table class = \"data-frame\" style = \"margin-bottom: 6px;\"><thead><tr class = \"header\"><th class = \"rowNumber\" style = \"font-weight: bold; text-align: right;\">Row</th><th style = \"text-align: left;\">Id</th><th style = \"text-align: left;\">Gender</th></tr><tr class = \"subheader headerLastRow\"><th class = \"rowNumber\" style = \"font-weight: bold; text-align: right;\"></th><th title = \"Union{Missing, Int64}\" style = \"text-align: left;\">Int64?</th><th title = \"Union{Missing, String}\" style = \"text-align: left;\">String?</th></tr></thead><tbody><tr><td class = \"rowNumber\" style = \"font-weight: bold; text-align: right;\">1</td><td style = \"text-align: right;\">2</td><td style = \"text-align: left;\">M</td></tr><tr><td class = \"rowNumber\" style = \"font-weight: bold; text-align: right;\">2</td><td style = \"text-align: right;\">4</td><td style = \"text-align: left;\">F</td></tr><tr><td class = \"rowNumber\" style = \"font-weight: bold; text-align: right;\">3</td><td style = \"text-align: right;\">6</td><td style = \"text-align: left;\">F</td></tr><tr><td class = \"rowNumber\" style = \"font-weight: bold; text-align: right;\">4</td><td style = \"text-align: right;\">8</td><td style = \"text-align: left;\">M</td></tr><tr><td class = \"rowNumber\" style = \"font-weight: bold; text-align: right;\">5</td><td style = \"text-align: right;\">10</td><td style = \"text-align: left;\">F</td></tr><tr><td class = \"rowNumber\" style = \"font-weight: bold; text-align: right;\">6</td><td style = \"text-align: right;\">12</td><td style = \"font-style: italic; text-align: left;\">missing</td></tr><tr><td class = \"rowNumber\" style = \"font-weight: bold; text-align: right;\">7</td><td style = \"font-style: italic; text-align: right;\">missing</td><td style = \"text-align: left;\">F</td></tr></tbody></table></div>"
      ],
      "text/latex": [
       "\\begin{tabular}{r|cc}\n",
       "\t& Id & Gender\\\\\n",
       "\t\\hline\n",
       "\t& Int64? & String?\\\\\n",
       "\t\\hline\n",
       "\t1 & 2 & M \\\\\n",
       "\t2 & 4 & F \\\\\n",
       "\t3 & 6 & F \\\\\n",
       "\t4 & 8 & M \\\\\n",
       "\t5 & 10 & F \\\\\n",
       "\t6 & 12 & \\emph{missing} \\\\\n",
       "\t7 & \\emph{missing} & F \\\\\n",
       "\\end{tabular}\n"
      ],
      "text/plain": [
       "\u001b[1m7×2 DataFrame\u001b[0m\n",
       "\u001b[1m Row \u001b[0m│\u001b[1m Id      \u001b[0m\u001b[1m Gender  \u001b[0m\n",
       "     │\u001b[90m Int64?  \u001b[0m\u001b[90m String? \u001b[0m\n",
       "─────┼──────────────────\n",
       "   1 │       2  M\n",
       "   2 │       4  F\n",
       "   3 │       6  F\n",
       "   4 │       8  M\n",
       "   5 │      10  F\n",
       "   6 │      12 \u001b[90m missing \u001b[0m\n",
       "   7 │\u001b[90m missing \u001b[0m F"
      ]
     },
     "metadata": {},
     "output_type": "display_data"
    }
   ],
   "source": [
    "daf.push!(df,[12,missing])\n",
    "daf.push!(df,[missing,\"F\"])"
   ]
  },
  {
   "cell_type": "code",
   "execution_count": 144,
   "metadata": {},
   "outputs": [
    {
     "data": {
      "text/html": [
       "<div><div style = \"float: left;\"><span>7×2 DataFrame</span></div><div style = \"clear: both;\"></div></div><div class = \"data-frame\" style = \"overflow-x: scroll;\"><table class = \"data-frame\" style = \"margin-bottom: 6px;\"><thead><tr class = \"header\"><th class = \"rowNumber\" style = \"font-weight: bold; text-align: right;\">Row</th><th style = \"text-align: left;\">Id</th><th style = \"text-align: left;\">Gender</th></tr><tr class = \"subheader headerLastRow\"><th class = \"rowNumber\" style = \"font-weight: bold; text-align: right;\"></th><th title = \"Union{Missing, Int64}\" style = \"text-align: left;\">Int64?</th><th title = \"Union{Missing, String}\" style = \"text-align: left;\">String?</th></tr></thead><tbody><tr><td class = \"rowNumber\" style = \"font-weight: bold; text-align: right;\">1</td><td style = \"text-align: right;\">2</td><td style = \"text-align: left;\">Male</td></tr><tr><td class = \"rowNumber\" style = \"font-weight: bold; text-align: right;\">2</td><td style = \"text-align: right;\">4</td><td style = \"text-align: left;\">Female</td></tr><tr><td class = \"rowNumber\" style = \"font-weight: bold; text-align: right;\">3</td><td style = \"text-align: right;\">6</td><td style = \"text-align: left;\">Female</td></tr><tr><td class = \"rowNumber\" style = \"font-weight: bold; text-align: right;\">4</td><td style = \"text-align: right;\">8</td><td style = \"text-align: left;\">Male</td></tr><tr><td class = \"rowNumber\" style = \"font-weight: bold; text-align: right;\">5</td><td style = \"text-align: right;\">10</td><td style = \"text-align: left;\">Female</td></tr><tr><td class = \"rowNumber\" style = \"font-weight: bold; text-align: right;\">6</td><td style = \"text-align: right;\">12</td><td style = \"font-style: italic; text-align: left;\">missing</td></tr><tr><td class = \"rowNumber\" style = \"font-weight: bold; text-align: right;\">7</td><td style = \"font-style: italic; text-align: right;\">missing</td><td style = \"text-align: left;\">Female</td></tr></tbody></table></div>"
      ],
      "text/latex": [
       "\\begin{tabular}{r|cc}\n",
       "\t& Id & Gender\\\\\n",
       "\t\\hline\n",
       "\t& Int64? & String?\\\\\n",
       "\t\\hline\n",
       "\t1 & 2 & Male \\\\\n",
       "\t2 & 4 & Female \\\\\n",
       "\t3 & 6 & Female \\\\\n",
       "\t4 & 8 & Male \\\\\n",
       "\t5 & 10 & Female \\\\\n",
       "\t6 & 12 & \\emph{missing} \\\\\n",
       "\t7 & \\emph{missing} & Female \\\\\n",
       "\\end{tabular}\n"
      ],
      "text/plain": [
       "\u001b[1m7×2 DataFrame\u001b[0m\n",
       "\u001b[1m Row \u001b[0m│\u001b[1m Id      \u001b[0m\u001b[1m Gender  \u001b[0m\n",
       "     │\u001b[90m Int64?  \u001b[0m\u001b[90m String? \u001b[0m\n",
       "─────┼──────────────────\n",
       "   1 │       2  Male\n",
       "   2 │       4  Female\n",
       "   3 │       6  Female\n",
       "   4 │       8  Male\n",
       "   5 │      10  Female\n",
       "   6 │      12 \u001b[90m missing \u001b[0m\n",
       "   7 │\u001b[90m missing \u001b[0m Female"
      ]
     },
     "metadata": {},
     "output_type": "display_data"
    }
   ],
   "source": [
    "daf.replace!(df.Gender,\"M\" => \"Male\")\n",
    "daf.replace!(df.Gender,\"F\" => \"Female\")\n",
    "df"
   ]
  },
  {
   "cell_type": "code",
   "execution_count": 145,
   "metadata": {},
   "outputs": [
    {
     "data": {
      "text/html": [
       "<div><div style = \"float: left;\"><span>7×2 DataFrame</span></div><div style = \"clear: both;\"></div></div><div class = \"data-frame\" style = \"overflow-x: scroll;\"><table class = \"data-frame\" style = \"margin-bottom: 6px;\"><thead><tr class = \"header\"><th class = \"rowNumber\" style = \"font-weight: bold; text-align: right;\">Row</th><th style = \"text-align: left;\">Id</th><th style = \"text-align: left;\">Gender</th></tr><tr class = \"subheader headerLastRow\"><th class = \"rowNumber\" style = \"font-weight: bold; text-align: right;\"></th><th title = \"Union{Missing, Int64}\" style = \"text-align: left;\">Int64?</th><th title = \"Union{Missing, String}\" style = \"text-align: left;\">String?</th></tr></thead><tbody><tr><td class = \"rowNumber\" style = \"font-weight: bold; text-align: right;\">1</td><td style = \"text-align: right;\">2</td><td style = \"text-align: left;\">M</td></tr><tr><td class = \"rowNumber\" style = \"font-weight: bold; text-align: right;\">2</td><td style = \"text-align: right;\">4</td><td style = \"text-align: left;\">F</td></tr><tr><td class = \"rowNumber\" style = \"font-weight: bold; text-align: right;\">3</td><td style = \"text-align: right;\">6</td><td style = \"text-align: left;\">F</td></tr><tr><td class = \"rowNumber\" style = \"font-weight: bold; text-align: right;\">4</td><td style = \"text-align: right;\">8</td><td style = \"text-align: left;\">M</td></tr><tr><td class = \"rowNumber\" style = \"font-weight: bold; text-align: right;\">5</td><td style = \"text-align: right;\">10</td><td style = \"text-align: left;\">F</td></tr><tr><td class = \"rowNumber\" style = \"font-weight: bold; text-align: right;\">6</td><td style = \"text-align: right;\">12</td><td style = \"font-style: italic; text-align: left;\">missing</td></tr><tr><td class = \"rowNumber\" style = \"font-weight: bold; text-align: right;\">7</td><td style = \"font-style: italic; text-align: right;\">missing</td><td style = \"text-align: left;\">F</td></tr></tbody></table></div>"
      ],
      "text/latex": [
       "\\begin{tabular}{r|cc}\n",
       "\t& Id & Gender\\\\\n",
       "\t\\hline\n",
       "\t& Int64? & String?\\\\\n",
       "\t\\hline\n",
       "\t1 & 2 & M \\\\\n",
       "\t2 & 4 & F \\\\\n",
       "\t3 & 6 & F \\\\\n",
       "\t4 & 8 & M \\\\\n",
       "\t5 & 10 & F \\\\\n",
       "\t6 & 12 & \\emph{missing} \\\\\n",
       "\t7 & \\emph{missing} & F \\\\\n",
       "\\end{tabular}\n"
      ],
      "text/plain": [
       "\u001b[1m7×2 DataFrame\u001b[0m\n",
       "\u001b[1m Row \u001b[0m│\u001b[1m Id      \u001b[0m\u001b[1m Gender  \u001b[0m\n",
       "     │\u001b[90m Int64?  \u001b[0m\u001b[90m String? \u001b[0m\n",
       "─────┼──────────────────\n",
       "   1 │       2  M\n",
       "   2 │       4  F\n",
       "   3 │       6  F\n",
       "   4 │       8  M\n",
       "   5 │      10  F\n",
       "   6 │      12 \u001b[90m missing \u001b[0m\n",
       "   7 │\u001b[90m missing \u001b[0m F"
      ]
     },
     "metadata": {},
     "output_type": "display_data"
    }
   ],
   "source": [
    "daf.replace!(df.Gender,\"Male\" => \"M\")\n",
    "daf.replace!(df.Gender,\"Female\" => \"F\")\n",
    "df"
   ]
  },
  {
   "cell_type": "code",
   "execution_count": 146,
   "metadata": {},
   "outputs": [
    {
     "data": {
      "text/plain": [
       "7-element Vector{Union{Missing, String}}:\n",
       " \"M\"\n",
       " \"F\"\n",
       " \"F\"\n",
       " \"M\"\n",
       " \"F\"\n",
       " \"\"\n",
       " \"F\""
      ]
     },
     "metadata": {},
     "output_type": "display_data"
    }
   ],
   "source": [
    "daf.replace!(df.Gender,missing => \"\")"
   ]
  },
  {
   "cell_type": "code",
   "execution_count": 147,
   "metadata": {},
   "outputs": [
    {
     "data": {
      "text/plain": [
       "7-element Vector{Union{Missing, Int64}}:\n",
       "  2\n",
       "  4\n",
       "  6\n",
       "  8\n",
       " 10\n",
       " 12\n",
       "  0"
      ]
     },
     "metadata": {},
     "output_type": "display_data"
    }
   ],
   "source": [
    "daf.replace!(df.Id,missing => 0)"
   ]
  },
  {
   "cell_type": "code",
   "execution_count": 148,
   "metadata": {},
   "outputs": [
    {
     "data": {
      "text/plain": [
       "7×2 Matrix{Any}:\n",
       "  2  \"M\"\n",
       "  4  \"F\"\n",
       "  6  \"F\"\n",
       "  8  \"M\"\n",
       " 10  \"F\"\n",
       " 12  \"\"\n",
       "  0  \"F\""
      ]
     },
     "metadata": {},
     "output_type": "display_data"
    }
   ],
   "source": [
    "Array(df)"
   ]
  },
  {
   "cell_type": "markdown",
   "metadata": {},
   "source": [
    "#### File handling\n",
    "\"DataFrames\" supports the `Table.jl` interface, and dataframes in Julia can therefore function as both source and sink for other tabular data structures such as named tuples, files, spreadsheets, databases, etc. To operate on \"csv\" files (Comma Separated Values file is an ASCII file type), package `CSV.jl` is needed.\n",
    "\n",
    "* **Named tuple** - `DataFrame(v)` with `v` a vector of named tuples, where each element of `v` has the same names for the tuple elements, produces a dataframe with column names being the tuple names, and the tuple values being the column values, one row for each element in vector `v`. Converting from dataframe to named tuple requires `Tables.jl` function `rowtable(df)`.\n",
    "* **CSV file write** - `CSV.write(filename, table; kwargs...)` writes `table` (e.g., `df`) to CSV file `filename` where `write` is a function in the `CSV.jl` package. Some useful keyword arguments are `delim::Union{Char, String}=','` which defaults to *comma* (`','`) and is a character or string (union of data types `Char` and `String`) specifying the separation symbol between elements - typical delimiters include `','`, `'\\t'` (tabulator), `' '`, `'|'`, `';'`, and `':'`; `missingstring::String=\"\"` which specifies a string for insertion in place of missing values in the `table`. The resulting csv file can, e.g., be opened and edited in Excel or other spreadsheet applicaitons.\n",
    "* **CSV file read** - `CSV.read(filename,DataFrame;kwargs)` reads data from CSV file `filename` into a a `DataFrame` data type. Useful keyword arguments are `delim::Union{Char, String}=','` (see above). Function `CSV.read` will try to infer the datatype of the column, and may assume `missing` if it cannot infer the type. It is possible to specify a common type via keyword argument `type`, or a vector of types via keyword arguments `types`."
   ]
  },
  {
   "cell_type": "code",
   "execution_count": 149,
   "metadata": {},
   "outputs": [],
   "source": [
    "import Tables as tbl\n",
    "import CSV"
   ]
  },
  {
   "cell_type": "code",
   "execution_count": 150,
   "metadata": {},
   "outputs": [
    {
     "data": {
      "text/plain": [
       "4-element Vector{NamedTuple{(:A, :B), Tuple{Int64, String}}}:\n",
       " (A = 1, B = \"F\")\n",
       " (A = 2, B = \"M\")\n",
       " (A = 3, B = \"F\")\n",
       " (A = 4, B = \"M\")"
      ]
     },
     "metadata": {},
     "output_type": "display_data"
    }
   ],
   "source": [
    "v = [(A = 1, B = \"F\"), (A = 2, B = \"M\"), (A = 3, B = \"F\"), (A = 4, B = \"M\")]"
   ]
  },
  {
   "cell_type": "code",
   "execution_count": 151,
   "metadata": {},
   "outputs": [
    {
     "data": {
      "text/html": [
       "<div><div style = \"float: left;\"><span>4×2 DataFrame</span></div><div style = \"clear: both;\"></div></div><div class = \"data-frame\" style = \"overflow-x: scroll;\"><table class = \"data-frame\" style = \"margin-bottom: 6px;\"><thead><tr class = \"header\"><th class = \"rowNumber\" style = \"font-weight: bold; text-align: right;\">Row</th><th style = \"text-align: left;\">A</th><th style = \"text-align: left;\">B</th></tr><tr class = \"subheader headerLastRow\"><th class = \"rowNumber\" style = \"font-weight: bold; text-align: right;\"></th><th title = \"Int64\" style = \"text-align: left;\">Int64</th><th title = \"String\" style = \"text-align: left;\">String</th></tr></thead><tbody><tr><td class = \"rowNumber\" style = \"font-weight: bold; text-align: right;\">1</td><td style = \"text-align: right;\">1</td><td style = \"text-align: left;\">F</td></tr><tr><td class = \"rowNumber\" style = \"font-weight: bold; text-align: right;\">2</td><td style = \"text-align: right;\">2</td><td style = \"text-align: left;\">M</td></tr><tr><td class = \"rowNumber\" style = \"font-weight: bold; text-align: right;\">3</td><td style = \"text-align: right;\">3</td><td style = \"text-align: left;\">F</td></tr><tr><td class = \"rowNumber\" style = \"font-weight: bold; text-align: right;\">4</td><td style = \"text-align: right;\">4</td><td style = \"text-align: left;\">M</td></tr></tbody></table></div>"
      ],
      "text/latex": [
       "\\begin{tabular}{r|cc}\n",
       "\t& A & B\\\\\n",
       "\t\\hline\n",
       "\t& Int64 & String\\\\\n",
       "\t\\hline\n",
       "\t1 & 1 & F \\\\\n",
       "\t2 & 2 & M \\\\\n",
       "\t3 & 3 & F \\\\\n",
       "\t4 & 4 & M \\\\\n",
       "\\end{tabular}\n"
      ],
      "text/plain": [
       "\u001b[1m4×2 DataFrame\u001b[0m\n",
       "\u001b[1m Row \u001b[0m│\u001b[1m A     \u001b[0m\u001b[1m B      \u001b[0m\n",
       "     │\u001b[90m Int64 \u001b[0m\u001b[90m String \u001b[0m\n",
       "─────┼───────────────\n",
       "   1 │     1  F\n",
       "   2 │     2  M\n",
       "   3 │     3  F\n",
       "   4 │     4  M"
      ]
     },
     "metadata": {},
     "output_type": "display_data"
    }
   ],
   "source": [
    "df1 = daf.DataFrame(v)    # package `Tables` is not needed here"
   ]
  },
  {
   "cell_type": "code",
   "execution_count": 152,
   "metadata": {},
   "outputs": [
    {
     "data": {
      "text/plain": [
       "4-element Vector{NamedTuple{(:A, :B), Tuple{Int64, String}}}:\n",
       " (A = 1, B = \"F\")\n",
       " (A = 2, B = \"M\")\n",
       " (A = 3, B = \"F\")\n",
       " (A = 4, B = \"M\")"
      ]
     },
     "metadata": {},
     "output_type": "display_data"
    }
   ],
   "source": [
    "tbl.rowtable(df1)    # package `Tables` is needed here"
   ]
  },
  {
   "cell_type": "code",
   "execution_count": 153,
   "metadata": {},
   "outputs": [
    {
     "data": {
      "text/plain": [
       "\"dataframe.csv\""
      ]
     },
     "metadata": {},
     "output_type": "display_data"
    }
   ],
   "source": [
    "CSV.write(\"dataframe.csv\", df)"
   ]
  },
  {
   "cell_type": "code",
   "execution_count": 154,
   "metadata": {},
   "outputs": [
    {
     "data": {
      "text/html": [
       "<div><div style = \"float: left;\"><span>7×2 DataFrame</span></div><div style = \"clear: both;\"></div></div><div class = \"data-frame\" style = \"overflow-x: scroll;\"><table class = \"data-frame\" style = \"margin-bottom: 6px;\"><thead><tr class = \"header\"><th class = \"rowNumber\" style = \"font-weight: bold; text-align: right;\">Row</th><th style = \"text-align: left;\">Id</th><th style = \"text-align: left;\">Gender</th></tr><tr class = \"subheader headerLastRow\"><th class = \"rowNumber\" style = \"font-weight: bold; text-align: right;\"></th><th title = \"Int64\" style = \"text-align: left;\">Int64</th><th title = \"Union{Missing, InlineStrings.String1}\" style = \"text-align: left;\">String1</th></tr></thead><tbody><tr><td class = \"rowNumber\" style = \"font-weight: bold; text-align: right;\">1</td><td style = \"text-align: right;\">2</td><td style = \"text-align: left;\">M</td></tr><tr><td class = \"rowNumber\" style = \"font-weight: bold; text-align: right;\">2</td><td style = \"text-align: right;\">4</td><td style = \"text-align: left;\">F</td></tr><tr><td class = \"rowNumber\" style = \"font-weight: bold; text-align: right;\">3</td><td style = \"text-align: right;\">6</td><td style = \"text-align: left;\">F</td></tr><tr><td class = \"rowNumber\" style = \"font-weight: bold; text-align: right;\">4</td><td style = \"text-align: right;\">8</td><td style = \"text-align: left;\">M</td></tr><tr><td class = \"rowNumber\" style = \"font-weight: bold; text-align: right;\">5</td><td style = \"text-align: right;\">10</td><td style = \"text-align: left;\">F</td></tr><tr><td class = \"rowNumber\" style = \"font-weight: bold; text-align: right;\">6</td><td style = \"text-align: right;\">12</td><td style = \"font-style: italic; text-align: left;\">missing</td></tr><tr><td class = \"rowNumber\" style = \"font-weight: bold; text-align: right;\">7</td><td style = \"text-align: right;\">0</td><td style = \"text-align: left;\">F</td></tr></tbody></table></div>"
      ],
      "text/latex": [
       "\\begin{tabular}{r|cc}\n",
       "\t& Id & Gender\\\\\n",
       "\t\\hline\n",
       "\t& Int64 & String1\\\\\n",
       "\t\\hline\n",
       "\t1 & 2 & M \\\\\n",
       "\t2 & 4 & F \\\\\n",
       "\t3 & 6 & F \\\\\n",
       "\t4 & 8 & M \\\\\n",
       "\t5 & 10 & F \\\\\n",
       "\t6 & 12 & \\emph{missing} \\\\\n",
       "\t7 & 0 & F \\\\\n",
       "\\end{tabular}\n"
      ],
      "text/plain": [
       "\u001b[1m7×2 DataFrame\u001b[0m\n",
       "\u001b[1m Row \u001b[0m│\u001b[1m Id    \u001b[0m\u001b[1m Gender  \u001b[0m\n",
       "     │\u001b[90m Int64 \u001b[0m\u001b[90m String1 \u001b[0m\n",
       "─────┼────────────────\n",
       "   1 │     2  M\n",
       "   2 │     4  F\n",
       "   3 │     6  F\n",
       "   4 │     8  M\n",
       "   5 │    10  F\n",
       "   6 │    12 \u001b[90m missing \u001b[0m\n",
       "   7 │     0  F"
      ]
     },
     "metadata": {},
     "output_type": "display_data"
    }
   ],
   "source": [
    "df2=CSV.read(\"dataframe.csv\",daf.DataFrame;delim=\",\")"
   ]
  },
  {
   "cell_type": "code",
   "execution_count": 155,
   "metadata": {},
   "outputs": [
    {
     "data": {
      "text/html": [
       "<div><div style = \"float: left;\"><span>7×2 DataFrame</span></div><div style = \"clear: both;\"></div></div><div class = \"data-frame\" style = \"overflow-x: scroll;\"><table class = \"data-frame\" style = \"margin-bottom: 6px;\"><thead><tr class = \"header\"><th class = \"rowNumber\" style = \"font-weight: bold; text-align: right;\">Row</th><th style = \"text-align: left;\">Id</th><th style = \"text-align: left;\">Gender</th></tr><tr class = \"subheader headerLastRow\"><th class = \"rowNumber\" style = \"font-weight: bold; text-align: right;\"></th><th title = \"Union{Missing, Int64}\" style = \"text-align: left;\">Int64?</th><th title = \"Union{Missing, String}\" style = \"text-align: left;\">String?</th></tr></thead><tbody><tr><td class = \"rowNumber\" style = \"font-weight: bold; text-align: right;\">1</td><td style = \"text-align: right;\">2</td><td style = \"text-align: left;\">M</td></tr><tr><td class = \"rowNumber\" style = \"font-weight: bold; text-align: right;\">2</td><td style = \"text-align: right;\">4</td><td style = \"text-align: left;\">F</td></tr><tr><td class = \"rowNumber\" style = \"font-weight: bold; text-align: right;\">3</td><td style = \"text-align: right;\">6</td><td style = \"text-align: left;\">F</td></tr><tr><td class = \"rowNumber\" style = \"font-weight: bold; text-align: right;\">4</td><td style = \"text-align: right;\">8</td><td style = \"text-align: left;\">M</td></tr><tr><td class = \"rowNumber\" style = \"font-weight: bold; text-align: right;\">5</td><td style = \"text-align: right;\">10</td><td style = \"text-align: left;\">F</td></tr><tr><td class = \"rowNumber\" style = \"font-weight: bold; text-align: right;\">6</td><td style = \"text-align: right;\">12</td><td style = \"text-align: left;\"></td></tr><tr><td class = \"rowNumber\" style = \"font-weight: bold; text-align: right;\">7</td><td style = \"text-align: right;\">0</td><td style = \"text-align: left;\">F</td></tr></tbody></table></div>"
      ],
      "text/latex": [
       "\\begin{tabular}{r|cc}\n",
       "\t& Id & Gender\\\\\n",
       "\t\\hline\n",
       "\t& Int64? & String?\\\\\n",
       "\t\\hline\n",
       "\t1 & 2 & M \\\\\n",
       "\t2 & 4 & F \\\\\n",
       "\t3 & 6 & F \\\\\n",
       "\t4 & 8 & M \\\\\n",
       "\t5 & 10 & F \\\\\n",
       "\t6 & 12 &  \\\\\n",
       "\t7 & 0 & F \\\\\n",
       "\\end{tabular}\n"
      ],
      "text/plain": [
       "\u001b[1m7×2 DataFrame\u001b[0m\n",
       "\u001b[1m Row \u001b[0m│\u001b[1m Id     \u001b[0m\u001b[1m Gender  \u001b[0m\n",
       "     │\u001b[90m Int64? \u001b[0m\u001b[90m String? \u001b[0m\n",
       "─────┼─────────────────\n",
       "   1 │      2  M\n",
       "   2 │      4  F\n",
       "   3 │      6  F\n",
       "   4 │      8  M\n",
       "   5 │     10  F\n",
       "   6 │     12\n",
       "   7 │      0  F"
      ]
     },
     "metadata": {},
     "output_type": "display_data"
    }
   ],
   "source": [
    "df"
   ]
  },
  {
   "cell_type": "markdown",
   "metadata": {},
   "source": [
    "#### Joining DataFrames\n",
    "Suppose we have two (or more) data frames, and need to *join* them. `DataFrames` allows for 7 types of joins:\n",
    "The following functions are provided to perform seven kinds of joins. \n",
    "\n",
    "* **Inner Join** - `innerjoin(df1,df2,on=col)` joins `df1` and `df2` which have common column name `col` (symbol), resulting in a data frame that contains rows where the `col` values exist in both (all) passed data frames.\n",
    "* **Left Join** - `leftjoin(df1,df2,on=col)` joins `df1` and `df2` which have common column name `col` (symbol) resulting in a data frame that contains rows where the `col` values exist in the first (left) argument, whether or not that value exists in the second (right) argument.\n",
    "* **Right Join** - `rightjoin(df1,df2,on=col)` joins `df1` and `df2` which have common column name `col` (symbol) resulting in a data frame that contains rows where the `col` values exist in the second (right) argument, whether or not that value exists in the first (left) argument.\n",
    "* **Outer Join** - `outerjoin(df1,df2,on=col)` joins `df1` and `df2` which have common column name `col` (symbol) resulting in a data frame that contains rows where the `col` values exist in any of the passed data frames.\n",
    "* **Semi Join** - `semijoin(df1,df2,on=col)`: Like an inner join, but output is restricted to columns from the first (left) argument.\n",
    "* **Anti Join** - `antijoin(df1,df2,on=col)`: The output contains rows for values of the key that exist in the first (left) but not the second (right) argument. As with semijoin, output is restricted to columns from the first (left) argument.\n",
    "* **Cross Join** - `crossjoin(df1,df2,makeunique=true)`: The output is the cartesian product of rows from all passed data frames."
   ]
  },
  {
   "cell_type": "code",
   "execution_count": 156,
   "metadata": {},
   "outputs": [
    {
     "data": {
      "text/html": [
       "<div><div style = \"float: left;\"><span>2×2 DataFrame</span></div><div style = \"clear: both;\"></div></div><div class = \"data-frame\" style = \"overflow-x: scroll;\"><table class = \"data-frame\" style = \"margin-bottom: 6px;\"><thead><tr class = \"header\"><th class = \"rowNumber\" style = \"font-weight: bold; text-align: right;\">Row</th><th style = \"text-align: left;\">ID</th><th style = \"text-align: left;\">Name</th></tr><tr class = \"subheader headerLastRow\"><th class = \"rowNumber\" style = \"font-weight: bold; text-align: right;\"></th><th title = \"Int64\" style = \"text-align: left;\">Int64</th><th title = \"String\" style = \"text-align: left;\">String</th></tr></thead><tbody><tr><td class = \"rowNumber\" style = \"font-weight: bold; text-align: right;\">1</td><td style = \"text-align: right;\">20</td><td style = \"text-align: left;\">John Doe</td></tr><tr><td class = \"rowNumber\" style = \"font-weight: bold; text-align: right;\">2</td><td style = \"text-align: right;\">40</td><td style = \"text-align: left;\">Jane Doe</td></tr></tbody></table></div>"
      ],
      "text/latex": [
       "\\begin{tabular}{r|cc}\n",
       "\t& ID & Name\\\\\n",
       "\t\\hline\n",
       "\t& Int64 & String\\\\\n",
       "\t\\hline\n",
       "\t1 & 20 & John Doe \\\\\n",
       "\t2 & 40 & Jane Doe \\\\\n",
       "\\end{tabular}\n"
      ],
      "text/plain": [
       "\u001b[1m2×2 DataFrame\u001b[0m\n",
       "\u001b[1m Row \u001b[0m│\u001b[1m ID    \u001b[0m\u001b[1m Name     \u001b[0m\n",
       "     │\u001b[90m Int64 \u001b[0m\u001b[90m String   \u001b[0m\n",
       "─────┼─────────────────\n",
       "   1 │    20  John Doe\n",
       "   2 │    40  Jane Doe"
      ]
     },
     "metadata": {},
     "output_type": "display_data"
    }
   ],
   "source": [
    "people = daf.DataFrame(ID = [20, 40], Name = [\"John Doe\", \"Jane Doe\"])"
   ]
  },
  {
   "cell_type": "code",
   "execution_count": 157,
   "metadata": {},
   "outputs": [
    {
     "data": {
      "text/html": [
       "<div><div style = \"float: left;\"><span>2×2 DataFrame</span></div><div style = \"clear: both;\"></div></div><div class = \"data-frame\" style = \"overflow-x: scroll;\"><table class = \"data-frame\" style = \"margin-bottom: 6px;\"><thead><tr class = \"header\"><th class = \"rowNumber\" style = \"font-weight: bold; text-align: right;\">Row</th><th style = \"text-align: left;\">ID</th><th style = \"text-align: left;\">Job</th></tr><tr class = \"subheader headerLastRow\"><th class = \"rowNumber\" style = \"font-weight: bold; text-align: right;\"></th><th title = \"Int64\" style = \"text-align: left;\">Int64</th><th title = \"String\" style = \"text-align: left;\">String</th></tr></thead><tbody><tr><td class = \"rowNumber\" style = \"font-weight: bold; text-align: right;\">1</td><td style = \"text-align: right;\">20</td><td style = \"text-align: left;\">Lawyer</td></tr><tr><td class = \"rowNumber\" style = \"font-weight: bold; text-align: right;\">2</td><td style = \"text-align: right;\">60</td><td style = \"text-align: left;\">Astronaut</td></tr></tbody></table></div>"
      ],
      "text/latex": [
       "\\begin{tabular}{r|cc}\n",
       "\t& ID & Job\\\\\n",
       "\t\\hline\n",
       "\t& Int64 & String\\\\\n",
       "\t\\hline\n",
       "\t1 & 20 & Lawyer \\\\\n",
       "\t2 & 60 & Astronaut \\\\\n",
       "\\end{tabular}\n"
      ],
      "text/plain": [
       "\u001b[1m2×2 DataFrame\u001b[0m\n",
       "\u001b[1m Row \u001b[0m│\u001b[1m ID    \u001b[0m\u001b[1m Job       \u001b[0m\n",
       "     │\u001b[90m Int64 \u001b[0m\u001b[90m String    \u001b[0m\n",
       "─────┼──────────────────\n",
       "   1 │    20  Lawyer\n",
       "   2 │    60  Astronaut"
      ]
     },
     "metadata": {},
     "output_type": "display_data"
    }
   ],
   "source": [
    "jobs = daf.DataFrame(ID = [20, 60], Job = [\"Lawyer\", \"Astronaut\"])"
   ]
  },
  {
   "cell_type": "code",
   "execution_count": 158,
   "metadata": {},
   "outputs": [
    {
     "data": {
      "text/html": [
       "<div><div style = \"float: left;\"><span>1×3 DataFrame</span></div><div style = \"clear: both;\"></div></div><div class = \"data-frame\" style = \"overflow-x: scroll;\"><table class = \"data-frame\" style = \"margin-bottom: 6px;\"><thead><tr class = \"header\"><th class = \"rowNumber\" style = \"font-weight: bold; text-align: right;\">Row</th><th style = \"text-align: left;\">ID</th><th style = \"text-align: left;\">Name</th><th style = \"text-align: left;\">Job</th></tr><tr class = \"subheader headerLastRow\"><th class = \"rowNumber\" style = \"font-weight: bold; text-align: right;\"></th><th title = \"Int64\" style = \"text-align: left;\">Int64</th><th title = \"String\" style = \"text-align: left;\">String</th><th title = \"String\" style = \"text-align: left;\">String</th></tr></thead><tbody><tr><td class = \"rowNumber\" style = \"font-weight: bold; text-align: right;\">1</td><td style = \"text-align: right;\">20</td><td style = \"text-align: left;\">John Doe</td><td style = \"text-align: left;\">Lawyer</td></tr></tbody></table></div>"
      ],
      "text/latex": [
       "\\begin{tabular}{r|ccc}\n",
       "\t& ID & Name & Job\\\\\n",
       "\t\\hline\n",
       "\t& Int64 & String & String\\\\\n",
       "\t\\hline\n",
       "\t1 & 20 & John Doe & Lawyer \\\\\n",
       "\\end{tabular}\n"
      ],
      "text/plain": [
       "\u001b[1m1×3 DataFrame\u001b[0m\n",
       "\u001b[1m Row \u001b[0m│\u001b[1m ID    \u001b[0m\u001b[1m Name     \u001b[0m\u001b[1m Job    \u001b[0m\n",
       "     │\u001b[90m Int64 \u001b[0m\u001b[90m String   \u001b[0m\u001b[90m String \u001b[0m\n",
       "─────┼─────────────────────────\n",
       "   1 │    20  John Doe  Lawyer"
      ]
     },
     "metadata": {},
     "output_type": "display_data"
    }
   ],
   "source": [
    "daf.innerjoin(people, jobs, on = :ID)"
   ]
  },
  {
   "cell_type": "code",
   "execution_count": 159,
   "metadata": {},
   "outputs": [
    {
     "data": {
      "text/html": [
       "<div><div style = \"float: left;\"><span>2×3 DataFrame</span></div><div style = \"clear: both;\"></div></div><div class = \"data-frame\" style = \"overflow-x: scroll;\"><table class = \"data-frame\" style = \"margin-bottom: 6px;\"><thead><tr class = \"header\"><th class = \"rowNumber\" style = \"font-weight: bold; text-align: right;\">Row</th><th style = \"text-align: left;\">ID</th><th style = \"text-align: left;\">Name</th><th style = \"text-align: left;\">Job</th></tr><tr class = \"subheader headerLastRow\"><th class = \"rowNumber\" style = \"font-weight: bold; text-align: right;\"></th><th title = \"Int64\" style = \"text-align: left;\">Int64</th><th title = \"String\" style = \"text-align: left;\">String</th><th title = \"Union{Missing, String}\" style = \"text-align: left;\">String?</th></tr></thead><tbody><tr><td class = \"rowNumber\" style = \"font-weight: bold; text-align: right;\">1</td><td style = \"text-align: right;\">20</td><td style = \"text-align: left;\">John Doe</td><td style = \"text-align: left;\">Lawyer</td></tr><tr><td class = \"rowNumber\" style = \"font-weight: bold; text-align: right;\">2</td><td style = \"text-align: right;\">40</td><td style = \"text-align: left;\">Jane Doe</td><td style = \"font-style: italic; text-align: left;\">missing</td></tr></tbody></table></div>"
      ],
      "text/latex": [
       "\\begin{tabular}{r|ccc}\n",
       "\t& ID & Name & Job\\\\\n",
       "\t\\hline\n",
       "\t& Int64 & String & String?\\\\\n",
       "\t\\hline\n",
       "\t1 & 20 & John Doe & Lawyer \\\\\n",
       "\t2 & 40 & Jane Doe & \\emph{missing} \\\\\n",
       "\\end{tabular}\n"
      ],
      "text/plain": [
       "\u001b[1m2×3 DataFrame\u001b[0m\n",
       "\u001b[1m Row \u001b[0m│\u001b[1m ID    \u001b[0m\u001b[1m Name     \u001b[0m\u001b[1m Job     \u001b[0m\n",
       "     │\u001b[90m Int64 \u001b[0m\u001b[90m String   \u001b[0m\u001b[90m String? \u001b[0m\n",
       "─────┼──────────────────────────\n",
       "   1 │    20  John Doe  Lawyer\n",
       "   2 │    40  Jane Doe \u001b[90m missing \u001b[0m"
      ]
     },
     "metadata": {},
     "output_type": "display_data"
    }
   ],
   "source": [
    "daf.leftjoin(people, jobs, on = :ID)"
   ]
  },
  {
   "cell_type": "code",
   "execution_count": 160,
   "metadata": {},
   "outputs": [
    {
     "data": {
      "text/html": [
       "<div><div style = \"float: left;\"><span>2×3 DataFrame</span></div><div style = \"clear: both;\"></div></div><div class = \"data-frame\" style = \"overflow-x: scroll;\"><table class = \"data-frame\" style = \"margin-bottom: 6px;\"><thead><tr class = \"header\"><th class = \"rowNumber\" style = \"font-weight: bold; text-align: right;\">Row</th><th style = \"text-align: left;\">ID</th><th style = \"text-align: left;\">Name</th><th style = \"text-align: left;\">Job</th></tr><tr class = \"subheader headerLastRow\"><th class = \"rowNumber\" style = \"font-weight: bold; text-align: right;\"></th><th title = \"Int64\" style = \"text-align: left;\">Int64</th><th title = \"Union{Missing, String}\" style = \"text-align: left;\">String?</th><th title = \"String\" style = \"text-align: left;\">String</th></tr></thead><tbody><tr><td class = \"rowNumber\" style = \"font-weight: bold; text-align: right;\">1</td><td style = \"text-align: right;\">20</td><td style = \"text-align: left;\">John Doe</td><td style = \"text-align: left;\">Lawyer</td></tr><tr><td class = \"rowNumber\" style = \"font-weight: bold; text-align: right;\">2</td><td style = \"text-align: right;\">60</td><td style = \"font-style: italic; text-align: left;\">missing</td><td style = \"text-align: left;\">Astronaut</td></tr></tbody></table></div>"
      ],
      "text/latex": [
       "\\begin{tabular}{r|ccc}\n",
       "\t& ID & Name & Job\\\\\n",
       "\t\\hline\n",
       "\t& Int64 & String? & String\\\\\n",
       "\t\\hline\n",
       "\t1 & 20 & John Doe & Lawyer \\\\\n",
       "\t2 & 60 & \\emph{missing} & Astronaut \\\\\n",
       "\\end{tabular}\n"
      ],
      "text/plain": [
       "\u001b[1m2×3 DataFrame\u001b[0m\n",
       "\u001b[1m Row \u001b[0m│\u001b[1m ID    \u001b[0m\u001b[1m Name     \u001b[0m\u001b[1m Job       \u001b[0m\n",
       "     │\u001b[90m Int64 \u001b[0m\u001b[90m String?  \u001b[0m\u001b[90m String    \u001b[0m\n",
       "─────┼────────────────────────────\n",
       "   1 │    20  John Doe  Lawyer\n",
       "   2 │    60 \u001b[90m missing  \u001b[0m Astronaut"
      ]
     },
     "metadata": {},
     "output_type": "display_data"
    }
   ],
   "source": [
    "daf.rightjoin(people, jobs, on = :ID)"
   ]
  },
  {
   "cell_type": "code",
   "execution_count": 161,
   "metadata": {},
   "outputs": [
    {
     "data": {
      "text/html": [
       "<div><div style = \"float: left;\"><span>3×3 DataFrame</span></div><div style = \"clear: both;\"></div></div><div class = \"data-frame\" style = \"overflow-x: scroll;\"><table class = \"data-frame\" style = \"margin-bottom: 6px;\"><thead><tr class = \"header\"><th class = \"rowNumber\" style = \"font-weight: bold; text-align: right;\">Row</th><th style = \"text-align: left;\">ID</th><th style = \"text-align: left;\">Name</th><th style = \"text-align: left;\">Job</th></tr><tr class = \"subheader headerLastRow\"><th class = \"rowNumber\" style = \"font-weight: bold; text-align: right;\"></th><th title = \"Int64\" style = \"text-align: left;\">Int64</th><th title = \"Union{Missing, String}\" style = \"text-align: left;\">String?</th><th title = \"Union{Missing, String}\" style = \"text-align: left;\">String?</th></tr></thead><tbody><tr><td class = \"rowNumber\" style = \"font-weight: bold; text-align: right;\">1</td><td style = \"text-align: right;\">20</td><td style = \"text-align: left;\">John Doe</td><td style = \"text-align: left;\">Lawyer</td></tr><tr><td class = \"rowNumber\" style = \"font-weight: bold; text-align: right;\">2</td><td style = \"text-align: right;\">40</td><td style = \"text-align: left;\">Jane Doe</td><td style = \"font-style: italic; text-align: left;\">missing</td></tr><tr><td class = \"rowNumber\" style = \"font-weight: bold; text-align: right;\">3</td><td style = \"text-align: right;\">60</td><td style = \"font-style: italic; text-align: left;\">missing</td><td style = \"text-align: left;\">Astronaut</td></tr></tbody></table></div>"
      ],
      "text/latex": [
       "\\begin{tabular}{r|ccc}\n",
       "\t& ID & Name & Job\\\\\n",
       "\t\\hline\n",
       "\t& Int64 & String? & String?\\\\\n",
       "\t\\hline\n",
       "\t1 & 20 & John Doe & Lawyer \\\\\n",
       "\t2 & 40 & Jane Doe & \\emph{missing} \\\\\n",
       "\t3 & 60 & \\emph{missing} & Astronaut \\\\\n",
       "\\end{tabular}\n"
      ],
      "text/plain": [
       "\u001b[1m3×3 DataFrame\u001b[0m\n",
       "\u001b[1m Row \u001b[0m│\u001b[1m ID    \u001b[0m\u001b[1m Name     \u001b[0m\u001b[1m Job       \u001b[0m\n",
       "     │\u001b[90m Int64 \u001b[0m\u001b[90m String?  \u001b[0m\u001b[90m String?   \u001b[0m\n",
       "─────┼────────────────────────────\n",
       "   1 │    20  John Doe  Lawyer\n",
       "   2 │    40  Jane Doe \u001b[90m missing   \u001b[0m\n",
       "   3 │    60 \u001b[90m missing  \u001b[0m Astronaut"
      ]
     },
     "metadata": {},
     "output_type": "display_data"
    }
   ],
   "source": [
    "daf.outerjoin(people, jobs, on = :ID)"
   ]
  },
  {
   "cell_type": "code",
   "execution_count": 162,
   "metadata": {},
   "outputs": [
    {
     "data": {
      "text/html": [
       "<div><div style = \"float: left;\"><span>1×2 DataFrame</span></div><div style = \"clear: both;\"></div></div><div class = \"data-frame\" style = \"overflow-x: scroll;\"><table class = \"data-frame\" style = \"margin-bottom: 6px;\"><thead><tr class = \"header\"><th class = \"rowNumber\" style = \"font-weight: bold; text-align: right;\">Row</th><th style = \"text-align: left;\">ID</th><th style = \"text-align: left;\">Name</th></tr><tr class = \"subheader headerLastRow\"><th class = \"rowNumber\" style = \"font-weight: bold; text-align: right;\"></th><th title = \"Int64\" style = \"text-align: left;\">Int64</th><th title = \"String\" style = \"text-align: left;\">String</th></tr></thead><tbody><tr><td class = \"rowNumber\" style = \"font-weight: bold; text-align: right;\">1</td><td style = \"text-align: right;\">20</td><td style = \"text-align: left;\">John Doe</td></tr></tbody></table></div>"
      ],
      "text/latex": [
       "\\begin{tabular}{r|cc}\n",
       "\t& ID & Name\\\\\n",
       "\t\\hline\n",
       "\t& Int64 & String\\\\\n",
       "\t\\hline\n",
       "\t1 & 20 & John Doe \\\\\n",
       "\\end{tabular}\n"
      ],
      "text/plain": [
       "\u001b[1m1×2 DataFrame\u001b[0m\n",
       "\u001b[1m Row \u001b[0m│\u001b[1m ID    \u001b[0m\u001b[1m Name     \u001b[0m\n",
       "     │\u001b[90m Int64 \u001b[0m\u001b[90m String   \u001b[0m\n",
       "─────┼─────────────────\n",
       "   1 │    20  John Doe"
      ]
     },
     "metadata": {},
     "output_type": "display_data"
    }
   ],
   "source": [
    "daf.semijoin(people, jobs, on = :ID)"
   ]
  },
  {
   "cell_type": "code",
   "execution_count": 163,
   "metadata": {},
   "outputs": [
    {
     "data": {
      "text/html": [
       "<div><div style = \"float: left;\"><span>1×2 DataFrame</span></div><div style = \"clear: both;\"></div></div><div class = \"data-frame\" style = \"overflow-x: scroll;\"><table class = \"data-frame\" style = \"margin-bottom: 6px;\"><thead><tr class = \"header\"><th class = \"rowNumber\" style = \"font-weight: bold; text-align: right;\">Row</th><th style = \"text-align: left;\">ID</th><th style = \"text-align: left;\">Name</th></tr><tr class = \"subheader headerLastRow\"><th class = \"rowNumber\" style = \"font-weight: bold; text-align: right;\"></th><th title = \"Int64\" style = \"text-align: left;\">Int64</th><th title = \"String\" style = \"text-align: left;\">String</th></tr></thead><tbody><tr><td class = \"rowNumber\" style = \"font-weight: bold; text-align: right;\">1</td><td style = \"text-align: right;\">40</td><td style = \"text-align: left;\">Jane Doe</td></tr></tbody></table></div>"
      ],
      "text/latex": [
       "\\begin{tabular}{r|cc}\n",
       "\t& ID & Name\\\\\n",
       "\t\\hline\n",
       "\t& Int64 & String\\\\\n",
       "\t\\hline\n",
       "\t1 & 40 & Jane Doe \\\\\n",
       "\\end{tabular}\n"
      ],
      "text/plain": [
       "\u001b[1m1×2 DataFrame\u001b[0m\n",
       "\u001b[1m Row \u001b[0m│\u001b[1m ID    \u001b[0m\u001b[1m Name     \u001b[0m\n",
       "     │\u001b[90m Int64 \u001b[0m\u001b[90m String   \u001b[0m\n",
       "─────┼─────────────────\n",
       "   1 │    40  Jane Doe"
      ]
     },
     "metadata": {},
     "output_type": "display_data"
    }
   ],
   "source": [
    "daf.antijoin(people, jobs, on = :ID)"
   ]
  },
  {
   "cell_type": "code",
   "execution_count": 164,
   "metadata": {},
   "outputs": [
    {
     "data": {
      "text/html": [
       "<div><div style = \"float: left;\"><span>4×4 DataFrame</span></div><div style = \"clear: both;\"></div></div><div class = \"data-frame\" style = \"overflow-x: scroll;\"><table class = \"data-frame\" style = \"margin-bottom: 6px;\"><thead><tr class = \"header\"><th class = \"rowNumber\" style = \"font-weight: bold; text-align: right;\">Row</th><th style = \"text-align: left;\">ID</th><th style = \"text-align: left;\">Name</th><th style = \"text-align: left;\">ID_1</th><th style = \"text-align: left;\">Job</th></tr><tr class = \"subheader headerLastRow\"><th class = \"rowNumber\" style = \"font-weight: bold; text-align: right;\"></th><th title = \"Int64\" style = \"text-align: left;\">Int64</th><th title = \"String\" style = \"text-align: left;\">String</th><th title = \"Int64\" style = \"text-align: left;\">Int64</th><th title = \"String\" style = \"text-align: left;\">String</th></tr></thead><tbody><tr><td class = \"rowNumber\" style = \"font-weight: bold; text-align: right;\">1</td><td style = \"text-align: right;\">20</td><td style = \"text-align: left;\">John Doe</td><td style = \"text-align: right;\">20</td><td style = \"text-align: left;\">Lawyer</td></tr><tr><td class = \"rowNumber\" style = \"font-weight: bold; text-align: right;\">2</td><td style = \"text-align: right;\">20</td><td style = \"text-align: left;\">John Doe</td><td style = \"text-align: right;\">60</td><td style = \"text-align: left;\">Astronaut</td></tr><tr><td class = \"rowNumber\" style = \"font-weight: bold; text-align: right;\">3</td><td style = \"text-align: right;\">40</td><td style = \"text-align: left;\">Jane Doe</td><td style = \"text-align: right;\">20</td><td style = \"text-align: left;\">Lawyer</td></tr><tr><td class = \"rowNumber\" style = \"font-weight: bold; text-align: right;\">4</td><td style = \"text-align: right;\">40</td><td style = \"text-align: left;\">Jane Doe</td><td style = \"text-align: right;\">60</td><td style = \"text-align: left;\">Astronaut</td></tr></tbody></table></div>"
      ],
      "text/latex": [
       "\\begin{tabular}{r|cccc}\n",
       "\t& ID & Name & ID\\_1 & Job\\\\\n",
       "\t\\hline\n",
       "\t& Int64 & String & Int64 & String\\\\\n",
       "\t\\hline\n",
       "\t1 & 20 & John Doe & 20 & Lawyer \\\\\n",
       "\t2 & 20 & John Doe & 60 & Astronaut \\\\\n",
       "\t3 & 40 & Jane Doe & 20 & Lawyer \\\\\n",
       "\t4 & 40 & Jane Doe & 60 & Astronaut \\\\\n",
       "\\end{tabular}\n"
      ],
      "text/plain": [
       "\u001b[1m4×4 DataFrame\u001b[0m\n",
       "\u001b[1m Row \u001b[0m│\u001b[1m ID    \u001b[0m\u001b[1m Name     \u001b[0m\u001b[1m ID_1  \u001b[0m\u001b[1m Job       \u001b[0m\n",
       "     │\u001b[90m Int64 \u001b[0m\u001b[90m String   \u001b[0m\u001b[90m Int64 \u001b[0m\u001b[90m String    \u001b[0m\n",
       "─────┼───────────────────────────────────\n",
       "   1 │    20  John Doe     20  Lawyer\n",
       "   2 │    20  John Doe     60  Astronaut\n",
       "   3 │    40  Jane Doe     20  Lawyer\n",
       "   4 │    40  Jane Doe     60  Astronaut"
      ]
     },
     "metadata": {},
     "output_type": "display_data"
    }
   ],
   "source": [
    "daf.crossjoin(people, jobs, makeunique=true)"
   ]
  },
  {
   "cell_type": "markdown",
   "metadata": {},
   "source": [
    "#### Closing\n",
    "The `DataFrames.jl` package is a very rich package, and the above has just scratched the surface of possibilities. For more details, search for `DataFrames.jl` on the internet to find the documentation."
   ]
  },
  {
   "cell_type": "markdown",
   "metadata": {},
   "source": []
  }
 ],
 "metadata": {
  "kernelspec": {
   "display_name": "Julia 1.9.3",
   "language": "julia",
   "name": "julia-1.9"
  },
  "language_info": {
   "file_extension": ".jl",
   "mimetype": "application/julia",
   "name": "julia",
   "version": "1.9.3"
  }
 },
 "nbformat": 4,
 "nbformat_minor": 4
}
