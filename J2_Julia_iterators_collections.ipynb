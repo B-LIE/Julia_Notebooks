{
 "cells": [
  {
   "cell_type": "markdown",
   "metadata": {},
   "source": [
    "# Julia 2: Iterators and Collections\n",
    "### Bernt Lie\n",
    "#### University of South-Eastern Norway\n",
    "#### May, 2021; minor update September 2023"
   ]
  },
  {
   "cell_type": "markdown",
   "metadata": {},
   "source": [
    "## Learning goals\n",
    "In this session, we will look at:\n",
    "* iterators\n",
    "* collections\n",
    "\n",
    "* NB: objectid"
   ]
  },
  {
   "cell_type": "markdown",
   "metadata": {},
   "source": [
    "## Julia iterators\n",
    "### What is an iterator?\n",
    "Somewhat vaguely, we will consider an iterator as a memory-efficient way to set up an iteration of elements. As an example, consider the list of elemenents $[1,2,3,4,5,6]$ which holds $6$ elements. Thus to store this list, we would need to store 6 integers. Alternatively, we could store the first and the last element, and the fact that there is an increase of 1 between each element from the first to the last, often written as `1:1:6`. In this case, we only need to store 3 integers. With this simple iterator, we would need 3 integers no matter the number of elements in the list.\n",
    "\n",
    "Iterators are kept *unevaluated* to save space, but are evaluated automatically upon need. There are functions for finding the first element in the iterator, to find the next element in the iterator, and to find the last element, as well as the number of elements in the iterator.\n",
    "\n",
    "Iterators have more advanced features, but here, we don't need more features.\n",
    "\n",
    "### Two iterators\n",
    "* `start:step:stop` specifies an iterator that sets up a sequence `start,start+step,start+2*step,...,n_end` where `n_end ≤ stop` if `step` is positive, and `n_end ≥ stop` if `step` is negative. If `step` is skipped, `step` defaults to `1`.\n",
    "* `range(start,stop;length)` where `start` is the start number, `stop` is the stop number, and `length` is the (optional) number of elements. The default is to select `length` so that the step-size is `1`. There is a variation `range(start,stop;step)`, but this is essentially the same as `start:step:stop`. Other variations exist.\n",
    "* `first(itr)` finds the first element in iterator `itr`.\n",
    "* `last(itr)` finds the last element in iterator `itr`.\n",
    "* `length(itr)` finds the number of elements in iterator `itr`."
   ]
  },
  {
   "cell_type": "code",
   "execution_count": 409,
   "metadata": {},
   "outputs": [
    {
     "data": {
      "text/plain": [
       "1:4"
      ]
     },
     "metadata": {},
     "output_type": "display_data"
    }
   ],
   "source": [
    "1:4"
   ]
  },
  {
   "cell_type": "code",
   "execution_count": 410,
   "metadata": {},
   "outputs": [
    {
     "data": {
      "text/plain": [
       "-1:2:7"
      ]
     },
     "metadata": {},
     "output_type": "display_data"
    }
   ],
   "source": [
    "itr = -1:2:8   # Observe that the response changes this to `-1:2:7`, \n",
    "               # since `8` is not part of the iterator due to the \n",
    "               # step length `2`."
   ]
  },
  {
   "cell_type": "code",
   "execution_count": 411,
   "metadata": {},
   "outputs": [
    {
     "data": {
      "text/plain": [
       "-1"
      ]
     },
     "metadata": {},
     "output_type": "display_data"
    }
   ],
   "source": [
    "first(itr)"
   ]
  },
  {
   "cell_type": "code",
   "execution_count": 412,
   "metadata": {},
   "outputs": [
    {
     "data": {
      "text/plain": [
       "7"
      ]
     },
     "metadata": {},
     "output_type": "display_data"
    }
   ],
   "source": [
    "last(itr)"
   ]
  },
  {
   "cell_type": "code",
   "execution_count": 413,
   "metadata": {},
   "outputs": [
    {
     "data": {
      "text/plain": [
       "5"
      ]
     },
     "metadata": {},
     "output_type": "display_data"
    }
   ],
   "source": [
    "length(itr)"
   ]
  },
  {
   "cell_type": "code",
   "execution_count": 414,
   "metadata": {},
   "outputs": [
    {
     "data": {
      "text/plain": [
       "-1:2:7"
      ]
     },
     "metadata": {},
     "output_type": "display_data"
    }
   ],
   "source": [
    "range(-1,8;step=2)"
   ]
  },
  {
   "cell_type": "code",
   "execution_count": 415,
   "metadata": {},
   "outputs": [
    {
     "data": {
      "text/plain": [
       "0.0:0.6981317007977318:6.283185307179586"
      ]
     },
     "metadata": {},
     "output_type": "display_data"
    }
   ],
   "source": [
    "range(0,2pi;length=10)"
   ]
  },
  {
   "cell_type": "code",
   "execution_count": 416,
   "metadata": {},
   "outputs": [
    {
     "data": {
      "text/plain": [
       "0.0:0.1:6.2"
      ]
     },
     "metadata": {},
     "output_type": "display_data"
    }
   ],
   "source": [
    "range(0,2pi;step=0.1)"
   ]
  },
  {
   "cell_type": "code",
   "execution_count": 417,
   "metadata": {},
   "outputs": [
    {
     "data": {
      "text/plain": [
       "0.0:0.1:6.2"
      ]
     },
     "metadata": {},
     "output_type": "display_data"
    }
   ],
   "source": [
    "0:0.1:6.2"
   ]
  },
  {
   "cell_type": "code",
   "execution_count": 418,
   "metadata": {},
   "outputs": [
    {
     "data": {
      "text/plain": [
       "7:-3:-14"
      ]
     },
     "metadata": {},
     "output_type": "display_data"
    }
   ],
   "source": [
    "itr = 7:-3:-15"
   ]
  },
  {
   "cell_type": "code",
   "execution_count": 419,
   "metadata": {},
   "outputs": [
    {
     "data": {
      "text/plain": [
       "7"
      ]
     },
     "metadata": {},
     "output_type": "display_data"
    }
   ],
   "source": [
    "first(itr)"
   ]
  },
  {
   "cell_type": "code",
   "execution_count": 420,
   "metadata": {},
   "outputs": [
    {
     "data": {
      "text/plain": [
       "-14"
      ]
     },
     "metadata": {},
     "output_type": "display_data"
    }
   ],
   "source": [
    "last(itr)"
   ]
  },
  {
   "cell_type": "code",
   "execution_count": 421,
   "metadata": {},
   "outputs": [
    {
     "data": {
      "text/plain": [
       "8"
      ]
     },
     "metadata": {},
     "output_type": "display_data"
    }
   ],
   "source": [
    "length(itr)"
   ]
  },
  {
   "cell_type": "markdown",
   "metadata": {},
   "source": [
    "## Collections\n",
    "### Elements\n",
    "Julia addresses elements of collections starting with element `1`. With collection `col`, the number of elements in the collection is found by `length(col)`. Element `n` is chosen by notation `col[n]` (assuming `n <= length(col)`). More generally, we can pick out a sequence of elements by `col[v]` where `v` is a vector (1D array) of *integers*; alternatively to a vector `v`, we can use an iterator `itr` of *integers*. We can address the *final* element of the collection by `col[end]`. The first element can also be addressed by `col[begin]`. The advantage of using `col[begin]` over `col[1]` is that there are packages (e.g., `OffsetArrays.jl`) where we can define the array index to start at other values than `1` --- `col[begin]` will still give the first element.\n",
    "### Strings\n",
    "Strings are a sequence of Unicode symbols enclosed in `\"`. Symbol number `n` in string `str` can be chosen by the notation `str[n]`, etc. A single element of a string is a **character**, and *not* a string. **NOTE**: when the string holds non-ASCII characters, indexing may be a little strange -- Unicode characters take up more space than one byte.\n",
    "\n",
    "Strings are immutable, which means that it is not possible to change the value of a symbol in a defined string."
   ]
  },
  {
   "cell_type": "code",
   "execution_count": 422,
   "metadata": {},
   "outputs": [
    {
     "data": {
      "text/plain": [
       "\"Romeo and Juliet\""
      ]
     },
     "metadata": {},
     "output_type": "display_data"
    }
   ],
   "source": [
    "str = \"Romeo and Juliet\""
   ]
  },
  {
   "cell_type": "code",
   "execution_count": 423,
   "metadata": {},
   "outputs": [
    {
     "data": {
      "text/plain": [
       "'R': ASCII/Unicode U+0052 (category Lu: Letter, uppercase)"
      ]
     },
     "metadata": {},
     "output_type": "display_data"
    }
   ],
   "source": [
    "str[1]"
   ]
  },
  {
   "cell_type": "code",
   "execution_count": 424,
   "metadata": {},
   "outputs": [
    {
     "data": {
      "text/plain": [
       "false"
      ]
     },
     "metadata": {},
     "output_type": "display_data"
    }
   ],
   "source": [
    "str[1] == \"R\"   # a single string element is not a string"
   ]
  },
  {
   "cell_type": "code",
   "execution_count": 425,
   "metadata": {},
   "outputs": [
    {
     "data": {
      "text/plain": [
       "true"
      ]
     },
     "metadata": {},
     "output_type": "display_data"
    }
   ],
   "source": [
    "str[1] == 'R'   # the single string element is a character"
   ]
  },
  {
   "cell_type": "code",
   "execution_count": 426,
   "metadata": {},
   "outputs": [
    {
     "data": {
      "text/plain": [
       "true"
      ]
     },
     "metadata": {},
     "output_type": "display_data"
    }
   ],
   "source": [
    "\"ΣaΦ\"[1] == 'Σ' # Σ = `\\Sigma + TAB`; Φ = `\\Phi + TAB`"
   ]
  },
  {
   "cell_type": "code",
   "execution_count": 427,
   "metadata": {},
   "outputs": [
    {
     "data": {
      "text/plain": [
       "true"
      ]
     },
     "metadata": {},
     "output_type": "display_data"
    }
   ],
   "source": [
    "\"ΣaΦ\"[3] == 'a' # Addressing \"ΣaΦ\"[2] gives an error message because \n",
    "                # Unicode characters take up more space than 1 byte"
   ]
  },
  {
   "cell_type": "code",
   "execution_count": 428,
   "metadata": {},
   "outputs": [
    {
     "data": {
      "text/plain": [
       "16"
      ]
     },
     "metadata": {},
     "output_type": "display_data"
    }
   ],
   "source": [
    "length(str)"
   ]
  },
  {
   "cell_type": "code",
   "execution_count": 429,
   "metadata": {},
   "outputs": [
    {
     "data": {
      "text/plain": [
       "('t', 't', 't')"
      ]
     },
     "metadata": {},
     "output_type": "display_data"
    }
   ],
   "source": [
    "str[16], str[length(str)], str[end]"
   ]
  },
  {
   "cell_type": "code",
   "execution_count": 430,
   "metadata": {},
   "outputs": [
    {
     "data": {
      "text/plain": [
       "\"RmoadJle\""
      ]
     },
     "metadata": {},
     "output_type": "display_data"
    }
   ],
   "source": [
    "str[1:2:end]"
   ]
  },
  {
   "cell_type": "code",
   "execution_count": 431,
   "metadata": {},
   "outputs": [
    {
     "data": {
      "text/plain": [
       "\"teiluJ dna oemoR\""
      ]
     },
     "metadata": {},
     "output_type": "display_data"
    }
   ],
   "source": [
    "str[end:-1:1]"
   ]
  },
  {
   "cell_type": "code",
   "execution_count": 432,
   "metadata": {},
   "outputs": [
    {
     "ename": "MethodError",
     "evalue": "MethodError: no method matching setindex!(::String, ::String, ::Int64)",
     "output_type": "error",
     "traceback": [
      "MethodError: no method matching setindex!(::String, ::String, ::Int64)\n",
      "\n",
      "Stacktrace:\n",
      " [1] top-level scope\n",
      "   @ c:\\Users\\Bernt_Lie\\OneDrive\\Documents\\booksBLSOL\\Julia\\Notebooks\\J2_Julia_iterators_collections.ipynb:1"
     ]
    }
   ],
   "source": [
    "str[1] = \"G\"    # This gives an error since strings are immutable, and \n",
    "                # it is not possible to change an element in a defined \n",
    "                # string. `str[1] = 'G'` also fails."
   ]
  },
  {
   "cell_type": "code",
   "execution_count": 433,
   "metadata": {},
   "outputs": [
    {
     "data": {
      "text/plain": [
       "(0, 1, 16)"
      ]
     },
     "metadata": {},
     "output_type": "display_data"
    }
   ],
   "source": [
    "sizeof(\"\"), sizeof(\" \"),sizeof(str)"
   ]
  },
  {
   "cell_type": "markdown",
   "metadata": {},
   "source": [
    "### String functions\n",
    "* `str1 * str2` concatenates the two strings. *Note*: some other programming languages uses `+` for concatenation, but Julia uses `*`.\n",
    "* `str^n` repeats the symbols in `str` a number of `n` times. Alternative syntax: `repeat(str,n)`\n",
    "* `string(x1,...,xn)` creates a string by converting each element `x1,...,xn` to strings and concatenating them.\n",
    "* `println(str)` prints the string (minus the quotation brackets) to the output cell, followed by linefeed. `print(str)` prints the string *without* linefeed.\n",
    "* Interpolation/substitution: symbol `$` is used for inserting the value of an identifier or an expression which is evaluated, into a string. Examples: `$var`, `$(var)`, `$(1+2)`. The use of `$` for interpolation in Julia implies that extra care must be used when describing, e.g., $\\LaTeX$ code in strings.\n",
    "\n",
    "Many more functions exist, e.g., support for inserting layout specification for interpolated numbers."
   ]
  },
  {
   "cell_type": "code",
   "execution_count": 434,
   "metadata": {},
   "outputs": [
    {
     "data": {
      "text/plain": [
       "(\"RomeoandJuliet\", \"Romeo and Juliet\")"
      ]
     },
     "metadata": {},
     "output_type": "display_data"
    }
   ],
   "source": [
    "str1 = \"Romeo\"\n",
    "str2 = \"and\"\n",
    "str3 = \"Juliet\"\n",
    "str1*str2*str3, str1*\" \"*str2*\" \"*str3"
   ]
  },
  {
   "cell_type": "code",
   "execution_count": 435,
   "metadata": {},
   "outputs": [
    {
     "data": {
      "text/plain": [
       "(\"abcabcabc\", \"abcabcabc\")"
      ]
     },
     "metadata": {},
     "output_type": "display_data"
    }
   ],
   "source": [
    "str = \"abc\"\n",
    "str^3, repeat(str,3)"
   ]
  },
  {
   "cell_type": "code",
   "execution_count": 436,
   "metadata": {},
   "outputs": [
    {
     "data": {
      "text/plain": [
       "\"abc1false1200.0π\""
      ]
     },
     "metadata": {},
     "output_type": "display_data"
    }
   ],
   "source": [
    "string(str,1,false,1.2e3,pi)"
   ]
  },
  {
   "cell_type": "code",
   "execution_count": 437,
   "metadata": {},
   "outputs": [
    {
     "name": "stdout",
     "output_type": "stream",
     "text": [
      "abc\n"
     ]
    }
   ],
   "source": [
    "println(str)"
   ]
  },
  {
   "cell_type": "code",
   "execution_count": 438,
   "metadata": {},
   "outputs": [
    {
     "name": "stdout",
     "output_type": "stream",
     "text": [
      "The result is x = 1000.0\n"
     ]
    }
   ],
   "source": [
    "x = 1e3\n",
    "println(\"The result is x = $x\")"
   ]
  },
  {
   "cell_type": "code",
   "execution_count": 439,
   "metadata": {},
   "outputs": [
    {
     "name": "stdout",
     "output_type": "stream",
     "text": [
      "The result is y = 1.01\n"
     ]
    }
   ],
   "source": [
    "println(\"The result is y = $(1+10/x)\")"
   ]
  },
  {
   "cell_type": "markdown",
   "metadata": {},
   "source": [
    "### Converting strings to numbers\n",
    "Sometimes, numbers may be provided as strings, e.g., when reading data from files.\n",
    "* `parse(Type, string; base)` converts a number provided as `string` into a number of `Type`, where the number in the string optionally is taken to be of base set equal to `base`."
   ]
  },
  {
   "cell_type": "code",
   "execution_count": 440,
   "metadata": {},
   "outputs": [
    {
     "data": {
      "text/plain": [
       "125"
      ]
     },
     "metadata": {},
     "output_type": "display_data"
    }
   ],
   "source": [
    "parse(Int,\"125\")"
   ]
  },
  {
   "cell_type": "code",
   "execution_count": 441,
   "metadata": {},
   "outputs": [
    {
     "data": {
      "text/plain": [
       "53"
      ]
     },
     "metadata": {},
     "output_type": "display_data"
    }
   ],
   "source": [
    "parse(Int,\"125\";base=6)"
   ]
  },
  {
   "cell_type": "code",
   "execution_count": 442,
   "metadata": {},
   "outputs": [
    {
     "data": {
      "text/plain": [
       "2803"
      ]
     },
     "metadata": {},
     "output_type": "display_data"
    }
   ],
   "source": [
    "parse(Int,\"af3\";base=16)"
   ]
  },
  {
   "cell_type": "code",
   "execution_count": 443,
   "metadata": {},
   "outputs": [
    {
     "data": {
      "text/plain": [
       "125.0"
      ]
     },
     "metadata": {},
     "output_type": "display_data"
    }
   ],
   "source": [
    "parse(Float64,\"125\")"
   ]
  },
  {
   "cell_type": "code",
   "execution_count": 444,
   "metadata": {},
   "outputs": [
    {
     "data": {
      "text/plain": [
       "1000.0"
      ]
     },
     "metadata": {},
     "output_type": "display_data"
    }
   ],
   "source": [
    "parse(Float64,\"1e3\")"
   ]
  },
  {
   "cell_type": "code",
   "execution_count": 445,
   "metadata": {},
   "outputs": [
    {
     "data": {
      "text/plain": [
       "1000.0f0"
      ]
     },
     "metadata": {},
     "output_type": "display_data"
    }
   ],
   "source": [
    "parse(Float32,\"1e3\")"
   ]
  },
  {
   "cell_type": "markdown",
   "metadata": {},
   "source": [
    "### Specialized strings\n",
    "A number of specialized strings exist, which are denoted by an identifier *prepending* the string. Examples are *raw strings*, which are denoted by `raw\"...\"` where `...` is some string, e.g., `raw\"Raw string content \\$\"`, *regular expression strings*  denoted by `r\"...\"`, *color specification strings* using Julia package `Colors.jl` denoted by `colorant\"...\"`, $\\LaTeX$ *code strings* using Julia package `LaTeXStrings.jl` denoted by `L\"...\"`, etc. We will meet some of these specialized strings later in this introduction."
   ]
  },
  {
   "cell_type": "markdown",
   "metadata": {},
   "source": [
    "### Symbols\n",
    "Symbols are created by instantiator `Symbol(str)`, where `str` is a string that contains the description of the symbol.\n",
    "\n",
    "If the content of the string is a valid Julia identifier `identifier`, the symbol is *presented* as a so-called \"unevaluated\" identifier; `Symbol(\"identifier\")` leads to `:identifier`."
   ]
  },
  {
   "cell_type": "code",
   "execution_count": 446,
   "metadata": {},
   "outputs": [
    {
     "data": {
      "text/plain": [
       "Symbol(\"mass [kg]\")"
      ]
     },
     "metadata": {},
     "output_type": "display_data"
    }
   ],
   "source": [
    "Symbol(\"mass [kg]\")"
   ]
  },
  {
   "cell_type": "code",
   "execution_count": 447,
   "metadata": {},
   "outputs": [
    {
     "data": {
      "text/plain": [
       ":red"
      ]
     },
     "metadata": {},
     "output_type": "display_data"
    }
   ],
   "source": [
    "Symbol(\"red\")"
   ]
  },
  {
   "cell_type": "markdown",
   "metadata": {},
   "source": [
    "### Unevaluated expressions\n",
    "* **Definition**: `:(expression)` creates an unevaluated version of a valid Julia `expression`. For the specific case that `expression` is a valid Julia identifier, the unevaluated identifier is the same as the *symbol* of the identifier; see Symbols\n",
    "* **Evaluation** `eval(expr)` where `expr` is an expression. \n",
    "\n",
    "Operations on unevaluated Julia expressions is of key importance in *macros* and other transformations of Julia code."
   ]
  },
  {
   "cell_type": "code",
   "execution_count": 448,
   "metadata": {},
   "outputs": [
    {
     "data": {
      "text/plain": [
       ":red"
      ]
     },
     "metadata": {},
     "output_type": "display_data"
    }
   ],
   "source": [
    ":red"
   ]
  },
  {
   "cell_type": "code",
   "execution_count": 449,
   "metadata": {},
   "outputs": [
    {
     "data": {
      "text/plain": [
       "3"
      ]
     },
     "metadata": {},
     "output_type": "display_data"
    }
   ],
   "source": [
    "x=3"
   ]
  },
  {
   "cell_type": "code",
   "execution_count": 450,
   "metadata": {},
   "outputs": [
    {
     "data": {
      "text/plain": [
       "(:x, 3)"
      ]
     },
     "metadata": {},
     "output_type": "display_data"
    }
   ],
   "source": [
    ":x, eval(:x)"
   ]
  },
  {
   "cell_type": "code",
   "execution_count": 451,
   "metadata": {},
   "outputs": [
    {
     "data": {
      "text/plain": [
       ":(x + 3 ^ 2)"
      ]
     },
     "metadata": {},
     "output_type": "display_data"
    }
   ],
   "source": [
    "y = :(x+3^2)"
   ]
  },
  {
   "cell_type": "code",
   "execution_count": 452,
   "metadata": {},
   "outputs": [
    {
     "data": {
      "text/plain": [
       "12"
      ]
     },
     "metadata": {},
     "output_type": "display_data"
    }
   ],
   "source": [
    "eval(y)"
   ]
  },
  {
   "cell_type": "markdown",
   "metadata": {},
   "source": [
    "### Tuples\n",
    "A tuple is a data structure closely related to function arguments and return values from functions. A tuple is a fixed-length container that can hold any values, but cannot be modified (it is *immutable*). Tuples are constructed with commas and parentheses, and can be accessed via indexing using `itr` or lists of integers.\n",
    "\n",
    "Length one tuples (singletons) must be written with a comma at the end."
   ]
  },
  {
   "cell_type": "code",
   "execution_count": 453,
   "metadata": {},
   "outputs": [
    {
     "data": {
      "text/plain": [
       "(1, 2)"
      ]
     },
     "metadata": {},
     "output_type": "display_data"
    }
   ],
   "source": [
    "1,2    # This returns a tuple even though there is no parenthesis around it"
   ]
  },
  {
   "cell_type": "code",
   "execution_count": 454,
   "metadata": {},
   "outputs": [
    {
     "data": {
      "text/plain": [
       "(1,)"
      ]
     },
     "metadata": {},
     "output_type": "display_data"
    }
   ],
   "source": [
    "(1,)        # This returns a tuple  -- singletons *must* use parenthesis, \n",
    "            # i.e., `1,` does not work"
   ]
  },
  {
   "cell_type": "code",
   "execution_count": 455,
   "metadata": {},
   "outputs": [
    {
     "data": {
      "text/plain": [
       "(1, 2, 3)"
      ]
     },
     "metadata": {},
     "output_type": "display_data"
    }
   ],
   "source": [
    "t1 = (1,2,3)"
   ]
  },
  {
   "cell_type": "code",
   "execution_count": 456,
   "metadata": {},
   "outputs": [
    {
     "data": {
      "text/plain": [
       "(24, 3)"
      ]
     },
     "metadata": {},
     "output_type": "display_data"
    }
   ],
   "source": [
    "sizeof(t1), length(t1)"
   ]
  },
  {
   "cell_type": "code",
   "execution_count": 457,
   "metadata": {},
   "outputs": [
    {
     "data": {
      "text/plain": [
       "(1, 2)"
      ]
     },
     "metadata": {},
     "output_type": "display_data"
    }
   ],
   "source": [
    "t1[1:2]"
   ]
  },
  {
   "cell_type": "code",
   "execution_count": 602,
   "metadata": {},
   "outputs": [
    {
     "ename": "MethodError",
     "evalue": "MethodError: no method matching setindex!(::Tuple{Int64, Int64, Int64}, ::Int64, ::Int64)",
     "output_type": "error",
     "traceback": [
      "MethodError: no method matching setindex!(::Tuple{Int64, Int64, Int64}, ::Int64, ::Int64)\n",
      "\n",
      "Stacktrace:\n",
      " [1] top-level scope\n",
      "   @ c:\\Users\\Bernt_Lie\\OneDrive\\Documents\\booksBLSOL\\Julia\\Notebooks\\J2_Julia_iterators_collections.ipynb:1"
     ]
    }
   ],
   "source": [
    "t1[3] = 4    # Doesn't work because tuples are immutable"
   ]
  },
  {
   "cell_type": "code",
   "execution_count": 603,
   "metadata": {},
   "outputs": [
    {
     "data": {
      "text/plain": [
       "((2, 3), (:red, :green, :blue))"
      ]
     },
     "metadata": {},
     "output_type": "display_data"
    }
   ],
   "source": [
    "t2 = ((2,3),(:red,:green,:blue))"
   ]
  },
  {
   "cell_type": "code",
   "execution_count": 616,
   "metadata": {},
   "outputs": [
    {
     "data": {
      "text/plain": [
       "(24, 3)"
      ]
     },
     "metadata": {},
     "output_type": "display_data"
    }
   ],
   "source": [
    "sizeof(t2), length(t2)"
   ]
  },
  {
   "cell_type": "markdown",
   "metadata": {},
   "source": [
    "### Named tuples\n",
    "Tuple elements can optionally be named so they can be addressed using the name instead of the position."
   ]
  },
  {
   "cell_type": "code",
   "execution_count": 617,
   "metadata": {},
   "outputs": [
    {
     "data": {
      "text/plain": [
       "(p = 1, v = 0.2, T = 273)"
      ]
     },
     "metadata": {},
     "output_type": "display_data"
    }
   ],
   "source": [
    "t3 = (p = 1, v = 0.2, T = 273)  # E.g., `p` is pressure, `v` is molar volume, \n",
    "                                # `T` is absolute temperature"
   ]
  },
  {
   "cell_type": "code",
   "execution_count": 618,
   "metadata": {},
   "outputs": [
    {
     "data": {
      "text/plain": [
       "true"
      ]
     },
     "metadata": {},
     "output_type": "display_data"
    }
   ],
   "source": [
    "t3.T == t3[3]"
   ]
  },
  {
   "cell_type": "code",
   "execution_count": 619,
   "metadata": {},
   "outputs": [
    {
     "data": {
      "text/plain": [
       "(pos = (2, 3), col = (:red, :green, :blue))"
      ]
     },
     "metadata": {},
     "output_type": "display_data"
    }
   ],
   "source": [
    "t4 = (pos = (2,3), col = (:red,:green,:blue))"
   ]
  },
  {
   "cell_type": "code",
   "execution_count": 620,
   "metadata": {},
   "outputs": [
    {
     "data": {
      "text/plain": [
       "((2, 3), (2, 3))"
      ]
     },
     "metadata": {},
     "output_type": "display_data"
    }
   ],
   "source": [
    "t4[1], t4.pos"
   ]
  },
  {
   "cell_type": "code",
   "execution_count": 621,
   "metadata": {},
   "outputs": [
    {
     "data": {
      "text/plain": [
       "((:red, :green, :blue), (:red, :green, :blue))"
      ]
     },
     "metadata": {},
     "output_type": "display_data"
    }
   ],
   "source": [
    "t4[2],t4.col"
   ]
  },
  {
   "cell_type": "markdown",
   "metadata": {},
   "source": [
    "### Arrays\n",
    "An array can be $n$-dimensional.\n",
    "\n",
    "A one-dimensional array, also known as a *vector*, or a list, consist of a sequence of elements within square brackets, `[element1, element 2, ..., elementn]`. The elements can be of any type, but will given a common type which is the smallest common denominator in the type hierarchy. The most general type is `Any`.\n",
    "\n",
    "For higher order arrays, the elements must be of the same type. A two-dimensional array, also known as a *matrix*, consists of row elements separated by *space*, and rows separated by semicolon or linefeed. If the matrix elements are of different type, but are subtypes of the same supertype, they will be converted to a common type."
   ]
  },
  {
   "cell_type": "code",
   "execution_count": 464,
   "metadata": {},
   "outputs": [
    {
     "data": {
      "text/plain": [
       "3-element Vector{Any}:\n",
       "    1\n",
       " 1200.0\n",
       "     \"Romeo and Juliet\""
      ]
     },
     "metadata": {},
     "output_type": "display_data"
    }
   ],
   "source": [
    "vec = [1, 1.2e3,\"Romeo and Juliet\"]"
   ]
  },
  {
   "cell_type": "code",
   "execution_count": 622,
   "metadata": {},
   "outputs": [
    {
     "data": {
      "text/plain": [
       "2×2 Matrix{Float64}:\n",
       " 1.0  2000.0\n",
       " 2.0     5.0"
      ]
     },
     "metadata": {},
     "output_type": "display_data"
    }
   ],
   "source": [
    "mat = [1 2e3;2 5]    # all elements are subtypes of `Number`, but they \n",
    "                     # are upgraded to `Float64`"
   ]
  },
  {
   "cell_type": "code",
   "execution_count": 623,
   "metadata": {},
   "outputs": [
    {
     "data": {
      "text/plain": [
       "2×2 Matrix{Float64}:\n",
       " 1.0  2000.0\n",
       " 2.0     5.0"
      ]
     },
     "metadata": {},
     "output_type": "display_data"
    }
   ],
   "source": [
    "mat = [1 2e3\n",
    "2 5]"
   ]
  },
  {
   "cell_type": "code",
   "execution_count": 624,
   "metadata": {},
   "outputs": [
    {
     "data": {
      "text/plain": [
       "2×2 Matrix{Complex{Int64}}:\n",
       " 1+0im   3+0im\n",
       " 2+3im  -1+0im"
      ]
     },
     "metadata": {},
     "output_type": "display_data"
    }
   ],
   "source": [
    "mat = [1 3; 2+3im -1]    # Here, all elements are upgraded to complex numbers\n",
    "                         # with `Int64` elements"
   ]
  },
  {
   "cell_type": "code",
   "execution_count": 625,
   "metadata": {},
   "outputs": [
    {
     "data": {
      "text/plain": [
       "2×2 Matrix{ComplexF64}:\n",
       " 1.0+0.0im  3.14159+0.0im\n",
       " 2.0+3.0im     -1.0+0.0im"
      ]
     },
     "metadata": {},
     "output_type": "display_data"
    }
   ],
   "source": [
    "mat = [1 pi; 2+3im -1]    # Here, all elements are upgraded to complex numbers\n",
    "                          # with `Float64` elements"
   ]
  },
  {
   "cell_type": "markdown",
   "metadata": {},
   "source": [
    "### Array creation\n",
    "A number of functions exist for creating arrays\n",
    "* **Array constructor** `Array{T}(undef,dims)` where `T` is the chosen *data type*, `undef` specifies the elements values, and `dims` is a tuple of sizes in each dimentions, or `dims` can be a comma separated sequence of sizes. When the array content is specified as `undef`, the array is populated with the current value in the relevant memory cells.\n",
    "* **Alternative fill elements** Alternatively, the fill elements can be value `nothing` which is of datatype `Nothing`, or value `missing` which is of datatype `Missing` - provided that the datatype `T` supports these values. Simple datatypes do *not* support `nothing` or `missing` To get around this, we may create a *union* data type using syntax `Union{T1,T2}`, e.g., `Union{Int64,Missing}`.\n",
    "* **Vector constructor** `Vector{T}(undef,dim)` where `dim` is a non-negative integer is simply an alias for `Array{T}(undef,dim)`. Alternative filling elements instead of `undef` can be used, just as for the `Array` constructor.\n",
    "* **Matrix onstructor** `Matrix{T}(undef,dim1,dim2)` where `dim1` and `dim2` are non-negative ingers is an alias for `Array{T}(undef,dim1,dim2)`\n",
    "\n",
    "The reason why the datatype must be specified as above, is that when we creat arrays from scratch, Julia can not infer what datatype we have in mind.\n",
    "\n",
    "Some other constructors include information about the fill elements, and then we do not need to specify the type.\n",
    "\n",
    "* **Zero array** `zeros([T=Float64,] dims)` results in an array of zero elements. The default datatype is `Float64`; specifying the datatype is optional, while the dimensions are given by either a tuple of integers or a sequence of comma separated integers.\n",
    "\n",
    "* **Unit array** `ones([T=Float64,] dims)` results in an array of unit elements. The default datatype is `Float64`; specifying the datatype is optional, while the dimensions are given by either a tuple of integers or a sequence of comma separated integers.\n",
    "\n",
    "* **False array** `falses(dims)` results in an array of false elements. The dimensions are given by either a tuple of integers or a sequence of comma separated integers. \n",
    "\n",
    "* **True array** `trues(dims)` results in an array of true elements. The dimensions are given by either a tuple of integers or a sequence of comma separated integers. \n",
    "\n",
    "* **Fill array** `fill(x,dims)` results in an array of elements with value `x`. The dimensions are given by either a tuple of integers or a sequence of comma separated integers. *Alternatively*, if we already have an array `A`, then `fill!(A,x)` inserts value `x` into the elements. *Note*: for `fill!(A,x)` it is required that the datatype of `x` is the same as that of `A`, or that it can be converted to the datatype of `A` without loss of accuracy -- e.g., if the datatype of `A` is an integer, and `x` is a floating point number, this works if the value of `x` is an integral number.\n",
    "\n",
    "* **Convert iterator or collection to array** `collect(col)` where `col` is an iterator or collection.\n",
    "\n",
    "* **Random array** `rand([C,] dims)` creates an array of dimensions `dims` (tuple, or comma separated list of sizes) with random elements. Without specifying optional `C`, elements are random numbers from a uniform distribution on $[0,1)$. With given collection or iterator `C`, the elements are taken randomly from `C`. `randn(dims)` fills the elements with random numbers from a standard normal distribution $\\cal{N}(0,1)$.\n"
   ]
  },
  {
   "cell_type": "code",
   "execution_count": 469,
   "metadata": {},
   "outputs": [
    {
     "data": {
      "text/plain": [
       "2×3 Matrix{Int64}:\n",
       " 47244640260  64424509446  8589934608\n",
       " 60129542156   8589934594  4294967298"
      ]
     },
     "metadata": {},
     "output_type": "display_data"
    }
   ],
   "source": [
    "Array{Int64}(undef,2,3)"
   ]
  },
  {
   "cell_type": "code",
   "execution_count": 470,
   "metadata": {},
   "outputs": [
    {
     "data": {
      "text/plain": [
       "2×3 Matrix{Union{Nothing, Int64}}:\n",
       " nothing  nothing  nothing\n",
       " nothing  nothing  nothing"
      ]
     },
     "metadata": {},
     "output_type": "display_data"
    }
   ],
   "source": [
    "Array{Union{Int64,Nothing}}(nothing,2,3)"
   ]
  },
  {
   "cell_type": "code",
   "execution_count": 471,
   "metadata": {},
   "outputs": [
    {
     "data": {
      "text/plain": [
       "2-element Vector{Int64}:\n",
       " 2413965848032\n",
       " 2413965169120"
      ]
     },
     "metadata": {},
     "output_type": "display_data"
    }
   ],
   "source": [
    "Vector{Int64}(undef,2)"
   ]
  },
  {
   "cell_type": "code",
   "execution_count": 472,
   "metadata": {},
   "outputs": [
    {
     "data": {
      "text/plain": [
       "2-element Vector{Float64}:\n",
       " 0.0\n",
       " 0.0"
      ]
     },
     "metadata": {},
     "output_type": "display_data"
    }
   ],
   "source": [
    "zeros(2)"
   ]
  },
  {
   "cell_type": "code",
   "execution_count": 473,
   "metadata": {},
   "outputs": [
    {
     "data": {
      "text/plain": [
       "2-element Vector{Int16}:\n",
       " 0\n",
       " 0"
      ]
     },
     "metadata": {},
     "output_type": "display_data"
    }
   ],
   "source": [
    "zeros(Int16,2)"
   ]
  },
  {
   "cell_type": "code",
   "execution_count": 474,
   "metadata": {},
   "outputs": [
    {
     "data": {
      "text/plain": [
       "2×3 Matrix{Int16}:\n",
       " 1  1  1\n",
       " 1  1  1"
      ]
     },
     "metadata": {},
     "output_type": "display_data"
    }
   ],
   "source": [
    "ones(Int16,2,3)"
   ]
  },
  {
   "cell_type": "code",
   "execution_count": 475,
   "metadata": {},
   "outputs": [
    {
     "data": {
      "text/plain": [
       "2×3 BitMatrix:\n",
       " 0  0  0\n",
       " 0  0  0"
      ]
     },
     "metadata": {},
     "output_type": "display_data"
    }
   ],
   "source": [
    "falses(2,3)"
   ]
  },
  {
   "cell_type": "code",
   "execution_count": 476,
   "metadata": {},
   "outputs": [
    {
     "data": {
      "text/plain": [
       "2×3 BitMatrix:\n",
       " 1  1  1\n",
       " 1  1  1"
      ]
     },
     "metadata": {},
     "output_type": "display_data"
    }
   ],
   "source": [
    "mat = trues(2,3)"
   ]
  },
  {
   "cell_type": "code",
   "execution_count": 477,
   "metadata": {},
   "outputs": [
    {
     "data": {
      "text/plain": [
       "8"
      ]
     },
     "metadata": {},
     "output_type": "display_data"
    }
   ],
   "source": [
    "sizeof(mat)"
   ]
  },
  {
   "cell_type": "code",
   "execution_count": 478,
   "metadata": {},
   "outputs": [
    {
     "data": {
      "text/plain": [
       "2×3 Matrix{Int64}:\n",
       " 2  2  2\n",
       " 2  2  2"
      ]
     },
     "metadata": {},
     "output_type": "display_data"
    }
   ],
   "source": [
    "fill(2,2,3)"
   ]
  },
  {
   "cell_type": "code",
   "execution_count": 479,
   "metadata": {},
   "outputs": [
    {
     "data": {
      "text/plain": [
       "2×3 Matrix{Int16}:\n",
       " 1  1  1\n",
       " 1  1  1"
      ]
     },
     "metadata": {},
     "output_type": "display_data"
    }
   ],
   "source": [
    "fill(Int16(1),2,3)"
   ]
  },
  {
   "cell_type": "code",
   "execution_count": 480,
   "metadata": {},
   "outputs": [
    {
     "data": {
      "text/plain": [
       "2×3 Matrix{Bool}:\n",
       " 1  1  1\n",
       " 1  1  1"
      ]
     },
     "metadata": {},
     "output_type": "display_data"
    }
   ],
   "source": [
    "mat = fill(true,2,3)    # Observe that this results in a Matrix of Bool elements"
   ]
  },
  {
   "cell_type": "code",
   "execution_count": 481,
   "metadata": {},
   "outputs": [
    {
     "data": {
      "text/plain": [
       "6"
      ]
     },
     "metadata": {},
     "output_type": "display_data"
    }
   ],
   "source": [
    "sizeof(mat)"
   ]
  },
  {
   "cell_type": "code",
   "execution_count": 482,
   "metadata": {},
   "outputs": [
    {
     "data": {
      "text/plain": [
       "2×3 Matrix{Int16}:\n",
       " 0  0   11231\n",
       " 0  0  -23430"
      ]
     },
     "metadata": {},
     "output_type": "display_data"
    }
   ],
   "source": [
    "mat = Matrix{Int16}(undef,2,3)"
   ]
  },
  {
   "cell_type": "code",
   "execution_count": 483,
   "metadata": {},
   "outputs": [
    {
     "data": {
      "text/plain": [
       "2×3 Matrix{Int16}:\n",
       " 3  3  3\n",
       " 3  3  3"
      ]
     },
     "metadata": {},
     "output_type": "display_data"
    }
   ],
   "source": [
    "fill!(mat,3)"
   ]
  },
  {
   "cell_type": "code",
   "execution_count": 484,
   "metadata": {},
   "outputs": [
    {
     "data": {
      "text/plain": [
       "3-element Vector{Int64}:\n",
       " 1\n",
       " 2\n",
       " 3"
      ]
     },
     "metadata": {},
     "output_type": "display_data"
    }
   ],
   "source": [
    "collect(1:3)"
   ]
  },
  {
   "cell_type": "code",
   "execution_count": 485,
   "metadata": {},
   "outputs": [
    {
     "data": {
      "text/plain": [
       "3-element Vector{Int64}:\n",
       " 1\n",
       " 2\n",
       " 3"
      ]
     },
     "metadata": {},
     "output_type": "display_data"
    }
   ],
   "source": [
    "collect((1,2,3))"
   ]
  },
  {
   "cell_type": "code",
   "execution_count": 486,
   "metadata": {},
   "outputs": [
    {
     "data": {
      "text/plain": [
       "2×3 Matrix{Float64}:\n",
       " 0.668002  0.365705  0.689729\n",
       " 0.78678   0.895477  0.0438605"
      ]
     },
     "metadata": {},
     "output_type": "display_data"
    }
   ],
   "source": [
    "rand(2,3)"
   ]
  },
  {
   "cell_type": "code",
   "execution_count": 487,
   "metadata": {},
   "outputs": [
    {
     "data": {
      "text/plain": [
       "2×3 Matrix{Int64}:\n",
       " 2  2  0\n",
       " 0  4  2"
      ]
     },
     "metadata": {},
     "output_type": "display_data"
    }
   ],
   "source": [
    "rand(0:2:5,2,3)"
   ]
  },
  {
   "cell_type": "code",
   "execution_count": 488,
   "metadata": {},
   "outputs": [
    {
     "data": {
      "text/plain": [
       "2×3 Matrix{Symbol}:\n",
       " :red    :red    :blue\n",
       " :green  :green  :red"
      ]
     },
     "metadata": {},
     "output_type": "display_data"
    }
   ],
   "source": [
    "rand([:red,:green,:blue],2,3)"
   ]
  },
  {
   "cell_type": "code",
   "execution_count": 489,
   "metadata": {},
   "outputs": [
    {
     "data": {
      "text/plain": [
       "2×3 Matrix{Float64}:\n",
       " -0.84402   -1.13796   -1.64579\n",
       " -0.783681   0.982361  -0.0699268"
      ]
     },
     "metadata": {},
     "output_type": "display_data"
    }
   ],
   "source": [
    "randn(2,3)"
   ]
  },
  {
   "cell_type": "markdown",
   "metadata": {},
   "source": [
    "### Array size and indexing\n",
    "...ndims(), size(), indices, cartesian indices, etc.\n",
    "* **Array dimension** `ndims(array)` gives the number of dimensions of `array`.\n",
    "* **Array size** `size(array)` returns a tuple of the sizes in each dimension. `size(array,dim)` gives the size in dimension `dim`.\n",
    "* **Array length** `length(array)` returns the product of the elements of the tuple `size(array)`.\n",
    "* **Cartesian indexing** `array[n1,..,nend]` (`nend` is the same as `ndims(array)`) picks out element `(n1,...,nend)`.\n",
    "* **Linear indexing** `array[n]` utilizes that Julia uses column-major ordering, i.e., in a matrix, the elements are stored in memory with the first column first, followed by the second column, etc. `array[n]` then picks out its element according to this column-major ordering.\n",
    "* **Cartesian to linear indexing** `i = CartesianIndex(j,k,...)` gives a single the linear index `i` for cartesian indices `j,k,...`; `I = CartesianIndices(A)` provides an *array* of the same shape as `A` containing its cartesian indices. \n",
    "* **Subarray** `array[idx1,...,idxend]` where `idx1,...,idxend` each are iterators or vectors, picks out the relevant subarray. For indices, `:` implies all elements in the particular dimension. \n",
    "* **Conversion to vector** `array[:]` converts the array to a vector, using Julia's default column-major ordering.\n",
    "* **Reshaping arrays** `reshape(array,dims)` converts `array` to a vector, and builds it up column-major wise to a new array of dimensions given by `dims` (tuple, or comma-separated list of integers). It is required that `length(array)` equals the product of elemens in `dims`.\n",
    "* **Permute dimensions** `permutedims(array,perm)` permutes the dimensions of `array`, where `perm` is a vector of length `ndims(array)`. If `array` is a matrix, the simplified notation `permutedims(array)` swaps the rows and columns, i.e., just like transposition of a matrix. If `array` is a vector, `permutedims(array)` creates a row matrix."
   ]
  },
  {
   "cell_type": "code",
   "execution_count": 490,
   "metadata": {},
   "outputs": [
    {
     "data": {
      "text/plain": [
       "2×3 Matrix{Int16}:\n",
       "   9184  32760  0\n",
       " -32694      0  0"
      ]
     },
     "metadata": {},
     "output_type": "display_data"
    }
   ],
   "source": [
    "A = Matrix{Int16}(undef,2,3)"
   ]
  },
  {
   "cell_type": "code",
   "execution_count": 491,
   "metadata": {},
   "outputs": [
    {
     "data": {
      "text/plain": [
       "2"
      ]
     },
     "metadata": {},
     "output_type": "display_data"
    }
   ],
   "source": [
    "ndims(A)"
   ]
  },
  {
   "cell_type": "code",
   "execution_count": 492,
   "metadata": {},
   "outputs": [
    {
     "data": {
      "text/plain": [
       "((2, 3), 3)"
      ]
     },
     "metadata": {},
     "output_type": "display_data"
    }
   ],
   "source": [
    "size(A), size(A,2)"
   ]
  },
  {
   "cell_type": "code",
   "execution_count": 493,
   "metadata": {},
   "outputs": [
    {
     "data": {
      "text/plain": [
       "(6, 12)"
      ]
     },
     "metadata": {},
     "output_type": "display_data"
    }
   ],
   "source": [
    "length(A), sizeof(A)    #"
   ]
  },
  {
   "cell_type": "code",
   "execution_count": 494,
   "metadata": {},
   "outputs": [
    {
     "data": {
      "text/plain": [
       "3×4 Matrix{Int64}:\n",
       " 5  5  2  9\n",
       " 6  5  7  4\n",
       " 7  5  8  2"
      ]
     },
     "metadata": {},
     "output_type": "display_data"
    }
   ],
   "source": [
    "mat = rand(0:9,3,4)"
   ]
  },
  {
   "cell_type": "code",
   "execution_count": 495,
   "metadata": {},
   "outputs": [
    {
     "data": {
      "text/plain": [
       "7"
      ]
     },
     "metadata": {},
     "output_type": "display_data"
    }
   ],
   "source": [
    "mat[2,3]"
   ]
  },
  {
   "cell_type": "code",
   "execution_count": 496,
   "metadata": {},
   "outputs": [
    {
     "data": {
      "text/plain": [
       "7"
      ]
     },
     "metadata": {},
     "output_type": "display_data"
    }
   ],
   "source": [
    "mat[8]"
   ]
  },
  {
   "cell_type": "code",
   "execution_count": 497,
   "metadata": {},
   "outputs": [
    {
     "data": {
      "text/plain": [
       "CartesianIndex(2, 3)"
      ]
     },
     "metadata": {},
     "output_type": "display_data"
    }
   ],
   "source": [
    "i_m = CartesianIndex(2,3)"
   ]
  },
  {
   "cell_type": "code",
   "execution_count": 498,
   "metadata": {},
   "outputs": [
    {
     "data": {
      "text/plain": [
       "7"
      ]
     },
     "metadata": {},
     "output_type": "display_data"
    }
   ],
   "source": [
    "mat[i_m]"
   ]
  },
  {
   "cell_type": "code",
   "execution_count": 499,
   "metadata": {},
   "outputs": [
    {
     "data": {
      "text/plain": [
       "CartesianIndices((3, 4))"
      ]
     },
     "metadata": {},
     "output_type": "display_data"
    }
   ],
   "source": [
    "I_m = CartesianIndices(mat)"
   ]
  },
  {
   "cell_type": "code",
   "execution_count": 500,
   "metadata": {},
   "outputs": [
    {
     "data": {
      "text/plain": [
       "3×4 Matrix{Int64}:\n",
       " 5  5  2  9\n",
       " 6  5  7  4\n",
       " 7  5  8  2"
      ]
     },
     "metadata": {},
     "output_type": "display_data"
    }
   ],
   "source": [
    "mat"
   ]
  },
  {
   "cell_type": "code",
   "execution_count": 501,
   "metadata": {},
   "outputs": [
    {
     "data": {
      "text/plain": [
       "2×2 Matrix{Int64}:\n",
       " 5  5\n",
       " 6  5"
      ]
     },
     "metadata": {},
     "output_type": "display_data"
    }
   ],
   "source": [
    "mat[1:2,1:2]"
   ]
  },
  {
   "cell_type": "code",
   "execution_count": 502,
   "metadata": {},
   "outputs": [
    {
     "data": {
      "text/plain": [
       "2×2 Matrix{Int64}:\n",
       " 5  5\n",
       " 5  6"
      ]
     },
     "metadata": {},
     "output_type": "display_data"
    }
   ],
   "source": [
    "mat[1:2,2:-1:1]"
   ]
  },
  {
   "cell_type": "code",
   "execution_count": 503,
   "metadata": {},
   "outputs": [
    {
     "data": {
      "text/plain": [
       "2×3 Matrix{Int64}:\n",
       " 5  9  5\n",
       " 5  2  7"
      ]
     },
     "metadata": {},
     "output_type": "display_data"
    }
   ],
   "source": [
    "mat[[1,3],[2,4,1]]"
   ]
  },
  {
   "cell_type": "code",
   "execution_count": 504,
   "metadata": {},
   "outputs": [
    {
     "data": {
      "text/plain": [
       "2×4 Matrix{Int64}:\n",
       " 6  5  7  4\n",
       " 7  5  8  2"
      ]
     },
     "metadata": {},
     "output_type": "display_data"
    }
   ],
   "source": [
    "mat[2:3,:]"
   ]
  },
  {
   "cell_type": "code",
   "execution_count": 505,
   "metadata": {},
   "outputs": [
    {
     "data": {
      "text/plain": [
       "8-element Vector{Int64}:\n",
       " 6\n",
       " 7\n",
       " 5\n",
       " 5\n",
       " 7\n",
       " 8\n",
       " 4\n",
       " 2"
      ]
     },
     "metadata": {},
     "output_type": "display_data"
    }
   ],
   "source": [
    "mat[2:3,:][:]"
   ]
  },
  {
   "cell_type": "code",
   "execution_count": 506,
   "metadata": {},
   "outputs": [
    {
     "data": {
      "text/plain": [
       "12"
      ]
     },
     "metadata": {},
     "output_type": "display_data"
    }
   ],
   "source": [
    "length(mat)"
   ]
  },
  {
   "cell_type": "code",
   "execution_count": 507,
   "metadata": {},
   "outputs": [
    {
     "data": {
      "text/plain": [
       "2×6 Matrix{Int64}:\n",
       " 5  7  5  2  8  4\n",
       " 6  5  5  7  9  2"
      ]
     },
     "metadata": {},
     "output_type": "display_data"
    }
   ],
   "source": [
    "reshape(mat,2,6)"
   ]
  },
  {
   "cell_type": "code",
   "execution_count": 508,
   "metadata": {},
   "outputs": [
    {
     "data": {
      "text/plain": [
       "3×4 Matrix{Int64}:\n",
       " 5  5  2  9\n",
       " 6  5  7  4\n",
       " 7  5  8  2"
      ]
     },
     "metadata": {},
     "output_type": "display_data"
    }
   ],
   "source": [
    "mat"
   ]
  },
  {
   "cell_type": "code",
   "execution_count": 509,
   "metadata": {},
   "outputs": [
    {
     "data": {
      "text/plain": [
       "4×3 Matrix{Int64}:\n",
       " 5  6  7\n",
       " 5  5  5\n",
       " 2  7  8\n",
       " 9  4  2"
      ]
     },
     "metadata": {},
     "output_type": "display_data"
    }
   ],
   "source": [
    "permutedims(mat)"
   ]
  },
  {
   "cell_type": "code",
   "execution_count": 510,
   "metadata": {},
   "outputs": [
    {
     "data": {
      "text/plain": [
       "1×3 Matrix{Int64}:\n",
       " 1  2  3"
      ]
     },
     "metadata": {},
     "output_type": "display_data"
    }
   ],
   "source": [
    "permutedims([1,2,3])"
   ]
  },
  {
   "cell_type": "markdown",
   "metadata": {},
   "source": [
    "### Array operations\n",
    "The standard scalar operators (`+`) and subtraction (`-`) works on arrays provided the arrays have identical size and shape; in that case, the operations work element-wise. Array operations multiplication (`*`), division (`/`), power (`^`) do not work in general.\n",
    "\n",
    "A general design of Julia is that *functions* of scalar argument(s) are mapped to each element by a so-called \"dot notation\". Thus, if `f()` is a function on a scalar argument, then `f.(array)` maps that operation on every element in the array. For functions with more than one argument, special *broadcasting* operations may be needed if the two arguments have different size/shape. As an example: if we want to add a scalar `1` to an *array*, the language must know what is meant. Typically, before elementwise addition, the scalar `1` is augmented to an array of unit elements of the same size as the array argument. This procedure of adjusting arguments to compatible types in a logical way is what is meant by broadcasting.\n",
    "\n",
    "Note that for infix operators, the `.` notation comes in *front* of the operator, while for functions in general, the `.` notation comes *after* the function name.\n",
    "\n",
    "To this end: Julia provides element-by-element standard operations (with possibly broadcasting) for:\n",
    "* **Addition**: `A .+ B`\n",
    "* **Subtraction**: `A .- B`\n",
    "* **Multiplication**: `A .* B`\n",
    "* **Division**: `A ./ B`, `A .\\ B`\n",
    "* **Power**: `A .^ B`\n",
    "* **Assignment**: `A .= B`\n",
    "\n",
    "To  avoid misunderstanding the `.` syntax with decimal point, it is important to insert appropriate spacing."
   ]
  },
  {
   "cell_type": "code",
   "execution_count": 511,
   "metadata": {},
   "outputs": [
    {
     "data": {
      "text/plain": [
       "3-element Vector{Int64}:\n",
       " 3\n",
       " 5\n",
       " 7"
      ]
     },
     "metadata": {},
     "output_type": "display_data"
    }
   ],
   "source": [
    "v1 = [1,2,3]\n",
    "v2 = [2,3,4]\n",
    "v1+v2"
   ]
  },
  {
   "cell_type": "code",
   "execution_count": 512,
   "metadata": {},
   "outputs": [
    {
     "data": {
      "text/plain": [
       "1×3 Matrix{Int64}:\n",
       " 1  2  3"
      ]
     },
     "metadata": {},
     "output_type": "display_data"
    }
   ],
   "source": [
    "v3 = [1 2 3]"
   ]
  },
  {
   "cell_type": "code",
   "execution_count": 513,
   "metadata": {},
   "outputs": [
    {
     "data": {
      "text/plain": [
       "3-element Vector{Int64}:\n",
       " 2\n",
       " 4\n",
       " 6"
      ]
     },
     "metadata": {},
     "output_type": "display_data"
    }
   ],
   "source": [
    "v1[:] + v3[:]    # Here, v1+v3 doesn't work because arrays v1 and v3 have \n",
    "                 # different organization/structure (vector vs. row matrix)"
   ]
  },
  {
   "cell_type": "code",
   "execution_count": 514,
   "metadata": {},
   "outputs": [
    {
     "data": {
      "text/plain": [
       "3-element Vector{Int64}:\n",
       " 3\n",
       " 5\n",
       " 7"
      ]
     },
     "metadata": {},
     "output_type": "display_data"
    }
   ],
   "source": [
    "v1 .+ v2"
   ]
  },
  {
   "cell_type": "code",
   "execution_count": 515,
   "metadata": {},
   "outputs": [
    {
     "data": {
      "text/plain": [
       "3×3 Matrix{Int64}:\n",
       " 2  3  4\n",
       " 3  4  5\n",
       " 4  5  6"
      ]
     },
     "metadata": {},
     "output_type": "display_data"
    }
   ],
   "source": [
    "v1 .+ v3    # Here, broadcasting dictates that `v1` is upgraded to a matrix, \n",
    "            # and it is interpreted as a column matrix with value v1[1] in \n",
    "            # the first row, v1[2] in the second row, etc. Likewise, `v3`\n",
    "            # is upgraded to a matrix with the same number of rows as `v1`\n",
    "            # by copying each row."
   ]
  },
  {
   "cell_type": "code",
   "execution_count": 516,
   "metadata": {},
   "outputs": [
    {
     "data": {
      "text/plain": [
       "([0 5; 4 -1], [0 5; 4 -1])"
      ]
     },
     "metadata": {},
     "output_type": "display_data"
    }
   ],
   "source": [
    "A = [1 2; 2 -2]\n",
    "B = [-1 3; 2 1]\n",
    "A+B, A.+B"
   ]
  },
  {
   "cell_type": "code",
   "execution_count": 517,
   "metadata": {},
   "outputs": [
    {
     "data": {
      "text/plain": [
       "2×2 Matrix{Int64}:\n",
       " 2  -1\n",
       " 0  -3"
      ]
     },
     "metadata": {},
     "output_type": "display_data"
    }
   ],
   "source": [
    "A.-B"
   ]
  },
  {
   "cell_type": "code",
   "execution_count": 518,
   "metadata": {},
   "outputs": [
    {
     "data": {
      "text/plain": [
       "2×2 Matrix{Int64}:\n",
       " -1   6\n",
       "  4  -2"
      ]
     },
     "metadata": {},
     "output_type": "display_data"
    }
   ],
   "source": [
    "A.*B"
   ]
  },
  {
   "cell_type": "code",
   "execution_count": 519,
   "metadata": {},
   "outputs": [
    {
     "data": {
      "text/plain": [
       "2×2 Matrix{Float64}:\n",
       " -1.0   0.666667\n",
       "  1.0  -2.0"
      ]
     },
     "metadata": {},
     "output_type": "display_data"
    }
   ],
   "source": [
    "A./B"
   ]
  },
  {
   "cell_type": "code",
   "execution_count": 520,
   "metadata": {},
   "outputs": [
    {
     "data": {
      "text/plain": [
       "2×2 Matrix{Float64}:\n",
       " -1.0   1.5\n",
       "  1.0  -0.5"
      ]
     },
     "metadata": {},
     "output_type": "display_data"
    }
   ],
   "source": [
    "A.\\B"
   ]
  },
  {
   "cell_type": "code",
   "execution_count": 521,
   "metadata": {},
   "outputs": [
    {
     "data": {
      "text/plain": [
       "2×2 Matrix{Int64}:\n",
       " 1   8\n",
       " 4  -2"
      ]
     },
     "metadata": {},
     "output_type": "display_data"
    }
   ],
   "source": [
    "A.^B"
   ]
  },
  {
   "cell_type": "code",
   "execution_count": 522,
   "metadata": {},
   "outputs": [
    {
     "data": {
      "text/plain": [
       "2×2 Matrix{Int64}:\n",
       " 2   3\n",
       " 3  -1"
      ]
     },
     "metadata": {},
     "output_type": "display_data"
    }
   ],
   "source": [
    "1 .+ A    # Observe that `1.+A` will not work, since this creates uncertainty \n",
    "          # whether we mean `1.0 + A` or `1 .+ A`"
   ]
  },
  {
   "cell_type": "code",
   "execution_count": 523,
   "metadata": {},
   "outputs": [
    {
     "data": {
      "text/plain": [
       "2×2 Matrix{Int64}:\n",
       " 0   5\n",
       " 4  -1"
      ]
     },
     "metadata": {},
     "output_type": "display_data"
    }
   ],
   "source": [
    ".+(A,B)"
   ]
  },
  {
   "cell_type": "markdown",
   "metadata": {},
   "source": [
    "### Functions applied to arrays\n",
    "\n",
    "As already mentioned, a general design of Julia is that *functions* of scalar argument(s) are mapped to each element by a so-called \"dot notation\". Thus, if `f()` is a function on a scalar argument, then `f.(array)` maps that operation on every element in the array. As we will see later, this `.` notation even automatically works on user-defined functions.\n",
    "\n",
    "For a 1D collection `col` of function arguments, `f(col...)` is a convenient short-hand notation for `f(col[1],...,col[end])`. Operator `...` postpended to a collection (like `col...`) is read *splat* (`col` splat).\n",
    "\n",
    "These \"dot\"-operations are *fusing* in the following sense: for combined operations such as `A.^2 + sin.(A)` with `A` an array, this expression will internally be converted into a loop which computes each element `a^2 + sin(a)` independently and *then* puts the result into the result array. Without fusing, one would first compute `A.^2`, create a temporary array for the result, next compute `sin.(A)` and put the result in a temporary array, and finally add these two arrays into a new array. Fusing potentially saves a lot of memory space.\n",
    "\n",
    "With assignment and fusing, `B = A.^2 + sin.(A)` first creates the array for `A.^2 + sin.(A)`, and then inserts this into array `B`. The alternative, and more efficient method is to write `B .= A.^2 + sin.(A)` -- in this case, the assignment is also fused in the computation, and Julia computes `b = a^2 + sin(a)` in a loop for each element, and avoids temporary array creations.\n",
    "\n",
    "An alternative to this convenient `.` notation is to use function `map(function,array)`."
   ]
  },
  {
   "cell_type": "code",
   "execution_count": 524,
   "metadata": {},
   "outputs": [
    {
     "data": {
      "text/plain": [
       "2×2 Matrix{Int64}:\n",
       " 1   2\n",
       " 2  -2"
      ]
     },
     "metadata": {},
     "output_type": "display_data"
    }
   ],
   "source": [
    "A"
   ]
  },
  {
   "cell_type": "code",
   "execution_count": 525,
   "metadata": {},
   "outputs": [
    {
     "data": {
      "text/plain": [
       "2×2 Matrix{Float64}:\n",
       " 0.841471   0.909297\n",
       " 0.909297  -0.909297"
      ]
     },
     "metadata": {},
     "output_type": "display_data"
    }
   ],
   "source": [
    "sin.(A)"
   ]
  },
  {
   "cell_type": "code",
   "execution_count": 526,
   "metadata": {},
   "outputs": [
    {
     "data": {
      "text/plain": [
       "2×2 Matrix{Float64}:\n",
       " 0.841471   0.909297\n",
       " 0.909297  -0.909297"
      ]
     },
     "metadata": {},
     "output_type": "display_data"
    }
   ],
   "source": [
    "map(sin,A)"
   ]
  },
  {
   "cell_type": "code",
   "execution_count": 527,
   "metadata": {},
   "outputs": [
    {
     "data": {
      "text/plain": [
       "2"
      ]
     },
     "metadata": {},
     "output_type": "display_data"
    }
   ],
   "source": [
    "max([1,-2,2]...)"
   ]
  },
  {
   "cell_type": "markdown",
   "metadata": {},
   "source": [
    "### Selected array functions\n",
    "* **Accumulation**: `accumulate(op, A; dims::Integer)` computes `A[j] = op(A[1],...,A[j-1])`\n",
    "* **Cumulative sum**: `cumsum(A; dims::Integer)`\n",
    "* **Cumulative product**: `cumprod(A; dims::Integer)`\n",
    "* **Repeating array**: `repeat(A; counts)` where `counts` is a comma separated sequence of integers.\n",
    "* **Matrix rotation**: `rot180(A)` rotates matrix `A` 180 degrees; `rotl90(A)` rotates a matrix left (counterclockwise) by 90 degrees; `rotl90(A,k)` rotates a matrix left by 90 degress `k` times; `rotr90(A)` rotates a matrix right (clockwise) by 90 degrees; `rotr90(A,k)` rotates a matrix right by 90 degrees `k` times."
   ]
  },
  {
   "cell_type": "code",
   "execution_count": 528,
   "metadata": {},
   "outputs": [
    {
     "data": {
      "text/plain": [
       "4-element Vector{Int64}:\n",
       " 3\n",
       " 0\n",
       " 6\n",
       " 3"
      ]
     },
     "metadata": {},
     "output_type": "display_data"
    }
   ],
   "source": [
    "v = rand(0:9,4)"
   ]
  },
  {
   "cell_type": "code",
   "execution_count": 529,
   "metadata": {},
   "outputs": [
    {
     "data": {
      "text/plain": [
       "4-element Vector{Int64}:\n",
       "  3\n",
       "  3\n",
       "  9\n",
       " 12"
      ]
     },
     "metadata": {},
     "output_type": "display_data"
    }
   ],
   "source": [
    "accumulate(+,v)    # With only one dimension, we don't need to specify the dimension"
   ]
  },
  {
   "cell_type": "code",
   "execution_count": 530,
   "metadata": {},
   "outputs": [
    {
     "data": {
      "text/plain": [
       "4-element Vector{Int64}:\n",
       " 3\n",
       " 0\n",
       " 0\n",
       " 0"
      ]
     },
     "metadata": {},
     "output_type": "display_data"
    }
   ],
   "source": [
    "accumulate(*,v)"
   ]
  },
  {
   "cell_type": "code",
   "execution_count": 531,
   "metadata": {},
   "outputs": [
    {
     "data": {
      "text/plain": [
       "4-element Vector{Int64}:\n",
       "  3\n",
       "  3\n",
       "  9\n",
       " 12"
      ]
     },
     "metadata": {},
     "output_type": "display_data"
    }
   ],
   "source": [
    "cumsum(v)"
   ]
  },
  {
   "cell_type": "code",
   "execution_count": 532,
   "metadata": {},
   "outputs": [
    {
     "data": {
      "text/plain": [
       "4-element Vector{Int64}:\n",
       " 3\n",
       " 0\n",
       " 0\n",
       " 0"
      ]
     },
     "metadata": {},
     "output_type": "display_data"
    }
   ],
   "source": [
    "cumprod(v)"
   ]
  },
  {
   "cell_type": "code",
   "execution_count": 533,
   "metadata": {},
   "outputs": [
    {
     "data": {
      "text/plain": [
       "2×3 Matrix{Int64}:\n",
       " 9  3  8\n",
       " 3  7  8"
      ]
     },
     "metadata": {},
     "output_type": "display_data"
    }
   ],
   "source": [
    "A = rand(0:9,2,3)"
   ]
  },
  {
   "cell_type": "code",
   "execution_count": 534,
   "metadata": {},
   "outputs": [
    {
     "data": {
      "text/plain": [
       "4×9 Matrix{Int64}:\n",
       " 9  3  8  9  3  8  9  3  8\n",
       " 3  7  8  3  7  8  3  7  8\n",
       " 9  3  8  9  3  8  9  3  8\n",
       " 3  7  8  3  7  8  3  7  8"
      ]
     },
     "metadata": {},
     "output_type": "display_data"
    }
   ],
   "source": [
    "repeat(A,(2,3)...)   # `(2,3)` is a tuple, and `(2,3)...` is \"unpacked\" as `2,3`"
   ]
  },
  {
   "cell_type": "code",
   "execution_count": 535,
   "metadata": {},
   "outputs": [
    {
     "data": {
      "text/plain": [
       "2×3 Matrix{Int64}:\n",
       " 8  7  3\n",
       " 8  3  9"
      ]
     },
     "metadata": {},
     "output_type": "display_data"
    }
   ],
   "source": [
    "rot180(A)"
   ]
  },
  {
   "cell_type": "code",
   "execution_count": 536,
   "metadata": {},
   "outputs": [
    {
     "data": {
      "text/plain": [
       "3×2 Matrix{Int64}:\n",
       " 8  8\n",
       " 3  7\n",
       " 9  3"
      ]
     },
     "metadata": {},
     "output_type": "display_data"
    }
   ],
   "source": [
    "rotl90(A,1)"
   ]
  },
  {
   "cell_type": "markdown",
   "metadata": {},
   "source": [
    "### Array views\n",
    "A “view” is a data structure that acts like an array, but the underlying data is actually part of another array.\n",
    "* **Views** `view(array,idx1,...,idxend)`\n",
    "The purpose of introducing a `view`  is that we can do simpler operations on a subarray *without* creating a new array, and thus *without*  allocating additional memory space."
   ]
  },
  {
   "cell_type": "code",
   "execution_count": 537,
   "metadata": {},
   "outputs": [
    {
     "data": {
      "text/plain": [
       "2×4 Matrix{Int64}:\n",
       " 0  3  7  7\n",
       " 4  4  2  7"
      ]
     },
     "metadata": {},
     "output_type": "display_data"
    }
   ],
   "source": [
    "A = rand(0:9,2,4)"
   ]
  },
  {
   "cell_type": "code",
   "execution_count": 538,
   "metadata": {},
   "outputs": [
    {
     "data": {
      "text/plain": [
       "2×2 Matrix{Int64}:\n",
       " 3  7\n",
       " 4  2"
      ]
     },
     "metadata": {},
     "output_type": "display_data"
    }
   ],
   "source": [
    "B = A[:,2:3]    # This creates a new array B, and allocates memory for it"
   ]
  },
  {
   "cell_type": "code",
   "execution_count": 539,
   "metadata": {},
   "outputs": [
    {
     "data": {
      "text/plain": [
       "2×2 view(::Matrix{Int64}, :, 2:3) with eltype Int64:\n",
       " 3  7\n",
       " 4  2"
      ]
     },
     "metadata": {},
     "output_type": "display_data"
    }
   ],
   "source": [
    "C = view(A,:,2:3)    # This creates a *view* into a submatrix of A, and \n",
    "                     # the only additionally allocated memory is the pointer \n",
    "                     # to C"
   ]
  },
  {
   "cell_type": "code",
   "execution_count": 540,
   "metadata": {},
   "outputs": [
    {
     "data": {
      "text/plain": [
       "2×2 Matrix{Int64}:\n",
       " 6  14\n",
       " 8   4"
      ]
     },
     "metadata": {},
     "output_type": "display_data"
    }
   ],
   "source": [
    "B = 2B"
   ]
  },
  {
   "cell_type": "code",
   "execution_count": 541,
   "metadata": {},
   "outputs": [
    {
     "data": {
      "text/plain": [
       "2×4 Matrix{Int64}:\n",
       " 0  3  7  7\n",
       " 4  4  2  7"
      ]
     },
     "metadata": {},
     "output_type": "display_data"
    }
   ],
   "source": [
    "A"
   ]
  },
  {
   "cell_type": "code",
   "execution_count": 542,
   "metadata": {},
   "outputs": [
    {
     "data": {
      "text/plain": [
       "2×2 Matrix{Int64}:\n",
       " 6  14\n",
       " 8   4"
      ]
     },
     "metadata": {},
     "output_type": "display_data"
    }
   ],
   "source": [
    "C = 2*C    # With this assignment, `C` is changed, but `A` is not changed --\n",
    "           # even when `C` is originally a view into `A`. Instead, \n",
    "           # the `=` assignment creates a new array `C`."
   ]
  },
  {
   "cell_type": "code",
   "execution_count": 543,
   "metadata": {},
   "outputs": [
    {
     "data": {
      "text/plain": [
       "2×4 Matrix{Int64}:\n",
       " 0  3  7  7\n",
       " 4  4  2  7"
      ]
     },
     "metadata": {},
     "output_type": "display_data"
    }
   ],
   "source": [
    "A"
   ]
  },
  {
   "cell_type": "code",
   "execution_count": 544,
   "metadata": {},
   "outputs": [
    {
     "data": {
      "text/plain": [
       "2×2 view(::Matrix{Int64}, :, 2:3) with eltype Int64:\n",
       " 3  7\n",
       " 4  2"
      ]
     },
     "metadata": {},
     "output_type": "display_data"
    }
   ],
   "source": [
    "C = view(A,:,2:3)"
   ]
  },
  {
   "cell_type": "code",
   "execution_count": 545,
   "metadata": {},
   "outputs": [
    {
     "data": {
      "text/plain": [
       "2×2 view(::Matrix{Int64}, :, 2:3) with eltype Int64:\n",
       " 6  14\n",
       " 8   4"
      ]
     },
     "metadata": {},
     "output_type": "display_data"
    }
   ],
   "source": [
    "C .= 2*C    # With dot-assignment `.=`, `C` is changed, and so is `A`."
   ]
  },
  {
   "cell_type": "code",
   "execution_count": 546,
   "metadata": {},
   "outputs": [
    {
     "data": {
      "text/plain": [
       "2×4 Matrix{Int64}:\n",
       " 0  6  14  7\n",
       " 4  8   4  7"
      ]
     },
     "metadata": {},
     "output_type": "display_data"
    }
   ],
   "source": [
    "A"
   ]
  },
  {
   "cell_type": "markdown",
   "metadata": {},
   "source": [
    "### Concatenation\n",
    "* **General concatenation**: `cat(A1,...,An; dims)`\n",
    "* **Vertical concatenation**: `vcat(A1,...,An)` is shorthand notation for `cat(A1,...,An; dims=1)`\n",
    "* **Horisontal concatenation**: `hcat(A1,...,An)` is shorthand notation for `cat(A1,...,An; dims=2)`\n",
    "* **Convert vector-of-vector to flat array**: `reduce(vcat/hcat,vec_vec)` is an extremely efficient way to convert a vector-of-vectors to a vector or matrix. Function `reduce` has other uses, too."
   ]
  },
  {
   "cell_type": "code",
   "execution_count": 547,
   "metadata": {},
   "outputs": [
    {
     "data": {
      "text/plain": [
       "([7, 1, 3], [1, 2, 6])"
      ]
     },
     "metadata": {},
     "output_type": "display_data"
    }
   ],
   "source": [
    "v1 = rand(0:9,3)\n",
    "v2 = rand(0:9,3)\n",
    "#\n",
    "v1,v2"
   ]
  },
  {
   "cell_type": "code",
   "execution_count": 548,
   "metadata": {},
   "outputs": [
    {
     "data": {
      "text/plain": [
       "3×2 Matrix{Int64}:\n",
       " 7  1\n",
       " 1  2\n",
       " 3  6"
      ]
     },
     "metadata": {},
     "output_type": "display_data"
    }
   ],
   "source": [
    "cat(v1,v2;dims=2)    # 1D arrays (vectors) are considered column vectors \n",
    "                     # when concatenated"
   ]
  },
  {
   "cell_type": "code",
   "execution_count": 549,
   "metadata": {},
   "outputs": [
    {
     "data": {
      "text/plain": [
       "6-element Vector{Int64}:\n",
       " 7\n",
       " 1\n",
       " 3\n",
       " 1\n",
       " 2\n",
       " 6"
      ]
     },
     "metadata": {},
     "output_type": "display_data"
    }
   ],
   "source": [
    "cat(v1,v2;dims=1)"
   ]
  },
  {
   "cell_type": "code",
   "execution_count": 550,
   "metadata": {},
   "outputs": [
    {
     "data": {
      "text/plain": [
       "3×2 Matrix{Int64}:\n",
       " 7  1\n",
       " 1  2\n",
       " 3  6"
      ]
     },
     "metadata": {},
     "output_type": "display_data"
    }
   ],
   "source": [
    "hcat(v1,v2)"
   ]
  },
  {
   "cell_type": "code",
   "execution_count": 627,
   "metadata": {},
   "outputs": [
    {
     "data": {
      "text/plain": [
       "4-element Vector{Vector{Int64}}:\n",
       " [1, 2, 3]\n",
       " [2, 0, 1]\n",
       " [-2, 3, 1]\n",
       " [0, 0, 1]"
      ]
     },
     "metadata": {},
     "output_type": "display_data"
    }
   ],
   "source": [
    "vec = [[1,2,3],[2,0,1],[-2,3,1],[0,0,1]]"
   ]
  },
  {
   "cell_type": "code",
   "execution_count": 628,
   "metadata": {},
   "outputs": [
    {
     "data": {
      "text/plain": [
       "3×4 Matrix{Int64}:\n",
       " 1  2  -2  0\n",
       " 2  0   3  0\n",
       " 3  1   1  1"
      ]
     },
     "metadata": {},
     "output_type": "display_data"
    }
   ],
   "source": [
    "reduce(hcat,vec)"
   ]
  },
  {
   "cell_type": "code",
   "execution_count": 630,
   "metadata": {},
   "outputs": [
    {
     "data": {
      "text/plain": [
       "1×12 Matrix{Int64}:\n",
       " 1  2  3  2  0  1  -2  3  1  0  0  1"
      ]
     },
     "metadata": {},
     "output_type": "display_data"
    }
   ],
   "source": [
    "reduce(vcat,vec) |> permutedims"
   ]
  },
  {
   "cell_type": "markdown",
   "metadata": {},
   "source": [
    "### Find elements + modify them based on conditions\n",
    "Suppose we want to find array elements satisfying a conditions. This can be achieved by using relational operators and logical operations in combination with dot-notation. The result is an array with logical values (`0` or `1`), which can be interpreted as an index array of the original array.\n",
    "\n",
    "Applying this index array on original array then picks out the elements of the array satisfying the conditions (= are `true`), and we can modify the elements using dot-assignment."
   ]
  },
  {
   "cell_type": "code",
   "execution_count": 551,
   "metadata": {},
   "outputs": [
    {
     "data": {
      "text/plain": [
       "3×5 Matrix{Int64}:\n",
       "  1  3   2   7  1\n",
       "  1  1   9  -9  6\n",
       " -4  3  -3  -6  0"
      ]
     },
     "metadata": {},
     "output_type": "display_data"
    }
   ],
   "source": [
    "A = rand(-9:9,3,5)"
   ]
  },
  {
   "cell_type": "code",
   "execution_count": 552,
   "metadata": {},
   "outputs": [
    {
     "data": {
      "text/plain": [
       "3×5 BitMatrix:\n",
       " 0  0  0  0  0\n",
       " 0  0  0  1  0\n",
       " 1  0  1  1  0"
      ]
     },
     "metadata": {},
     "output_type": "display_data"
    }
   ],
   "source": [
    "idx = A .< 0"
   ]
  },
  {
   "cell_type": "code",
   "execution_count": 553,
   "metadata": {},
   "outputs": [
    {
     "data": {
      "text/plain": [
       "4-element Vector{Int64}:\n",
       " -4\n",
       " -3\n",
       " -9\n",
       " -6"
      ]
     },
     "metadata": {},
     "output_type": "display_data"
    }
   ],
   "source": [
    "A[idx]"
   ]
  },
  {
   "cell_type": "code",
   "execution_count": 554,
   "metadata": {},
   "outputs": [
    {
     "data": {
      "text/plain": [
       "3×5 Matrix{Int64}:\n",
       " 1  3  2  7  1\n",
       " 1  1  9  0  6\n",
       " 0  3  0  0  0"
      ]
     },
     "metadata": {},
     "output_type": "display_data"
    }
   ],
   "source": [
    "A[idx] .= 0\n",
    "A"
   ]
  },
  {
   "cell_type": "markdown",
   "metadata": {},
   "source": [
    "## Dictionaries\n",
    "Dictionaries are somewhat similar to named tuples: dictionaries are indexed by unique keys, which have specified values.\n",
    "\n",
    "### Constructor\n",
    "* `Dict(vec)` where `vec` is a vector of pairs (tuples) of key and value, e.g., `Dict([(key1,val1), (key2,val2), ..., (keyn,valn)]). Keys can not be identifiers, because identifiers are assumed to have a value. But keys can be a number, a Char value, a String, a Symbol, etc.\n",
    "* `Dict(key1 => val1, key2 => val2, ..., keyn => valn)` is an alternative syntax\n",
    "\n",
    "It is possible to create an empty dictionary with restrictions on the type of keys and values by `Dict{K,V}()` where `K` is the type of the keys, and `V` is the type of the values."
   ]
  },
  {
   "cell_type": "code",
   "execution_count": 555,
   "metadata": {},
   "outputs": [
    {
     "data": {
      "text/plain": [
       "Dict{Any, Any} with 4 entries:\n",
       "  :b                => 2\n",
       "  \"c\"               => :b\n",
       "  Symbol(\"v [m/s]\") => 1\n",
       "  1                 => 24"
      ]
     },
     "metadata": {},
     "output_type": "display_data"
    }
   ],
   "source": [
    "d1 = Dict([(Symbol(\"v [m/s]\"),1),(:b,2),(\"c\",:b),(1,24)])"
   ]
  },
  {
   "cell_type": "markdown",
   "metadata": {},
   "source": [
    "### Dictionary functions\n",
    "* **Has key?**: `haskey(d,k)` where `d` is a dictionary and `k` is a key, returns `true` if dictionary `d` has key `k`.\n",
    "* **Keys**: `keys(d)` returns an key set for dictionary `d`. The key set can be converted to an array by `collect()`, and then elements may be extracted. \n",
    "* **Values**: `values(d)` returns an iterator for the values of `d`. The value iterator can be converted to an array by `collect()`, and then elements may be extracted.\n",
    "* **Merge**: `merge(d1,...,dn)` returns a merged dictionary from the original dictionaries. If some of the dictionaries have the same key, then result is the right-most dictionary in the merge sequence."
   ]
  },
  {
   "cell_type": "code",
   "execution_count": 556,
   "metadata": {},
   "outputs": [
    {
     "data": {
      "text/plain": [
       "2"
      ]
     },
     "metadata": {},
     "output_type": "display_data"
    }
   ],
   "source": [
    "d1[:b]"
   ]
  },
  {
   "cell_type": "code",
   "execution_count": 557,
   "metadata": {},
   "outputs": [
    {
     "data": {
      "text/plain": [
       "KeySet for a Dict{Any, Any} with 4 entries. Keys:\n",
       "  :b\n",
       "  \"c\"\n",
       "  Symbol(\"v [m/s]\")\n",
       "  1"
      ]
     },
     "metadata": {},
     "output_type": "display_data"
    }
   ],
   "source": [
    "k1 = keys(d1)"
   ]
  },
  {
   "cell_type": "code",
   "execution_count": 558,
   "metadata": {},
   "outputs": [
    {
     "data": {
      "text/plain": [
       "ValueIterator for a Dict{Any, Any} with 4 entries. Values:\n",
       "  2\n",
       "  :b\n",
       "  1\n",
       "  24"
      ]
     },
     "metadata": {},
     "output_type": "display_data"
    }
   ],
   "source": [
    "v1 = values(d1)"
   ]
  },
  {
   "cell_type": "code",
   "execution_count": 559,
   "metadata": {},
   "outputs": [
    {
     "data": {
      "text/plain": [
       "4-element Vector{Any}:\n",
       "  :b\n",
       "  \"c\"\n",
       "  Symbol(\"v [m/s]\")\n",
       " 1"
      ]
     },
     "metadata": {},
     "output_type": "display_data"
    }
   ],
   "source": [
    "collect(k1)[:]"
   ]
  },
  {
   "cell_type": "code",
   "execution_count": 560,
   "metadata": {},
   "outputs": [
    {
     "data": {
      "text/plain": [
       "true"
      ]
     },
     "metadata": {},
     "output_type": "display_data"
    }
   ],
   "source": [
    "haskey(d1,:b)"
   ]
  },
  {
   "cell_type": "code",
   "execution_count": 561,
   "metadata": {},
   "outputs": [
    {
     "data": {
      "text/plain": [
       "false"
      ]
     },
     "metadata": {},
     "output_type": "display_data"
    }
   ],
   "source": [
    "haskey(d1,'c')"
   ]
  },
  {
   "cell_type": "code",
   "execution_count": 562,
   "metadata": {},
   "outputs": [
    {
     "data": {
      "text/plain": [
       "Dict{Any, Any} with 4 entries:\n",
       "  :b                => 2\n",
       "  \"c\"               => :b\n",
       "  Symbol(\"v [m/s]\") => 1\n",
       "  1                 => 24"
      ]
     },
     "metadata": {},
     "output_type": "display_data"
    }
   ],
   "source": [
    "d1"
   ]
  },
  {
   "cell_type": "code",
   "execution_count": 563,
   "metadata": {},
   "outputs": [
    {
     "data": {
      "text/plain": [
       "Dict{Any, Int64} with 2 entries:\n",
       "  2  => 3\n",
       "  :c => 4"
      ]
     },
     "metadata": {},
     "output_type": "display_data"
    }
   ],
   "source": [
    "d2 = Dict(:c=>4,2=>3)"
   ]
  },
  {
   "cell_type": "code",
   "execution_count": 564,
   "metadata": {},
   "outputs": [
    {
     "data": {
      "text/plain": [
       "Dict{Any, Any} with 6 entries:\n",
       "  :b                => 2\n",
       "  \"c\"               => :b\n",
       "  2                 => 3\n",
       "  Symbol(\"v [m/s]\") => 1\n",
       "  :c                => 4\n",
       "  1                 => 24"
      ]
     },
     "metadata": {},
     "output_type": "display_data"
    }
   ],
   "source": [
    "merge(d1,d2)"
   ]
  },
  {
   "cell_type": "code",
   "execution_count": 565,
   "metadata": {},
   "outputs": [
    {
     "data": {
      "text/plain": [
       "Dict{Any, Int64} with 2 entries:\n",
       "  :b => 4\n",
       "  2  => 3"
      ]
     },
     "metadata": {},
     "output_type": "display_data"
    }
   ],
   "source": [
    "d3 = Dict(:b=>4,2=>3)"
   ]
  },
  {
   "cell_type": "code",
   "execution_count": 566,
   "metadata": {},
   "outputs": [
    {
     "data": {
      "text/plain": [
       "Dict{Any, Any} with 5 entries:\n",
       "  :b                => 4\n",
       "  \"c\"               => :b\n",
       "  2                 => 3\n",
       "  Symbol(\"v [m/s]\") => 1\n",
       "  1                 => 24"
      ]
     },
     "metadata": {},
     "output_type": "display_data"
    }
   ],
   "source": [
    "merge(d1,d3)"
   ]
  },
  {
   "cell_type": "markdown",
   "metadata": {},
   "source": [
    "## Sets\n",
    "Sets are collections of *unique*  elements, where there in principle is no order among the elements.\n",
    "### Constructor\n",
    "* `Set(col)` creates a set from a collection or an iterator"
   ]
  },
  {
   "cell_type": "code",
   "execution_count": 567,
   "metadata": {},
   "outputs": [
    {
     "data": {
      "text/plain": [
       "Set{Char} with 3 elements:\n",
       "  'a'\n",
       "  'c'\n",
       "  'b'"
      ]
     },
     "metadata": {},
     "output_type": "display_data"
    }
   ],
   "source": [
    "Set(\"abca\")    # Set from string; the result is a set of Char type"
   ]
  },
  {
   "cell_type": "code",
   "execution_count": 568,
   "metadata": {},
   "outputs": [
    {
     "data": {
      "text/plain": [
       "Set{Int64} with 3 elements:\n",
       "  2\n",
       "  3\n",
       "  1"
      ]
     },
     "metadata": {},
     "output_type": "display_data"
    }
   ],
   "source": [
    "Set(1:3)    # Set from iterator"
   ]
  },
  {
   "cell_type": "code",
   "execution_count": 569,
   "metadata": {},
   "outputs": [
    {
     "data": {
      "text/plain": [
       "Set{Int64} with 8 elements:\n",
       "  4\n",
       "  2\n",
       "  -1\n",
       "  9\n",
       "  -3\n",
       "  -2\n",
       "  -4\n",
       "  -9"
      ]
     },
     "metadata": {},
     "output_type": "display_data"
    }
   ],
   "source": [
    "Set(rand(-9:9,10))    # Set from array"
   ]
  },
  {
   "cell_type": "code",
   "execution_count": 570,
   "metadata": {},
   "outputs": [
    {
     "data": {
      "text/plain": [
       "Set{Int64} with 4 elements:\n",
       "  0\n",
       "  2\n",
       "  -2\n",
       "  1"
      ]
     },
     "metadata": {},
     "output_type": "display_data"
    }
   ],
   "source": [
    "Set((0,1,1,-2,2))    # Set from tuple"
   ]
  },
  {
   "cell_type": "markdown",
   "metadata": {},
   "source": [
    "### Set functions\n",
    "* **Union**: `union(s1,...,sn)` creates the union of sets `s1,...,sn`\n",
    "* **Intersection**: `intersect(s1,...,sn)` creates the intersection of sets `s1,...,sn`\n",
    "* **Set difference**: `setdiff(s1,...,sn)` creates the set difference of sets `s1,...,sn`\n",
    "* **Subset**: `issubset(s1,s2)` creates a boolean variable -- true if every element of `s1` is in `s2`, false otherwise. Alternative syntax: `⊆(s1,s2)`, where `⊆` is `\\subseteq + TAB`. If `s1` is an element (not a subset), then `issubset(s1,s2)` has alternative syntax `∈(s1,s2)`. Is *not* subseteq is expressed by `!issubset(s1,s2)` or alternatively `⊈(s1,s2)`, where `⊈` is `\\nsubseteq + TAB`.\n",
    "* **Set equality**: `issetequal(s1,s2)` returns `true` if the two sets `s1` and `s2` are identical, and `false` otherwise. \n",
    "* **Disjoint**: `isdisjoint(s1,s2)` returns `true` if the two sets are disjoint, and `false` otherwise."
   ]
  },
  {
   "cell_type": "code",
   "execution_count": 571,
   "metadata": {},
   "outputs": [
    {
     "data": {
      "text/plain": [
       "Set{Int64} with 4 elements:\n",
       "  7\n",
       "  -1\n",
       "  9\n",
       "  3"
      ]
     },
     "metadata": {},
     "output_type": "display_data"
    }
   ],
   "source": [
    "s1 = Set(rand(-9:9,5))"
   ]
  },
  {
   "cell_type": "code",
   "execution_count": 572,
   "metadata": {},
   "outputs": [
    {
     "data": {
      "text/plain": [
       "Set{Int64} with 3 elements:\n",
       "  4\n",
       "  6\n",
       "  8"
      ]
     },
     "metadata": {},
     "output_type": "display_data"
    }
   ],
   "source": [
    "s2 = Set(rand(0:2:9,5))"
   ]
  },
  {
   "cell_type": "code",
   "execution_count": 573,
   "metadata": {},
   "outputs": [
    {
     "data": {
      "text/plain": [
       "Set{Int64} with 7 elements:\n",
       "  4\n",
       "  6\n",
       "  7\n",
       "  -1\n",
       "  9\n",
       "  8\n",
       "  3"
      ]
     },
     "metadata": {},
     "output_type": "display_data"
    }
   ],
   "source": [
    "union(s1,s2)    # alternative: ∪(s1,s2), where ∪  is \\cup + TAB"
   ]
  },
  {
   "cell_type": "code",
   "execution_count": 574,
   "metadata": {},
   "outputs": [
    {
     "data": {
      "text/plain": [
       "Set{Int64}()"
      ]
     },
     "metadata": {},
     "output_type": "display_data"
    }
   ],
   "source": [
    "intersect(s1,s2)    # alternative: ∩(s1,s2), where ∩ is \\cap + TAB"
   ]
  },
  {
   "cell_type": "code",
   "execution_count": 575,
   "metadata": {},
   "outputs": [
    {
     "data": {
      "text/plain": [
       "Set{Int64} with 4 elements:\n",
       "  7\n",
       "  -1\n",
       "  9\n",
       "  3"
      ]
     },
     "metadata": {},
     "output_type": "display_data"
    }
   ],
   "source": [
    "setdiff(s1,s2)"
   ]
  },
  {
   "cell_type": "code",
   "execution_count": 576,
   "metadata": {},
   "outputs": [
    {
     "data": {
      "text/plain": [
       "false"
      ]
     },
     "metadata": {},
     "output_type": "display_data"
    }
   ],
   "source": [
    "issubset(s1,s2)    # alternative: ⊆(s1,s2), where ⊆ is \\subseteq + TAB"
   ]
  },
  {
   "cell_type": "code",
   "execution_count": 577,
   "metadata": {},
   "outputs": [
    {
     "data": {
      "text/plain": [
       "true"
      ]
     },
     "metadata": {},
     "output_type": "display_data"
    }
   ],
   "source": [
    "!issubset(s1,s2)"
   ]
  },
  {
   "cell_type": "code",
   "execution_count": 578,
   "metadata": {},
   "outputs": [
    {
     "data": {
      "text/plain": [
       "true"
      ]
     },
     "metadata": {},
     "output_type": "display_data"
    }
   ],
   "source": [
    "⊈(s1,s2)    # ⊈ is \\nsubseteq + TAB"
   ]
  },
  {
   "cell_type": "code",
   "execution_count": 579,
   "metadata": {},
   "outputs": [
    {
     "data": {
      "text/plain": [
       "false"
      ]
     },
     "metadata": {},
     "output_type": "display_data"
    }
   ],
   "source": [
    "∈(4,s1)"
   ]
  },
  {
   "cell_type": "code",
   "execution_count": 580,
   "metadata": {},
   "outputs": [
    {
     "data": {
      "text/plain": [
       "false"
      ]
     },
     "metadata": {},
     "output_type": "display_data"
    }
   ],
   "source": [
    "issetequal(s1,s2)"
   ]
  },
  {
   "cell_type": "code",
   "execution_count": 581,
   "metadata": {},
   "outputs": [
    {
     "data": {
      "text/plain": [
       "true"
      ]
     },
     "metadata": {},
     "output_type": "display_data"
    }
   ],
   "source": [
    "isdisjoint(s1,s2)"
   ]
  },
  {
   "cell_type": "markdown",
   "metadata": {},
   "source": [
    "## General mutable collection functions\n",
    "* **Add elements**: `push!(collection, elements)` modifies the collection (for *array*; for Dictionary, use `merge`). `pushfirst(collection, elements)` inserts the elements at the start of the collection.\n",
    "* **Insert element**: `insert(v, i, val)` expands vector `v` by one element, inserts value `val` at index `i` in vector `v`, and shifts elements `i:end` one element down. \n",
    "* **Remove last element**: `pop!(collection)` removes the last element, and returns the removed value (for *array*). `popfirst!(collection)` removes the first element, and returns the removed value.\n",
    "* **Remove specified element**: `pop!(collection, key)` removes element `key`, and returns the removed value (for *dictionary*). `popat(collection,i)` removes element `i` and returns the removed element (for *array*). \n",
    "* **Delete**: `deleteat!(v, i)` removes element `i` of vector `v`, thereby shortening the vector by 1.\n",
    "* **Resize**: `resize!(v,n)` resizes vector `v` to have `n` elements. If `n` is shorter than the current length, the `n` first elements are retained. If `n` is longer than the current length, there is no control of what values are filled into `v`.\n",
    "* **Append**: `append!(col1, ..., coln)` adds collections to (the end of) collection `col1`. `prepend(col1,..., coln)` inserts collections (to the front of) collection `col1`."
   ]
  },
  {
   "cell_type": "code",
   "execution_count": 582,
   "metadata": {},
   "outputs": [
    {
     "data": {
      "text/plain": [
       "5-element Vector{Int64}:\n",
       " 1\n",
       " 2\n",
       " 3\n",
       " 3\n",
       " 4"
      ]
     },
     "metadata": {},
     "output_type": "display_data"
    }
   ],
   "source": [
    "a1 = [1,2,3]\n",
    "push!(a1,3,4)\n",
    "a1"
   ]
  },
  {
   "cell_type": "code",
   "execution_count": 583,
   "metadata": {},
   "outputs": [
    {
     "data": {
      "text/plain": [
       "7-element Vector{Int64}:\n",
       " -2\n",
       " -3\n",
       "  1\n",
       "  2\n",
       "  3\n",
       "  3\n",
       "  4"
      ]
     },
     "metadata": {},
     "output_type": "display_data"
    }
   ],
   "source": [
    "pushfirst!(a1,-2,-3)"
   ]
  },
  {
   "cell_type": "code",
   "execution_count": 584,
   "metadata": {},
   "outputs": [
    {
     "data": {
      "text/plain": [
       "8-element Vector{Int64}:\n",
       " -2\n",
       " -3\n",
       " 20\n",
       "  1\n",
       "  2\n",
       "  3\n",
       "  3\n",
       "  4"
      ]
     },
     "metadata": {},
     "output_type": "display_data"
    }
   ],
   "source": [
    "insert!(a1,3,20)"
   ]
  },
  {
   "cell_type": "code",
   "execution_count": 585,
   "metadata": {},
   "outputs": [
    {
     "data": {
      "text/plain": [
       "7-element Vector{Int64}:\n",
       " -2\n",
       " -3\n",
       " 20\n",
       "  2\n",
       "  3\n",
       "  3\n",
       "  4"
      ]
     },
     "metadata": {},
     "output_type": "display_data"
    }
   ],
   "source": [
    "deleteat!(a1,4)"
   ]
  },
  {
   "cell_type": "code",
   "execution_count": 586,
   "metadata": {},
   "outputs": [
    {
     "data": {
      "text/plain": [
       "4"
      ]
     },
     "metadata": {},
     "output_type": "display_data"
    }
   ],
   "source": [
    "pop!(a1)"
   ]
  },
  {
   "cell_type": "code",
   "execution_count": 587,
   "metadata": {},
   "outputs": [
    {
     "data": {
      "text/plain": [
       "6-element Vector{Int64}:\n",
       " -2\n",
       " -3\n",
       " 20\n",
       "  2\n",
       "  3\n",
       "  3"
      ]
     },
     "metadata": {},
     "output_type": "display_data"
    }
   ],
   "source": [
    "a1"
   ]
  },
  {
   "cell_type": "code",
   "execution_count": 588,
   "metadata": {},
   "outputs": [
    {
     "data": {
      "text/plain": [
       "-2"
      ]
     },
     "metadata": {},
     "output_type": "display_data"
    }
   ],
   "source": [
    "popfirst!(a1)"
   ]
  },
  {
   "cell_type": "code",
   "execution_count": 589,
   "metadata": {},
   "outputs": [
    {
     "data": {
      "text/plain": [
       "5-element Vector{Int64}:\n",
       " -3\n",
       " 20\n",
       "  2\n",
       "  3\n",
       "  3"
      ]
     },
     "metadata": {},
     "output_type": "display_data"
    }
   ],
   "source": [
    "a1"
   ]
  },
  {
   "cell_type": "code",
   "execution_count": 590,
   "metadata": {},
   "outputs": [
    {
     "data": {
      "text/plain": [
       "Dict{Any, Any} with 3 entries:\n",
       "  :a  => 7\n",
       "  :b  => [1, 2]\n",
       "  \"c\" => [1 2; 3 4]"
      ]
     },
     "metadata": {},
     "output_type": "display_data"
    }
   ],
   "source": [
    "d1 = Dict([(:a,7),(:b,[1,2]),(\"c\",[1 2;3 4])])"
   ]
  },
  {
   "cell_type": "code",
   "execution_count": 591,
   "metadata": {},
   "outputs": [
    {
     "data": {
      "text/plain": [
       "2-element Vector{Int64}:\n",
       " 1\n",
       " 2"
      ]
     },
     "metadata": {},
     "output_type": "display_data"
    }
   ],
   "source": [
    "pop!(d1,:b)"
   ]
  },
  {
   "cell_type": "code",
   "execution_count": 592,
   "metadata": {},
   "outputs": [
    {
     "data": {
      "text/plain": [
       "Dict{Any, Any} with 2 entries:\n",
       "  :a  => 7\n",
       "  \"c\" => [1 2; 3 4]"
      ]
     },
     "metadata": {},
     "output_type": "display_data"
    }
   ],
   "source": [
    "d1"
   ]
  },
  {
   "cell_type": "code",
   "execution_count": 593,
   "metadata": {},
   "outputs": [
    {
     "data": {
      "text/plain": [
       "20"
      ]
     },
     "metadata": {},
     "output_type": "display_data"
    }
   ],
   "source": [
    "popat!(a1,2)"
   ]
  },
  {
   "cell_type": "code",
   "execution_count": 594,
   "metadata": {},
   "outputs": [
    {
     "data": {
      "text/plain": [
       "4-element Vector{Int64}:\n",
       " -3\n",
       "  2\n",
       "  3\n",
       "  3"
      ]
     },
     "metadata": {},
     "output_type": "display_data"
    }
   ],
   "source": [
    "a1"
   ]
  },
  {
   "cell_type": "code",
   "execution_count": 595,
   "metadata": {},
   "outputs": [
    {
     "data": {
      "text/plain": [
       "2-element Vector{Int64}:\n",
       " -3\n",
       "  2"
      ]
     },
     "metadata": {},
     "output_type": "display_data"
    }
   ],
   "source": [
    "resize!(a1,2)"
   ]
  },
  {
   "cell_type": "code",
   "execution_count": 596,
   "metadata": {},
   "outputs": [
    {
     "data": {
      "text/plain": [
       "5-element Vector{Int64}:\n",
       " -3\n",
       "  2\n",
       "  3\n",
       "  3\n",
       "  4"
      ]
     },
     "metadata": {},
     "output_type": "display_data"
    }
   ],
   "source": [
    "resize!(a1,5)"
   ]
  },
  {
   "cell_type": "code",
   "execution_count": 597,
   "metadata": {},
   "outputs": [
    {
     "data": {
      "text/plain": [
       "7-element Vector{Int64}:\n",
       " -3\n",
       "  2\n",
       "  3\n",
       "  3\n",
       "  4\n",
       "  2\n",
       "  3"
      ]
     },
     "metadata": {},
     "output_type": "display_data"
    }
   ],
   "source": [
    "append!(a1,[2,3])"
   ]
  },
  {
   "cell_type": "code",
   "execution_count": 598,
   "metadata": {},
   "outputs": [
    {
     "data": {
      "text/plain": [
       "9-element Vector{Int64}:\n",
       " -17\n",
       " -18\n",
       "  -3\n",
       "   2\n",
       "   3\n",
       "   3\n",
       "   4\n",
       "   2\n",
       "   3"
      ]
     },
     "metadata": {},
     "output_type": "display_data"
    }
   ],
   "source": [
    "prepend!(a1,[-17,-18])"
   ]
  }
 ],
 "metadata": {
  "kernelspec": {
   "display_name": "Julia 1.9.3",
   "language": "julia",
   "name": "julia-1.9"
  },
  "language_info": {
   "file_extension": ".jl",
   "mimetype": "application/julia",
   "name": "julia",
   "version": "1.9.3"
  }
 },
 "nbformat": 4,
 "nbformat_minor": 4
}
